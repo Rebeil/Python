{
 "cells": [
  {
   "cell_type": "markdown",
   "id": "32753dbc",
   "metadata": {},
   "source": [
    "# Содержание\n",
    "* Qest1\n",
    "* Qest2\n",
    "* Qest3\n",
    "* Qest4\n",
    "* Qest5\n",
    "* Qest6"
   ]
  },
  {
   "cell_type": "markdown",
   "id": "a37543d9",
   "metadata": {},
   "source": [
    "# Qest1"
   ]
  },
  {
   "cell_type": "code",
   "execution_count": 1,
   "id": "cd80a75c",
   "metadata": {
    "ExecuteTime": {
     "end_time": "2023-06-29T23:09:09.926968Z",
     "start_time": "2023-06-29T23:09:09.916857Z"
    }
   },
   "outputs": [
    {
     "name": "stdout",
     "output_type": "stream",
     "text": [
      "98 35 15 213 54 119\n"
     ]
    }
   ],
   "source": [
    "ids = {'user1': [213, 213, 213, 15, 213], \n",
    "       'user2': [54, 54, 119, 119, 119], \n",
    "       'user3': [213, 98, 98, 35]}\n",
    "a = set()\n",
    "\n",
    "for v in ids.values():\n",
    "    for i in v:\n",
    "        a.add(i)\n",
    "print(*a)"
   ]
  },
  {
   "cell_type": "code",
   "execution_count": 16,
   "id": "e4ade9ac",
   "metadata": {
    "ExecuteTime": {
     "end_time": "2023-06-29T23:22:28.683141Z",
     "start_time": "2023-06-29T23:22:28.673884Z"
    }
   },
   "outputs": [
    {
     "data": {
      "text/plain": [
       "(dict_values,\n",
       " dict_values([[213, 213, 213, 15, 213], [54, 54, 119, 119, 119], [213, 98, 98, 35]]))"
      ]
     },
     "execution_count": 16,
     "metadata": {},
     "output_type": "execute_result"
    }
   ],
   "source": [
    "type(ids.values()), ids.values()"
   ]
  },
  {
   "cell_type": "code",
   "execution_count": 17,
   "id": "72d68cc7",
   "metadata": {
    "ExecuteTime": {
     "end_time": "2023-06-29T23:22:44.865514Z",
     "start_time": "2023-06-29T23:22:44.850367Z"
    }
   },
   "outputs": [
    {
     "data": {
      "text/plain": [
       "[[213, 213, 213, 15, 213], [54, 54, 119, 119, 119], [213, 98, 98, 35]]"
      ]
     },
     "execution_count": 17,
     "metadata": {},
     "output_type": "execute_result"
    }
   ],
   "source": [
    "list(ids.values())"
   ]
  },
  {
   "cell_type": "code",
   "execution_count": 18,
   "id": "e2138943",
   "metadata": {
    "ExecuteTime": {
     "end_time": "2023-06-29T23:22:52.546684Z",
     "start_time": "2023-06-29T23:22:52.508364Z"
    },
    "collapsed": true
   },
   "outputs": [
    {
     "ename": "TypeError",
     "evalue": "unhashable type: 'list'",
     "output_type": "error",
     "traceback": [
      "\u001b[0;31m---------------------------------------------------------------------------\u001b[0m",
      "\u001b[0;31mTypeError\u001b[0m                                 Traceback (most recent call last)",
      "Cell \u001b[0;32mIn[18], line 5\u001b[0m\n\u001b[1;32m      1\u001b[0m ids \u001b[38;5;241m=\u001b[39m {\u001b[38;5;124m'\u001b[39m\u001b[38;5;124muser1\u001b[39m\u001b[38;5;124m'\u001b[39m: [\u001b[38;5;241m213\u001b[39m, \u001b[38;5;241m213\u001b[39m, \u001b[38;5;241m213\u001b[39m, \u001b[38;5;241m15\u001b[39m, \u001b[38;5;241m213\u001b[39m], \n\u001b[1;32m      2\u001b[0m        \u001b[38;5;124m'\u001b[39m\u001b[38;5;124muser2\u001b[39m\u001b[38;5;124m'\u001b[39m: [\u001b[38;5;241m54\u001b[39m, \u001b[38;5;241m54\u001b[39m, \u001b[38;5;241m119\u001b[39m, \u001b[38;5;241m119\u001b[39m, \u001b[38;5;241m119\u001b[39m], \n\u001b[1;32m      3\u001b[0m        \u001b[38;5;124m'\u001b[39m\u001b[38;5;124muser3\u001b[39m\u001b[38;5;124m'\u001b[39m: [\u001b[38;5;241m213\u001b[39m, \u001b[38;5;241m98\u001b[39m, \u001b[38;5;241m98\u001b[39m, \u001b[38;5;241m35\u001b[39m]}\n\u001b[0;32m----> 5\u001b[0m a \u001b[38;5;241m=\u001b[39m\u001b[38;5;28;43mset\u001b[39;49m\u001b[43m(\u001b[49m\u001b[38;5;28;43mlist\u001b[39;49m\u001b[43m(\u001b[49m\u001b[43mids\u001b[49m\u001b[38;5;241;43m.\u001b[39;49m\u001b[43mvalues\u001b[49m\u001b[43m(\u001b[49m\u001b[43m)\u001b[49m\u001b[43m)\u001b[49m\u001b[43m)\u001b[49m\n\u001b[1;32m      6\u001b[0m a\n",
      "\u001b[0;31mTypeError\u001b[0m: unhashable type: 'list'"
     ]
    }
   ],
   "source": [
    "ids = {'user1': [213, 213, 213, 15, 213], \n",
    "       'user2': [54, 54, 119, 119, 119], \n",
    "       'user3': [213, 98, 98, 35]}\n",
    "\n",
    "a =set(list(ids.values()))\n",
    "a"
   ]
  },
  {
   "cell_type": "markdown",
   "id": "29c66037",
   "metadata": {},
   "source": [
    "# Qest2"
   ]
  },
  {
   "cell_type": "code",
   "execution_count": 2,
   "id": "16b516be",
   "metadata": {
    "ExecuteTime": {
     "end_time": "2023-06-29T23:09:16.167399Z",
     "start_time": "2023-06-29T23:09:16.124175Z"
    }
   },
   "outputs": [
    {
     "name": "stdout",
     "output_type": "stream",
     "text": [
      "3 2 2 2 3 3 3 4 5 4 \n",
      "Всего элементов\n",
      "10\n",
      "Список количества слов в предложениях\n",
      "[3, 2, 2, 2, 3, 3, 3, 4, 5, 4]\n",
      "Элементы множества\n",
      "[2, 3, 4, 5]\n",
      "Количество предложений с n слов\n",
      "[3, 4, 2, 1]\n",
      "Поисковых запросов, содержащих 2 слов(а): 3\n",
      "Поисковых запросов, содержащих 3 слов(а): 4\n",
      "Поисковых запросов, содержащих 4 слов(а): 2\n",
      "Поисковых запросов, содержащих 5 слов(а): 1\n"
     ]
    }
   ],
   "source": [
    "queries = [\n",
    "    'смотреть сериалы онлайн',\n",
    "    'новости спорта',\n",
    "    'афиша кино',\n",
    "    'курс доллара',\n",
    "    'сериалы этим летом',\n",
    "    'курс по питону',\n",
    "    'сериалы про спорт',\n",
    "    'Фильмы ужасов смотреть онлайн',\n",
    "    'Смотреть мелодрамы бесплатно без регистрации',\n",
    "    'Пришли вышли пришли вышли'\n",
    "]\n",
    "a = []\n",
    "count = 0\n",
    "for text in queries:\n",
    "    a.append(len(text.split()))\n",
    "    print(len(text.split()), end=\" \")\n",
    "    count += 1\n",
    "print()\n",
    "print(\"Всего элементов\", count, \"Список количества слов в предложениях\", a, sep=\"\\n\")\n",
    "\n",
    "set_element = set(a)\n",
    "print(\"Элементы множества\")\n",
    "buf = list(set_element)\n",
    "buf.sort()\n",
    "print(buf)\n",
    "\n",
    "count_word = []\n",
    "for i in set_element:\n",
    "    count_word.append(a.count(i))\n",
    "\n",
    "print(\"Количество предложений с n слов\")\n",
    "print(count_word)\n",
    "j = 0\n",
    "while j < len(set_element):\n",
    "    print(f\"Поисковых запросов, содержащих {buf[j]} слов(а):\", count_word[j])\n",
    "    j += 1\n"
   ]
  },
  {
   "cell_type": "markdown",
   "id": "6050ab92",
   "metadata": {},
   "source": [
    "# Qest3"
   ]
  },
  {
   "cell_type": "code",
   "execution_count": 3,
   "id": "4e3c9b15",
   "metadata": {
    "ExecuteTime": {
     "end_time": "2023-06-29T23:09:17.885621Z",
     "start_time": "2023-06-29T23:09:17.872487Z"
    }
   },
   "outputs": [
    {
     "name": "stdout",
     "output_type": "stream",
     "text": [
      "{'revenue': 103, 'cost': 98, 'ROI': 5.102040816326525}\n",
      "{'revenue': 179, 'cost': 153, 'ROI': 16.99346405228759}\n",
      "{'revenue': 103, 'cost': 110, 'ROI': -6.36363636363636}\n",
      "{'revenue': 35, 'cost': 34, 'ROI': 2.941176470588225}\n",
      "{'revenue': 11, 'cost': 24, 'ROI': -54.16666666666667}\n"
     ]
    }
   ],
   "source": [
    "results = {\n",
    "    'vk': {'revenue': 103,\n",
    "           'cost': 98},\n",
    "    'yandex': {'revenue': 179,\n",
    "               'cost': 153},\n",
    "    'facebook': {'revenue': 103,\n",
    "                 'cost': 110},\n",
    "    'adwords': {'revenue': 35,\n",
    "                'cost': 34},\n",
    "    'twitter': {'revenue': 11,\n",
    "                'cost': 24},\n",
    "}\n",
    "# (revenue / cost - 1) * 100\n",
    "\n",
    "for social in results.values():\n",
    "    a = list(social.values())\n",
    "    # noinspection PyTypeChecker\n",
    "    social['ROI'] = (a[0] / a[1] - 1) * 100\n",
    "\n",
    "for i in results.values():\n",
    "    print(i)\n"
   ]
  },
  {
   "cell_type": "markdown",
   "id": "70dbd5cf",
   "metadata": {},
   "source": [
    "# Qest4"
   ]
  },
  {
   "cell_type": "code",
   "execution_count": 4,
   "id": "2868f2cb",
   "metadata": {
    "ExecuteTime": {
     "end_time": "2023-06-29T23:09:19.409904Z",
     "start_time": "2023-06-29T23:09:19.396028Z"
    }
   },
   "outputs": [
    {
     "name": "stdout",
     "output_type": "stream",
     "text": [
      "Максимальный объем продаж на рекламном канале: email\n"
     ]
    }
   ],
   "source": [
    "stats = {'facebook': 55,\n",
    "         'yandex': 115,\n",
    "         'vk': 120,\n",
    "         'google': 99,\n",
    "         'email': 142,\n",
    "         'ok': 98}\n",
    "\n",
    "a = list(stats.values())\n",
    "a.sort()\n",
    "b = max(a) # лишнее\n",
    "\n",
    "for i in stats.keys():\n",
    "    if b == stats[i]:\n",
    "        print(\"Максимальный объем продаж на рекламном канале:\", i)\n"
   ]
  },
  {
   "cell_type": "code",
   "execution_count": 7,
   "id": "14d252ee",
   "metadata": {
    "ExecuteTime": {
     "end_time": "2023-06-29T23:16:56.417337Z",
     "start_time": "2023-06-29T23:16:56.408055Z"
    }
   },
   "outputs": [
    {
     "name": "stdout",
     "output_type": "stream",
     "text": [
      "142\n"
     ]
    }
   ],
   "source": [
    "stats = {'facebook': 55,\n",
    "         'yandex': 115,\n",
    "         'vk': 120,\n",
    "         'google': 99,\n",
    "         'email': 142,\n",
    "         'ok': 98}\n",
    "print(sorted(stats.values(),reverse=True)[0])"
   ]
  },
  {
   "cell_type": "code",
   "execution_count": 10,
   "id": "ada5fecf",
   "metadata": {
    "ExecuteTime": {
     "end_time": "2023-06-29T23:19:18.914384Z",
     "start_time": "2023-06-29T23:19:18.899125Z"
    }
   },
   "outputs": [
    {
     "data": {
      "text/plain": [
       "(142, 'email')"
      ]
     },
     "execution_count": 10,
     "metadata": {},
     "output_type": "execute_result"
    }
   ],
   "source": [
    "m = -1\n",
    "key =''\n",
    "for i in stats.keys():\n",
    "    if stats[i]>m:\n",
    "        m = stats[i]\n",
    "        key = i\n",
    "m, key"
   ]
  },
  {
   "cell_type": "markdown",
   "id": "9dca5854",
   "metadata": {},
   "source": [
    "# Qest5*"
   ]
  },
  {
   "cell_type": "code",
   "execution_count": 5,
   "id": "fc02306b",
   "metadata": {
    "ExecuteTime": {
     "end_time": "2023-06-29T23:09:20.583661Z",
     "start_time": "2023-06-29T23:09:20.572645Z"
    }
   },
   "outputs": [
    {
     "name": "stdout",
     "output_type": "stream",
     "text": [
      "a, b, c, d, e, f\n",
      "{'e': 'f'}\n",
      "{'a': {'b': {'c': {'d': {'e': 'f'}}}}}\n"
     ]
    }
   ],
   "source": [
    "my_list = ['a', 'b', 'c', 'd', 'e', 'f']\n",
    "\n",
    "print(', '.join(str(i) for i in my_list))\n",
    "\n",
    "dict_ = {my_list[-2]: my_list[-1]}\n",
    "print(dict_)\n",
    "my_list.reverse()\n",
    "for i in my_list[2:]:\n",
    "    dict_ = {i: dict_}\n",
    "\n",
    "print(dict_)"
   ]
  },
  {
   "cell_type": "markdown",
   "id": "54ff59b1",
   "metadata": {},
   "source": [
    "# Qest6"
   ]
  },
  {
   "cell_type": "code",
   "execution_count": 6,
   "id": "9dad3eb4",
   "metadata": {
    "ExecuteTime": {
     "end_time": "2023-06-29T23:09:21.668944Z",
     "start_time": "2023-06-29T23:09:21.653510Z"
    }
   },
   "outputs": [
    {
     "name": "stdout",
     "output_type": "stream",
     "text": [
      "Thailand 23.85714285714285\n",
      "Germany 13.799999999999999\n",
      "Russia 3.714285714285717\n",
      "Poland 11.999999999999996\n"
     ]
    }
   ],
   "source": [
    "countries_temperature = [\n",
    "    ['Thailand', [75.2, 77, 78.8, 73.4, 68, 75.2, 77]],\n",
    "    ['Germany', [57.2, 55.4, 59, 59, 53.6]],\n",
    "    ['Russia', [35.6, 37.4, 39.2, 41, 42.8, 39.2, 35.6]],\n",
    "    ['Poland', [50, 50, 53.6, 57.2, 55.4, 55.4]]\n",
    "]\n",
    "\n",
    "#print(countries_temperature[1][1])\n",
    "a = []\n",
    "# print(len(countries_temperature))\n",
    "\n",
    "i = 0\n",
    "while i < len(countries_temperature):\n",
    "    j = 0\n",
    "    summ = 0\n",
    "\n",
    "    while j < len(countries_temperature[i][1]):\n",
    "        summ += countries_temperature[i][1][j]\n",
    "        j += 1\n",
    "    a.append(((summ / len(countries_temperature[i][1])) - 32) * 5/9)\n",
    "    i += 1\n",
    "\n",
    "i = 0\n",
    "while i < len(countries_temperature):\n",
    "    print(countries_temperature[i][0], a[i])\n",
    "    i += 1\n"
   ]
  },
  {
   "cell_type": "code",
   "execution_count": null,
   "id": "5537d450",
   "metadata": {},
   "outputs": [],
   "source": []
  }
 ],
 "metadata": {
  "hide_input": false,
  "kernelspec": {
   "display_name": "Python 3 (ipykernel)",
   "language": "python",
   "name": "python3"
  },
  "language_info": {
   "codemirror_mode": {
    "name": "ipython",
    "version": 3
   },
   "file_extension": ".py",
   "mimetype": "text/x-python",
   "name": "python",
   "nbconvert_exporter": "python",
   "pygments_lexer": "ipython3",
   "version": "3.10.7"
  }
 },
 "nbformat": 4,
 "nbformat_minor": 5
}
