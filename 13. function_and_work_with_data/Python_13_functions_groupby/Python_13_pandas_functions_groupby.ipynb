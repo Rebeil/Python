{
 "cells": [
  {
   "cell_type": "markdown",
   "metadata": {},
   "source": [
    "# Функции в Pandas\n",
    "Примеры из презентации"
   ]
  },
  {
   "cell_type": "code",
   "execution_count": 1,
   "metadata": {
    "ExecuteTime": {
     "end_time": "2023-01-24T13:32:03.058845Z",
     "start_time": "2023-01-24T13:32:02.833409Z"
    }
   },
   "outputs": [],
   "source": [
    "import pandas as pd"
   ]
  },
  {
   "cell_type": "code",
   "execution_count": 2,
   "metadata": {
    "ExecuteTime": {
     "end_time": "2023-01-24T13:32:03.735901Z",
     "start_time": "2023-01-24T13:32:03.708607Z"
    }
   },
   "outputs": [
    {
     "data": {
      "text/html": [
       "<div>\n",
       "<style scoped>\n",
       "    .dataframe tbody tr th:only-of-type {\n",
       "        vertical-align: middle;\n",
       "    }\n",
       "\n",
       "    .dataframe tbody tr th {\n",
       "        vertical-align: top;\n",
       "    }\n",
       "\n",
       "    .dataframe thead th {\n",
       "        text-align: right;\n",
       "    }\n",
       "</style>\n",
       "<table border=\"1\" class=\"dataframe\">\n",
       "  <thead>\n",
       "    <tr style=\"text-align: right;\">\n",
       "      <th></th>\n",
       "      <th>user_id</th>\n",
       "      <th>clicks</th>\n",
       "      <th>orders</th>\n",
       "    </tr>\n",
       "  </thead>\n",
       "  <tbody>\n",
       "    <tr>\n",
       "      <th>0</th>\n",
       "      <td>1</td>\n",
       "      <td>163</td>\n",
       "      <td>2</td>\n",
       "    </tr>\n",
       "    <tr>\n",
       "      <th>1</th>\n",
       "      <td>2</td>\n",
       "      <td>130</td>\n",
       "      <td>4</td>\n",
       "    </tr>\n",
       "    <tr>\n",
       "      <th>2</th>\n",
       "      <td>3</td>\n",
       "      <td>97</td>\n",
       "      <td>0</td>\n",
       "    </tr>\n",
       "  </tbody>\n",
       "</table>\n",
       "</div>"
      ],
      "text/plain": [
       "   user_id  clicks  orders\n",
       "0        1     163       2\n",
       "1        2     130       4\n",
       "2        3      97       0"
      ]
     },
     "execution_count": 2,
     "metadata": {},
     "output_type": "execute_result"
    }
   ],
   "source": [
    "df = pd.DataFrame({'user_id': [1, 2, 3], 'clicks': [163, 130, 97], 'orders': [2, 4, 0]})\n",
    "df"
   ]
  },
  {
   "cell_type": "code",
   "execution_count": 3,
   "metadata": {
    "ExecuteTime": {
     "end_time": "2023-01-24T13:32:05.423805Z",
     "start_time": "2023-01-24T13:32:05.405741Z"
    },
    "scrolled": true
   },
   "outputs": [
    {
     "data": {
      "text/html": [
       "<div>\n",
       "<style scoped>\n",
       "    .dataframe tbody tr th:only-of-type {\n",
       "        vertical-align: middle;\n",
       "    }\n",
       "\n",
       "    .dataframe tbody tr th {\n",
       "        vertical-align: top;\n",
       "    }\n",
       "\n",
       "    .dataframe thead th {\n",
       "        text-align: right;\n",
       "    }\n",
       "</style>\n",
       "<table border=\"1\" class=\"dataframe\">\n",
       "  <thead>\n",
       "    <tr style=\"text-align: right;\">\n",
       "      <th></th>\n",
       "      <th>user_id</th>\n",
       "      <th>clicks</th>\n",
       "      <th>orders</th>\n",
       "      <th>calculated</th>\n",
       "    </tr>\n",
       "  </thead>\n",
       "  <tbody>\n",
       "    <tr>\n",
       "      <th>0</th>\n",
       "      <td>1</td>\n",
       "      <td>163</td>\n",
       "      <td>2</td>\n",
       "      <td>False</td>\n",
       "    </tr>\n",
       "    <tr>\n",
       "      <th>1</th>\n",
       "      <td>2</td>\n",
       "      <td>130</td>\n",
       "      <td>4</td>\n",
       "      <td>False</td>\n",
       "    </tr>\n",
       "    <tr>\n",
       "      <th>2</th>\n",
       "      <td>3</td>\n",
       "      <td>97</td>\n",
       "      <td>0</td>\n",
       "      <td>True</td>\n",
       "    </tr>\n",
       "  </tbody>\n",
       "</table>\n",
       "</div>"
      ],
      "text/plain": [
       "   user_id  clicks  orders  calculated\n",
       "0        1     163       2       False\n",
       "1        2     130       4       False\n",
       "2        3      97       0        True"
      ]
     },
     "execution_count": 3,
     "metadata": {},
     "output_type": "execute_result"
    }
   ],
   "source": [
    "df = pd.DataFrame({'user_id': [1, 2, 3], 'clicks': [163, 130, 97], 'orders': [2, 4, 0], 'calculated': [False, False, True]})\n",
    "df[['user_id', 'clicks', 'orders', 'calculated']]"
   ]
  },
  {
   "cell_type": "code",
   "execution_count": 4,
   "metadata": {
    "ExecuteTime": {
     "end_time": "2023-01-24T13:32:05.869130Z",
     "start_time": "2023-01-24T13:32:05.864540Z"
    }
   },
   "outputs": [],
   "source": [
    "def watcher(param):\n",
    "    \"\"\"Мне только посмотреть\"\"\"\n",
    "    return param == 0"
   ]
  },
  {
   "cell_type": "code",
   "execution_count": 5,
   "metadata": {
    "ExecuteTime": {
     "end_time": "2023-01-24T13:32:06.845775Z",
     "start_time": "2023-01-24T13:32:06.824702Z"
    }
   },
   "outputs": [
    {
     "data": {
      "text/html": [
       "<div>\n",
       "<style scoped>\n",
       "    .dataframe tbody tr th:only-of-type {\n",
       "        vertical-align: middle;\n",
       "    }\n",
       "\n",
       "    .dataframe tbody tr th {\n",
       "        vertical-align: top;\n",
       "    }\n",
       "\n",
       "    .dataframe thead th {\n",
       "        text-align: right;\n",
       "    }\n",
       "</style>\n",
       "<table border=\"1\" class=\"dataframe\">\n",
       "  <thead>\n",
       "    <tr style=\"text-align: right;\">\n",
       "      <th></th>\n",
       "      <th>user_id</th>\n",
       "      <th>clicks</th>\n",
       "      <th>orders</th>\n",
       "      <th>calculated</th>\n",
       "      <th>watcher</th>\n",
       "    </tr>\n",
       "  </thead>\n",
       "  <tbody>\n",
       "    <tr>\n",
       "      <th>0</th>\n",
       "      <td>1</td>\n",
       "      <td>163</td>\n",
       "      <td>2</td>\n",
       "      <td>False</td>\n",
       "      <td>False</td>\n",
       "    </tr>\n",
       "    <tr>\n",
       "      <th>1</th>\n",
       "      <td>2</td>\n",
       "      <td>130</td>\n",
       "      <td>4</td>\n",
       "      <td>False</td>\n",
       "      <td>False</td>\n",
       "    </tr>\n",
       "    <tr>\n",
       "      <th>2</th>\n",
       "      <td>3</td>\n",
       "      <td>97</td>\n",
       "      <td>0</td>\n",
       "      <td>True</td>\n",
       "      <td>True</td>\n",
       "    </tr>\n",
       "  </tbody>\n",
       "</table>\n",
       "</div>"
      ],
      "text/plain": [
       "   user_id  clicks  orders  calculated  watcher\n",
       "0        1     163       2       False    False\n",
       "1        2     130       4       False    False\n",
       "2        3      97       0        True     True"
      ]
     },
     "execution_count": 5,
     "metadata": {},
     "output_type": "execute_result"
    }
   ],
   "source": [
    "df['watcher'] = df['orders'].apply(watcher)\n",
    "df"
   ]
  },
  {
   "cell_type": "markdown",
   "metadata": {},
   "source": [
    "Применяем метод apply к одному столбцу. Сейчас в переменную функции передаются значения одного столбца"
   ]
  },
  {
   "cell_type": "code",
   "execution_count": 6,
   "metadata": {
    "ExecuteTime": {
     "end_time": "2023-01-24T13:32:08.310721Z",
     "start_time": "2023-01-24T13:32:08.302975Z"
    }
   },
   "outputs": [],
   "source": [
    "def conversion(row):\n",
    "    \"\"\"Подсчет конверсии переходов в покупки\"\"\"\n",
    "    return row['orders'] / row['clicks']"
   ]
  },
  {
   "cell_type": "markdown",
   "metadata": {},
   "source": [
    "### Как потестировать функцию со значениями одной строки"
   ]
  },
  {
   "cell_type": "code",
   "execution_count": 7,
   "metadata": {
    "ExecuteTime": {
     "end_time": "2023-01-24T13:32:11.138519Z",
     "start_time": "2023-01-24T13:32:11.121053Z"
    }
   },
   "outputs": [
    {
     "data": {
      "text/plain": [
       "0    0.01227\n",
       "dtype: float64"
      ]
     },
     "execution_count": 7,
     "metadata": {},
     "output_type": "execute_result"
    }
   ],
   "source": [
    "row1 = pd.DataFrame({'clicks': [163], \n",
    "                     'orders': [2], \n",
    "                     'user_id': [1]})\n",
    "conversion(row1)"
   ]
  },
  {
   "cell_type": "markdown",
   "metadata": {},
   "source": [
    "Применяем метод apply к датафрейму. В переменную функции передаются строки целиком"
   ]
  },
  {
   "cell_type": "code",
   "execution_count": 8,
   "metadata": {
    "ExecuteTime": {
     "end_time": "2023-01-24T13:32:12.609130Z",
     "start_time": "2023-01-24T13:32:12.600603Z"
    }
   },
   "outputs": [
    {
     "data": {
      "text/html": [
       "<div>\n",
       "<style scoped>\n",
       "    .dataframe tbody tr th:only-of-type {\n",
       "        vertical-align: middle;\n",
       "    }\n",
       "\n",
       "    .dataframe tbody tr th {\n",
       "        vertical-align: top;\n",
       "    }\n",
       "\n",
       "    .dataframe thead th {\n",
       "        text-align: right;\n",
       "    }\n",
       "</style>\n",
       "<table border=\"1\" class=\"dataframe\">\n",
       "  <thead>\n",
       "    <tr style=\"text-align: right;\">\n",
       "      <th></th>\n",
       "      <th>user_id</th>\n",
       "      <th>clicks</th>\n",
       "      <th>orders</th>\n",
       "    </tr>\n",
       "  </thead>\n",
       "  <tbody>\n",
       "    <tr>\n",
       "      <th>0</th>\n",
       "      <td>1</td>\n",
       "      <td>163</td>\n",
       "      <td>2</td>\n",
       "    </tr>\n",
       "    <tr>\n",
       "      <th>1</th>\n",
       "      <td>2</td>\n",
       "      <td>130</td>\n",
       "      <td>4</td>\n",
       "    </tr>\n",
       "    <tr>\n",
       "      <th>2</th>\n",
       "      <td>3</td>\n",
       "      <td>97</td>\n",
       "      <td>0</td>\n",
       "    </tr>\n",
       "  </tbody>\n",
       "</table>\n",
       "</div>"
      ],
      "text/plain": [
       "   user_id  clicks  orders\n",
       "0        1     163       2\n",
       "1        2     130       4\n",
       "2        3      97       0"
      ]
     },
     "execution_count": 8,
     "metadata": {},
     "output_type": "execute_result"
    }
   ],
   "source": [
    "df = pd.DataFrame({'user_id': [1, 2, 3], 'clicks': [163, 130, 97], 'orders': [2, 4, 0]})\n",
    "df[['user_id', 'clicks', 'orders']]"
   ]
  },
  {
   "cell_type": "code",
   "execution_count": 9,
   "metadata": {
    "ExecuteTime": {
     "end_time": "2023-01-24T13:32:12.785482Z",
     "start_time": "2023-01-24T13:32:12.781153Z"
    }
   },
   "outputs": [],
   "source": [
    "df['conversion'] = df.apply(conversion, axis=1)"
   ]
  },
  {
   "cell_type": "code",
   "execution_count": 10,
   "metadata": {
    "ExecuteTime": {
     "end_time": "2023-01-24T13:32:12.999241Z",
     "start_time": "2023-01-24T13:32:12.986608Z"
    }
   },
   "outputs": [
    {
     "data": {
      "text/html": [
       "<div>\n",
       "<style scoped>\n",
       "    .dataframe tbody tr th:only-of-type {\n",
       "        vertical-align: middle;\n",
       "    }\n",
       "\n",
       "    .dataframe tbody tr th {\n",
       "        vertical-align: top;\n",
       "    }\n",
       "\n",
       "    .dataframe thead th {\n",
       "        text-align: right;\n",
       "    }\n",
       "</style>\n",
       "<table border=\"1\" class=\"dataframe\">\n",
       "  <thead>\n",
       "    <tr style=\"text-align: right;\">\n",
       "      <th></th>\n",
       "      <th>user_id</th>\n",
       "      <th>clicks</th>\n",
       "      <th>orders</th>\n",
       "      <th>conversion</th>\n",
       "    </tr>\n",
       "  </thead>\n",
       "  <tbody>\n",
       "    <tr>\n",
       "      <th>0</th>\n",
       "      <td>1</td>\n",
       "      <td>163</td>\n",
       "      <td>2</td>\n",
       "      <td>0.012270</td>\n",
       "    </tr>\n",
       "    <tr>\n",
       "      <th>1</th>\n",
       "      <td>2</td>\n",
       "      <td>130</td>\n",
       "      <td>4</td>\n",
       "      <td>0.030769</td>\n",
       "    </tr>\n",
       "    <tr>\n",
       "      <th>2</th>\n",
       "      <td>3</td>\n",
       "      <td>97</td>\n",
       "      <td>0</td>\n",
       "      <td>0.000000</td>\n",
       "    </tr>\n",
       "  </tbody>\n",
       "</table>\n",
       "</div>"
      ],
      "text/plain": [
       "   user_id  clicks  orders  conversion\n",
       "0        1     163       2    0.012270\n",
       "1        2     130       4    0.030769\n",
       "2        3      97       0    0.000000"
      ]
     },
     "execution_count": 10,
     "metadata": {},
     "output_type": "execute_result"
    }
   ],
   "source": [
    "df[['user_id', 'clicks', 'orders', 'conversion']]"
   ]
  },
  {
   "cell_type": "markdown",
   "metadata": {},
   "source": [
    "### Как создавать столбцы с помощью функций"
   ]
  },
  {
   "cell_type": "code",
   "execution_count": 11,
   "metadata": {
    "ExecuteTime": {
     "end_time": "2023-01-24T13:32:15.051394Z",
     "start_time": "2023-01-24T13:32:15.042480Z"
    }
   },
   "outputs": [],
   "source": [
    "df = pd.DataFrame({'user_id': [1, 2, 3]})"
   ]
  },
  {
   "cell_type": "code",
   "execution_count": 12,
   "metadata": {
    "ExecuteTime": {
     "end_time": "2023-01-24T13:32:15.436554Z",
     "start_time": "2023-01-24T13:32:15.428891Z"
    }
   },
   "outputs": [
    {
     "data": {
      "text/html": [
       "<div>\n",
       "<style scoped>\n",
       "    .dataframe tbody tr th:only-of-type {\n",
       "        vertical-align: middle;\n",
       "    }\n",
       "\n",
       "    .dataframe tbody tr th {\n",
       "        vertical-align: top;\n",
       "    }\n",
       "\n",
       "    .dataframe thead th {\n",
       "        text-align: right;\n",
       "    }\n",
       "</style>\n",
       "<table border=\"1\" class=\"dataframe\">\n",
       "  <thead>\n",
       "    <tr style=\"text-align: right;\">\n",
       "      <th></th>\n",
       "      <th>user_id</th>\n",
       "    </tr>\n",
       "  </thead>\n",
       "  <tbody>\n",
       "    <tr>\n",
       "      <th>0</th>\n",
       "      <td>1</td>\n",
       "    </tr>\n",
       "    <tr>\n",
       "      <th>1</th>\n",
       "      <td>2</td>\n",
       "    </tr>\n",
       "    <tr>\n",
       "      <th>2</th>\n",
       "      <td>3</td>\n",
       "    </tr>\n",
       "  </tbody>\n",
       "</table>\n",
       "</div>"
      ],
      "text/plain": [
       "   user_id\n",
       "0        1\n",
       "1        2\n",
       "2        3"
      ]
     },
     "execution_count": 12,
     "metadata": {},
     "output_type": "execute_result"
    }
   ],
   "source": [
    "df"
   ]
  },
  {
   "cell_type": "code",
   "execution_count": 13,
   "metadata": {
    "ExecuteTime": {
     "end_time": "2023-01-24T13:32:16.571683Z",
     "start_time": "2023-01-24T13:32:16.565410Z"
    }
   },
   "outputs": [],
   "source": [
    "def metriks(row):\n",
    "    \"\"\"Возвращает новый столбец в зависимости от значения user_id\"\"\"\n",
    "    user_id = row.user_id\n",
    "    \n",
    "    return pd.Series({'col_{}'.format(user_id): 1})"
   ]
  },
  {
   "cell_type": "code",
   "execution_count": 14,
   "metadata": {
    "ExecuteTime": {
     "end_time": "2023-01-24T13:32:16.882214Z",
     "start_time": "2023-01-24T13:32:16.860936Z"
    }
   },
   "outputs": [
    {
     "data": {
      "text/html": [
       "<div>\n",
       "<style scoped>\n",
       "    .dataframe tbody tr th:only-of-type {\n",
       "        vertical-align: middle;\n",
       "    }\n",
       "\n",
       "    .dataframe tbody tr th {\n",
       "        vertical-align: top;\n",
       "    }\n",
       "\n",
       "    .dataframe thead th {\n",
       "        text-align: right;\n",
       "    }\n",
       "</style>\n",
       "<table border=\"1\" class=\"dataframe\">\n",
       "  <thead>\n",
       "    <tr style=\"text-align: right;\">\n",
       "      <th></th>\n",
       "      <th>col_1</th>\n",
       "      <th>col_2</th>\n",
       "      <th>col_3</th>\n",
       "    </tr>\n",
       "  </thead>\n",
       "  <tbody>\n",
       "    <tr>\n",
       "      <th>0</th>\n",
       "      <td>1.0</td>\n",
       "      <td>NaN</td>\n",
       "      <td>NaN</td>\n",
       "    </tr>\n",
       "    <tr>\n",
       "      <th>1</th>\n",
       "      <td>NaN</td>\n",
       "      <td>1.0</td>\n",
       "      <td>NaN</td>\n",
       "    </tr>\n",
       "    <tr>\n",
       "      <th>2</th>\n",
       "      <td>NaN</td>\n",
       "      <td>NaN</td>\n",
       "      <td>1.0</td>\n",
       "    </tr>\n",
       "  </tbody>\n",
       "</table>\n",
       "</div>"
      ],
      "text/plain": [
       "   col_1  col_2  col_3\n",
       "0    1.0    NaN    NaN\n",
       "1    NaN    1.0    NaN\n",
       "2    NaN    NaN    1.0"
      ]
     },
     "execution_count": 14,
     "metadata": {},
     "output_type": "execute_result"
    }
   ],
   "source": [
    "df = df.apply(metriks, axis=1)\n",
    "df"
   ]
  },
  {
   "cell_type": "markdown",
   "metadata": {},
   "source": [
    "### Анализ рекламных кампаний"
   ]
  },
  {
   "cell_type": "code",
   "execution_count": 15,
   "metadata": {
    "ExecuteTime": {
     "end_time": "2023-01-24T13:32:18.113172Z",
     "start_time": "2023-01-24T13:32:18.106087Z"
    }
   },
   "outputs": [],
   "source": [
    "import pandas as pd"
   ]
  },
  {
   "cell_type": "code",
   "execution_count": 17,
   "metadata": {
    "ExecuteTime": {
     "end_time": "2023-01-24T13:32:48.877052Z",
     "start_time": "2023-01-24T13:32:46.355908Z"
    },
    "collapsed": true
   },
   "outputs": [
    {
     "name": "stdout",
     "output_type": "stream",
     "text": [
      "Collecting openpyxl\n",
      "  Downloading openpyxl-3.0.10-py2.py3-none-any.whl (242 kB)\n",
      "\u001b[2K     \u001b[38;2;114;156;31m━━━━━━━━━━━━━━━━━━━━━━━━━━━━━━━━━━━━━━━\u001b[0m \u001b[32m242.1/242.1 kB\u001b[0m \u001b[31m1.5 MB/s\u001b[0m eta \u001b[36m0:00:00\u001b[0m[31m1.4 MB/s\u001b[0m eta \u001b[36m0:00:01\u001b[0m\n",
      "\u001b[?25hCollecting et-xmlfile\n",
      "  Downloading et_xmlfile-1.1.0-py3-none-any.whl (4.7 kB)\n",
      "Installing collected packages: et-xmlfile, openpyxl\n",
      "Successfully installed et-xmlfile-1.1.0 openpyxl-3.0.10\n"
     ]
    }
   ],
   "source": [
    "!pip install openpyxl"
   ]
  },
  {
   "cell_type": "code",
   "execution_count": 18,
   "metadata": {
    "ExecuteTime": {
     "end_time": "2023-01-24T13:32:51.322807Z",
     "start_time": "2023-01-24T13:32:51.036509Z"
    },
    "scrolled": true
   },
   "outputs": [
    {
     "data": {
      "text/html": [
       "<div>\n",
       "<style scoped>\n",
       "    .dataframe tbody tr th:only-of-type {\n",
       "        vertical-align: middle;\n",
       "    }\n",
       "\n",
       "    .dataframe tbody tr th {\n",
       "        vertical-align: top;\n",
       "    }\n",
       "\n",
       "    .dataframe thead th {\n",
       "        text-align: right;\n",
       "    }\n",
       "</style>\n",
       "<table border=\"1\" class=\"dataframe\">\n",
       "  <thead>\n",
       "    <tr style=\"text-align: right;\">\n",
       "      <th></th>\n",
       "      <th>Название группы</th>\n",
       "      <th>Фраза (с минус-словами)</th>\n",
       "      <th>Продуктивность</th>\n",
       "      <th>ID объявления</th>\n",
       "      <th>Заголовок</th>\n",
       "      <th>Текст</th>\n",
       "      <th>Ссылка</th>\n",
       "    </tr>\n",
       "  </thead>\n",
       "  <tbody>\n",
       "    <tr>\n",
       "      <th>0</th>\n",
       "      <td>мрт менделеевская</td>\n",
       "      <td>\"!мрт !менделеевская\"</td>\n",
       "      <td>4.5</td>\n",
       "      <td>2101704995</td>\n",
       "      <td>МРТ на Менделеевской от 2000₽</td>\n",
       "      <td>24 часа. МРТ в день обращения. Консультация вр...</td>\n",
       "      <td>https://awesome-site.ru/?utm_source=yandex&amp;utm...</td>\n",
       "    </tr>\n",
       "    <tr>\n",
       "      <th>1</th>\n",
       "      <td>мрт цао</td>\n",
       "      <td>\"мрт менделеевская\"</td>\n",
       "      <td>4.5</td>\n",
       "      <td>2101704995</td>\n",
       "      <td>МРТ на Менделеевской от 2000₽</td>\n",
       "      <td>24 часа. МРТ в день обращения. Консультация вр...</td>\n",
       "      <td>https://awesome-site.ru/?utm_source=yandex&amp;utm...</td>\n",
       "    </tr>\n",
       "    <tr>\n",
       "      <th>2</th>\n",
       "      <td>мрт цао</td>\n",
       "      <td>мрт менделеевская -головы -позвоночника -сдела...</td>\n",
       "      <td>7.4</td>\n",
       "      <td>2101704995</td>\n",
       "      <td>МРТ на Менделеевской от 2000₽</td>\n",
       "      <td>24 часа. МРТ в день обращения. Консультация вр...</td>\n",
       "      <td>https://awesome-site.ru/?utm_source=yandex&amp;utm...</td>\n",
       "    </tr>\n",
       "    <tr>\n",
       "      <th>3</th>\n",
       "      <td>мрт цао</td>\n",
       "      <td>\"!мрт !цао\"</td>\n",
       "      <td>5.0</td>\n",
       "      <td>2101704999</td>\n",
       "      <td>МРТ в ЦАО от 2000₽. Звоните!</td>\n",
       "      <td>24 часа. МРТ в день обращения. Консультация вр...</td>\n",
       "      <td>https://awesome-site.ru/?utm_source=yandex&amp;utm...</td>\n",
       "    </tr>\n",
       "    <tr>\n",
       "      <th>4</th>\n",
       "      <td>мрт сао</td>\n",
       "      <td>\"мрт цао\"</td>\n",
       "      <td>5.0</td>\n",
       "      <td>2101704999</td>\n",
       "      <td>МРТ в ЦАО от 2000₽. Звоните!</td>\n",
       "      <td>24 часа. МРТ в день обращения. Консультация вр...</td>\n",
       "      <td>https://awesome-site.ru/?utm_source=yandex&amp;utm...</td>\n",
       "    </tr>\n",
       "  </tbody>\n",
       "</table>\n",
       "</div>"
      ],
      "text/plain": [
       "     Название группы                            Фраза (с минус-словами)  \\\n",
       "0  мрт менделеевская                              \"!мрт !менделеевская\"   \n",
       "1            мрт цао                                \"мрт менделеевская\"   \n",
       "2            мрт цао  мрт менделеевская -головы -позвоночника -сдела...   \n",
       "3            мрт цао                                        \"!мрт !цао\"   \n",
       "4            мрт сао                                          \"мрт цао\"   \n",
       "\n",
       "   Продуктивность  ID объявления                      Заголовок  \\\n",
       "0             4.5     2101704995  МРТ на Менделеевской от 2000₽   \n",
       "1             4.5     2101704995  МРТ на Менделеевской от 2000₽   \n",
       "2             7.4     2101704995  МРТ на Менделеевской от 2000₽   \n",
       "3             5.0     2101704999   МРТ в ЦАО от 2000₽. Звоните!   \n",
       "4             5.0     2101704999   МРТ в ЦАО от 2000₽. Звоните!   \n",
       "\n",
       "                                               Текст  \\\n",
       "0  24 часа. МРТ в день обращения. Консультация вр...   \n",
       "1  24 часа. МРТ в день обращения. Консультация вр...   \n",
       "2  24 часа. МРТ в день обращения. Консультация вр...   \n",
       "3  24 часа. МРТ в день обращения. Консультация вр...   \n",
       "4  24 часа. МРТ в день обращения. Консультация вр...   \n",
       "\n",
       "                                              Ссылка  \n",
       "0  https://awesome-site.ru/?utm_source=yandex&utm...  \n",
       "1  https://awesome-site.ru/?utm_source=yandex&utm...  \n",
       "2  https://awesome-site.ru/?utm_source=yandex&utm...  \n",
       "3  https://awesome-site.ru/?utm_source=yandex&utm...  \n",
       "4  https://awesome-site.ru/?utm_source=yandex&utm...  "
      ]
     },
     "execution_count": 18,
     "metadata": {},
     "output_type": "execute_result"
    }
   ],
   "source": [
    "stats = pd.read_excel('ad_campaigns.xlsx')\n",
    "stats.head()"
   ]
  },
  {
   "cell_type": "code",
   "execution_count": 19,
   "metadata": {
    "ExecuteTime": {
     "end_time": "2023-01-24T13:32:54.175276Z",
     "start_time": "2023-01-24T13:32:54.153474Z"
    },
    "scrolled": true
   },
   "outputs": [
    {
     "data": {
      "text/html": [
       "<div>\n",
       "<style scoped>\n",
       "    .dataframe tbody tr th:only-of-type {\n",
       "        vertical-align: middle;\n",
       "    }\n",
       "\n",
       "    .dataframe tbody tr th {\n",
       "        vertical-align: top;\n",
       "    }\n",
       "\n",
       "    .dataframe thead th {\n",
       "        text-align: right;\n",
       "    }\n",
       "</style>\n",
       "<table border=\"1\" class=\"dataframe\">\n",
       "  <thead>\n",
       "    <tr style=\"text-align: right;\">\n",
       "      <th></th>\n",
       "      <th>group</th>\n",
       "      <th>phrase</th>\n",
       "      <th>effect</th>\n",
       "      <th>ad_id</th>\n",
       "      <th>title</th>\n",
       "      <th>text</th>\n",
       "      <th>link</th>\n",
       "    </tr>\n",
       "  </thead>\n",
       "  <tbody>\n",
       "    <tr>\n",
       "      <th>0</th>\n",
       "      <td>мрт менделеевская</td>\n",
       "      <td>\"!мрт !менделеевская\"</td>\n",
       "      <td>4.5</td>\n",
       "      <td>2101704995</td>\n",
       "      <td>МРТ на Менделеевской от 2000₽</td>\n",
       "      <td>24 часа. МРТ в день обращения. Консультация вр...</td>\n",
       "      <td>https://awesome-site.ru/?utm_source=yandex&amp;utm...</td>\n",
       "    </tr>\n",
       "    <tr>\n",
       "      <th>1</th>\n",
       "      <td>мрт цао</td>\n",
       "      <td>\"мрт менделеевская\"</td>\n",
       "      <td>4.5</td>\n",
       "      <td>2101704995</td>\n",
       "      <td>МРТ на Менделеевской от 2000₽</td>\n",
       "      <td>24 часа. МРТ в день обращения. Консультация вр...</td>\n",
       "      <td>https://awesome-site.ru/?utm_source=yandex&amp;utm...</td>\n",
       "    </tr>\n",
       "    <tr>\n",
       "      <th>2</th>\n",
       "      <td>мрт цао</td>\n",
       "      <td>мрт менделеевская -головы -позвоночника -сдела...</td>\n",
       "      <td>7.4</td>\n",
       "      <td>2101704995</td>\n",
       "      <td>МРТ на Менделеевской от 2000₽</td>\n",
       "      <td>24 часа. МРТ в день обращения. Консультация вр...</td>\n",
       "      <td>https://awesome-site.ru/?utm_source=yandex&amp;utm...</td>\n",
       "    </tr>\n",
       "    <tr>\n",
       "      <th>3</th>\n",
       "      <td>мрт цао</td>\n",
       "      <td>\"!мрт !цао\"</td>\n",
       "      <td>5.0</td>\n",
       "      <td>2101704999</td>\n",
       "      <td>МРТ в ЦАО от 2000₽. Звоните!</td>\n",
       "      <td>24 часа. МРТ в день обращения. Консультация вр...</td>\n",
       "      <td>https://awesome-site.ru/?utm_source=yandex&amp;utm...</td>\n",
       "    </tr>\n",
       "    <tr>\n",
       "      <th>4</th>\n",
       "      <td>мрт сао</td>\n",
       "      <td>\"мрт цао\"</td>\n",
       "      <td>5.0</td>\n",
       "      <td>2101704999</td>\n",
       "      <td>МРТ в ЦАО от 2000₽. Звоните!</td>\n",
       "      <td>24 часа. МРТ в день обращения. Консультация вр...</td>\n",
       "      <td>https://awesome-site.ru/?utm_source=yandex&amp;utm...</td>\n",
       "    </tr>\n",
       "  </tbody>\n",
       "</table>\n",
       "</div>"
      ],
      "text/plain": [
       "               group                                             phrase  \\\n",
       "0  мрт менделеевская                              \"!мрт !менделеевская\"   \n",
       "1            мрт цао                                \"мрт менделеевская\"   \n",
       "2            мрт цао  мрт менделеевская -головы -позвоночника -сдела...   \n",
       "3            мрт цао                                        \"!мрт !цао\"   \n",
       "4            мрт сао                                          \"мрт цао\"   \n",
       "\n",
       "   effect       ad_id                          title  \\\n",
       "0     4.5  2101704995  МРТ на Менделеевской от 2000₽   \n",
       "1     4.5  2101704995  МРТ на Менделеевской от 2000₽   \n",
       "2     7.4  2101704995  МРТ на Менделеевской от 2000₽   \n",
       "3     5.0  2101704999   МРТ в ЦАО от 2000₽. Звоните!   \n",
       "4     5.0  2101704999   МРТ в ЦАО от 2000₽. Звоните!   \n",
       "\n",
       "                                                text  \\\n",
       "0  24 часа. МРТ в день обращения. Консультация вр...   \n",
       "1  24 часа. МРТ в день обращения. Консультация вр...   \n",
       "2  24 часа. МРТ в день обращения. Консультация вр...   \n",
       "3  24 часа. МРТ в день обращения. Консультация вр...   \n",
       "4  24 часа. МРТ в день обращения. Консультация вр...   \n",
       "\n",
       "                                                link  \n",
       "0  https://awesome-site.ru/?utm_source=yandex&utm...  \n",
       "1  https://awesome-site.ru/?utm_source=yandex&utm...  \n",
       "2  https://awesome-site.ru/?utm_source=yandex&utm...  \n",
       "3  https://awesome-site.ru/?utm_source=yandex&utm...  \n",
       "4  https://awesome-site.ru/?utm_source=yandex&utm...  "
      ]
     },
     "execution_count": 19,
     "metadata": {},
     "output_type": "execute_result"
    }
   ],
   "source": [
    "stats.columns = ['group', 'phrase', 'effect', 'ad_id', 'title', 'text', 'link']\n",
    "stats.head()"
   ]
  },
  {
   "cell_type": "markdown",
   "metadata": {},
   "source": [
    "### Lambda-функции\n",
    "Хотим посчитать распределение количества слов в столбце с фразами"
   ]
  },
  {
   "cell_type": "code",
   "execution_count": 20,
   "metadata": {
    "ExecuteTime": {
     "end_time": "2023-01-24T13:32:56.729545Z",
     "start_time": "2023-01-24T13:32:56.722015Z"
    }
   },
   "outputs": [],
   "source": [
    "phrase = 'МРТ на Менделеевской от 2000'"
   ]
  },
  {
   "cell_type": "code",
   "execution_count": 21,
   "metadata": {
    "ExecuteTime": {
     "end_time": "2023-01-24T13:32:57.025455Z",
     "start_time": "2023-01-24T13:32:57.020247Z"
    }
   },
   "outputs": [
    {
     "data": {
      "text/plain": [
       "5"
      ]
     },
     "execution_count": 21,
     "metadata": {},
     "output_type": "execute_result"
    }
   ],
   "source": [
    "len(phrase.split(' '))"
   ]
  },
  {
   "cell_type": "code",
   "execution_count": 22,
   "metadata": {
    "ExecuteTime": {
     "end_time": "2023-01-24T13:32:57.417535Z",
     "start_time": "2023-01-24T13:32:57.399423Z"
    }
   },
   "outputs": [
    {
     "data": {
      "text/html": [
       "<div>\n",
       "<style scoped>\n",
       "    .dataframe tbody tr th:only-of-type {\n",
       "        vertical-align: middle;\n",
       "    }\n",
       "\n",
       "    .dataframe tbody tr th {\n",
       "        vertical-align: top;\n",
       "    }\n",
       "\n",
       "    .dataframe thead th {\n",
       "        text-align: right;\n",
       "    }\n",
       "</style>\n",
       "<table border=\"1\" class=\"dataframe\">\n",
       "  <thead>\n",
       "    <tr style=\"text-align: right;\">\n",
       "      <th></th>\n",
       "      <th>group</th>\n",
       "      <th>phrase</th>\n",
       "      <th>effect</th>\n",
       "      <th>ad_id</th>\n",
       "      <th>title</th>\n",
       "      <th>text</th>\n",
       "      <th>link</th>\n",
       "      <th>word_count</th>\n",
       "    </tr>\n",
       "  </thead>\n",
       "  <tbody>\n",
       "    <tr>\n",
       "      <th>0</th>\n",
       "      <td>мрт менделеевская</td>\n",
       "      <td>\"!мрт !менделеевская\"</td>\n",
       "      <td>4.5</td>\n",
       "      <td>2101704995</td>\n",
       "      <td>МРТ на Менделеевской от 2000₽</td>\n",
       "      <td>24 часа. МРТ в день обращения. Консультация вр...</td>\n",
       "      <td>https://awesome-site.ru/?utm_source=yandex&amp;utm...</td>\n",
       "      <td>2</td>\n",
       "    </tr>\n",
       "    <tr>\n",
       "      <th>1</th>\n",
       "      <td>мрт цао</td>\n",
       "      <td>\"мрт менделеевская\"</td>\n",
       "      <td>4.5</td>\n",
       "      <td>2101704995</td>\n",
       "      <td>МРТ на Менделеевской от 2000₽</td>\n",
       "      <td>24 часа. МРТ в день обращения. Консультация вр...</td>\n",
       "      <td>https://awesome-site.ru/?utm_source=yandex&amp;utm...</td>\n",
       "      <td>2</td>\n",
       "    </tr>\n",
       "    <tr>\n",
       "      <th>2</th>\n",
       "      <td>мрт цао</td>\n",
       "      <td>мрт менделеевская -головы -позвоночника -сдела...</td>\n",
       "      <td>7.4</td>\n",
       "      <td>2101704995</td>\n",
       "      <td>МРТ на Менделеевской от 2000₽</td>\n",
       "      <td>24 часа. МРТ в день обращения. Консультация вр...</td>\n",
       "      <td>https://awesome-site.ru/?utm_source=yandex&amp;utm...</td>\n",
       "      <td>6</td>\n",
       "    </tr>\n",
       "    <tr>\n",
       "      <th>3</th>\n",
       "      <td>мрт цао</td>\n",
       "      <td>\"!мрт !цао\"</td>\n",
       "      <td>5.0</td>\n",
       "      <td>2101704999</td>\n",
       "      <td>МРТ в ЦАО от 2000₽. Звоните!</td>\n",
       "      <td>24 часа. МРТ в день обращения. Консультация вр...</td>\n",
       "      <td>https://awesome-site.ru/?utm_source=yandex&amp;utm...</td>\n",
       "      <td>2</td>\n",
       "    </tr>\n",
       "    <tr>\n",
       "      <th>4</th>\n",
       "      <td>мрт сао</td>\n",
       "      <td>\"мрт цао\"</td>\n",
       "      <td>5.0</td>\n",
       "      <td>2101704999</td>\n",
       "      <td>МРТ в ЦАО от 2000₽. Звоните!</td>\n",
       "      <td>24 часа. МРТ в день обращения. Консультация вр...</td>\n",
       "      <td>https://awesome-site.ru/?utm_source=yandex&amp;utm...</td>\n",
       "      <td>2</td>\n",
       "    </tr>\n",
       "  </tbody>\n",
       "</table>\n",
       "</div>"
      ],
      "text/plain": [
       "               group                                             phrase  \\\n",
       "0  мрт менделеевская                              \"!мрт !менделеевская\"   \n",
       "1            мрт цао                                \"мрт менделеевская\"   \n",
       "2            мрт цао  мрт менделеевская -головы -позвоночника -сдела...   \n",
       "3            мрт цао                                        \"!мрт !цао\"   \n",
       "4            мрт сао                                          \"мрт цао\"   \n",
       "\n",
       "   effect       ad_id                          title  \\\n",
       "0     4.5  2101704995  МРТ на Менделеевской от 2000₽   \n",
       "1     4.5  2101704995  МРТ на Менделеевской от 2000₽   \n",
       "2     7.4  2101704995  МРТ на Менделеевской от 2000₽   \n",
       "3     5.0  2101704999   МРТ в ЦАО от 2000₽. Звоните!   \n",
       "4     5.0  2101704999   МРТ в ЦАО от 2000₽. Звоните!   \n",
       "\n",
       "                                                text  \\\n",
       "0  24 часа. МРТ в день обращения. Консультация вр...   \n",
       "1  24 часа. МРТ в день обращения. Консультация вр...   \n",
       "2  24 часа. МРТ в день обращения. Консультация вр...   \n",
       "3  24 часа. МРТ в день обращения. Консультация вр...   \n",
       "4  24 часа. МРТ в день обращения. Консультация вр...   \n",
       "\n",
       "                                                link  word_count  \n",
       "0  https://awesome-site.ru/?utm_source=yandex&utm...           2  \n",
       "1  https://awesome-site.ru/?utm_source=yandex&utm...           2  \n",
       "2  https://awesome-site.ru/?utm_source=yandex&utm...           6  \n",
       "3  https://awesome-site.ru/?utm_source=yandex&utm...           2  \n",
       "4  https://awesome-site.ru/?utm_source=yandex&utm...           2  "
      ]
     },
     "execution_count": 22,
     "metadata": {},
     "output_type": "execute_result"
    }
   ],
   "source": [
    "stats['word_count'] = stats['phrase'].apply(lambda word: len(word.split(' ')))\n",
    "stats.head()"
   ]
  },
  {
   "cell_type": "code",
   "execution_count": 23,
   "metadata": {
    "ExecuteTime": {
     "end_time": "2023-01-24T13:32:57.839998Z",
     "start_time": "2023-01-24T13:32:57.811838Z"
    }
   },
   "outputs": [
    {
     "data": {
      "text/html": [
       "<div>\n",
       "<style scoped>\n",
       "    .dataframe tbody tr th:only-of-type {\n",
       "        vertical-align: middle;\n",
       "    }\n",
       "\n",
       "    .dataframe tbody tr th {\n",
       "        vertical-align: top;\n",
       "    }\n",
       "\n",
       "    .dataframe thead th {\n",
       "        text-align: right;\n",
       "    }\n",
       "</style>\n",
       "<table border=\"1\" class=\"dataframe\">\n",
       "  <thead>\n",
       "    <tr style=\"text-align: right;\">\n",
       "      <th></th>\n",
       "      <th>group</th>\n",
       "      <th>phrase</th>\n",
       "      <th>effect</th>\n",
       "      <th>ad_id</th>\n",
       "      <th>title</th>\n",
       "      <th>text</th>\n",
       "      <th>link</th>\n",
       "      <th>word_count</th>\n",
       "    </tr>\n",
       "  </thead>\n",
       "  <tbody>\n",
       "    <tr>\n",
       "      <th>0</th>\n",
       "      <td>мрт менделеевская</td>\n",
       "      <td>\"!мрт !менделеевская\"</td>\n",
       "      <td>4.5</td>\n",
       "      <td>2101704995</td>\n",
       "      <td>МРТ на Менделеевской от 2000₽</td>\n",
       "      <td>24 часа. МРТ в день обращения. Консультация вр...</td>\n",
       "      <td>https://awesome-site.ru/?utm_source=yandex&amp;utm...</td>\n",
       "      <td>2</td>\n",
       "    </tr>\n",
       "    <tr>\n",
       "      <th>1</th>\n",
       "      <td>мрт цао</td>\n",
       "      <td>\"мрт менделеевская\"</td>\n",
       "      <td>4.5</td>\n",
       "      <td>2101704995</td>\n",
       "      <td>МРТ на Менделеевской от 2000₽</td>\n",
       "      <td>24 часа. МРТ в день обращения. Консультация вр...</td>\n",
       "      <td>https://awesome-site.ru/?utm_source=yandex&amp;utm...</td>\n",
       "      <td>2</td>\n",
       "    </tr>\n",
       "    <tr>\n",
       "      <th>2</th>\n",
       "      <td>мрт цао</td>\n",
       "      <td>мрт менделеевская -головы -позвоночника -сдела...</td>\n",
       "      <td>7.4</td>\n",
       "      <td>2101704995</td>\n",
       "      <td>МРТ на Менделеевской от 2000₽</td>\n",
       "      <td>24 часа. МРТ в день обращения. Консультация вр...</td>\n",
       "      <td>https://awesome-site.ru/?utm_source=yandex&amp;utm...</td>\n",
       "      <td>6</td>\n",
       "    </tr>\n",
       "    <tr>\n",
       "      <th>3</th>\n",
       "      <td>мрт цао</td>\n",
       "      <td>\"!мрт !цао\"</td>\n",
       "      <td>5.0</td>\n",
       "      <td>2101704999</td>\n",
       "      <td>МРТ в ЦАО от 2000₽. Звоните!</td>\n",
       "      <td>24 часа. МРТ в день обращения. Консультация вр...</td>\n",
       "      <td>https://awesome-site.ru/?utm_source=yandex&amp;utm...</td>\n",
       "      <td>2</td>\n",
       "    </tr>\n",
       "    <tr>\n",
       "      <th>4</th>\n",
       "      <td>мрт сао</td>\n",
       "      <td>\"мрт цао\"</td>\n",
       "      <td>5.0</td>\n",
       "      <td>2101704999</td>\n",
       "      <td>МРТ в ЦАО от 2000₽. Звоните!</td>\n",
       "      <td>24 часа. МРТ в день обращения. Консультация вр...</td>\n",
       "      <td>https://awesome-site.ru/?utm_source=yandex&amp;utm...</td>\n",
       "      <td>2</td>\n",
       "    </tr>\n",
       "  </tbody>\n",
       "</table>\n",
       "</div>"
      ],
      "text/plain": [
       "               group                                             phrase  \\\n",
       "0  мрт менделеевская                              \"!мрт !менделеевская\"   \n",
       "1            мрт цао                                \"мрт менделеевская\"   \n",
       "2            мрт цао  мрт менделеевская -головы -позвоночника -сдела...   \n",
       "3            мрт цао                                        \"!мрт !цао\"   \n",
       "4            мрт сао                                          \"мрт цао\"   \n",
       "\n",
       "   effect       ad_id                          title  \\\n",
       "0     4.5  2101704995  МРТ на Менделеевской от 2000₽   \n",
       "1     4.5  2101704995  МРТ на Менделеевской от 2000₽   \n",
       "2     7.4  2101704995  МРТ на Менделеевской от 2000₽   \n",
       "3     5.0  2101704999   МРТ в ЦАО от 2000₽. Звоните!   \n",
       "4     5.0  2101704999   МРТ в ЦАО от 2000₽. Звоните!   \n",
       "\n",
       "                                                text  \\\n",
       "0  24 часа. МРТ в день обращения. Консультация вр...   \n",
       "1  24 часа. МРТ в день обращения. Консультация вр...   \n",
       "2  24 часа. МРТ в день обращения. Консультация вр...   \n",
       "3  24 часа. МРТ в день обращения. Консультация вр...   \n",
       "4  24 часа. МРТ в день обращения. Консультация вр...   \n",
       "\n",
       "                                                link  word_count  \n",
       "0  https://awesome-site.ru/?utm_source=yandex&utm...           2  \n",
       "1  https://awesome-site.ru/?utm_source=yandex&utm...           2  \n",
       "2  https://awesome-site.ru/?utm_source=yandex&utm...           6  \n",
       "3  https://awesome-site.ru/?utm_source=yandex&utm...           2  \n",
       "4  https://awesome-site.ru/?utm_source=yandex&utm...           2  "
      ]
     },
     "execution_count": 23,
     "metadata": {},
     "output_type": "execute_result"
    }
   ],
   "source": [
    "# вариант с передачей всей строчки функции\n",
    "# тут надо обязательно указать параметр axis = 1\n",
    "\n",
    "stats['word_count'] = stats.apply(lambda x: len(x['phrase'].split(' ')), axis=1)\n",
    "stats.head()"
   ]
  },
  {
   "cell_type": "markdown",
   "metadata": {},
   "source": [
    "Простая визуализация"
   ]
  },
  {
   "cell_type": "code",
   "execution_count": 24,
   "metadata": {
    "ExecuteTime": {
     "end_time": "2023-01-24T13:33:00.811587Z",
     "start_time": "2023-01-24T13:33:00.465951Z"
    }
   },
   "outputs": [],
   "source": [
    "%matplotlib inline"
   ]
  },
  {
   "cell_type": "code",
   "execution_count": 25,
   "metadata": {
    "ExecuteTime": {
     "end_time": "2023-01-24T13:33:01.012242Z",
     "start_time": "2023-01-24T13:33:00.813031Z"
    }
   },
   "outputs": [
    {
     "data": {
      "text/plain": [
       "<AxesSubplot: >"
      ]
     },
     "execution_count": 25,
     "metadata": {},
     "output_type": "execute_result"
    },
    {
     "data": {
      "image/png": "[encoded data removed]",
      "text/plain": [
       "<Figure size 640x480 with 1 Axes>"
      ]
     },
     "metadata": {},
     "output_type": "display_data"
    }
   ],
   "source": [
    "stats['word_count'].hist()"
   ]
  },
  {
   "cell_type": "code",
   "execution_count": 26,
   "metadata": {
    "ExecuteTime": {
     "end_time": "2023-01-24T13:33:01.199425Z",
     "start_time": "2023-01-24T13:33:01.025344Z"
    }
   },
   "outputs": [
    {
     "data": {
      "text/plain": [
       "<AxesSubplot: >"
      ]
     },
     "execution_count": 26,
     "metadata": {},
     "output_type": "execute_result"
    },
    {
     "data": {
      "image/png": "[encoded data removed]",
      "text/plain": [
       "<Figure size 640x480 with 1 Axes>"
      ]
     },
     "metadata": {},
     "output_type": "display_data"
    }
   ],
   "source": [
    "stats['word_count'].hist(bins=30)"
   ]
  },
  {
   "cell_type": "markdown",
   "metadata": {},
   "source": [
    "### Упражнение\n",
    "Поисковые запросы с каким количеством слов встречаются в наших данных чаще всего? Выведите топ-5"
   ]
  },
  {
   "cell_type": "code",
   "execution_count": 31,
   "metadata": {
    "ExecuteTime": {
     "end_time": "2023-01-24T13:34:14.357802Z",
     "start_time": "2023-01-24T13:34:14.350637Z"
    }
   },
   "outputs": [
    {
     "data": {
      "text/plain": [
       "3    1129\n",
       "4     529\n",
       "2     189\n",
       "5     137\n",
       "6      84\n",
       "Name: word_count, dtype: int64"
      ]
     },
     "execution_count": 31,
     "metadata": {},
     "output_type": "execute_result"
    }
   ],
   "source": [
    "stats['word_count'].value_counts().head(5)"
   ]
  },
  {
   "cell_type": "code",
   "execution_count": null,
   "metadata": {},
   "outputs": [],
   "source": []
  },
  {
   "cell_type": "code",
   "execution_count": null,
   "metadata": {},
   "outputs": [],
   "source": []
  },
  {
   "cell_type": "markdown",
   "metadata": {},
   "source": [
    "### Произвольные функции\n",
    "В URL кампаний есть названия. С этим надо что-то делать"
   ]
  },
  {
   "cell_type": "code",
   "execution_count": 32,
   "metadata": {
    "ExecuteTime": {
     "end_time": "2023-01-24T13:34:54.876879Z",
     "start_time": "2023-01-24T13:34:54.864096Z"
    }
   },
   "outputs": [
    {
     "data": {
      "text/plain": [
       "'https://awesome-site.ru/?utm_source=yandex&utm_medium=cpc&utm_campaign=a825749b87&utm_content=dev_{device_type}'"
      ]
     },
     "execution_count": 32,
     "metadata": {},
     "output_type": "execute_result"
    }
   ],
   "source": [
    "# пример ссылки\n",
    "url = stats.loc[0, 'link']\n",
    "url"
   ]
  },
  {
   "cell_type": "code",
   "execution_count": 33,
   "metadata": {
    "ExecuteTime": {
     "end_time": "2023-01-24T13:37:26.406241Z",
     "start_time": "2023-01-24T13:37:26.399611Z"
    }
   },
   "outputs": [],
   "source": [
    "from urllib import parse"
   ]
  },
  {
   "cell_type": "code",
   "execution_count": 34,
   "metadata": {
    "ExecuteTime": {
     "end_time": "2023-01-24T13:37:32.790073Z",
     "start_time": "2023-01-24T13:37:32.783717Z"
    }
   },
   "outputs": [
    {
     "data": {
      "text/plain": [
       "SplitResult(scheme='https', netloc='ya.ru', path='/news/sport', query='search=footbal', fragment='abc')"
      ]
     },
     "execution_count": 34,
     "metadata": {},
     "output_type": "execute_result"
    }
   ],
   "source": [
    "parse.urlsplit('https://ya.ru/news/sport?search=footbal#abc')"
   ]
  },
  {
   "cell_type": "code",
   "execution_count": 35,
   "metadata": {
    "ExecuteTime": {
     "end_time": "2023-01-24T13:38:51.585144Z",
     "start_time": "2023-01-24T13:38:51.577986Z"
    }
   },
   "outputs": [
    {
     "data": {
      "text/plain": [
       "SplitResult(scheme='https', netloc='awesome-site.ru', path='/', query='utm_source=yandex&utm_medium=cpc&utm_campaign=a825749b87&utm_content=dev_{device_type}', fragment='')"
      ]
     },
     "execution_count": 35,
     "metadata": {},
     "output_type": "execute_result"
    }
   ],
   "source": [
    "parsed = parse.urlsplit(url)\n",
    "parsed"
   ]
  },
  {
   "cell_type": "code",
   "execution_count": 36,
   "metadata": {
    "ExecuteTime": {
     "end_time": "2023-01-24T13:39:10.441280Z",
     "start_time": "2023-01-24T13:39:10.436407Z"
    }
   },
   "outputs": [
    {
     "data": {
      "text/plain": [
       "'a825749b87'"
      ]
     },
     "execution_count": 36,
     "metadata": {},
     "output_type": "execute_result"
    }
   ],
   "source": [
    "# можно конечно вручную\n",
    "parsed.query.split('&')[2].split('=')[1]"
   ]
  },
  {
   "cell_type": "code",
   "execution_count": 37,
   "metadata": {
    "ExecuteTime": {
     "end_time": "2023-01-24T13:39:11.983293Z",
     "start_time": "2023-01-24T13:39:11.977884Z"
    }
   },
   "outputs": [
    {
     "data": {
      "text/plain": [
       "'awesome-site.ru'"
      ]
     },
     "execution_count": 37,
     "metadata": {},
     "output_type": "execute_result"
    }
   ],
   "source": [
    "# как доставать значения\n",
    "\n",
    "parsed.netloc"
   ]
  },
  {
   "cell_type": "code",
   "execution_count": 38,
   "metadata": {
    "ExecuteTime": {
     "end_time": "2023-01-24T13:39:20.203283Z",
     "start_time": "2023-01-24T13:39:20.199632Z"
    }
   },
   "outputs": [
    {
     "data": {
      "text/plain": [
       "{'utm_source': ['yandex'],\n",
       " 'utm_medium': ['cpc'],\n",
       " 'utm_campaign': ['a825749b87'],\n",
       " 'utm_content': ['dev_{device_type}']}"
      ]
     },
     "execution_count": 38,
     "metadata": {},
     "output_type": "execute_result"
    }
   ],
   "source": [
    "params = parse.parse_qs(parsed.query)\n",
    "params"
   ]
  },
  {
   "cell_type": "code",
   "execution_count": 39,
   "metadata": {
    "ExecuteTime": {
     "end_time": "2023-01-24T13:39:29.095113Z",
     "start_time": "2023-01-24T13:39:29.084367Z"
    }
   },
   "outputs": [
    {
     "data": {
      "text/plain": [
       "'a825749b87'"
      ]
     },
     "execution_count": 39,
     "metadata": {},
     "output_type": "execute_result"
    }
   ],
   "source": [
    "# вот и кампании\n",
    "\n",
    "params['utm_campaign'][0]"
   ]
  },
  {
   "cell_type": "code",
   "execution_count": 40,
   "metadata": {
    "ExecuteTime": {
     "end_time": "2023-01-24T13:40:45.089664Z",
     "start_time": "2023-01-24T13:40:45.086060Z"
    }
   },
   "outputs": [
    {
     "data": {
      "text/plain": [
       "{'a': ['1', '2', '3']}"
      ]
     },
     "execution_count": 40,
     "metadata": {},
     "output_type": "execute_result"
    }
   ],
   "source": [
    "# зачем тут везде списки?\n",
    "\n",
    "url_with_doubles = 'https://awesome-site.ru/?a=1&a=2&a=3'\n",
    "\n",
    "parsed = parse.urlsplit(url_with_doubles)\n",
    "parse.parse_qs(parsed.query)"
   ]
  },
  {
   "cell_type": "code",
   "execution_count": 41,
   "metadata": {
    "ExecuteTime": {
     "end_time": "2023-01-24T13:40:46.147820Z",
     "start_time": "2023-01-24T13:40:46.137957Z"
    }
   },
   "outputs": [],
   "source": [
    "# оборачиваем все в функцию\n",
    "# в качестве аргумента будет строка датафрейма\n",
    "\n",
    "def campaign_name(row):\n",
    "    \"\"\"Получение названия кампании из ссылки внутри строки row\"\"\"\n",
    "\n",
    "    parsed = parse.urlsplit(row['link'])\n",
    "    params_dict = parse.parse_qs(parsed.query)\n",
    "\n",
    "    return params_dict['utm_campaign'][0]"
   ]
  },
  {
   "cell_type": "code",
   "execution_count": 42,
   "metadata": {
    "ExecuteTime": {
     "end_time": "2023-01-24T13:40:48.147477Z",
     "start_time": "2023-01-24T13:40:48.139980Z"
    }
   },
   "outputs": [
    {
     "data": {
      "text/html": [
       "<div>\n",
       "<style scoped>\n",
       "    .dataframe tbody tr th:only-of-type {\n",
       "        vertical-align: middle;\n",
       "    }\n",
       "\n",
       "    .dataframe tbody tr th {\n",
       "        vertical-align: top;\n",
       "    }\n",
       "\n",
       "    .dataframe thead th {\n",
       "        text-align: right;\n",
       "    }\n",
       "</style>\n",
       "<table border=\"1\" class=\"dataframe\">\n",
       "  <thead>\n",
       "    <tr style=\"text-align: right;\">\n",
       "      <th></th>\n",
       "      <th>group</th>\n",
       "      <th>phrase</th>\n",
       "      <th>effect</th>\n",
       "      <th>ad_id</th>\n",
       "      <th>title</th>\n",
       "      <th>text</th>\n",
       "      <th>link</th>\n",
       "      <th>word_count</th>\n",
       "    </tr>\n",
       "  </thead>\n",
       "  <tbody>\n",
       "    <tr>\n",
       "      <th>0</th>\n",
       "      <td>мрт менделеевская</td>\n",
       "      <td>\"!мрт !менделеевская\"</td>\n",
       "      <td>4.5</td>\n",
       "      <td>2101704995</td>\n",
       "      <td>МРТ на Менделеевской от 2000₽</td>\n",
       "      <td>24 часа. МРТ в день обращения. Консультация вр...</td>\n",
       "      <td>https://awesome-site.ru/?utm_source=yandex&amp;utm...</td>\n",
       "      <td>2</td>\n",
       "    </tr>\n",
       "    <tr>\n",
       "      <th>1</th>\n",
       "      <td>мрт цао</td>\n",
       "      <td>\"мрт менделеевская\"</td>\n",
       "      <td>4.5</td>\n",
       "      <td>2101704995</td>\n",
       "      <td>МРТ на Менделеевской от 2000₽</td>\n",
       "      <td>24 часа. МРТ в день обращения. Консультация вр...</td>\n",
       "      <td>https://awesome-site.ru/?utm_source=yandex&amp;utm...</td>\n",
       "      <td>2</td>\n",
       "    </tr>\n",
       "    <tr>\n",
       "      <th>2</th>\n",
       "      <td>мрт цао</td>\n",
       "      <td>мрт менделеевская -головы -позвоночника -сдела...</td>\n",
       "      <td>7.4</td>\n",
       "      <td>2101704995</td>\n",
       "      <td>МРТ на Менделеевской от 2000₽</td>\n",
       "      <td>24 часа. МРТ в день обращения. Консультация вр...</td>\n",
       "      <td>https://awesome-site.ru/?utm_source=yandex&amp;utm...</td>\n",
       "      <td>6</td>\n",
       "    </tr>\n",
       "    <tr>\n",
       "      <th>3</th>\n",
       "      <td>мрт цао</td>\n",
       "      <td>\"!мрт !цао\"</td>\n",
       "      <td>5.0</td>\n",
       "      <td>2101704999</td>\n",
       "      <td>МРТ в ЦАО от 2000₽. Звоните!</td>\n",
       "      <td>24 часа. МРТ в день обращения. Консультация вр...</td>\n",
       "      <td>https://awesome-site.ru/?utm_source=yandex&amp;utm...</td>\n",
       "      <td>2</td>\n",
       "    </tr>\n",
       "    <tr>\n",
       "      <th>4</th>\n",
       "      <td>мрт сао</td>\n",
       "      <td>\"мрт цао\"</td>\n",
       "      <td>5.0</td>\n",
       "      <td>2101704999</td>\n",
       "      <td>МРТ в ЦАО от 2000₽. Звоните!</td>\n",
       "      <td>24 часа. МРТ в день обращения. Консультация вр...</td>\n",
       "      <td>https://awesome-site.ru/?utm_source=yandex&amp;utm...</td>\n",
       "      <td>2</td>\n",
       "    </tr>\n",
       "  </tbody>\n",
       "</table>\n",
       "</div>"
      ],
      "text/plain": [
       "               group                                             phrase  \\\n",
       "0  мрт менделеевская                              \"!мрт !менделеевская\"   \n",
       "1            мрт цао                                \"мрт менделеевская\"   \n",
       "2            мрт цао  мрт менделеевская -головы -позвоночника -сдела...   \n",
       "3            мрт цао                                        \"!мрт !цао\"   \n",
       "4            мрт сао                                          \"мрт цао\"   \n",
       "\n",
       "   effect       ad_id                          title  \\\n",
       "0     4.5  2101704995  МРТ на Менделеевской от 2000₽   \n",
       "1     4.5  2101704995  МРТ на Менделеевской от 2000₽   \n",
       "2     7.4  2101704995  МРТ на Менделеевской от 2000₽   \n",
       "3     5.0  2101704999   МРТ в ЦАО от 2000₽. Звоните!   \n",
       "4     5.0  2101704999   МРТ в ЦАО от 2000₽. Звоните!   \n",
       "\n",
       "                                                text  \\\n",
       "0  24 часа. МРТ в день обращения. Консультация вр...   \n",
       "1  24 часа. МРТ в день обращения. Консультация вр...   \n",
       "2  24 часа. МРТ в день обращения. Консультация вр...   \n",
       "3  24 часа. МРТ в день обращения. Консультация вр...   \n",
       "4  24 часа. МРТ в день обращения. Консультация вр...   \n",
       "\n",
       "                                                link  word_count  \n",
       "0  https://awesome-site.ru/?utm_source=yandex&utm...           2  \n",
       "1  https://awesome-site.ru/?utm_source=yandex&utm...           2  \n",
       "2  https://awesome-site.ru/?utm_source=yandex&utm...           6  \n",
       "3  https://awesome-site.ru/?utm_source=yandex&utm...           2  \n",
       "4  https://awesome-site.ru/?utm_source=yandex&utm...           2  "
      ]
     },
     "execution_count": 42,
     "metadata": {},
     "output_type": "execute_result"
    }
   ],
   "source": [
    "# проверяем датафрейм\n",
    "stats.head()"
   ]
  },
  {
   "cell_type": "code",
   "execution_count": 43,
   "metadata": {
    "ExecuteTime": {
     "end_time": "2023-01-24T13:40:50.247717Z",
     "start_time": "2023-01-24T13:40:50.212644Z"
    },
    "scrolled": true
   },
   "outputs": [
    {
     "data": {
      "text/html": [
       "<div>\n",
       "<style scoped>\n",
       "    .dataframe tbody tr th:only-of-type {\n",
       "        vertical-align: middle;\n",
       "    }\n",
       "\n",
       "    .dataframe tbody tr th {\n",
       "        vertical-align: top;\n",
       "    }\n",
       "\n",
       "    .dataframe thead th {\n",
       "        text-align: right;\n",
       "    }\n",
       "</style>\n",
       "<table border=\"1\" class=\"dataframe\">\n",
       "  <thead>\n",
       "    <tr style=\"text-align: right;\">\n",
       "      <th></th>\n",
       "      <th>group</th>\n",
       "      <th>phrase</th>\n",
       "      <th>effect</th>\n",
       "      <th>ad_id</th>\n",
       "      <th>title</th>\n",
       "      <th>text</th>\n",
       "      <th>link</th>\n",
       "      <th>word_count</th>\n",
       "      <th>campaign</th>\n",
       "    </tr>\n",
       "  </thead>\n",
       "  <tbody>\n",
       "    <tr>\n",
       "      <th>0</th>\n",
       "      <td>мрт менделеевская</td>\n",
       "      <td>\"!мрт !менделеевская\"</td>\n",
       "      <td>4.5</td>\n",
       "      <td>2101704995</td>\n",
       "      <td>МРТ на Менделеевской от 2000₽</td>\n",
       "      <td>24 часа. МРТ в день обращения. Консультация вр...</td>\n",
       "      <td>https://awesome-site.ru/?utm_source=yandex&amp;utm...</td>\n",
       "      <td>2</td>\n",
       "      <td>a825749b87</td>\n",
       "    </tr>\n",
       "    <tr>\n",
       "      <th>1</th>\n",
       "      <td>мрт цао</td>\n",
       "      <td>\"мрт менделеевская\"</td>\n",
       "      <td>4.5</td>\n",
       "      <td>2101704995</td>\n",
       "      <td>МРТ на Менделеевской от 2000₽</td>\n",
       "      <td>24 часа. МРТ в день обращения. Консультация вр...</td>\n",
       "      <td>https://awesome-site.ru/?utm_source=yandex&amp;utm...</td>\n",
       "      <td>2</td>\n",
       "      <td>a825749b87</td>\n",
       "    </tr>\n",
       "    <tr>\n",
       "      <th>2</th>\n",
       "      <td>мрт цао</td>\n",
       "      <td>мрт менделеевская -головы -позвоночника -сдела...</td>\n",
       "      <td>7.4</td>\n",
       "      <td>2101704995</td>\n",
       "      <td>МРТ на Менделеевской от 2000₽</td>\n",
       "      <td>24 часа. МРТ в день обращения. Консультация вр...</td>\n",
       "      <td>https://awesome-site.ru/?utm_source=yandex&amp;utm...</td>\n",
       "      <td>6</td>\n",
       "      <td>a825749b87</td>\n",
       "    </tr>\n",
       "    <tr>\n",
       "      <th>3</th>\n",
       "      <td>мрт цао</td>\n",
       "      <td>\"!мрт !цао\"</td>\n",
       "      <td>5.0</td>\n",
       "      <td>2101704999</td>\n",
       "      <td>МРТ в ЦАО от 2000₽. Звоните!</td>\n",
       "      <td>24 часа. МРТ в день обращения. Консультация вр...</td>\n",
       "      <td>https://awesome-site.ru/?utm_source=yandex&amp;utm...</td>\n",
       "      <td>2</td>\n",
       "      <td>9cc0c5f6ca</td>\n",
       "    </tr>\n",
       "    <tr>\n",
       "      <th>4</th>\n",
       "      <td>мрт сао</td>\n",
       "      <td>\"мрт цао\"</td>\n",
       "      <td>5.0</td>\n",
       "      <td>2101704999</td>\n",
       "      <td>МРТ в ЦАО от 2000₽. Звоните!</td>\n",
       "      <td>24 часа. МРТ в день обращения. Консультация вр...</td>\n",
       "      <td>https://awesome-site.ru/?utm_source=yandex&amp;utm...</td>\n",
       "      <td>2</td>\n",
       "      <td>9cc0c5f6ca</td>\n",
       "    </tr>\n",
       "  </tbody>\n",
       "</table>\n",
       "</div>"
      ],
      "text/plain": [
       "               group                                             phrase  \\\n",
       "0  мрт менделеевская                              \"!мрт !менделеевская\"   \n",
       "1            мрт цао                                \"мрт менделеевская\"   \n",
       "2            мрт цао  мрт менделеевская -головы -позвоночника -сдела...   \n",
       "3            мрт цао                                        \"!мрт !цао\"   \n",
       "4            мрт сао                                          \"мрт цао\"   \n",
       "\n",
       "   effect       ad_id                          title  \\\n",
       "0     4.5  2101704995  МРТ на Менделеевской от 2000₽   \n",
       "1     4.5  2101704995  МРТ на Менделеевской от 2000₽   \n",
       "2     7.4  2101704995  МРТ на Менделеевской от 2000₽   \n",
       "3     5.0  2101704999   МРТ в ЦАО от 2000₽. Звоните!   \n",
       "4     5.0  2101704999   МРТ в ЦАО от 2000₽. Звоните!   \n",
       "\n",
       "                                                text  \\\n",
       "0  24 часа. МРТ в день обращения. Консультация вр...   \n",
       "1  24 часа. МРТ в день обращения. Консультация вр...   \n",
       "2  24 часа. МРТ в день обращения. Консультация вр...   \n",
       "3  24 часа. МРТ в день обращения. Консультация вр...   \n",
       "4  24 часа. МРТ в день обращения. Консультация вр...   \n",
       "\n",
       "                                                link  word_count    campaign  \n",
       "0  https://awesome-site.ru/?utm_source=yandex&utm...           2  a825749b87  \n",
       "1  https://awesome-site.ru/?utm_source=yandex&utm...           2  a825749b87  \n",
       "2  https://awesome-site.ru/?utm_source=yandex&utm...           6  a825749b87  \n",
       "3  https://awesome-site.ru/?utm_source=yandex&utm...           2  9cc0c5f6ca  \n",
       "4  https://awesome-site.ru/?utm_source=yandex&utm...           2  9cc0c5f6ca  "
      ]
     },
     "execution_count": 43,
     "metadata": {},
     "output_type": "execute_result"
    }
   ],
   "source": [
    "stats['campaign'] = stats.apply(campaign_name, axis=1)\n",
    "stats.head()"
   ]
  },
  {
   "cell_type": "markdown",
   "metadata": {},
   "source": [
    "### Как передать в функцию несколько аргументов"
   ]
  },
  {
   "cell_type": "code",
   "execution_count": 44,
   "metadata": {
    "ExecuteTime": {
     "end_time": "2023-01-24T13:42:46.269330Z",
     "start_time": "2023-01-24T13:42:46.262100Z"
    }
   },
   "outputs": [],
   "source": [
    "# как передать несколько аргументов\n",
    "\n",
    "def power_up(row, n):\n",
    "    \"\"\"Возводит значение столбца effect в степень n\"\"\"\n",
    "    return row['effect'] ** n"
   ]
  },
  {
   "cell_type": "code",
   "execution_count": 45,
   "metadata": {
    "ExecuteTime": {
     "end_time": "2023-01-24T13:42:46.977515Z",
     "start_time": "2023-01-24T13:42:46.926101Z"
    }
   },
   "outputs": [
    {
     "data": {
      "text/html": [
       "<div>\n",
       "<style scoped>\n",
       "    .dataframe tbody tr th:only-of-type {\n",
       "        vertical-align: middle;\n",
       "    }\n",
       "\n",
       "    .dataframe tbody tr th {\n",
       "        vertical-align: top;\n",
       "    }\n",
       "\n",
       "    .dataframe thead th {\n",
       "        text-align: right;\n",
       "    }\n",
       "</style>\n",
       "<table border=\"1\" class=\"dataframe\">\n",
       "  <thead>\n",
       "    <tr style=\"text-align: right;\">\n",
       "      <th></th>\n",
       "      <th>group</th>\n",
       "      <th>phrase</th>\n",
       "      <th>effect</th>\n",
       "      <th>ad_id</th>\n",
       "      <th>title</th>\n",
       "      <th>text</th>\n",
       "      <th>link</th>\n",
       "      <th>word_count</th>\n",
       "      <th>campaign</th>\n",
       "      <th>power_up</th>\n",
       "    </tr>\n",
       "  </thead>\n",
       "  <tbody>\n",
       "    <tr>\n",
       "      <th>0</th>\n",
       "      <td>мрт менделеевская</td>\n",
       "      <td>\"!мрт !менделеевская\"</td>\n",
       "      <td>4.5</td>\n",
       "      <td>2101704995</td>\n",
       "      <td>МРТ на Менделеевской от 2000₽</td>\n",
       "      <td>24 часа. МРТ в день обращения. Консультация вр...</td>\n",
       "      <td>https://awesome-site.ru/?utm_source=yandex&amp;utm...</td>\n",
       "      <td>2</td>\n",
       "      <td>a825749b87</td>\n",
       "      <td>91.125</td>\n",
       "    </tr>\n",
       "    <tr>\n",
       "      <th>1</th>\n",
       "      <td>мрт цао</td>\n",
       "      <td>\"мрт менделеевская\"</td>\n",
       "      <td>4.5</td>\n",
       "      <td>2101704995</td>\n",
       "      <td>МРТ на Менделеевской от 2000₽</td>\n",
       "      <td>24 часа. МРТ в день обращения. Консультация вр...</td>\n",
       "      <td>https://awesome-site.ru/?utm_source=yandex&amp;utm...</td>\n",
       "      <td>2</td>\n",
       "      <td>a825749b87</td>\n",
       "      <td>91.125</td>\n",
       "    </tr>\n",
       "    <tr>\n",
       "      <th>2</th>\n",
       "      <td>мрт цао</td>\n",
       "      <td>мрт менделеевская -головы -позвоночника -сдела...</td>\n",
       "      <td>7.4</td>\n",
       "      <td>2101704995</td>\n",
       "      <td>МРТ на Менделеевской от 2000₽</td>\n",
       "      <td>24 часа. МРТ в день обращения. Консультация вр...</td>\n",
       "      <td>https://awesome-site.ru/?utm_source=yandex&amp;utm...</td>\n",
       "      <td>6</td>\n",
       "      <td>a825749b87</td>\n",
       "      <td>405.224</td>\n",
       "    </tr>\n",
       "    <tr>\n",
       "      <th>3</th>\n",
       "      <td>мрт цао</td>\n",
       "      <td>\"!мрт !цао\"</td>\n",
       "      <td>5.0</td>\n",
       "      <td>2101704999</td>\n",
       "      <td>МРТ в ЦАО от 2000₽. Звоните!</td>\n",
       "      <td>24 часа. МРТ в день обращения. Консультация вр...</td>\n",
       "      <td>https://awesome-site.ru/?utm_source=yandex&amp;utm...</td>\n",
       "      <td>2</td>\n",
       "      <td>9cc0c5f6ca</td>\n",
       "      <td>125.000</td>\n",
       "    </tr>\n",
       "    <tr>\n",
       "      <th>4</th>\n",
       "      <td>мрт сао</td>\n",
       "      <td>\"мрт цао\"</td>\n",
       "      <td>5.0</td>\n",
       "      <td>2101704999</td>\n",
       "      <td>МРТ в ЦАО от 2000₽. Звоните!</td>\n",
       "      <td>24 часа. МРТ в день обращения. Консультация вр...</td>\n",
       "      <td>https://awesome-site.ru/?utm_source=yandex&amp;utm...</td>\n",
       "      <td>2</td>\n",
       "      <td>9cc0c5f6ca</td>\n",
       "      <td>125.000</td>\n",
       "    </tr>\n",
       "  </tbody>\n",
       "</table>\n",
       "</div>"
      ],
      "text/plain": [
       "               group                                             phrase  \\\n",
       "0  мрт менделеевская                              \"!мрт !менделеевская\"   \n",
       "1            мрт цао                                \"мрт менделеевская\"   \n",
       "2            мрт цао  мрт менделеевская -головы -позвоночника -сдела...   \n",
       "3            мрт цао                                        \"!мрт !цао\"   \n",
       "4            мрт сао                                          \"мрт цао\"   \n",
       "\n",
       "   effect       ad_id                          title  \\\n",
       "0     4.5  2101704995  МРТ на Менделеевской от 2000₽   \n",
       "1     4.5  2101704995  МРТ на Менделеевской от 2000₽   \n",
       "2     7.4  2101704995  МРТ на Менделеевской от 2000₽   \n",
       "3     5.0  2101704999   МРТ в ЦАО от 2000₽. Звоните!   \n",
       "4     5.0  2101704999   МРТ в ЦАО от 2000₽. Звоните!   \n",
       "\n",
       "                                                text  \\\n",
       "0  24 часа. МРТ в день обращения. Консультация вр...   \n",
       "1  24 часа. МРТ в день обращения. Консультация вр...   \n",
       "2  24 часа. МРТ в день обращения. Консультация вр...   \n",
       "3  24 часа. МРТ в день обращения. Консультация вр...   \n",
       "4  24 часа. МРТ в день обращения. Консультация вр...   \n",
       "\n",
       "                                                link  word_count    campaign  \\\n",
       "0  https://awesome-site.ru/?utm_source=yandex&utm...           2  a825749b87   \n",
       "1  https://awesome-site.ru/?utm_source=yandex&utm...           2  a825749b87   \n",
       "2  https://awesome-site.ru/?utm_source=yandex&utm...           6  a825749b87   \n",
       "3  https://awesome-site.ru/?utm_source=yandex&utm...           2  9cc0c5f6ca   \n",
       "4  https://awesome-site.ru/?utm_source=yandex&utm...           2  9cc0c5f6ca   \n",
       "\n",
       "   power_up  \n",
       "0    91.125  \n",
       "1    91.125  \n",
       "2   405.224  \n",
       "3   125.000  \n",
       "4   125.000  "
      ]
     },
     "execution_count": 45,
     "metadata": {},
     "output_type": "execute_result"
    }
   ],
   "source": [
    "stats['power_up'] = stats.apply(power_up, n=3, axis=1)\n",
    "stats.head()"
   ]
  },
  {
   "cell_type": "markdown",
   "metadata": {},
   "source": [
    "### Упражнение\n",
    "В наших данных есть много объявлений с услугой МРТ (в столбце group есть слово 'мрт') круглосуточно (в тексте объявления text есть '24 часа'). Отфильтруйте строки, в которых НЕ упоминается МРТ, но прием идет круглосуточно. Сколько таких строк в датасете?"
   ]
  },
  {
   "cell_type": "code",
   "execution_count": 115,
   "metadata": {
    "ExecuteTime": {
     "end_time": "2023-01-24T15:07:10.511019Z",
     "start_time": "2023-01-24T15:07:10.507329Z"
    }
   },
   "outputs": [],
   "source": [
    "def filt(row):\n",
    "    if  \"мрт\" not in row[0].lower() and \"24 часа\" in row[1].lower()  :\n",
    "        return True\n",
    "    return False"
   ]
  },
  {
   "cell_type": "code",
   "execution_count": null,
   "metadata": {},
   "outputs": [],
   "source": [
    "#df[df.columns[1:4]]"
   ]
  },
  {
   "cell_type": "code",
   "execution_count": 64,
   "metadata": {
    "ExecuteTime": {
     "end_time": "2023-01-24T14:07:38.738262Z",
     "start_time": "2023-01-24T14:07:38.733174Z"
    }
   },
   "outputs": [],
   "source": [
    "up_stats = stats[[\"group\",\"text\"]]"
   ]
  },
  {
   "cell_type": "code",
   "execution_count": 67,
   "metadata": {
    "ExecuteTime": {
     "end_time": "2023-01-24T14:07:59.518221Z",
     "start_time": "2023-01-24T14:07:59.499403Z"
    }
   },
   "outputs": [
    {
     "data": {
      "text/html": [
       "<div>\n",
       "<style scoped>\n",
       "    .dataframe tbody tr th:only-of-type {\n",
       "        vertical-align: middle;\n",
       "    }\n",
       "\n",
       "    .dataframe tbody tr th {\n",
       "        vertical-align: top;\n",
       "    }\n",
       "\n",
       "    .dataframe thead th {\n",
       "        text-align: right;\n",
       "    }\n",
       "</style>\n",
       "<table border=\"1\" class=\"dataframe\">\n",
       "  <thead>\n",
       "    <tr style=\"text-align: right;\">\n",
       "      <th></th>\n",
       "      <th>group</th>\n",
       "      <th>text</th>\n",
       "    </tr>\n",
       "  </thead>\n",
       "  <tbody>\n",
       "    <tr>\n",
       "      <th>0</th>\n",
       "      <td>мрт менделеевская</td>\n",
       "      <td>24 часа. МРТ в день обращения. Консультация вр...</td>\n",
       "    </tr>\n",
       "    <tr>\n",
       "      <th>1</th>\n",
       "      <td>мрт цао</td>\n",
       "      <td>24 часа. МРТ в день обращения. Консультация вр...</td>\n",
       "    </tr>\n",
       "    <tr>\n",
       "      <th>2</th>\n",
       "      <td>мрт цао</td>\n",
       "      <td>24 часа. МРТ в день обращения. Консультация вр...</td>\n",
       "    </tr>\n",
       "    <tr>\n",
       "      <th>3</th>\n",
       "      <td>мрт цао</td>\n",
       "      <td>24 часа. МРТ в день обращения. Консультация вр...</td>\n",
       "    </tr>\n",
       "    <tr>\n",
       "      <th>4</th>\n",
       "      <td>мрт сао</td>\n",
       "      <td>24 часа. МРТ в день обращения. Консультация вр...</td>\n",
       "    </tr>\n",
       "    <tr>\n",
       "      <th>...</th>\n",
       "      <td>...</td>\n",
       "      <td>...</td>\n",
       "    </tr>\n",
       "    <tr>\n",
       "      <th>2154</th>\n",
       "      <td>мрт палиха</td>\n",
       "      <td>24 часа. МРТ в день обращения. Консультация вр...</td>\n",
       "    </tr>\n",
       "    <tr>\n",
       "      <th>2155</th>\n",
       "      <td>клиника москва мрт</td>\n",
       "      <td>24 часа. МРТ в день обращения. Консультация вр...</td>\n",
       "    </tr>\n",
       "    <tr>\n",
       "      <th>2156</th>\n",
       "      <td>клиника москва мрт</td>\n",
       "      <td>24 часа. МРТ в день обращения. Консультация вр...</td>\n",
       "    </tr>\n",
       "    <tr>\n",
       "      <th>2157</th>\n",
       "      <td>клиника москва мрт</td>\n",
       "      <td>24 часа. МРТ в день обращения. Консультация вр...</td>\n",
       "    </tr>\n",
       "    <tr>\n",
       "      <th>2158</th>\n",
       "      <td>10 мрт палиха</td>\n",
       "      <td>24 часа. МРТ в день обращения. Консультация вр...</td>\n",
       "    </tr>\n",
       "  </tbody>\n",
       "</table>\n",
       "<p>2159 rows × 2 columns</p>\n",
       "</div>"
      ],
      "text/plain": [
       "                   group                                               text\n",
       "0      мрт менделеевская  24 часа. МРТ в день обращения. Консультация вр...\n",
       "1                мрт цао  24 часа. МРТ в день обращения. Консультация вр...\n",
       "2                мрт цао  24 часа. МРТ в день обращения. Консультация вр...\n",
       "3                мрт цао  24 часа. МРТ в день обращения. Консультация вр...\n",
       "4                мрт сао  24 часа. МРТ в день обращения. Консультация вр...\n",
       "...                  ...                                                ...\n",
       "2154          мрт палиха  24 часа. МРТ в день обращения. Консультация вр...\n",
       "2155  клиника москва мрт  24 часа. МРТ в день обращения. Консультация вр...\n",
       "2156  клиника москва мрт  24 часа. МРТ в день обращения. Консультация вр...\n",
       "2157  клиника москва мрт  24 часа. МРТ в день обращения. Консультация вр...\n",
       "2158       10 мрт палиха  24 часа. МРТ в день обращения. Консультация вр...\n",
       "\n",
       "[2159 rows x 2 columns]"
      ]
     },
     "execution_count": 67,
     "metadata": {},
     "output_type": "execute_result"
    }
   ],
   "source": [
    "up_stats"
   ]
  },
  {
   "cell_type": "code",
   "execution_count": 117,
   "metadata": {
    "ExecuteTime": {
     "end_time": "2023-01-24T15:07:36.939213Z",
     "start_time": "2023-01-24T15:07:36.910662Z"
    }
   },
   "outputs": [
    {
     "data": {
      "text/plain": [
       "False    2120\n",
       "True       39\n",
       "dtype: int64"
      ]
     },
     "execution_count": 117,
     "metadata": {},
     "output_type": "execute_result"
    }
   ],
   "source": [
    "up_stats.apply(filt, axis=1).value_counts()"
   ]
  },
  {
   "cell_type": "code",
   "execution_count": 120,
   "metadata": {
    "ExecuteTime": {
     "end_time": "2023-01-24T15:10:01.866423Z",
     "start_time": "2023-01-24T15:10:01.853916Z"
    }
   },
   "outputs": [
    {
     "data": {
      "text/plain": [
       "39"
      ]
     },
     "execution_count": 120,
     "metadata": {},
     "output_type": "execute_result"
    }
   ],
   "source": [
    "len(up_stats[up_stats.apply( lambda row: \"мрт\" not in row[0].lower() and \"24 часа\" in row[1].lower(), axis=1)])"
   ]
  },
  {
   "cell_type": "code",
   "execution_count": 122,
   "metadata": {
    "ExecuteTime": {
     "end_time": "2023-01-24T15:10:44.000276Z",
     "start_time": "2023-01-24T15:10:43.969384Z"
    }
   },
   "outputs": [
    {
     "data": {
      "text/plain": [
       "2120"
      ]
     },
     "execution_count": 122,
     "metadata": {},
     "output_type": "execute_result"
    }
   ],
   "source": [
    "len(up_stats[~up_stats.apply( lambda row: \"мрт\" not in row[0].lower() and \"24 часа\" in row[1].lower(), axis=1)])"
   ]
  },
  {
   "cell_type": "code",
   "execution_count": null,
   "metadata": {},
   "outputs": [],
   "source": [
    "up_stats.apply(lambda x: if  \"мрт\" not in row[0].lower() and \"24 часа\" in row[1].lower(), axis=1)[0]"
   ]
  },
  {
   "cell_type": "code",
   "execution_count": null,
   "metadata": {},
   "outputs": [],
   "source": []
  },
  {
   "cell_type": "code",
   "execution_count": null,
   "metadata": {},
   "outputs": [],
   "source": []
  },
  {
   "cell_type": "markdown",
   "metadata": {},
   "source": [
    "# Группировки"
   ]
  },
  {
   "cell_type": "code",
   "execution_count": 123,
   "metadata": {
    "ExecuteTime": {
     "end_time": "2023-01-24T15:15:16.877531Z",
     "start_time": "2023-01-24T15:15:16.871043Z"
    },
    "scrolled": true
   },
   "outputs": [
    {
     "data": {
      "text/html": [
       "<div>\n",
       "<style scoped>\n",
       "    .dataframe tbody tr th:only-of-type {\n",
       "        vertical-align: middle;\n",
       "    }\n",
       "\n",
       "    .dataframe tbody tr th {\n",
       "        vertical-align: top;\n",
       "    }\n",
       "\n",
       "    .dataframe thead th {\n",
       "        text-align: right;\n",
       "    }\n",
       "</style>\n",
       "<table border=\"1\" class=\"dataframe\">\n",
       "  <thead>\n",
       "    <tr style=\"text-align: right;\">\n",
       "      <th></th>\n",
       "      <th>order_id</th>\n",
       "      <th>country</th>\n",
       "      <th>category</th>\n",
       "      <th>amount</th>\n",
       "    </tr>\n",
       "  </thead>\n",
       "  <tbody>\n",
       "    <tr>\n",
       "      <th>0</th>\n",
       "      <td>1</td>\n",
       "      <td>Россия</td>\n",
       "      <td>Электроника</td>\n",
       "      <td>100</td>\n",
       "    </tr>\n",
       "    <tr>\n",
       "      <th>1</th>\n",
       "      <td>2</td>\n",
       "      <td>Китай</td>\n",
       "      <td>Авто</td>\n",
       "      <td>80</td>\n",
       "    </tr>\n",
       "    <tr>\n",
       "      <th>2</th>\n",
       "      <td>3</td>\n",
       "      <td>Китай</td>\n",
       "      <td>Электроника</td>\n",
       "      <td>90</td>\n",
       "    </tr>\n",
       "    <tr>\n",
       "      <th>3</th>\n",
       "      <td>4</td>\n",
       "      <td>Россия</td>\n",
       "      <td>Авто</td>\n",
       "      <td>140</td>\n",
       "    </tr>\n",
       "    <tr>\n",
       "      <th>4</th>\n",
       "      <td>5</td>\n",
       "      <td>Россия</td>\n",
       "      <td>Авто</td>\n",
       "      <td>90</td>\n",
       "    </tr>\n",
       "  </tbody>\n",
       "</table>\n",
       "</div>"
      ],
      "text/plain": [
       "   order_id country     category  amount\n",
       "0         1  Россия  Электроника     100\n",
       "1         2   Китай         Авто      80\n",
       "2         3   Китай  Электроника      90\n",
       "3         4  Россия         Авто     140\n",
       "4         5  Россия         Авто      90"
      ]
     },
     "execution_count": 123,
     "metadata": {},
     "output_type": "execute_result"
    }
   ],
   "source": [
    "df = pd.DataFrame({'order_id': [1, 2, 3, 4, 5], 'country': ['Россия', 'Китай', 'Китай', 'Россия', 'Россия'], \n",
    "                   'category': ['Электроника', 'Авто', 'Электроника', 'Авто', 'Авто'], \n",
    "                   'amount': [100, 80, 90, 140, 90]})\n",
    "df"
   ]
  },
  {
   "cell_type": "markdown",
   "metadata": {},
   "source": [
    "### Упражнение\n",
    "Создайте датафрейм df_russia, в котором оставьте заказы из России. И аналогично df_china (заказы из Китая)."
   ]
  },
  {
   "cell_type": "code",
   "execution_count": 126,
   "metadata": {
    "ExecuteTime": {
     "end_time": "2023-01-24T15:16:00.142213Z",
     "start_time": "2023-01-24T15:16:00.136446Z"
    }
   },
   "outputs": [
    {
     "data": {
      "text/html": [
       "<div>\n",
       "<style scoped>\n",
       "    .dataframe tbody tr th:only-of-type {\n",
       "        vertical-align: middle;\n",
       "    }\n",
       "\n",
       "    .dataframe tbody tr th {\n",
       "        vertical-align: top;\n",
       "    }\n",
       "\n",
       "    .dataframe thead th {\n",
       "        text-align: right;\n",
       "    }\n",
       "</style>\n",
       "<table border=\"1\" class=\"dataframe\">\n",
       "  <thead>\n",
       "    <tr style=\"text-align: right;\">\n",
       "      <th></th>\n",
       "      <th>order_id</th>\n",
       "      <th>country</th>\n",
       "      <th>category</th>\n",
       "      <th>amount</th>\n",
       "    </tr>\n",
       "  </thead>\n",
       "  <tbody>\n",
       "    <tr>\n",
       "      <th>1</th>\n",
       "      <td>2</td>\n",
       "      <td>Китай</td>\n",
       "      <td>Авто</td>\n",
       "      <td>80</td>\n",
       "    </tr>\n",
       "    <tr>\n",
       "      <th>2</th>\n",
       "      <td>3</td>\n",
       "      <td>Китай</td>\n",
       "      <td>Электроника</td>\n",
       "      <td>90</td>\n",
       "    </tr>\n",
       "  </tbody>\n",
       "</table>\n",
       "</div>"
      ],
      "text/plain": [
       "   order_id country     category  amount\n",
       "1         2   Китай         Авто      80\n",
       "2         3   Китай  Электроника      90"
      ]
     },
     "execution_count": 126,
     "metadata": {},
     "output_type": "execute_result"
    }
   ],
   "source": [
    "df_china = df[df['country'] == 'Китай']\n",
    "df_china"
   ]
  },
  {
   "cell_type": "code",
   "execution_count": 128,
   "metadata": {
    "ExecuteTime": {
     "end_time": "2023-01-24T15:16:45.495076Z",
     "start_time": "2023-01-24T15:16:45.489090Z"
    }
   },
   "outputs": [
    {
     "data": {
      "text/html": [
       "<div>\n",
       "<style scoped>\n",
       "    .dataframe tbody tr th:only-of-type {\n",
       "        vertical-align: middle;\n",
       "    }\n",
       "\n",
       "    .dataframe tbody tr th {\n",
       "        vertical-align: top;\n",
       "    }\n",
       "\n",
       "    .dataframe thead th {\n",
       "        text-align: right;\n",
       "    }\n",
       "</style>\n",
       "<table border=\"1\" class=\"dataframe\">\n",
       "  <thead>\n",
       "    <tr style=\"text-align: right;\">\n",
       "      <th></th>\n",
       "      <th>order_id</th>\n",
       "      <th>country</th>\n",
       "      <th>category</th>\n",
       "      <th>amount</th>\n",
       "    </tr>\n",
       "  </thead>\n",
       "  <tbody>\n",
       "    <tr>\n",
       "      <th>0</th>\n",
       "      <td>1</td>\n",
       "      <td>Россия</td>\n",
       "      <td>Электроника</td>\n",
       "      <td>100</td>\n",
       "    </tr>\n",
       "    <tr>\n",
       "      <th>3</th>\n",
       "      <td>4</td>\n",
       "      <td>Россия</td>\n",
       "      <td>Авто</td>\n",
       "      <td>140</td>\n",
       "    </tr>\n",
       "    <tr>\n",
       "      <th>4</th>\n",
       "      <td>5</td>\n",
       "      <td>Россия</td>\n",
       "      <td>Авто</td>\n",
       "      <td>90</td>\n",
       "    </tr>\n",
       "  </tbody>\n",
       "</table>\n",
       "</div>"
      ],
      "text/plain": [
       "   order_id country     category  amount\n",
       "0         1  Россия  Электроника     100\n",
       "3         4  Россия         Авто     140\n",
       "4         5  Россия         Авто      90"
      ]
     },
     "execution_count": 128,
     "metadata": {},
     "output_type": "execute_result"
    }
   ],
   "source": [
    "df_russia = df[df['country'] == 'Россия']\n",
    "df_russia"
   ]
  },
  {
   "cell_type": "code",
   "execution_count": null,
   "metadata": {},
   "outputs": [],
   "source": []
  },
  {
   "cell_type": "markdown",
   "metadata": {},
   "source": [
    "### Упражнение\n",
    "Посчитайте для df_russia и df_china:\n",
    "- среднюю стоимость заказа\n",
    "- разницу между максимальной и минимальной стоимостью заказа"
   ]
  },
  {
   "cell_type": "code",
   "execution_count": 132,
   "metadata": {
    "ExecuteTime": {
     "end_time": "2023-01-24T15:17:52.235600Z",
     "start_time": "2023-01-24T15:17:52.231580Z"
    }
   },
   "outputs": [
    {
     "data": {
      "text/plain": [
       "(110.0, 50)"
      ]
     },
     "execution_count": 132,
     "metadata": {},
     "output_type": "execute_result"
    }
   ],
   "source": [
    "sum(df_russia['amount'])/len(df_russia), max(df_russia['amount']) - min(df_russia['amount'])"
   ]
  },
  {
   "cell_type": "code",
   "execution_count": 133,
   "metadata": {
    "ExecuteTime": {
     "end_time": "2023-01-24T15:18:05.889744Z",
     "start_time": "2023-01-24T15:18:05.886058Z"
    }
   },
   "outputs": [
    {
     "data": {
      "text/plain": [
       "(85.0, 10)"
      ]
     },
     "execution_count": 133,
     "metadata": {},
     "output_type": "execute_result"
    }
   ],
   "source": [
    "sum(df_china['amount'])/len(df_china), max(df_china['amount']) - min(df_china['amount'])"
   ]
  },
  {
   "cell_type": "code",
   "execution_count": null,
   "metadata": {},
   "outputs": [],
   "source": []
  },
  {
   "cell_type": "markdown",
   "metadata": {},
   "source": [
    "Объединим процесс разбиения на датафреймы"
   ]
  },
  {
   "cell_type": "code",
   "execution_count": 134,
   "metadata": {
    "ExecuteTime": {
     "end_time": "2023-01-24T15:20:37.426634Z",
     "start_time": "2023-01-24T15:20:37.417065Z"
    }
   },
   "outputs": [],
   "source": [
    "def groupby_function(data):\n",
    "    return data.amount.max() - data.amount.min()"
   ]
  },
  {
   "cell_type": "code",
   "execution_count": 135,
   "metadata": {
    "ExecuteTime": {
     "end_time": "2023-01-24T15:20:37.832085Z",
     "start_time": "2023-01-24T15:20:37.812917Z"
    },
    "scrolled": true
   },
   "outputs": [
    {
     "data": {
      "text/plain": [
       "country\n",
       "Китай     10\n",
       "Россия    50\n",
       "dtype: int64"
      ]
     },
     "execution_count": 135,
     "metadata": {},
     "output_type": "execute_result"
    }
   ],
   "source": [
    "df.groupby('country').apply(groupby_function)"
   ]
  },
  {
   "cell_type": "markdown",
   "metadata": {},
   "source": [
    "Вернемся к статистике рекламных кампаний"
   ]
  },
  {
   "cell_type": "code",
   "execution_count": 136,
   "metadata": {
    "ExecuteTime": {
     "end_time": "2023-01-24T15:48:04.651191Z",
     "start_time": "2023-01-24T15:48:04.645934Z"
    }
   },
   "outputs": [
    {
     "data": {
      "text/plain": [
       "7f35591a28    456\n",
       "8e77a0e565    348\n",
       "2cc2e7d770    240\n",
       "f6d2ae1e3d    220\n",
       "e90f4db55a    218\n",
       "Name: campaign, dtype: int64"
      ]
     },
     "execution_count": 136,
     "metadata": {},
     "output_type": "execute_result"
    }
   ],
   "source": [
    "# раньше использовали value_counts\n",
    "\n",
    "stats['campaign'].value_counts().head()"
   ]
  },
  {
   "cell_type": "code",
   "execution_count": 137,
   "metadata": {
    "ExecuteTime": {
     "end_time": "2023-01-24T15:48:04.942118Z",
     "start_time": "2023-01-24T15:48:04.930251Z"
    },
    "scrolled": true
   },
   "outputs": [
    {
     "data": {
      "text/html": [
       "<div>\n",
       "<style scoped>\n",
       "    .dataframe tbody tr th:only-of-type {\n",
       "        vertical-align: middle;\n",
       "    }\n",
       "\n",
       "    .dataframe tbody tr th {\n",
       "        vertical-align: top;\n",
       "    }\n",
       "\n",
       "    .dataframe thead th {\n",
       "        text-align: right;\n",
       "    }\n",
       "</style>\n",
       "<table border=\"1\" class=\"dataframe\">\n",
       "  <thead>\n",
       "    <tr style=\"text-align: right;\">\n",
       "      <th></th>\n",
       "      <th>group</th>\n",
       "      <th>phrase</th>\n",
       "      <th>effect</th>\n",
       "      <th>ad_id</th>\n",
       "      <th>title</th>\n",
       "      <th>text</th>\n",
       "      <th>link</th>\n",
       "      <th>word_count</th>\n",
       "      <th>power_up</th>\n",
       "    </tr>\n",
       "    <tr>\n",
       "      <th>campaign</th>\n",
       "      <th></th>\n",
       "      <th></th>\n",
       "      <th></th>\n",
       "      <th></th>\n",
       "      <th></th>\n",
       "      <th></th>\n",
       "      <th></th>\n",
       "      <th></th>\n",
       "      <th></th>\n",
       "    </tr>\n",
       "  </thead>\n",
       "  <tbody>\n",
       "    <tr>\n",
       "      <th>034ada41b6</th>\n",
       "      <td>3</td>\n",
       "      <td>3</td>\n",
       "      <td>3</td>\n",
       "      <td>3</td>\n",
       "      <td>3</td>\n",
       "      <td>3</td>\n",
       "      <td>3</td>\n",
       "      <td>3</td>\n",
       "      <td>3</td>\n",
       "    </tr>\n",
       "    <tr>\n",
       "      <th>03fcaecd1d</th>\n",
       "      <td>2</td>\n",
       "      <td>2</td>\n",
       "      <td>2</td>\n",
       "      <td>2</td>\n",
       "      <td>2</td>\n",
       "      <td>2</td>\n",
       "      <td>2</td>\n",
       "      <td>2</td>\n",
       "      <td>2</td>\n",
       "    </tr>\n",
       "    <tr>\n",
       "      <th>0697a81555</th>\n",
       "      <td>2</td>\n",
       "      <td>2</td>\n",
       "      <td>2</td>\n",
       "      <td>2</td>\n",
       "      <td>2</td>\n",
       "      <td>2</td>\n",
       "      <td>2</td>\n",
       "      <td>2</td>\n",
       "      <td>2</td>\n",
       "    </tr>\n",
       "    <tr>\n",
       "      <th>08cdcb57a3</th>\n",
       "      <td>3</td>\n",
       "      <td>3</td>\n",
       "      <td>3</td>\n",
       "      <td>3</td>\n",
       "      <td>3</td>\n",
       "      <td>3</td>\n",
       "      <td>3</td>\n",
       "      <td>3</td>\n",
       "      <td>3</td>\n",
       "    </tr>\n",
       "    <tr>\n",
       "      <th>0f0ba311fb</th>\n",
       "      <td>2</td>\n",
       "      <td>2</td>\n",
       "      <td>2</td>\n",
       "      <td>2</td>\n",
       "      <td>2</td>\n",
       "      <td>2</td>\n",
       "      <td>2</td>\n",
       "      <td>2</td>\n",
       "      <td>2</td>\n",
       "    </tr>\n",
       "  </tbody>\n",
       "</table>\n",
       "</div>"
      ],
      "text/plain": [
       "            group  phrase  effect  ad_id  title  text  link  word_count  \\\n",
       "campaign                                                                  \n",
       "034ada41b6      3       3       3      3      3     3     3           3   \n",
       "03fcaecd1d      2       2       2      2      2     2     2           2   \n",
       "0697a81555      2       2       2      2      2     2     2           2   \n",
       "08cdcb57a3      3       3       3      3      3     3     3           3   \n",
       "0f0ba311fb      2       2       2      2      2     2     2           2   \n",
       "\n",
       "            power_up  \n",
       "campaign              \n",
       "034ada41b6         3  \n",
       "03fcaecd1d         2  \n",
       "0697a81555         2  \n",
       "08cdcb57a3         3  \n",
       "0f0ba311fb         2  "
      ]
     },
     "execution_count": 137,
     "metadata": {},
     "output_type": "execute_result"
    }
   ],
   "source": [
    "# более универсальный способ\n",
    "\n",
    "stats.groupby('campaign').count().head()"
   ]
  },
  {
   "cell_type": "code",
   "execution_count": 138,
   "metadata": {
    "ExecuteTime": {
     "end_time": "2023-01-24T15:48:05.855012Z",
     "start_time": "2023-01-24T15:48:05.844050Z"
    }
   },
   "outputs": [
    {
     "data": {
      "text/html": [
       "<div>\n",
       "<style scoped>\n",
       "    .dataframe tbody tr th:only-of-type {\n",
       "        vertical-align: middle;\n",
       "    }\n",
       "\n",
       "    .dataframe tbody tr th {\n",
       "        vertical-align: top;\n",
       "    }\n",
       "\n",
       "    .dataframe thead th {\n",
       "        text-align: right;\n",
       "    }\n",
       "</style>\n",
       "<table border=\"1\" class=\"dataframe\">\n",
       "  <thead>\n",
       "    <tr style=\"text-align: right;\">\n",
       "      <th></th>\n",
       "      <th>group</th>\n",
       "      <th>effect</th>\n",
       "    </tr>\n",
       "    <tr>\n",
       "      <th>campaign</th>\n",
       "      <th></th>\n",
       "      <th></th>\n",
       "    </tr>\n",
       "  </thead>\n",
       "  <tbody>\n",
       "    <tr>\n",
       "      <th>034ada41b6</th>\n",
       "      <td>3</td>\n",
       "      <td>3</td>\n",
       "    </tr>\n",
       "    <tr>\n",
       "      <th>03fcaecd1d</th>\n",
       "      <td>2</td>\n",
       "      <td>2</td>\n",
       "    </tr>\n",
       "    <tr>\n",
       "      <th>0697a81555</th>\n",
       "      <td>2</td>\n",
       "      <td>2</td>\n",
       "    </tr>\n",
       "    <tr>\n",
       "      <th>08cdcb57a3</th>\n",
       "      <td>3</td>\n",
       "      <td>3</td>\n",
       "    </tr>\n",
       "    <tr>\n",
       "      <th>0f0ba311fb</th>\n",
       "      <td>2</td>\n",
       "      <td>2</td>\n",
       "    </tr>\n",
       "  </tbody>\n",
       "</table>\n",
       "</div>"
      ],
      "text/plain": [
       "            group  effect\n",
       "campaign                 \n",
       "034ada41b6      3       3\n",
       "03fcaecd1d      2       2\n",
       "0697a81555      2       2\n",
       "08cdcb57a3      3       3\n",
       "0f0ba311fb      2       2"
      ]
     },
     "execution_count": 138,
     "metadata": {},
     "output_type": "execute_result"
    }
   ],
   "source": [
    "stats.groupby('campaign').count()[['group', 'effect']].head()"
   ]
  },
  {
   "cell_type": "markdown",
   "metadata": {},
   "source": [
    "### Как вернуть столбец из индекса - метод reset_index()"
   ]
  },
  {
   "cell_type": "code",
   "execution_count": 139,
   "metadata": {
    "ExecuteTime": {
     "end_time": "2023-01-24T15:49:21.481339Z",
     "start_time": "2023-01-24T15:49:21.453465Z"
    },
    "scrolled": true
   },
   "outputs": [
    {
     "data": {
      "text/html": [
       "<div>\n",
       "<style scoped>\n",
       "    .dataframe tbody tr th:only-of-type {\n",
       "        vertical-align: middle;\n",
       "    }\n",
       "\n",
       "    .dataframe tbody tr th {\n",
       "        vertical-align: top;\n",
       "    }\n",
       "\n",
       "    .dataframe thead th {\n",
       "        text-align: right;\n",
       "    }\n",
       "</style>\n",
       "<table border=\"1\" class=\"dataframe\">\n",
       "  <thead>\n",
       "    <tr style=\"text-align: right;\">\n",
       "      <th></th>\n",
       "      <th>campaign</th>\n",
       "      <th>group</th>\n",
       "      <th>phrase</th>\n",
       "      <th>effect</th>\n",
       "      <th>ad_id</th>\n",
       "      <th>title</th>\n",
       "      <th>text</th>\n",
       "      <th>link</th>\n",
       "      <th>word_count</th>\n",
       "      <th>power_up</th>\n",
       "    </tr>\n",
       "  </thead>\n",
       "  <tbody>\n",
       "    <tr>\n",
       "      <th>0</th>\n",
       "      <td>034ada41b6</td>\n",
       "      <td>3</td>\n",
       "      <td>3</td>\n",
       "      <td>3</td>\n",
       "      <td>3</td>\n",
       "      <td>3</td>\n",
       "      <td>3</td>\n",
       "      <td>3</td>\n",
       "      <td>3</td>\n",
       "      <td>3</td>\n",
       "    </tr>\n",
       "    <tr>\n",
       "      <th>1</th>\n",
       "      <td>03fcaecd1d</td>\n",
       "      <td>2</td>\n",
       "      <td>2</td>\n",
       "      <td>2</td>\n",
       "      <td>2</td>\n",
       "      <td>2</td>\n",
       "      <td>2</td>\n",
       "      <td>2</td>\n",
       "      <td>2</td>\n",
       "      <td>2</td>\n",
       "    </tr>\n",
       "    <tr>\n",
       "      <th>2</th>\n",
       "      <td>0697a81555</td>\n",
       "      <td>2</td>\n",
       "      <td>2</td>\n",
       "      <td>2</td>\n",
       "      <td>2</td>\n",
       "      <td>2</td>\n",
       "      <td>2</td>\n",
       "      <td>2</td>\n",
       "      <td>2</td>\n",
       "      <td>2</td>\n",
       "    </tr>\n",
       "    <tr>\n",
       "      <th>3</th>\n",
       "      <td>08cdcb57a3</td>\n",
       "      <td>3</td>\n",
       "      <td>3</td>\n",
       "      <td>3</td>\n",
       "      <td>3</td>\n",
       "      <td>3</td>\n",
       "      <td>3</td>\n",
       "      <td>3</td>\n",
       "      <td>3</td>\n",
       "      <td>3</td>\n",
       "    </tr>\n",
       "    <tr>\n",
       "      <th>4</th>\n",
       "      <td>0f0ba311fb</td>\n",
       "      <td>2</td>\n",
       "      <td>2</td>\n",
       "      <td>2</td>\n",
       "      <td>2</td>\n",
       "      <td>2</td>\n",
       "      <td>2</td>\n",
       "      <td>2</td>\n",
       "      <td>2</td>\n",
       "      <td>2</td>\n",
       "    </tr>\n",
       "  </tbody>\n",
       "</table>\n",
       "</div>"
      ],
      "text/plain": [
       "     campaign  group  phrase  effect  ad_id  title  text  link  word_count  \\\n",
       "0  034ada41b6      3       3       3      3      3     3     3           3   \n",
       "1  03fcaecd1d      2       2       2      2      2     2     2           2   \n",
       "2  0697a81555      2       2       2      2      2     2     2           2   \n",
       "3  08cdcb57a3      3       3       3      3      3     3     3           3   \n",
       "4  0f0ba311fb      2       2       2      2      2     2     2           2   \n",
       "\n",
       "   power_up  \n",
       "0         3  \n",
       "1         2  \n",
       "2         2  \n",
       "3         3  \n",
       "4         2  "
      ]
     },
     "execution_count": 139,
     "metadata": {},
     "output_type": "execute_result"
    }
   ],
   "source": [
    "stats.groupby('campaign').count().reset_index().head()"
   ]
  },
  {
   "cell_type": "markdown",
   "metadata": {},
   "source": [
    "### К группировке можно применять разные функции такие образом:"
   ]
  },
  {
   "cell_type": "code",
   "execution_count": 140,
   "metadata": {
    "ExecuteTime": {
     "end_time": "2023-01-24T15:51:52.267205Z",
     "start_time": "2023-01-24T15:51:52.264594Z"
    }
   },
   "outputs": [],
   "source": [
    "obj = stats.groupby('campaign')"
   ]
  },
  {
   "cell_type": "code",
   "execution_count": 141,
   "metadata": {
    "ExecuteTime": {
     "end_time": "2023-01-24T15:51:52.802646Z",
     "start_time": "2023-01-24T15:51:52.726524Z"
    }
   },
   "outputs": [
    {
     "data": {
      "text/html": [
       "<div>\n",
       "<style scoped>\n",
       "    .dataframe tbody tr th:only-of-type {\n",
       "        vertical-align: middle;\n",
       "    }\n",
       "\n",
       "    .dataframe tbody tr th {\n",
       "        vertical-align: top;\n",
       "    }\n",
       "\n",
       "    .dataframe thead th {\n",
       "        text-align: right;\n",
       "    }\n",
       "</style>\n",
       "<table border=\"1\" class=\"dataframe\">\n",
       "  <thead>\n",
       "    <tr style=\"text-align: right;\">\n",
       "      <th></th>\n",
       "      <th>group</th>\n",
       "      <th>phrase</th>\n",
       "      <th>effect</th>\n",
       "      <th>ad_id</th>\n",
       "      <th>title</th>\n",
       "      <th>text</th>\n",
       "      <th>link</th>\n",
       "      <th>word_count</th>\n",
       "      <th>power_up</th>\n",
       "    </tr>\n",
       "    <tr>\n",
       "      <th>campaign</th>\n",
       "      <th></th>\n",
       "      <th></th>\n",
       "      <th></th>\n",
       "      <th></th>\n",
       "      <th></th>\n",
       "      <th></th>\n",
       "      <th></th>\n",
       "      <th></th>\n",
       "      <th></th>\n",
       "    </tr>\n",
       "  </thead>\n",
       "  <tbody>\n",
       "    <tr>\n",
       "      <th>034ada41b6</th>\n",
       "      <td>в недорого москва мрт</td>\n",
       "      <td>в москве открытого типа адрес мрт -цена</td>\n",
       "      <td>9.0</td>\n",
       "      <td>2428554779</td>\n",
       "      <td>Адрес МРТ открытого типа в Москве</td>\n",
       "      <td>24 часа. От 2 000₽. Консультация врача бесплат...</td>\n",
       "      <td>https://awesome-site.ru/?utm_source=yandex&amp;utm...</td>\n",
       "      <td>7</td>\n",
       "      <td>729.000</td>\n",
       "    </tr>\n",
       "    <tr>\n",
       "      <th>03fcaecd1d</th>\n",
       "      <td>сделать мрт сущевский вал</td>\n",
       "      <td>сделать мрт стромынка</td>\n",
       "      <td>6.5</td>\n",
       "      <td>2101705759</td>\n",
       "      <td>Сделайте МРТ на ул. Стромынка!</td>\n",
       "      <td>24 часа. От 2 000₽. Консультация врача бесплат...</td>\n",
       "      <td>https://awesome-site.ru/?utm_source=yandex&amp;utm...</td>\n",
       "      <td>3</td>\n",
       "      <td>274.625</td>\n",
       "    </tr>\n",
       "    <tr>\n",
       "      <th>0697a81555</th>\n",
       "      <td>мрт позвоночника сущевский вал</td>\n",
       "      <td>мрт позвоночника стромынка</td>\n",
       "      <td>5.5</td>\n",
       "      <td>2101706415</td>\n",
       "      <td>МРТ позвоночника на ул. Стромынка</td>\n",
       "      <td>24 часа. От 2 000₽. Консультация врача бесплат...</td>\n",
       "      <td>https://awesome-site.ru/?utm_source=yandex&amp;utm...</td>\n",
       "      <td>3</td>\n",
       "      <td>166.375</td>\n",
       "    </tr>\n",
       "    <tr>\n",
       "      <th>08cdcb57a3</th>\n",
       "      <td>мрт сао</td>\n",
       "      <td>мрт сао -головы -москве -позвоночника -сделать...</td>\n",
       "      <td>7.4</td>\n",
       "      <td>2101705000</td>\n",
       "      <td>МРТ в САО от 2000₽. Звоните!</td>\n",
       "      <td>24 часа. МРТ в день обращения. Консультация вр...</td>\n",
       "      <td>https://awesome-site.ru/?utm_source=yandex&amp;utm...</td>\n",
       "      <td>7</td>\n",
       "      <td>405.224</td>\n",
       "    </tr>\n",
       "    <tr>\n",
       "      <th>0f0ba311fb</th>\n",
       "      <td>сделать мрт октябрьский</td>\n",
       "      <td>сделать мрт новослободская</td>\n",
       "      <td>6.4</td>\n",
       "      <td>2101705726</td>\n",
       "      <td>Сделайте МРТ на Новослободской</td>\n",
       "      <td>24 часа. От 2 000₽. Консультация врача бесплат...</td>\n",
       "      <td>https://awesome-site.ru/?utm_source=yandex&amp;utm...</td>\n",
       "      <td>3</td>\n",
       "      <td>262.144</td>\n",
       "    </tr>\n",
       "  </tbody>\n",
       "</table>\n",
       "</div>"
      ],
      "text/plain": [
       "                                     group  \\\n",
       "campaign                                     \n",
       "034ada41b6           в недорого москва мрт   \n",
       "03fcaecd1d       сделать мрт сущевский вал   \n",
       "0697a81555  мрт позвоночника сущевский вал   \n",
       "08cdcb57a3                         мрт сао   \n",
       "0f0ba311fb         сделать мрт октябрьский   \n",
       "\n",
       "                                                       phrase  effect  \\\n",
       "campaign                                                                \n",
       "034ada41b6            в москве открытого типа адрес мрт -цена     9.0   \n",
       "03fcaecd1d                              сделать мрт стромынка     6.5   \n",
       "0697a81555                         мрт позвоночника стромынка     5.5   \n",
       "08cdcb57a3  мрт сао -головы -москве -позвоночника -сделать...     7.4   \n",
       "0f0ba311fb                         сделать мрт новослободская     6.4   \n",
       "\n",
       "                 ad_id                              title  \\\n",
       "campaign                                                    \n",
       "034ada41b6  2428554779  Адрес МРТ открытого типа в Москве   \n",
       "03fcaecd1d  2101705759     Сделайте МРТ на ул. Стромынка!   \n",
       "0697a81555  2101706415  МРТ позвоночника на ул. Стромынка   \n",
       "08cdcb57a3  2101705000       МРТ в САО от 2000₽. Звоните!   \n",
       "0f0ba311fb  2101705726     Сделайте МРТ на Новослободской   \n",
       "\n",
       "                                                         text  \\\n",
       "campaign                                                        \n",
       "034ada41b6  24 часа. От 2 000₽. Консультация врача бесплат...   \n",
       "03fcaecd1d  24 часа. От 2 000₽. Консультация врача бесплат...   \n",
       "0697a81555  24 часа. От 2 000₽. Консультация врача бесплат...   \n",
       "08cdcb57a3  24 часа. МРТ в день обращения. Консультация вр...   \n",
       "0f0ba311fb  24 часа. От 2 000₽. Консультация врача бесплат...   \n",
       "\n",
       "                                                         link  word_count  \\\n",
       "campaign                                                                    \n",
       "034ada41b6  https://awesome-site.ru/?utm_source=yandex&utm...           7   \n",
       "03fcaecd1d  https://awesome-site.ru/?utm_source=yandex&utm...           3   \n",
       "0697a81555  https://awesome-site.ru/?utm_source=yandex&utm...           3   \n",
       "08cdcb57a3  https://awesome-site.ru/?utm_source=yandex&utm...           7   \n",
       "0f0ba311fb  https://awesome-site.ru/?utm_source=yandex&utm...           3   \n",
       "\n",
       "            power_up  \n",
       "campaign              \n",
       "034ada41b6   729.000  \n",
       "03fcaecd1d   274.625  \n",
       "0697a81555   166.375  \n",
       "08cdcb57a3   405.224  \n",
       "0f0ba311fb   262.144  "
      ]
     },
     "execution_count": 141,
     "metadata": {},
     "output_type": "execute_result"
    }
   ],
   "source": [
    "obj.max().head()"
   ]
  },
  {
   "cell_type": "code",
   "execution_count": 142,
   "metadata": {
    "ExecuteTime": {
     "end_time": "2023-01-24T15:51:53.183206Z",
     "start_time": "2023-01-24T15:51:53.162978Z"
    },
    "scrolled": true
   },
   "outputs": [
    {
     "name": "stderr",
     "output_type": "stream",
     "text": [
      "/tmp/ipykernel_66941/919942432.py:1: FutureWarning: The default value of numeric_only in DataFrameGroupBy.mean is deprecated. In a future version, numeric_only will default to False. Either specify numeric_only or select only columns which should be valid for the function.\n",
      "  obj.mean().head()\n"
     ]
    },
    {
     "data": {
      "text/html": [
       "<div>\n",
       "<style scoped>\n",
       "    .dataframe tbody tr th:only-of-type {\n",
       "        vertical-align: middle;\n",
       "    }\n",
       "\n",
       "    .dataframe tbody tr th {\n",
       "        vertical-align: top;\n",
       "    }\n",
       "\n",
       "    .dataframe thead th {\n",
       "        text-align: right;\n",
       "    }\n",
       "</style>\n",
       "<table border=\"1\" class=\"dataframe\">\n",
       "  <thead>\n",
       "    <tr style=\"text-align: right;\">\n",
       "      <th></th>\n",
       "      <th>effect</th>\n",
       "      <th>ad_id</th>\n",
       "      <th>word_count</th>\n",
       "      <th>power_up</th>\n",
       "    </tr>\n",
       "    <tr>\n",
       "      <th>campaign</th>\n",
       "      <th></th>\n",
       "      <th></th>\n",
       "      <th></th>\n",
       "      <th></th>\n",
       "    </tr>\n",
       "  </thead>\n",
       "  <tbody>\n",
       "    <tr>\n",
       "      <th>034ada41b6</th>\n",
       "      <td>7.200000</td>\n",
       "      <td>2.428555e+09</td>\n",
       "      <td>6.333333</td>\n",
       "      <td>470.682000</td>\n",
       "    </tr>\n",
       "    <tr>\n",
       "      <th>03fcaecd1d</th>\n",
       "      <td>5.250000</td>\n",
       "      <td>2.101706e+09</td>\n",
       "      <td>3.000000</td>\n",
       "      <td>169.312500</td>\n",
       "    </tr>\n",
       "    <tr>\n",
       "      <th>0697a81555</th>\n",
       "      <td>4.750000</td>\n",
       "      <td>2.101706e+09</td>\n",
       "      <td>3.000000</td>\n",
       "      <td>115.187500</td>\n",
       "    </tr>\n",
       "    <tr>\n",
       "      <th>08cdcb57a3</th>\n",
       "      <td>6.133333</td>\n",
       "      <td>2.101705e+09</td>\n",
       "      <td>3.666667</td>\n",
       "      <td>245.991333</td>\n",
       "    </tr>\n",
       "    <tr>\n",
       "      <th>0f0ba311fb</th>\n",
       "      <td>5.400000</td>\n",
       "      <td>2.101706e+09</td>\n",
       "      <td>3.000000</td>\n",
       "      <td>173.664000</td>\n",
       "    </tr>\n",
       "  </tbody>\n",
       "</table>\n",
       "</div>"
      ],
      "text/plain": [
       "              effect         ad_id  word_count    power_up\n",
       "campaign                                                  \n",
       "034ada41b6  7.200000  2.428555e+09    6.333333  470.682000\n",
       "03fcaecd1d  5.250000  2.101706e+09    3.000000  169.312500\n",
       "0697a81555  4.750000  2.101706e+09    3.000000  115.187500\n",
       "08cdcb57a3  6.133333  2.101705e+09    3.666667  245.991333\n",
       "0f0ba311fb  5.400000  2.101706e+09    3.000000  173.664000"
      ]
     },
     "execution_count": 142,
     "metadata": {},
     "output_type": "execute_result"
    }
   ],
   "source": [
    "obj.mean().head()"
   ]
  },
  {
   "cell_type": "markdown",
   "metadata": {},
   "source": [
    "### Упражнение\n",
    "Для каждой кампании campaign найдите минимальное значение столбца effect и постройте рейтинг кампаний по этим значениям, начиная с самого низкого."
   ]
  },
  {
   "cell_type": "code",
   "execution_count": null,
   "metadata": {},
   "outputs": [],
   "source": []
  },
  {
   "cell_type": "code",
   "execution_count": null,
   "metadata": {},
   "outputs": [],
   "source": []
  },
  {
   "cell_type": "code",
   "execution_count": null,
   "metadata": {},
   "outputs": [],
   "source": []
  },
  {
   "cell_type": "markdown",
   "metadata": {},
   "source": [
    "### Несколько функций в группировках"
   ]
  },
  {
   "cell_type": "code",
   "execution_count": 143,
   "metadata": {
    "ExecuteTime": {
     "end_time": "2023-01-24T15:51:58.296841Z",
     "start_time": "2023-01-24T15:51:58.193609Z"
    }
   },
   "outputs": [
    {
     "data": {
      "text/html": [
       "<div>\n",
       "<style scoped>\n",
       "    .dataframe tbody tr th:only-of-type {\n",
       "        vertical-align: middle;\n",
       "    }\n",
       "\n",
       "    .dataframe tbody tr th {\n",
       "        vertical-align: top;\n",
       "    }\n",
       "\n",
       "    .dataframe thead th {\n",
       "        text-align: right;\n",
       "    }\n",
       "</style>\n",
       "<table border=\"1\" class=\"dataframe\">\n",
       "  <thead>\n",
       "    <tr style=\"text-align: right;\">\n",
       "      <th></th>\n",
       "      <th>min</th>\n",
       "      <th>max</th>\n",
       "    </tr>\n",
       "    <tr>\n",
       "      <th>campaign</th>\n",
       "      <th></th>\n",
       "      <th></th>\n",
       "    </tr>\n",
       "  </thead>\n",
       "  <tbody>\n",
       "    <tr>\n",
       "      <th>034ada41b6</th>\n",
       "      <td>4.1</td>\n",
       "      <td>9.0</td>\n",
       "    </tr>\n",
       "    <tr>\n",
       "      <th>03fcaecd1d</th>\n",
       "      <td>4.0</td>\n",
       "      <td>6.5</td>\n",
       "    </tr>\n",
       "    <tr>\n",
       "      <th>0697a81555</th>\n",
       "      <td>4.0</td>\n",
       "      <td>5.5</td>\n",
       "    </tr>\n",
       "    <tr>\n",
       "      <th>08cdcb57a3</th>\n",
       "      <td>5.5</td>\n",
       "      <td>7.4</td>\n",
       "    </tr>\n",
       "    <tr>\n",
       "      <th>0f0ba311fb</th>\n",
       "      <td>4.4</td>\n",
       "      <td>6.4</td>\n",
       "    </tr>\n",
       "  </tbody>\n",
       "</table>\n",
       "</div>"
      ],
      "text/plain": [
       "            min  max\n",
       "campaign            \n",
       "034ada41b6  4.1  9.0\n",
       "03fcaecd1d  4.0  6.5\n",
       "0697a81555  4.0  5.5\n",
       "08cdcb57a3  5.5  7.4\n",
       "0f0ba311fb  4.4  6.4"
      ]
     },
     "execution_count": 143,
     "metadata": {},
     "output_type": "execute_result"
    }
   ],
   "source": [
    "# задаем несколько функций сразу\n",
    "\n",
    "stats.groupby('campaign').agg(['min', 'max'])['effect'].head()"
   ]
  },
  {
   "cell_type": "code",
   "execution_count": 144,
   "metadata": {
    "ExecuteTime": {
     "end_time": "2023-01-24T15:52:17.586592Z",
     "start_time": "2023-01-24T15:52:17.559913Z"
    }
   },
   "outputs": [
    {
     "data": {
      "text/html": [
       "<div>\n",
       "<style scoped>\n",
       "    .dataframe tbody tr th:only-of-type {\n",
       "        vertical-align: middle;\n",
       "    }\n",
       "\n",
       "    .dataframe tbody tr th {\n",
       "        vertical-align: top;\n",
       "    }\n",
       "\n",
       "    .dataframe thead tr th {\n",
       "        text-align: left;\n",
       "    }\n",
       "\n",
       "    .dataframe thead tr:last-of-type th {\n",
       "        text-align: right;\n",
       "    }\n",
       "</style>\n",
       "<table border=\"1\" class=\"dataframe\">\n",
       "  <thead>\n",
       "    <tr>\n",
       "      <th></th>\n",
       "      <th colspan=\"2\" halign=\"left\">effect</th>\n",
       "      <th>power_up</th>\n",
       "    </tr>\n",
       "    <tr>\n",
       "      <th></th>\n",
       "      <th>min</th>\n",
       "      <th>max</th>\n",
       "      <th>mean</th>\n",
       "    </tr>\n",
       "    <tr>\n",
       "      <th>campaign</th>\n",
       "      <th></th>\n",
       "      <th></th>\n",
       "      <th></th>\n",
       "    </tr>\n",
       "  </thead>\n",
       "  <tbody>\n",
       "    <tr>\n",
       "      <th>034ada41b6</th>\n",
       "      <td>4.1</td>\n",
       "      <td>9.0</td>\n",
       "      <td>470.682000</td>\n",
       "    </tr>\n",
       "    <tr>\n",
       "      <th>03fcaecd1d</th>\n",
       "      <td>4.0</td>\n",
       "      <td>6.5</td>\n",
       "      <td>169.312500</td>\n",
       "    </tr>\n",
       "    <tr>\n",
       "      <th>0697a81555</th>\n",
       "      <td>4.0</td>\n",
       "      <td>5.5</td>\n",
       "      <td>115.187500</td>\n",
       "    </tr>\n",
       "    <tr>\n",
       "      <th>08cdcb57a3</th>\n",
       "      <td>5.5</td>\n",
       "      <td>7.4</td>\n",
       "      <td>245.991333</td>\n",
       "    </tr>\n",
       "    <tr>\n",
       "      <th>0f0ba311fb</th>\n",
       "      <td>4.4</td>\n",
       "      <td>6.4</td>\n",
       "      <td>173.664000</td>\n",
       "    </tr>\n",
       "  </tbody>\n",
       "</table>\n",
       "</div>"
      ],
      "text/plain": [
       "           effect         power_up\n",
       "              min  max        mean\n",
       "campaign                          \n",
       "034ada41b6    4.1  9.0  470.682000\n",
       "03fcaecd1d    4.0  6.5  169.312500\n",
       "0697a81555    4.0  5.5  115.187500\n",
       "08cdcb57a3    5.5  7.4  245.991333\n",
       "0f0ba311fb    4.4  6.4  173.664000"
      ]
     },
     "execution_count": 144,
     "metadata": {},
     "output_type": "execute_result"
    }
   ],
   "source": [
    "# разные метрики для разных столбцов\n",
    "\n",
    "results = stats.groupby('campaign').agg({'effect': ['min', 'max'], 'power_up': 'mean'})\n",
    "results.head()"
   ]
  },
  {
   "cell_type": "markdown",
   "metadata": {},
   "source": [
    "### Как обращаться к вложенным столбцам"
   ]
  },
  {
   "cell_type": "code",
   "execution_count": 145,
   "metadata": {
    "ExecuteTime": {
     "end_time": "2023-01-24T15:52:23.715049Z",
     "start_time": "2023-01-24T15:52:23.700234Z"
    }
   },
   "outputs": [
    {
     "data": {
      "text/plain": [
       "campaign\n",
       "034ada41b6    9.0\n",
       "03fcaecd1d    6.5\n",
       "0697a81555    5.5\n",
       "08cdcb57a3    7.4\n",
       "0f0ba311fb    6.4\n",
       "Name: max, dtype: float64"
      ]
     },
     "execution_count": 145,
     "metadata": {},
     "output_type": "execute_result"
    }
   ],
   "source": [
    "results['effect']['max'].head()"
   ]
  },
  {
   "cell_type": "code",
   "execution_count": 146,
   "metadata": {
    "ExecuteTime": {
     "end_time": "2023-01-24T15:53:36.315183Z",
     "start_time": "2023-01-24T15:53:36.294231Z"
    }
   },
   "outputs": [
    {
     "data": {
      "text/plain": [
       "campaign\n",
       "034ada41b6    9.0\n",
       "03fcaecd1d    6.5\n",
       "0697a81555    5.5\n",
       "08cdcb57a3    7.4\n",
       "0f0ba311fb    6.4\n",
       "Name: max, dtype: float64"
      ]
     },
     "execution_count": 146,
     "metadata": {},
     "output_type": "execute_result"
    }
   ],
   "source": [
    "# или даже так\n",
    "stats.groupby('campaign').agg({'effect': ['min', 'max'], 'power_up': 'mean'})['effect']['max'].head()"
   ]
  },
  {
   "cell_type": "code",
   "execution_count": 147,
   "metadata": {
    "ExecuteTime": {
     "end_time": "2023-01-24T15:53:37.225146Z",
     "start_time": "2023-01-24T15:53:37.203770Z"
    }
   },
   "outputs": [
    {
     "data": {
      "text/html": [
       "<div>\n",
       "<style scoped>\n",
       "    .dataframe tbody tr th:only-of-type {\n",
       "        vertical-align: middle;\n",
       "    }\n",
       "\n",
       "    .dataframe tbody tr th {\n",
       "        vertical-align: top;\n",
       "    }\n",
       "\n",
       "    .dataframe thead th {\n",
       "        text-align: right;\n",
       "    }\n",
       "</style>\n",
       "<table border=\"1\" class=\"dataframe\">\n",
       "  <thead>\n",
       "    <tr style=\"text-align: right;\">\n",
       "      <th></th>\n",
       "      <th></th>\n",
       "      <th>phrase</th>\n",
       "      <th>effect</th>\n",
       "      <th>ad_id</th>\n",
       "      <th>title</th>\n",
       "      <th>text</th>\n",
       "      <th>link</th>\n",
       "      <th>word_count</th>\n",
       "      <th>power_up</th>\n",
       "    </tr>\n",
       "    <tr>\n",
       "      <th>group</th>\n",
       "      <th>campaign</th>\n",
       "      <th></th>\n",
       "      <th></th>\n",
       "      <th></th>\n",
       "      <th></th>\n",
       "      <th></th>\n",
       "      <th></th>\n",
       "      <th></th>\n",
       "      <th></th>\n",
       "    </tr>\n",
       "  </thead>\n",
       "  <tbody>\n",
       "    <tr>\n",
       "      <th rowspan=\"3\" valign=\"top\">1 5 москва мрт тесла</th>\n",
       "      <th>777160ba51</th>\n",
       "      <td>1</td>\n",
       "      <td>1</td>\n",
       "      <td>1</td>\n",
       "      <td>1</td>\n",
       "      <td>1</td>\n",
       "      <td>1</td>\n",
       "      <td>1</td>\n",
       "      <td>1</td>\n",
       "    </tr>\n",
       "    <tr>\n",
       "      <th>8e77a0e565</th>\n",
       "      <td>1</td>\n",
       "      <td>1</td>\n",
       "      <td>1</td>\n",
       "      <td>1</td>\n",
       "      <td>1</td>\n",
       "      <td>1</td>\n",
       "      <td>1</td>\n",
       "      <td>1</td>\n",
       "    </tr>\n",
       "    <tr>\n",
       "      <th>f0079349af</th>\n",
       "      <td>1</td>\n",
       "      <td>1</td>\n",
       "      <td>1</td>\n",
       "      <td>1</td>\n",
       "      <td>1</td>\n",
       "      <td>1</td>\n",
       "      <td>1</td>\n",
       "      <td>1</td>\n",
       "    </tr>\n",
       "    <tr>\n",
       "      <th>1 градская мрт</th>\n",
       "      <th>7f35591a28</th>\n",
       "      <td>3</td>\n",
       "      <td>3</td>\n",
       "      <td>3</td>\n",
       "      <td>3</td>\n",
       "      <td>3</td>\n",
       "      <td>3</td>\n",
       "      <td>3</td>\n",
       "      <td>3</td>\n",
       "    </tr>\n",
       "    <tr>\n",
       "      <th>1 мрт нагатинский</th>\n",
       "      <th>8e77a0e565</th>\n",
       "      <td>1</td>\n",
       "      <td>1</td>\n",
       "      <td>1</td>\n",
       "      <td>1</td>\n",
       "      <td>1</td>\n",
       "      <td>1</td>\n",
       "      <td>1</td>\n",
       "      <td>1</td>\n",
       "    </tr>\n",
       "  </tbody>\n",
       "</table>\n",
       "</div>"
      ],
      "text/plain": [
       "                                 phrase  effect  ad_id  title  text  link  \\\n",
       "group                campaign                                               \n",
       "1 5 москва мрт тесла 777160ba51       1       1      1      1     1     1   \n",
       "                     8e77a0e565       1       1      1      1     1     1   \n",
       "                     f0079349af       1       1      1      1     1     1   \n",
       "1 градская мрт       7f35591a28       3       3      3      3     3     3   \n",
       "1 мрт нагатинский    8e77a0e565       1       1      1      1     1     1   \n",
       "\n",
       "                                 word_count  power_up  \n",
       "group                campaign                          \n",
       "1 5 москва мрт тесла 777160ba51           1         1  \n",
       "                     8e77a0e565           1         1  \n",
       "                     f0079349af           1         1  \n",
       "1 градская мрт       7f35591a28           3         3  \n",
       "1 мрт нагатинский    8e77a0e565           1         1  "
      ]
     },
     "execution_count": 147,
     "metadata": {},
     "output_type": "execute_result"
    }
   ],
   "source": [
    "# группировка по нескольким столбцам\n",
    "\n",
    "stats.groupby(['group', 'campaign']).count().head()"
   ]
  },
  {
   "cell_type": "code",
   "execution_count": 149,
   "metadata": {
    "ExecuteTime": {
     "end_time": "2023-01-24T15:55:44.294375Z",
     "start_time": "2023-01-24T15:55:44.277308Z"
    }
   },
   "outputs": [
    {
     "data": {
      "text/html": [
       "<div>\n",
       "<style scoped>\n",
       "    .dataframe tbody tr th:only-of-type {\n",
       "        vertical-align: middle;\n",
       "    }\n",
       "\n",
       "    .dataframe tbody tr th {\n",
       "        vertical-align: top;\n",
       "    }\n",
       "\n",
       "    .dataframe thead th {\n",
       "        text-align: right;\n",
       "    }\n",
       "</style>\n",
       "<table border=\"1\" class=\"dataframe\">\n",
       "  <thead>\n",
       "    <tr style=\"text-align: right;\">\n",
       "      <th></th>\n",
       "      <th></th>\n",
       "      <th>phrase</th>\n",
       "      <th>effect</th>\n",
       "      <th>ad_id</th>\n",
       "      <th>title</th>\n",
       "      <th>text</th>\n",
       "      <th>link</th>\n",
       "      <th>word_count</th>\n",
       "      <th>power_up</th>\n",
       "    </tr>\n",
       "    <tr>\n",
       "      <th>group</th>\n",
       "      <th>campaign</th>\n",
       "      <th></th>\n",
       "      <th></th>\n",
       "      <th></th>\n",
       "      <th></th>\n",
       "      <th></th>\n",
       "      <th></th>\n",
       "      <th></th>\n",
       "      <th></th>\n",
       "    </tr>\n",
       "  </thead>\n",
       "  <tbody>\n",
       "    <tr>\n",
       "      <th>мрт на алексеевской кулаков переулок 13</th>\n",
       "      <th>7f35591a28</th>\n",
       "      <td>3</td>\n",
       "      <td>3</td>\n",
       "      <td>3</td>\n",
       "      <td>3</td>\n",
       "      <td>3</td>\n",
       "      <td>3</td>\n",
       "      <td>3</td>\n",
       "      <td>3</td>\n",
       "    </tr>\n",
       "    <tr>\n",
       "      <th>мрт каширское шоссе</th>\n",
       "      <th>7f35591a28</th>\n",
       "      <td>3</td>\n",
       "      <td>3</td>\n",
       "      <td>3</td>\n",
       "      <td>3</td>\n",
       "      <td>3</td>\n",
       "      <td>3</td>\n",
       "      <td>3</td>\n",
       "      <td>3</td>\n",
       "    </tr>\n",
       "    <tr>\n",
       "      <th>мрт кутузовский</th>\n",
       "      <th>7f35591a28</th>\n",
       "      <td>3</td>\n",
       "      <td>3</td>\n",
       "      <td>3</td>\n",
       "      <td>3</td>\n",
       "      <td>3</td>\n",
       "      <td>3</td>\n",
       "      <td>3</td>\n",
       "      <td>3</td>\n",
       "    </tr>\n",
       "    <tr>\n",
       "      <th>мрт куркинское шоссе 30</th>\n",
       "      <th>7f35591a28</th>\n",
       "      <td>3</td>\n",
       "      <td>3</td>\n",
       "      <td>3</td>\n",
       "      <td>3</td>\n",
       "      <td>3</td>\n",
       "      <td>3</td>\n",
       "      <td>3</td>\n",
       "      <td>3</td>\n",
       "    </tr>\n",
       "    <tr>\n",
       "      <th>мрт куркино</th>\n",
       "      <th>7f35591a28</th>\n",
       "      <td>3</td>\n",
       "      <td>3</td>\n",
       "      <td>3</td>\n",
       "      <td>3</td>\n",
       "      <td>3</td>\n",
       "      <td>3</td>\n",
       "      <td>3</td>\n",
       "      <td>3</td>\n",
       "    </tr>\n",
       "    <tr>\n",
       "      <th>...</th>\n",
       "      <th>...</th>\n",
       "      <td>...</td>\n",
       "      <td>...</td>\n",
       "      <td>...</td>\n",
       "      <td>...</td>\n",
       "      <td>...</td>\n",
       "      <td>...</td>\n",
       "      <td>...</td>\n",
       "      <td>...</td>\n",
       "    </tr>\n",
       "    <tr>\n",
       "      <th>мрт в вао москвы</th>\n",
       "      <th>8efe80b27c</th>\n",
       "      <td>1</td>\n",
       "      <td>1</td>\n",
       "      <td>1</td>\n",
       "      <td>1</td>\n",
       "      <td>1</td>\n",
       "      <td>1</td>\n",
       "      <td>1</td>\n",
       "      <td>1</td>\n",
       "    </tr>\n",
       "    <tr>\n",
       "      <th>мрт в вао</th>\n",
       "      <th>8efe80b27c</th>\n",
       "      <td>1</td>\n",
       "      <td>1</td>\n",
       "      <td>1</td>\n",
       "      <td>1</td>\n",
       "      <td>1</td>\n",
       "      <td>1</td>\n",
       "      <td>1</td>\n",
       "      <td>1</td>\n",
       "    </tr>\n",
       "    <tr>\n",
       "      <th>мрт в бабушкинском районе</th>\n",
       "      <th>7f35591a28</th>\n",
       "      <td>1</td>\n",
       "      <td>1</td>\n",
       "      <td>1</td>\n",
       "      <td>1</td>\n",
       "      <td>1</td>\n",
       "      <td>1</td>\n",
       "      <td>1</td>\n",
       "      <td>1</td>\n",
       "    </tr>\n",
       "    <tr>\n",
       "      <th>мрт балашиха</th>\n",
       "      <th>942cf4ac20</th>\n",
       "      <td>1</td>\n",
       "      <td>1</td>\n",
       "      <td>1</td>\n",
       "      <td>1</td>\n",
       "      <td>1</td>\n",
       "      <td>1</td>\n",
       "      <td>1</td>\n",
       "      <td>1</td>\n",
       "    </tr>\n",
       "    <tr>\n",
       "      <th>юго западный мрт</th>\n",
       "      <th>777160ba51</th>\n",
       "      <td>1</td>\n",
       "      <td>1</td>\n",
       "      <td>1</td>\n",
       "      <td>1</td>\n",
       "      <td>1</td>\n",
       "      <td>1</td>\n",
       "      <td>1</td>\n",
       "      <td>1</td>\n",
       "    </tr>\n",
       "  </tbody>\n",
       "</table>\n",
       "<p>1044 rows × 8 columns</p>\n",
       "</div>"
      ],
      "text/plain": [
       "                                                    phrase  effect  ad_id  \\\n",
       "group                                   campaign                            \n",
       "мрт на алексеевской кулаков переулок 13 7f35591a28       3       3      3   \n",
       "мрт каширское шоссе                     7f35591a28       3       3      3   \n",
       "мрт кутузовский                         7f35591a28       3       3      3   \n",
       "мрт куркинское шоссе 30                 7f35591a28       3       3      3   \n",
       "мрт куркино                             7f35591a28       3       3      3   \n",
       "...                                                    ...     ...    ...   \n",
       "мрт в вао москвы                        8efe80b27c       1       1      1   \n",
       "мрт в вао                               8efe80b27c       1       1      1   \n",
       "мрт в бабушкинском районе               7f35591a28       1       1      1   \n",
       "мрт балашиха                            942cf4ac20       1       1      1   \n",
       "юго западный мрт                        777160ba51       1       1      1   \n",
       "\n",
       "                                                    title  text  link  \\\n",
       "group                                   campaign                        \n",
       "мрт на алексеевской кулаков переулок 13 7f35591a28      3     3     3   \n",
       "мрт каширское шоссе                     7f35591a28      3     3     3   \n",
       "мрт кутузовский                         7f35591a28      3     3     3   \n",
       "мрт куркинское шоссе 30                 7f35591a28      3     3     3   \n",
       "мрт куркино                             7f35591a28      3     3     3   \n",
       "...                                                   ...   ...   ...   \n",
       "мрт в вао москвы                        8efe80b27c      1     1     1   \n",
       "мрт в вао                               8efe80b27c      1     1     1   \n",
       "мрт в бабушкинском районе               7f35591a28      1     1     1   \n",
       "мрт балашиха                            942cf4ac20      1     1     1   \n",
       "юго западный мрт                        777160ba51      1     1     1   \n",
       "\n",
       "                                                    word_count  power_up  \n",
       "group                                   campaign                          \n",
       "мрт на алексеевской кулаков переулок 13 7f35591a28           3         3  \n",
       "мрт каширское шоссе                     7f35591a28           3         3  \n",
       "мрт кутузовский                         7f35591a28           3         3  \n",
       "мрт куркинское шоссе 30                 7f35591a28           3         3  \n",
       "мрт куркино                             7f35591a28           3         3  \n",
       "...                                                        ...       ...  \n",
       "мрт в вао москвы                        8efe80b27c           1         1  \n",
       "мрт в вао                               8efe80b27c           1         1  \n",
       "мрт в бабушкинском районе               7f35591a28           1         1  \n",
       "мрт балашиха                            942cf4ac20           1         1  \n",
       "юго западный мрт                        777160ba51           1         1  \n",
       "\n",
       "[1044 rows x 8 columns]"
      ]
     },
     "execution_count": 149,
     "metadata": {},
     "output_type": "execute_result"
    }
   ],
   "source": [
    "# максимальное число объявлений в одной группе\n",
    "\n",
    "stats.groupby(['group', 'campaign']).count().sort_values('phrase', ascending=False)"
   ]
  },
  {
   "cell_type": "markdown",
   "metadata": {},
   "source": [
    "### Упражнение\n",
    "Какая кампания имеет наименьшую сумму по столбцу effect? "
   ]
  },
  {
   "cell_type": "code",
   "execution_count": 176,
   "metadata": {
    "ExecuteTime": {
     "end_time": "2023-01-24T16:02:20.871283Z",
     "start_time": "2023-01-24T16:02:20.856474Z"
    }
   },
   "outputs": [
    {
     "data": {
      "text/plain": [
       "1.6"
      ]
     },
     "execution_count": 176,
     "metadata": {},
     "output_type": "execute_result"
    }
   ],
   "source": [
    "stats.sort_values('effect').iloc[0]['effect']"
   ]
  },
  {
   "cell_type": "code",
   "execution_count": 178,
   "metadata": {
    "ExecuteTime": {
     "end_time": "2023-01-24T16:02:47.831625Z",
     "start_time": "2023-01-24T16:02:47.819121Z"
    }
   },
   "outputs": [
    {
     "data": {
      "text/plain": [
       "'8e77a0e565'"
      ]
     },
     "execution_count": 178,
     "metadata": {},
     "output_type": "execute_result"
    }
   ],
   "source": [
    "stats.sort_values('effect').iloc[0]['campaign']"
   ]
  },
  {
   "cell_type": "code",
   "execution_count": 151,
   "metadata": {
    "ExecuteTime": {
     "end_time": "2023-01-24T15:56:21.071758Z",
     "start_time": "2023-01-24T15:56:21.039927Z"
    }
   },
   "outputs": [
    {
     "data": {
      "text/html": [
       "<div>\n",
       "<style scoped>\n",
       "    .dataframe tbody tr th:only-of-type {\n",
       "        vertical-align: middle;\n",
       "    }\n",
       "\n",
       "    .dataframe tbody tr th {\n",
       "        vertical-align: top;\n",
       "    }\n",
       "\n",
       "    .dataframe thead th {\n",
       "        text-align: right;\n",
       "    }\n",
       "</style>\n",
       "<table border=\"1\" class=\"dataframe\">\n",
       "  <thead>\n",
       "    <tr style=\"text-align: right;\">\n",
       "      <th></th>\n",
       "      <th>group</th>\n",
       "      <th>phrase</th>\n",
       "      <th>effect</th>\n",
       "      <th>ad_id</th>\n",
       "      <th>title</th>\n",
       "      <th>text</th>\n",
       "      <th>link</th>\n",
       "      <th>word_count</th>\n",
       "      <th>campaign</th>\n",
       "      <th>power_up</th>\n",
       "    </tr>\n",
       "  </thead>\n",
       "  <tbody>\n",
       "    <tr>\n",
       "      <th>0</th>\n",
       "      <td>мрт менделеевская</td>\n",
       "      <td>\"!мрт !менделеевская\"</td>\n",
       "      <td>4.5</td>\n",
       "      <td>2101704995</td>\n",
       "      <td>МРТ на Менделеевской от 2000₽</td>\n",
       "      <td>24 часа. МРТ в день обращения. Консультация вр...</td>\n",
       "      <td>https://awesome-site.ru/?utm_source=yandex&amp;utm...</td>\n",
       "      <td>2</td>\n",
       "      <td>a825749b87</td>\n",
       "      <td>91.125</td>\n",
       "    </tr>\n",
       "    <tr>\n",
       "      <th>1</th>\n",
       "      <td>мрт цао</td>\n",
       "      <td>\"мрт менделеевская\"</td>\n",
       "      <td>4.5</td>\n",
       "      <td>2101704995</td>\n",
       "      <td>МРТ на Менделеевской от 2000₽</td>\n",
       "      <td>24 часа. МРТ в день обращения. Консультация вр...</td>\n",
       "      <td>https://awesome-site.ru/?utm_source=yandex&amp;utm...</td>\n",
       "      <td>2</td>\n",
       "      <td>a825749b87</td>\n",
       "      <td>91.125</td>\n",
       "    </tr>\n",
       "    <tr>\n",
       "      <th>2</th>\n",
       "      <td>мрт цао</td>\n",
       "      <td>мрт менделеевская -головы -позвоночника -сдела...</td>\n",
       "      <td>7.4</td>\n",
       "      <td>2101704995</td>\n",
       "      <td>МРТ на Менделеевской от 2000₽</td>\n",
       "      <td>24 часа. МРТ в день обращения. Консультация вр...</td>\n",
       "      <td>https://awesome-site.ru/?utm_source=yandex&amp;utm...</td>\n",
       "      <td>6</td>\n",
       "      <td>a825749b87</td>\n",
       "      <td>405.224</td>\n",
       "    </tr>\n",
       "    <tr>\n",
       "      <th>3</th>\n",
       "      <td>мрт цао</td>\n",
       "      <td>\"!мрт !цао\"</td>\n",
       "      <td>5.0</td>\n",
       "      <td>2101704999</td>\n",
       "      <td>МРТ в ЦАО от 2000₽. Звоните!</td>\n",
       "      <td>24 часа. МРТ в день обращения. Консультация вр...</td>\n",
       "      <td>https://awesome-site.ru/?utm_source=yandex&amp;utm...</td>\n",
       "      <td>2</td>\n",
       "      <td>9cc0c5f6ca</td>\n",
       "      <td>125.000</td>\n",
       "    </tr>\n",
       "    <tr>\n",
       "      <th>4</th>\n",
       "      <td>мрт сао</td>\n",
       "      <td>\"мрт цао\"</td>\n",
       "      <td>5.0</td>\n",
       "      <td>2101704999</td>\n",
       "      <td>МРТ в ЦАО от 2000₽. Звоните!</td>\n",
       "      <td>24 часа. МРТ в день обращения. Консультация вр...</td>\n",
       "      <td>https://awesome-site.ru/?utm_source=yandex&amp;utm...</td>\n",
       "      <td>2</td>\n",
       "      <td>9cc0c5f6ca</td>\n",
       "      <td>125.000</td>\n",
       "    </tr>\n",
       "    <tr>\n",
       "      <th>...</th>\n",
       "      <td>...</td>\n",
       "      <td>...</td>\n",
       "      <td>...</td>\n",
       "      <td>...</td>\n",
       "      <td>...</td>\n",
       "      <td>...</td>\n",
       "      <td>...</td>\n",
       "      <td>...</td>\n",
       "      <td>...</td>\n",
       "      <td>...</td>\n",
       "    </tr>\n",
       "    <tr>\n",
       "      <th>2154</th>\n",
       "      <td>мрт палиха</td>\n",
       "      <td>\"мрт вднх\"</td>\n",
       "      <td>7.4</td>\n",
       "      <td>3826704858</td>\n",
       "      <td>МРТ на ВДНХ в Москве от 2000₽</td>\n",
       "      <td>24 часа. МРТ в день обращения. Консультация вр...</td>\n",
       "      <td>https://awesome-site.ru/?utm_source=yandex&amp;utm...</td>\n",
       "      <td>2</td>\n",
       "      <td>9bf072c32b</td>\n",
       "      <td>405.224</td>\n",
       "    </tr>\n",
       "    <tr>\n",
       "      <th>2155</th>\n",
       "      <td>клиника москва мрт</td>\n",
       "      <td>мрт вднх -головы -касаткина -позвоночника -сде...</td>\n",
       "      <td>7.2</td>\n",
       "      <td>3826704858</td>\n",
       "      <td>МРТ на ВДНХ в Москве от 2000₽</td>\n",
       "      <td>24 часа. МРТ в день обращения. Консультация вр...</td>\n",
       "      <td>https://awesome-site.ru/?utm_source=yandex&amp;utm...</td>\n",
       "      <td>8</td>\n",
       "      <td>9bf072c32b</td>\n",
       "      <td>373.248</td>\n",
       "    </tr>\n",
       "    <tr>\n",
       "      <th>2156</th>\n",
       "      <td>клиника москва мрт</td>\n",
       "      <td>мрт палиха -10 -головы -позвоночника -сделать ...</td>\n",
       "      <td>7.4</td>\n",
       "      <td>3826704860</td>\n",
       "      <td>МРТ на ул. Палиха от 2 000₽</td>\n",
       "      <td>24 часа. МРТ в день обращения. Консультация вр...</td>\n",
       "      <td>https://awesome-site.ru/?utm_source=yandex&amp;utm...</td>\n",
       "      <td>9</td>\n",
       "      <td>a117c5fc1b</td>\n",
       "      <td>405.224</td>\n",
       "    </tr>\n",
       "    <tr>\n",
       "      <th>2157</th>\n",
       "      <td>клиника москва мрт</td>\n",
       "      <td>\"клиника москва мрт\"</td>\n",
       "      <td>8.7</td>\n",
       "      <td>3826704862</td>\n",
       "      <td>Клиники МРТ в Москве. От 2000₽</td>\n",
       "      <td>24 часа. МРТ в день обращения. Консультация вр...</td>\n",
       "      <td>https://awesome-site.ru/?utm_source=yandex&amp;utm...</td>\n",
       "      <td>3</td>\n",
       "      <td>23d6da5a5a</td>\n",
       "      <td>658.503</td>\n",
       "    </tr>\n",
       "    <tr>\n",
       "      <th>2158</th>\n",
       "      <td>10 мрт палиха</td>\n",
       "      <td>\"!клиника !москва !мрт\"</td>\n",
       "      <td>8.7</td>\n",
       "      <td>3826704862</td>\n",
       "      <td>Клиники МРТ в Москве. От 2000₽</td>\n",
       "      <td>24 часа. МРТ в день обращения. Консультация вр...</td>\n",
       "      <td>https://awesome-site.ru/?utm_source=yandex&amp;utm...</td>\n",
       "      <td>3</td>\n",
       "      <td>23d6da5a5a</td>\n",
       "      <td>658.503</td>\n",
       "    </tr>\n",
       "  </tbody>\n",
       "</table>\n",
       "<p>339 rows × 10 columns</p>\n",
       "</div>"
      ],
      "text/plain": [
       "                   group                                             phrase  \\\n",
       "0      мрт менделеевская                              \"!мрт !менделеевская\"   \n",
       "1                мрт цао                                \"мрт менделеевская\"   \n",
       "2                мрт цао  мрт менделеевская -головы -позвоночника -сдела...   \n",
       "3                мрт цао                                        \"!мрт !цао\"   \n",
       "4                мрт сао                                          \"мрт цао\"   \n",
       "...                  ...                                                ...   \n",
       "2154          мрт палиха                                         \"мрт вднх\"   \n",
       "2155  клиника москва мрт  мрт вднх -головы -касаткина -позвоночника -сде...   \n",
       "2156  клиника москва мрт  мрт палиха -10 -головы -позвоночника -сделать ...   \n",
       "2157  клиника москва мрт                               \"клиника москва мрт\"   \n",
       "2158       10 мрт палиха                            \"!клиника !москва !мрт\"   \n",
       "\n",
       "      effect       ad_id                           title  \\\n",
       "0        4.5  2101704995   МРТ на Менделеевской от 2000₽   \n",
       "1        4.5  2101704995   МРТ на Менделеевской от 2000₽   \n",
       "2        7.4  2101704995   МРТ на Менделеевской от 2000₽   \n",
       "3        5.0  2101704999    МРТ в ЦАО от 2000₽. Звоните!   \n",
       "4        5.0  2101704999    МРТ в ЦАО от 2000₽. Звоните!   \n",
       "...      ...         ...                             ...   \n",
       "2154     7.4  3826704858   МРТ на ВДНХ в Москве от 2000₽   \n",
       "2155     7.2  3826704858   МРТ на ВДНХ в Москве от 2000₽   \n",
       "2156     7.4  3826704860     МРТ на ул. Палиха от 2 000₽   \n",
       "2157     8.7  3826704862  Клиники МРТ в Москве. От 2000₽   \n",
       "2158     8.7  3826704862  Клиники МРТ в Москве. От 2000₽   \n",
       "\n",
       "                                                   text  \\\n",
       "0     24 часа. МРТ в день обращения. Консультация вр...   \n",
       "1     24 часа. МРТ в день обращения. Консультация вр...   \n",
       "2     24 часа. МРТ в день обращения. Консультация вр...   \n",
       "3     24 часа. МРТ в день обращения. Консультация вр...   \n",
       "4     24 часа. МРТ в день обращения. Консультация вр...   \n",
       "...                                                 ...   \n",
       "2154  24 часа. МРТ в день обращения. Консультация вр...   \n",
       "2155  24 часа. МРТ в день обращения. Консультация вр...   \n",
       "2156  24 часа. МРТ в день обращения. Консультация вр...   \n",
       "2157  24 часа. МРТ в день обращения. Консультация вр...   \n",
       "2158  24 часа. МРТ в день обращения. Консультация вр...   \n",
       "\n",
       "                                                   link  word_count  \\\n",
       "0     https://awesome-site.ru/?utm_source=yandex&utm...           2   \n",
       "1     https://awesome-site.ru/?utm_source=yandex&utm...           2   \n",
       "2     https://awesome-site.ru/?utm_source=yandex&utm...           6   \n",
       "3     https://awesome-site.ru/?utm_source=yandex&utm...           2   \n",
       "4     https://awesome-site.ru/?utm_source=yandex&utm...           2   \n",
       "...                                                 ...         ...   \n",
       "2154  https://awesome-site.ru/?utm_source=yandex&utm...           2   \n",
       "2155  https://awesome-site.ru/?utm_source=yandex&utm...           8   \n",
       "2156  https://awesome-site.ru/?utm_source=yandex&utm...           9   \n",
       "2157  https://awesome-site.ru/?utm_source=yandex&utm...           3   \n",
       "2158  https://awesome-site.ru/?utm_source=yandex&utm...           3   \n",
       "\n",
       "        campaign  power_up  \n",
       "0     a825749b87    91.125  \n",
       "1     a825749b87    91.125  \n",
       "2     a825749b87   405.224  \n",
       "3     9cc0c5f6ca   125.000  \n",
       "4     9cc0c5f6ca   125.000  \n",
       "...          ...       ...  \n",
       "2154  9bf072c32b   405.224  \n",
       "2155  9bf072c32b   373.248  \n",
       "2156  a117c5fc1b   405.224  \n",
       "2157  23d6da5a5a   658.503  \n",
       "2158  23d6da5a5a   658.503  \n",
       "\n",
       "[339 rows x 10 columns]"
      ]
     },
     "execution_count": 151,
     "metadata": {},
     "output_type": "execute_result"
    }
   ],
   "source": [
    "stats.groupby('campaign').head()"
   ]
  },
  {
   "cell_type": "code",
   "execution_count": null,
   "metadata": {},
   "outputs": [],
   "source": []
  },
  {
   "cell_type": "code",
   "execution_count": null,
   "metadata": {},
   "outputs": [],
   "source": []
  },
  {
   "cell_type": "markdown",
   "metadata": {},
   "source": [
    "### Задание 1\n",
    "\n",
    "Напишите функцию, которая классифицирует фильмы из материалов занятия по следующим правилам:\n",
    "- оценка 2 и меньше - низкий рейтинг\n",
    "- оценка 4 и меньше - средний рейтинг\n",
    "- оценка 4.5 и 5 - высокий рейтинг\n",
    "\n",
    "Результат классификации запишите в столбец class"
   ]
  },
  {
   "cell_type": "code",
   "execution_count": null,
   "metadata": {},
   "outputs": [],
   "source": []
  },
  {
   "cell_type": "code",
   "execution_count": null,
   "metadata": {},
   "outputs": [],
   "source": []
  },
  {
   "cell_type": "markdown",
   "metadata": {},
   "source": [
    "### Задание 2\n",
    "\n",
    "Используем файл keywords.csv.\n",
    "\n",
    "Необходимо написать гео-классификатор, который каждой строке сможет выставить географическую принадлежность определенному региону. Т. е. если поисковый запрос содержит название города региона, то в столбце ‘region’ пишется название этого региона. Если поисковый запрос не содержит названия города, то ставим ‘undefined’."
   ]
  },
  {
   "cell_type": "markdown",
   "metadata": {},
   "source": [
    "Правила распределения по регионам Центр, Северо-Запад и Дальний Восток:"
   ]
  },
  {
   "cell_type": "code",
   "execution_count": 182,
   "metadata": {
    "ExecuteTime": {
     "end_time": "2023-01-24T16:06:46.679350Z",
     "start_time": "2023-01-24T16:06:46.676762Z"
    }
   },
   "outputs": [],
   "source": [
    "geo_data = {\n",
    "\n",
    "'Центр': ['москва', 'тула', 'ярославль'],\n",
    "\n",
    "'Северо-Запад': ['петербург', 'псков', 'мурманск'],\n",
    "\n",
    "'Дальний Восток': ['владивосток', 'сахалин', 'хабаровск']\n",
    "}"
   ]
  },
  {
   "cell_type": "code",
   "execution_count": 185,
   "metadata": {
    "ExecuteTime": {
     "end_time": "2023-01-24T16:06:59.666041Z",
     "start_time": "2023-01-24T16:06:59.654197Z"
    }
   },
   "outputs": [
    {
     "data": {
      "text/plain": [
       "{'Центр': ['москва', 'тула', 'ярославль'],\n",
       " 'Северо-Запад': ['петербург', 'псков', 'мурманск'],\n",
       " 'Дальний Восток': ['владивосток', 'сахалин', 'хабаровск']}"
      ]
     },
     "execution_count": 185,
     "metadata": {},
     "output_type": "execute_result"
    }
   ],
   "source": [
    "geo_data"
   ]
  },
  {
   "cell_type": "code",
   "execution_count": 215,
   "metadata": {
    "ExecuteTime": {
     "end_time": "2023-01-24T16:41:28.454035Z",
     "start_time": "2023-01-24T16:41:28.451043Z"
    }
   },
   "outputs": [
    {
     "data": {
      "text/plain": [
       "(['москва', 'тула', 'ярославль'], list)"
      ]
     },
     "execution_count": 215,
     "metadata": {},
     "output_type": "execute_result"
    }
   ],
   "source": [
    "geo_data['Центр'], type(geo_data['Центр'])"
   ]
  },
  {
   "cell_type": "code",
   "execution_count": 205,
   "metadata": {
    "ExecuteTime": {
     "end_time": "2023-01-24T16:18:10.825646Z",
     "start_time": "2023-01-24T16:18:10.724781Z"
    }
   },
   "outputs": [],
   "source": [
    "keywords = pd.read_csv('keywords.csv')"
   ]
  },
  {
   "cell_type": "code",
   "execution_count": 206,
   "metadata": {
    "ExecuteTime": {
     "end_time": "2023-01-24T16:18:11.617289Z",
     "start_time": "2023-01-24T16:18:11.610416Z"
    },
    "scrolled": true
   },
   "outputs": [
    {
     "data": {
      "text/html": [
       "<div>\n",
       "<style scoped>\n",
       "    .dataframe tbody tr th:only-of-type {\n",
       "        vertical-align: middle;\n",
       "    }\n",
       "\n",
       "    .dataframe tbody tr th {\n",
       "        vertical-align: top;\n",
       "    }\n",
       "\n",
       "    .dataframe thead th {\n",
       "        text-align: right;\n",
       "    }\n",
       "</style>\n",
       "<table border=\"1\" class=\"dataframe\">\n",
       "  <thead>\n",
       "    <tr style=\"text-align: right;\">\n",
       "      <th></th>\n",
       "      <th>keyword</th>\n",
       "      <th>shows</th>\n",
       "    </tr>\n",
       "  </thead>\n",
       "  <tbody>\n",
       "    <tr>\n",
       "      <th>0</th>\n",
       "      <td>вк</td>\n",
       "      <td>64292779</td>\n",
       "    </tr>\n",
       "    <tr>\n",
       "      <th>1</th>\n",
       "      <td>одноклассники</td>\n",
       "      <td>63810309</td>\n",
       "    </tr>\n",
       "    <tr>\n",
       "      <th>2</th>\n",
       "      <td>порно</td>\n",
       "      <td>41747114</td>\n",
       "    </tr>\n",
       "    <tr>\n",
       "      <th>3</th>\n",
       "      <td>ютуб</td>\n",
       "      <td>39995567</td>\n",
       "    </tr>\n",
       "    <tr>\n",
       "      <th>4</th>\n",
       "      <td>вконтакте</td>\n",
       "      <td>21014195</td>\n",
       "    </tr>\n",
       "    <tr>\n",
       "      <th>...</th>\n",
       "      <td>...</td>\n",
       "      <td>...</td>\n",
       "    </tr>\n",
       "    <tr>\n",
       "      <th>99995</th>\n",
       "      <td>эльдорадо старый оскол</td>\n",
       "      <td>3705</td>\n",
       "    </tr>\n",
       "    <tr>\n",
       "      <th>99996</th>\n",
       "      <td>frigate для firefox</td>\n",
       "      <td>3630</td>\n",
       "    </tr>\n",
       "    <tr>\n",
       "      <th>99997</th>\n",
       "      <td>укрсиб</td>\n",
       "      <td>3630</td>\n",
       "    </tr>\n",
       "    <tr>\n",
       "      <th>99998</th>\n",
       "      <td>погода в ялте на неделю</td>\n",
       "      <td>3688</td>\n",
       "    </tr>\n",
       "    <tr>\n",
       "      <th>99999</th>\n",
       "      <td>ггму</td>\n",
       "      <td>3630</td>\n",
       "    </tr>\n",
       "  </tbody>\n",
       "</table>\n",
       "<p>100000 rows × 2 columns</p>\n",
       "</div>"
      ],
      "text/plain": [
       "                       keyword     shows\n",
       "0                           вк  64292779\n",
       "1                одноклассники  63810309\n",
       "2                        порно  41747114\n",
       "3                         ютуб  39995567\n",
       "4                    вконтакте  21014195\n",
       "...                        ...       ...\n",
       "99995   эльдорадо старый оскол      3705\n",
       "99996      frigate для firefox      3630\n",
       "99997                   укрсиб      3630\n",
       "99998  погода в ялте на неделю      3688\n",
       "99999                     ггму      3630\n",
       "\n",
       "[100000 rows x 2 columns]"
      ]
     },
     "execution_count": 206,
     "metadata": {},
     "output_type": "execute_result"
    }
   ],
   "source": [
    "keywords"
   ]
  },
  {
   "cell_type": "code",
   "execution_count": 222,
   "metadata": {
    "ExecuteTime": {
     "end_time": "2023-01-24T16:47:31.195311Z",
     "start_time": "2023-01-24T16:47:31.172910Z"
    }
   },
   "outputs": [
    {
     "ename": "NameError",
     "evalue": "name 'build_info' is not defined",
     "output_type": "error",
     "traceback": [
      "\u001b[0;31m---------------------------------------------------------------------------\u001b[0m",
      "\u001b[0;31mNameError\u001b[0m                                 Traceback (most recent call last)",
      "Cell \u001b[0;32mIn[222], line 2\u001b[0m\n\u001b[1;32m      1\u001b[0m \u001b[38;5;28;01mimport\u001b[39;00m \u001b[38;5;21;01mre\u001b[39;00m\n\u001b[0;32m----> 2\u001b[0m re\u001b[38;5;241m.\u001b[39mfindall(\u001b[38;5;124m'\u001b[39m\u001b[38;5;124mabc|ccca|ccb\u001b[39m\u001b[38;5;124m'\u001b[39m, \u001b[43mbuild_info\u001b[49m[\u001b[38;5;124m'\u001b[39m\u001b[38;5;124mdisplayName\u001b[39m\u001b[38;5;124m'\u001b[39m],keywords[\u001b[38;5;124m'\u001b[39m\u001b[38;5;124mkeyword\u001b[39m\u001b[38;5;124m'\u001b[39m][\u001b[38;5;241m0\u001b[39m])\n",
      "\u001b[0;31mNameError\u001b[0m: name 'build_info' is not defined"
     ]
    }
   ],
   "source": [
    "import re\n",
    "re.findall('abc|ccca|ccb', build_info['displayName'])"
   ]
  },
  {
   "cell_type": "code",
   "execution_count": 245,
   "metadata": {
    "ExecuteTime": {
     "end_time": "2023-01-24T16:52:30.234404Z",
     "start_time": "2023-01-24T16:52:30.222282Z"
    }
   },
   "outputs": [
    {
     "data": {
      "text/plain": [
       "('Центр|Северо-Запад|Дальний Восток', str)"
      ]
     },
     "execution_count": 245,
     "metadata": {},
     "output_type": "execute_result"
    }
   ],
   "source": [
    "buf = \"|\".join([region for region in geo_data])\n",
    "buf, type(buf)"
   ]
  },
  {
   "cell_type": "code",
   "execution_count": 230,
   "metadata": {
    "ExecuteTime": {
     "end_time": "2023-01-24T16:48:29.301926Z",
     "start_time": "2023-01-24T16:48:29.291769Z"
    }
   },
   "outputs": [
    {
     "data": {
      "text/plain": [
       "['Центр', 'Северо-Запад', 'Дальний Восток']"
      ]
     },
     "execution_count": 230,
     "metadata": {},
     "output_type": "execute_result"
    }
   ],
   "source": [
    "list(geo_data.keys())"
   ]
  },
  {
   "cell_type": "code",
   "execution_count": 269,
   "metadata": {
    "ExecuteTime": {
     "end_time": "2023-01-24T17:03:24.056614Z",
     "start_time": "2023-01-24T17:03:24.052856Z"
    }
   },
   "outputs": [
    {
     "data": {
      "text/plain": [
       "['Центр', 'Северо-Запад', 'Дальний Восток']"
      ]
     },
     "execution_count": 269,
     "metadata": {},
     "output_type": "execute_result"
    }
   ],
   "source": [
    "l_geo_data = list(geo_data.keys())\n",
    "l_geo_data"
   ]
  },
  {
   "cell_type": "code",
   "execution_count": 249,
   "metadata": {
    "ExecuteTime": {
     "end_time": "2023-01-24T16:54:12.361315Z",
     "start_time": "2023-01-24T16:54:12.357664Z"
    }
   },
   "outputs": [
    {
     "data": {
      "text/plain": [
       "['ccca', 'abc', 'abc']"
      ]
     },
     "execution_count": 249,
     "metadata": {},
     "output_type": "execute_result"
    }
   ],
   "source": [
    "re.findall('abc|ccca|ccb', 'gcccafhgfabcjabc')"
   ]
  },
  {
   "cell_type": "code",
   "execution_count": 271,
   "metadata": {
    "ExecuteTime": {
     "end_time": "2023-01-24T17:04:04.247493Z",
     "start_time": "2023-01-24T17:04:04.237050Z"
    }
   },
   "outputs": [
    {
     "name": "stdout",
     "output_type": "stream",
     "text": [
      "Центр\n",
      "['москва', 'тула']\n",
      "Северо-Запад\n",
      "['петербург']\n",
      "Дальний Восток\n",
      "[]\n"
     ]
    }
   ],
   "source": [
    "for region in l_geo_data:\n",
    "    print(region)\n",
    "    print(re.findall(\"|\".join([city for city in geo_data[region]]), 'москватулапетербург'))"
   ]
  },
  {
   "cell_type": "code",
   "execution_count": 259,
   "metadata": {
    "ExecuteTime": {
     "end_time": "2023-01-24T17:00:03.477793Z",
     "start_time": "2023-01-24T17:00:03.468778Z"
    }
   },
   "outputs": [
    {
     "data": {
      "text/plain": [
       "['москва', 'тула', 'ярославль']"
      ]
     },
     "execution_count": 259,
     "metadata": {},
     "output_type": "execute_result"
    }
   ],
   "source": [
    "geo_data['Центр']"
   ]
  },
  {
   "cell_type": "code",
   "execution_count": 264,
   "metadata": {
    "ExecuteTime": {
     "end_time": "2023-01-24T17:01:51.771056Z",
     "start_time": "2023-01-24T17:01:51.768628Z"
    }
   },
   "outputs": [],
   "source": [
    "s = \"|\".join([city for city in geo_data['Центр']])"
   ]
  },
  {
   "cell_type": "code",
   "execution_count": 213,
   "metadata": {
    "ExecuteTime": {
     "end_time": "2023-01-24T16:41:02.406814Z",
     "start_time": "2023-01-24T16:41:02.397050Z"
    }
   },
   "outputs": [],
   "source": [
    "def fil(row):\n",
    "    l_geo_data = tuple(geo_data.keys())\n",
    "\n",
    "    for region in l_geo_data:\n",
    "        if :\n",
    "            print(row[i], 'Центр',sep='/')\n",
    "            #keywords['region'] = 'Центр'\n",
    "        if :\n",
    "            print(row[i], 'Северо-Запад',sep='/')\n",
    "            #keywords['region'] = 'Северо-Запад'\n",
    "        if :\n",
    "            print(row[i], 'Дальний Восток',sep='/')\n",
    "            #keywords['region'] = 'Дальний Восток'\n",
    "        else:\n",
    "            pass\n",
    "            #keywords['region'] = 'indefined'\n"
   ]
  },
  {
   "cell_type": "code",
   "execution_count": null,
   "metadata": {},
   "outputs": [],
   "source": []
  },
  {
   "cell_type": "code",
   "execution_count": 194,
   "metadata": {
    "ExecuteTime": {
     "end_time": "2023-01-24T16:12:29.519137Z",
     "start_time": "2023-01-24T16:12:29.507767Z"
    }
   },
   "outputs": [
    {
     "data": {
      "text/plain": [
       "'вк'"
      ]
     },
     "execution_count": 194,
     "metadata": {},
     "output_type": "execute_result"
    }
   ],
   "source": [
    "keywords['keyword'][0]"
   ]
  },
  {
   "cell_type": "code",
   "execution_count": 214,
   "metadata": {
    "ExecuteTime": {
     "end_time": "2023-01-24T16:41:04.762183Z",
     "start_time": "2023-01-24T16:41:04.704283Z"
    },
    "scrolled": false
   },
   "outputs": [
    {
     "ename": "TypeError",
     "evalue": "'in <string>' requires string as left operand, not list",
     "output_type": "error",
     "traceback": [
      "\u001b[0;31m---------------------------------------------------------------------------\u001b[0m",
      "\u001b[0;31mTypeError\u001b[0m                                 Traceback (most recent call last)",
      "Cell \u001b[0;32mIn[214], line 1\u001b[0m\n\u001b[0;32m----> 1\u001b[0m \u001b[43mkeywords\u001b[49m\u001b[38;5;241;43m.\u001b[39;49m\u001b[43mapply\u001b[49m\u001b[43m(\u001b[49m\u001b[43mfil\u001b[49m\u001b[43m,\u001b[49m\u001b[43m \u001b[49m\u001b[43maxis\u001b[49m\u001b[38;5;241;43m=\u001b[39;49m\u001b[38;5;241;43m1\u001b[39;49m\u001b[43m)\u001b[49m\n",
      "File \u001b[0;32m~/Jupyter/jup_venv/lib/python3.10/site-packages/pandas/core/frame.py:9565\u001b[0m, in \u001b[0;36mDataFrame.apply\u001b[0;34m(self, func, axis, raw, result_type, args, **kwargs)\u001b[0m\n\u001b[1;32m   9554\u001b[0m \u001b[38;5;28;01mfrom\u001b[39;00m \u001b[38;5;21;01mpandas\u001b[39;00m\u001b[38;5;21;01m.\u001b[39;00m\u001b[38;5;21;01mcore\u001b[39;00m\u001b[38;5;21;01m.\u001b[39;00m\u001b[38;5;21;01mapply\u001b[39;00m \u001b[38;5;28;01mimport\u001b[39;00m frame_apply\n\u001b[1;32m   9556\u001b[0m op \u001b[38;5;241m=\u001b[39m frame_apply(\n\u001b[1;32m   9557\u001b[0m     \u001b[38;5;28mself\u001b[39m,\n\u001b[1;32m   9558\u001b[0m     func\u001b[38;5;241m=\u001b[39mfunc,\n\u001b[0;32m   (...)\u001b[0m\n\u001b[1;32m   9563\u001b[0m     kwargs\u001b[38;5;241m=\u001b[39mkwargs,\n\u001b[1;32m   9564\u001b[0m )\n\u001b[0;32m-> 9565\u001b[0m \u001b[38;5;28;01mreturn\u001b[39;00m \u001b[43mop\u001b[49m\u001b[38;5;241;43m.\u001b[39;49m\u001b[43mapply\u001b[49m\u001b[43m(\u001b[49m\u001b[43m)\u001b[49m\u001b[38;5;241m.\u001b[39m__finalize__(\u001b[38;5;28mself\u001b[39m, method\u001b[38;5;241m=\u001b[39m\u001b[38;5;124m\"\u001b[39m\u001b[38;5;124mapply\u001b[39m\u001b[38;5;124m\"\u001b[39m)\n",
      "File \u001b[0;32m~/Jupyter/jup_venv/lib/python3.10/site-packages/pandas/core/apply.py:746\u001b[0m, in \u001b[0;36mFrameApply.apply\u001b[0;34m(self)\u001b[0m\n\u001b[1;32m    743\u001b[0m \u001b[38;5;28;01melif\u001b[39;00m \u001b[38;5;28mself\u001b[39m\u001b[38;5;241m.\u001b[39mraw:\n\u001b[1;32m    744\u001b[0m     \u001b[38;5;28;01mreturn\u001b[39;00m \u001b[38;5;28mself\u001b[39m\u001b[38;5;241m.\u001b[39mapply_raw()\n\u001b[0;32m--> 746\u001b[0m \u001b[38;5;28;01mreturn\u001b[39;00m \u001b[38;5;28;43mself\u001b[39;49m\u001b[38;5;241;43m.\u001b[39;49m\u001b[43mapply_standard\u001b[49m\u001b[43m(\u001b[49m\u001b[43m)\u001b[49m\n",
      "File \u001b[0;32m~/Jupyter/jup_venv/lib/python3.10/site-packages/pandas/core/apply.py:873\u001b[0m, in \u001b[0;36mFrameApply.apply_standard\u001b[0;34m(self)\u001b[0m\n\u001b[1;32m    872\u001b[0m \u001b[38;5;28;01mdef\u001b[39;00m \u001b[38;5;21mapply_standard\u001b[39m(\u001b[38;5;28mself\u001b[39m):\n\u001b[0;32m--> 873\u001b[0m     results, res_index \u001b[38;5;241m=\u001b[39m \u001b[38;5;28;43mself\u001b[39;49m\u001b[38;5;241;43m.\u001b[39;49m\u001b[43mapply_series_generator\u001b[49m\u001b[43m(\u001b[49m\u001b[43m)\u001b[49m\n\u001b[1;32m    875\u001b[0m     \u001b[38;5;66;03m# wrap results\u001b[39;00m\n\u001b[1;32m    876\u001b[0m     \u001b[38;5;28;01mreturn\u001b[39;00m \u001b[38;5;28mself\u001b[39m\u001b[38;5;241m.\u001b[39mwrap_results(results, res_index)\n",
      "File \u001b[0;32m~/Jupyter/jup_venv/lib/python3.10/site-packages/pandas/core/apply.py:889\u001b[0m, in \u001b[0;36mFrameApply.apply_series_generator\u001b[0;34m(self)\u001b[0m\n\u001b[1;32m    886\u001b[0m \u001b[38;5;28;01mwith\u001b[39;00m option_context(\u001b[38;5;124m\"\u001b[39m\u001b[38;5;124mmode.chained_assignment\u001b[39m\u001b[38;5;124m\"\u001b[39m, \u001b[38;5;28;01mNone\u001b[39;00m):\n\u001b[1;32m    887\u001b[0m     \u001b[38;5;28;01mfor\u001b[39;00m i, v \u001b[38;5;129;01min\u001b[39;00m \u001b[38;5;28menumerate\u001b[39m(series_gen):\n\u001b[1;32m    888\u001b[0m         \u001b[38;5;66;03m# ignore SettingWithCopy here in case the user mutates\u001b[39;00m\n\u001b[0;32m--> 889\u001b[0m         results[i] \u001b[38;5;241m=\u001b[39m \u001b[38;5;28;43mself\u001b[39;49m\u001b[38;5;241;43m.\u001b[39;49m\u001b[43mf\u001b[49m\u001b[43m(\u001b[49m\u001b[43mv\u001b[49m\u001b[43m)\u001b[49m\n\u001b[1;32m    890\u001b[0m         \u001b[38;5;28;01mif\u001b[39;00m \u001b[38;5;28misinstance\u001b[39m(results[i], ABCSeries):\n\u001b[1;32m    891\u001b[0m             \u001b[38;5;66;03m# If we have a view on v, we need to make a copy because\u001b[39;00m\n\u001b[1;32m    892\u001b[0m             \u001b[38;5;66;03m#  series_generator will swap out the underlying data\u001b[39;00m\n\u001b[1;32m    893\u001b[0m             results[i] \u001b[38;5;241m=\u001b[39m results[i]\u001b[38;5;241m.\u001b[39mcopy(deep\u001b[38;5;241m=\u001b[39m\u001b[38;5;28;01mFalse\u001b[39;00m)\n",
      "Cell \u001b[0;32mIn[213], line 3\u001b[0m, in \u001b[0;36mfil\u001b[0;34m(row)\u001b[0m\n\u001b[1;32m      1\u001b[0m \u001b[38;5;28;01mdef\u001b[39;00m \u001b[38;5;21mfil\u001b[39m(row):\n\u001b[1;32m      2\u001b[0m     \u001b[38;5;28;01mfor\u001b[39;00m i \u001b[38;5;129;01min\u001b[39;00m \u001b[38;5;28mrange\u001b[39m(\u001b[38;5;28mlen\u001b[39m(row)):\n\u001b[0;32m----> 3\u001b[0m         \u001b[38;5;28;01mif\u001b[39;00m \u001b[43mgeo_data\u001b[49m\u001b[43m[\u001b[49m\u001b[38;5;124;43m'\u001b[39;49m\u001b[38;5;124;43mЦентр\u001b[39;49m\u001b[38;5;124;43m'\u001b[39;49m\u001b[43m]\u001b[49m\u001b[43m \u001b[49m\u001b[38;5;129;43;01min\u001b[39;49;00m\u001b[43m \u001b[49m\u001b[43mrow\u001b[49m\u001b[43m[\u001b[49m\u001b[43mi\u001b[49m\u001b[43m]\u001b[49m:\n\u001b[1;32m      4\u001b[0m             \u001b[38;5;28mprint\u001b[39m(row[i], \u001b[38;5;124m'\u001b[39m\u001b[38;5;124mЦентр\u001b[39m\u001b[38;5;124m'\u001b[39m,sep\u001b[38;5;241m=\u001b[39m\u001b[38;5;124m'\u001b[39m\u001b[38;5;124m/\u001b[39m\u001b[38;5;124m'\u001b[39m)\n\u001b[1;32m      5\u001b[0m             \u001b[38;5;66;03m#keywords['region'] = 'Центр'\u001b[39;00m\n",
      "\u001b[0;31mTypeError\u001b[0m: 'in <string>' requires string as left operand, not list"
     ]
    }
   ],
   "source": [
    "keywords.apply(fil, axis=1)"
   ]
  },
  {
   "cell_type": "code",
   "execution_count": 207,
   "metadata": {
    "ExecuteTime": {
     "end_time": "2023-01-24T16:18:15.924574Z",
     "start_time": "2023-01-24T16:18:15.908757Z"
    }
   },
   "outputs": [
    {
     "data": {
      "text/html": [
       "<div>\n",
       "<style scoped>\n",
       "    .dataframe tbody tr th:only-of-type {\n",
       "        vertical-align: middle;\n",
       "    }\n",
       "\n",
       "    .dataframe tbody tr th {\n",
       "        vertical-align: top;\n",
       "    }\n",
       "\n",
       "    .dataframe thead th {\n",
       "        text-align: right;\n",
       "    }\n",
       "</style>\n",
       "<table border=\"1\" class=\"dataframe\">\n",
       "  <thead>\n",
       "    <tr style=\"text-align: right;\">\n",
       "      <th></th>\n",
       "      <th>keyword</th>\n",
       "      <th>shows</th>\n",
       "    </tr>\n",
       "  </thead>\n",
       "  <tbody>\n",
       "    <tr>\n",
       "      <th>0</th>\n",
       "      <td>вк</td>\n",
       "      <td>64292779</td>\n",
       "    </tr>\n",
       "    <tr>\n",
       "      <th>1</th>\n",
       "      <td>одноклассники</td>\n",
       "      <td>63810309</td>\n",
       "    </tr>\n",
       "    <tr>\n",
       "      <th>2</th>\n",
       "      <td>порно</td>\n",
       "      <td>41747114</td>\n",
       "    </tr>\n",
       "    <tr>\n",
       "      <th>3</th>\n",
       "      <td>ютуб</td>\n",
       "      <td>39995567</td>\n",
       "    </tr>\n",
       "    <tr>\n",
       "      <th>4</th>\n",
       "      <td>вконтакте</td>\n",
       "      <td>21014195</td>\n",
       "    </tr>\n",
       "  </tbody>\n",
       "</table>\n",
       "</div>"
      ],
      "text/plain": [
       "         keyword     shows\n",
       "0             вк  64292779\n",
       "1  одноклассники  63810309\n",
       "2          порно  41747114\n",
       "3           ютуб  39995567\n",
       "4      вконтакте  21014195"
      ]
     },
     "execution_count": 207,
     "metadata": {},
     "output_type": "execute_result"
    }
   ],
   "source": [
    "keywords.head()"
   ]
  },
  {
   "cell_type": "code",
   "execution_count": null,
   "metadata": {},
   "outputs": [],
   "source": []
  },
  {
   "cell_type": "markdown",
   "metadata": {},
   "source": [
    "### Задание 3 (бонусное)\n",
    "\n",
    "Есть мнение, что “раньше снимали настоящее кино, не то что сейчас”. Ваша задача проверить это утверждение, используя файлы с рейтингами фильмов из прошлого домашнего занятия (файл ratings.csv из базы https://grouplens.org/datasets/movielens). Т. е. проверить верно ли, что с ростом года выпуска фильма его средний рейтинг становится ниже.\n",
    "\n",
    "При этом мы не будем затрагивать субьективные факторы выставления этих рейтингов, а пройдемся по следующему алгоритму:\n",
    "\n",
    "В переменную years запишите список из всех годов с 1950 по 2010.\n",
    "\n",
    "Напишите функцию production_year, которая каждой строке из названия фильма выставляет год выпуска. Не все названия фильмов содержат год выпуска в одинаковом формате, поэтому используйте следующий алгоритм:\n",
    "\n",
    "для каждой строки пройдите по всем годам списка years\n",
    "если номер года присутствует в названии фильма, то функция возвращает этот год как год выпуска\n",
    "если ни один из номеров года списка years не встретился в названии фильма, то возвращается 1900 год\n",
    "Запишите год выпуска фильма по алгоритму пункта 2 в новый столбец ‘year’\n",
    "\n",
    "Посчитайте средний рейтинг всех фильмов для каждого значения столбца ‘year’ и отсортируйте результат по убыванию рейтинга"
   ]
  },
  {
   "cell_type": "code",
   "execution_count": null,
   "metadata": {},
   "outputs": [],
   "source": []
  },
  {
   "cell_type": "code",
   "execution_count": null,
   "metadata": {},
   "outputs": [],
   "source": []
  }
 ],
 "metadata": {
  "kernelspec": {
   "display_name": "Python 3 (ipykernel)",
   "language": "python",
   "name": "python3"
  },
  "language_info": {
   "codemirror_mode": {
    "name": "ipython",
    "version": 3
   },
   "file_extension": ".py",
   "mimetype": "text/x-python",
   "name": "python",
   "nbconvert_exporter": "python",
   "pygments_lexer": "ipython3",
   "version": "3.10.7"
  }
 },
 "nbformat": 4,
 "nbformat_minor": 2
}
