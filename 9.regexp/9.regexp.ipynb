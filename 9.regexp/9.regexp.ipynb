{
 "cells": [
  {
   "cell_type": "code",
   "execution_count": 1,
   "metadata": {
    "ExecuteTime": {
     "end_time": "2022-03-05T16:56:22.757298Z",
     "start_time": "2022-03-05T16:56:22.751703Z"
    },
    "deletable": false,
    "editable": false
   },
   "outputs": [],
   "source": [
    "import re"
   ]
  },
  {
   "cell_type": "code",
   "execution_count": null,
   "metadata": {},
   "outputs": [],
   "source": [
    "# найдем идентификаторы пользователей в тексте\n",
    "msg = 'В розыгрыше победили: id1234563, id4653, id46!'\n",
    "\n"
   ]
  },
  {
   "cell_type": "code",
   "execution_count": null,
   "metadata": {},
   "outputs": [],
   "source": [
    "re.findall(r'id\\d+', msg)"
   ]
  },
  {
   "cell_type": "code",
   "execution_count": null,
   "metadata": {},
   "outputs": [],
   "source": [
    "# ПРАКТИКА. Найдем хэштеги в твите\n",
    "tweet = 'когда #эпидемия, то обязательно #оставайсядома'"
   ]
  },
  {
   "cell_type": "code",
   "execution_count": null,
   "metadata": {},
   "outputs": [],
   "source": [
    "re.findall(r'#\\w+',tweet)"
   ]
  },
  {
   "cell_type": "code",
   "execution_count": null,
   "metadata": {},
   "outputs": [],
   "source": [
    "# посмотрим внимательнее, как работают quantifiers\n",
    "text = \"\"\"Что такое регулярные выражения и как их использовать? \n",
    "Говоря простым языком, регулярное выражение — это последовательность символов, используемая для поиска и замены текста в строке или файле. Как уже было упомянуто,\\\n",
    "их поддерживает множество языков общего назначения: Python, Perl, R.\n",
    "Так что изучение регулярных выражений рано или поздно пригодится.\"\"\""
   ]
  },
  {
   "cell_type": "code",
   "execution_count": null,
   "metadata": {},
   "outputs": [],
   "source": [
    "re.findall(r'\\w+', text)"
   ]
  },
  {
   "cell_type": "code",
   "execution_count": null,
   "metadata": {},
   "outputs": [],
   "source": [
    "re.findall(r'\\w*', text)"
   ]
  },
  {
   "cell_type": "code",
   "execution_count": null,
   "metadata": {},
   "outputs": [],
   "source": [
    "re.findall(r'\\w?', text)"
   ]
  },
  {
   "cell_type": "code",
   "execution_count": null,
   "metadata": {},
   "outputs": [],
   "source": [
    "# необходимо из строки с условными датами вытащить их\n",
    "registration = 'Date of start: 4-12. Date of registration: 20-11'"
   ]
  },
  {
   "cell_type": "code",
   "execution_count": null,
   "metadata": {},
   "outputs": [],
   "source": [
    "re.findall(r'\\d{1,2}-\\d{1,2}', registration)"
   ]
  },
  {
   "cell_type": "code",
   "execution_count": null,
   "metadata": {},
   "outputs": [],
   "source": [
    "# вытащим номера телефонов и текста\n",
    "phone_numbers = 'Мария: 8-943-342-23-32 Александр: 8-323-432-23-67'"
   ]
  },
  {
   "cell_type": "code",
   "execution_count": null,
   "metadata": {},
   "outputs": [],
   "source": [
    "phone_pattern = r'\\d-\\d{3}-\\d{3}-\\d{2}-\\d{2}'\n",
    "re.findall(phone_pattern, phone_numbers)"
   ]
  },
  {
   "cell_type": "code",
   "execution_count": null,
   "metadata": {
    "scrolled": true
   },
   "outputs": [],
   "source": [
    "# ПРАКТИКА. Свалидируем дату\n",
    "date = '1st september 2019 17:25'"
   ]
  },
  {
   "cell_type": "code",
   "execution_count": null,
   "metadata": {},
   "outputs": [],
   "source": [
    "re.findall(r'\\d\\w{1,2} \\w+ \\d+ \\d{1,2}:\\d{1,2}', date)"
   ]
  },
  {
   "cell_type": "code",
   "execution_count": null,
   "metadata": {},
   "outputs": [],
   "source": [
    "re.findall(r'\\d{1,2}\\w{1,2}\\s\\w+\\s\\d+\\s\\d{1,2}:\\d{1,2}', date)"
   ]
  },
  {
   "cell_type": "code",
   "execution_count": null,
   "metadata": {},
   "outputs": [],
   "source": [
    "# ПРАКТИКА. Посчитаем количество лайков и репостов по всем сообщениям\n",
    "messages = ['Опять дождь! Лайков: 5, Репостов: 4', 'Крутой был концерт! Лайков: 28, Репостов: 22']"
   ]
  },
  {
   "cell_type": "code",
   "execution_count": null,
   "metadata": {},
   "outputs": [],
   "source": [
    "for message in messages:\n",
    "    print(type(message))\n",
    "    \n",
    "print(type(re.findall(r'Лайков:\\s\\d+',messages[0])))"
   ]
  },
  {
   "cell_type": "code",
   "execution_count": null,
   "metadata": {},
   "outputs": [],
   "source": [
    "a=[]\n",
    "likes =0\n",
    "reposts = 0\n",
    "for message in messages:\n",
    "    print(re.findall(r'Лайков:\\s\\d+',message)[0][-1])\n",
    "    likes+=int(re.findall(r'Лайков:\\s\\d+',message)[0][-1])\n",
    "    print(re.findall(r'Репостов:\\s\\d+',message)[0][-1])\n",
    "    reposts+=int(re.findall(r'Репостов:\\s\\d+',message)[0][-1])"
   ]
  },
  {
   "cell_type": "code",
   "execution_count": null,
   "metadata": {},
   "outputs": [],
   "source": [
    "likes,reposts"
   ]
  },
  {
   "cell_type": "code",
   "execution_count": null,
   "metadata": {},
   "outputs": [],
   "source": [
    "msgs = ['Опять дождь! Лайков: 5, Репостов: 4', 'Крутой был концерт! Лайков: 28, Репостов: 22']\n",
    "\n",
    "likes =0\n",
    "reposts = 0\n",
    "for msg in msgs:\n",
    "    buf = re.findall(r'Лайков:\\s\\d+',msg)[0]\n",
    "    if buf:\n",
    "        print(re.findall(r'\\d+',buf)[0])\n",
    "        likes+=int(re.findall(r'\\d+',buf)[0])\n",
    "    buf = re.findall(r'Репостов:\\s\\d+',msg)[0]\n",
    "    if buf:\n",
    "        print(re.findall(r'\\d+',buf)[0])\n",
    "        reposts+=int(re.findall(r'\\d+',buf)[0])"
   ]
  },
  {
   "cell_type": "code",
   "execution_count": null,
   "metadata": {},
   "outputs": [],
   "source": [
    "likes,reposts"
   ]
  },
  {
   "cell_type": "code",
   "execution_count": null,
   "metadata": {},
   "outputs": [],
   "source": [
    "test = ' '\n",
    "int(test)"
   ]
  },
  {
   "cell_type": "code",
   "execution_count": null,
   "metadata": {},
   "outputs": [],
   "source": [
    "# посчитаем количество восклицательных предложений в твите\n",
    "tweet_2 = 'Какое замечательное место! Обязательно вернусть сюда снова. Всем советую!!!'"
   ]
  },
  {
   "cell_type": "code",
   "execution_count": null,
   "metadata": {},
   "outputs": [],
   "source": [
    "re.split(r'!+', tweet_2)\n",
    "# re.split(r'!+ ', tweet_2)\n",
    "# len(re.split(r'!+\\s', tweet_2))"
   ]
  },
  {
   "cell_type": "code",
   "execution_count": null,
   "metadata": {},
   "outputs": [],
   "source": [
    "re.split(r'!+\\s', tweet_2)"
   ]
  },
  {
   "cell_type": "code",
   "execution_count": null,
   "metadata": {},
   "outputs": [],
   "source": [
    "# search ищет по всей строке, а match только в начале\n",
    "text = \"\"\"Что такое регулярные выражения и как их использовать? \n",
    "Говоря простым языком, регулярное выражение — это последовательность символов, используемая для поиска и замены текста в строке или файле. Как уже было упомянуто,\\\n",
    "их поддерживает множество языков общего назначения: Python, Perl, R.\n",
    "Так что изучение регулярных выражений рано или поздно пригодится.\"\"\"\n",
    "\n",
    "result = re.match(r'Python', text)\n",
    "result\n",
    "# print('Нашел' if result else 'Не нашел')"
   ]
  },
  {
   "cell_type": "code",
   "execution_count": null,
   "metadata": {},
   "outputs": [],
   "source": [
    "re.match(r'Что', text) #+индексы"
   ]
  },
  {
   "cell_type": "code",
   "execution_count": null,
   "metadata": {},
   "outputs": [],
   "source": [
    "res = re.search(r'Python', text)\n",
    "res.start(), res.end()\n",
    "# res.group()"
   ]
  },
  {
   "cell_type": "code",
   "execution_count": null,
   "metadata": {},
   "outputs": [],
   "source": [
    "res.group()"
   ]
  },
  {
   "cell_type": "code",
   "execution_count": null,
   "metadata": {},
   "outputs": [],
   "source": []
  },
  {
   "cell_type": "code",
   "execution_count": null,
   "metadata": {},
   "outputs": [],
   "source": [
    "# определим находится ли домен в зоне com\n",
    "domain = 'www.site.com'"
   ]
  },
  {
   "cell_type": "code",
   "execution_count": null,
   "metadata": {},
   "outputs": [],
   "source": [
    "re.findall(r'www.+com', domain)"
   ]
  },
  {
   "cell_type": "code",
   "execution_count": 30,
   "metadata": {
    "ExecuteTime": {
     "end_time": "2022-02-24T15:23:24.976066Z",
     "start_time": "2022-02-24T15:23:24.973505Z"
    }
   },
   "outputs": [],
   "source": [
    "# поищем только в начале и конце строки\n",
    "history_comment = '20 век был более опасным, чем 19 век'"
   ]
  },
  {
   "cell_type": "code",
   "execution_count": 31,
   "metadata": {
    "ExecuteTime": {
     "end_time": "2022-02-24T15:23:25.277376Z",
     "start_time": "2022-02-24T15:23:25.274585Z"
    }
   },
   "outputs": [
    {
     "data": {
      "text/plain": [
       "['20 век', '9 век']"
      ]
     },
     "execution_count": 31,
     "metadata": {},
     "output_type": "execute_result"
    }
   ],
   "source": [
    "re.findall(r'\\d{1,2}\\s\\век', history_comment)"
   ]
  },
  {
   "cell_type": "code",
   "execution_count": null,
   "metadata": {},
   "outputs": [],
   "source": [
    "re.findall(r'^\\d{1,2}\\s\\век', history_comment)  # ^ только в начале строки"
   ]
  },
  {
   "cell_type": "code",
   "execution_count": null,
   "metadata": {},
   "outputs": [],
   "source": [
    "re.findall(r'\\d{1,2}\\s\\век$', history_comment)  # ^ только в конце строки"
   ]
  },
  {
   "cell_type": "code",
   "execution_count": null,
   "metadata": {},
   "outputs": [],
   "source": [
    "# экранирование. Разделим текст по точкам\n",
    "text = \"\"\"Что такое регулярные выражения и как их использовать? \n",
    "Говоря простым языком, регулярное выражение — это последовательность символов, используемая для поиска и замены текста в строке или файле. Как уже было упомянуто,\n",
    "их поддерживает множество языков общего назначения: Python, Perl, R.\n",
    "Так что изучение регулярных выражений рано или поздно пригодится.\"\"\""
   ]
  },
  {
   "cell_type": "code",
   "execution_count": null,
   "metadata": {},
   "outputs": [],
   "source": [
    "len(re.split(r'\\.\\s', text))"
   ]
  },
  {
   "cell_type": "code",
   "execution_count": null,
   "metadata": {},
   "outputs": [],
   "source": [
    "len(re.split(r'\\.\\s|\\?\\s', text))"
   ]
  },
  {
   "cell_type": "code",
   "execution_count": null,
   "metadata": {},
   "outputs": [],
   "source": [
    "# ИЛИ\n",
    "market_search = 'Что лучше: ноутбук или компьютер?'\n",
    "re.findall('ноутбук|компьютер', market_search)"
   ]
  },
  {
   "cell_type": "code",
   "execution_count": null,
   "metadata": {},
   "outputs": [],
   "source": [
    "# [] - найдем слово во всем склонениях\n",
    "text = \"\"\"Что такое регулярные выражения и как их использовать? \n",
    "Говоря простым языком, регулярное выражение — это последовательность символов, используемая для поиска и замены текста в строке или файле. Как уже было упомянуто,\n",
    "их поддерживает множество языков общего назначения: Python, Perl, R.\n",
    "Так что изучение регулярных выражений рано или поздно пригодится.\"\"\"\n",
    "pattern = r'регулярн[а-я]+\\sвыражен[а-я]+'\n",
    "re.findall(pattern, text)"
   ]
  },
  {
   "cell_type": "code",
   "execution_count": null,
   "metadata": {},
   "outputs": [],
   "source": [
    "websites = 'www.101.com  www.google.com'"
   ]
  },
  {
   "cell_type": "code",
   "execution_count": null,
   "metadata": {},
   "outputs": [],
   "source": [
    "re.findall(r'www[^0-9]+com', websites)"
   ]
  },
  {
   "cell_type": "code",
   "execution_count": null,
   "metadata": {},
   "outputs": [],
   "source": [
    "re.findall(r'www\\.[0-9]+\\.com', websites)"
   ]
  },
  {
   "cell_type": "code",
   "execution_count": null,
   "metadata": {},
   "outputs": [],
   "source": [
    "# ПРАКТИКА. Разделим текст по запятой и по точкам\n",
    "tweet_23 = 'Какое замечательное место! Обязательно, вернусть - сюда снова. Всем советую!!!'"
   ]
  },
  {
   "cell_type": "code",
   "execution_count": null,
   "metadata": {},
   "outputs": [],
   "source": [
    "re.split(r'[^а-яА-Я0-9]+\\s',tweet_23)"
   ]
  },
  {
   "cell_type": "code",
   "execution_count": null,
   "metadata": {},
   "outputs": [],
   "source": [
    "re.split(r'[^(а-яА-Я0-9)]+(?:!+)',tweet_23)"
   ]
  },
  {
   "cell_type": "code",
   "execution_count": null,
   "metadata": {},
   "outputs": [],
   "source": [
    "re.split(r'[!,.]+(?:!)',tweet_23)"
   ]
  },
  {
   "cell_type": "code",
   "execution_count": null,
   "metadata": {},
   "outputs": [],
   "source": [
    "re.split(r'[!{1,2}]+\\s',tweet_23) "
   ]
  },
  {
   "cell_type": "markdown",
   "metadata": {},
   "source": [
    "# ПРАКТИКА. Напишите регулярку, которая отберет только валидный пароль по критериям:\n",
    "# - содержит латинские символы в верхнем и нижнем регистре;\n",
    "# - содержит числа;\n",
    "# - содержит символы из *, #, $, %, !, &, .;\n",
    "# - от 8 до 20 символов в длину;"
   ]
  },
  {
   "cell_type": "code",
   "execution_count": null,
   "metadata": {},
   "outputs": [],
   "source": [
    "passwords = ['Apple34!rose', 'My87hou#4$', 'abc123']"
   ]
  },
  {
   "cell_type": "code",
   "execution_count": null,
   "metadata": {},
   "outputs": [],
   "source": [
    "for pas in passwords:\n",
    "    if 20 >= len(pas) >= 8 :\n",
    "        print(re.findall(r\"[0-9a-zA-Z*#$%!&.]+\" ,pas))\n",
    "    else:\n",
    "        print(\"Мало или много символов\")"
   ]
  },
  {
   "cell_type": "code",
   "execution_count": null,
   "metadata": {},
   "outputs": [],
   "source": []
  },
  {
   "cell_type": "code",
   "execution_count": null,
   "metadata": {},
   "outputs": [],
   "source": [
    "#лучше использовать match так как у нас всего по одной строке\n",
    "\n",
    "regex_pass = r'[0-9a-zA-Z*#$%!&.]{8,20}' # r'[\\w*#$%!&.]{8,20}'\n",
    "for password in passwords:\n",
    "    if re.match(regex_pass, password):\n",
    "        print('The password {} is a valid password'.format(password))\n",
    "    else:\n",
    "        print('The password {} is invalid'.format(password)) "
   ]
  },
  {
   "cell_type": "code",
   "execution_count": null,
   "metadata": {},
   "outputs": [],
   "source": [
    "# произведем замену на regex\n",
    "re.sub(r'регулярн[а-я]+ выражен[а-я]+', 'regex', text)"
   ]
  },
  {
   "cell_type": "code",
   "execution_count": null,
   "metadata": {},
   "outputs": [],
   "source": []
  },
  {
   "cell_type": "markdown",
   "metadata": {},
   "source": [
    "# скобочные группы\n",
    "# выделим группы символов из посадочного талона, где:\n",
    "# - первые 2 символа - это авиакомпания;\n",
    "# - 4 следующие символа - номер рейса;\n",
    "# - 3 следующих символа - аэропорт отправления;\n",
    "# - 3 следюущих - аэропорт прибытия;\n",
    "# - оставшиеся - дата рейса\n",
    "# Все буквы всегда в верхнем регистре"
   ]
  },
  {
   "cell_type": "code",
   "execution_count": null,
   "metadata": {},
   "outputs": [],
   "source": [
    "flight = 'Boarding pass: LA4214 AER-CDB 06NOV'"
   ]
  },
  {
   "cell_type": "code",
   "execution_count": 48,
   "metadata": {
    "ExecuteTime": {
     "end_time": "2022-02-24T16:28:21.861739Z",
     "start_time": "2022-02-24T16:28:21.858856Z"
    }
   },
   "outputs": [
    {
     "name": "stdout",
     "output_type": "stream",
     "text": [
      "<class 'str'>\n",
      "<class 'str'>\n"
     ]
    }
   ],
   "source": [
    "flight = 'Boarding pass: LA4214 AER-CDB 06NOV'\n",
    "print(type(flight))\n",
    "regex_flight = r'([A-Z]{2})(\\d{4})\\s([A-Z]{3})-([A-Z]{3})\\s(\\d{2}[A-Z]{3})'\n",
    "print(type(regex_flight))"
   ]
  },
  {
   "cell_type": "code",
   "execution_count": 38,
   "metadata": {
    "ExecuteTime": {
     "end_time": "2022-02-24T16:23:04.282538Z",
     "start_time": "2022-02-24T16:23:04.275985Z"
    }
   },
   "outputs": [],
   "source": [
    "flight_result = re.findall(regex_flight, flight)"
   ]
  },
  {
   "cell_type": "code",
   "execution_count": 39,
   "metadata": {
    "ExecuteTime": {
     "end_time": "2022-02-24T16:23:06.842213Z",
     "start_time": "2022-02-24T16:23:06.836163Z"
    }
   },
   "outputs": [
    {
     "name": "stdout",
     "output_type": "stream",
     "text": [
      "<class 'tuple'>\n",
      "[('LA', '4214', 'AER', 'CDB', '06NOV')]\n"
     ]
    }
   ],
   "source": [
    "print(type(flight_result[0]))\n",
    "print(flight_result)"
   ]
  },
  {
   "cell_type": "code",
   "execution_count": null,
   "metadata": {},
   "outputs": [],
   "source": [
    "flight_match_result = re.search(regex_flight, flight)\n",
    "print(flight_match_result.group(2))"
   ]
  },
  {
   "cell_type": "code",
   "execution_count": null,
   "metadata": {},
   "outputs": [],
   "source": [
    "# квантификатор внутри группы и после нее  – это совершенно разные вещи!\n",
    "numbers = 'Мои счастливые числа 777 и 5534'\n",
    "re.findall(r'\\d+', numbers)"
   ]
  },
  {
   "cell_type": "code",
   "execution_count": null,
   "metadata": {},
   "outputs": [],
   "source": [
    "re.findall(r'(\\d)+', numbers)\n",
    "# так происходит, потому что эти цифры последовательно повторяются 1 и более раз"
   ]
  },
  {
   "cell_type": "code",
   "execution_count": null,
   "metadata": {},
   "outputs": [],
   "source": [
    "# переведем даты к другому формату при помощи групп\n",
    "date = '08/30/1991'\n",
    "re.sub(r'(\\d\\d)/(\\d\\d)/(\\d{4})', r'\\2.\\1.\\3', date)"
   ]
  },
  {
   "cell_type": "code",
   "execution_count": null,
   "metadata": {},
   "outputs": [],
   "source": [
    "# удалим повторяющиеся числа\n",
    "numbers = '44444 6666 8888'"
   ]
  },
  {
   "cell_type": "code",
   "execution_count": null,
   "metadata": {},
   "outputs": [],
   "source": [
    "re.sub(r'(\\d)+', r'\\1', numbers)"
   ]
  },
  {
   "cell_type": "code",
   "execution_count": null,
   "metadata": {},
   "outputs": [],
   "source": []
  },
  {
   "cell_type": "code",
   "execution_count": null,
   "metadata": {},
   "outputs": [],
   "source": [
    "#non-captureing groups\n",
    "# попробуем достать оценочные слова, которые стоят перед \"фильм, кино\"\n",
    "review = 'Мне очень понравился питрпми нпрогн рпапра амрпи этот фильм! Понравилось еще расположение кинотеатра, очень удобное!!!'\n",
    "regex_negative = r'(понравился|понравилось).+(?:фильм|кино).+'\n",
    "negative_matches = re.findall(regex_negative, review)\n",
    "negative_matches"
   ]
  },
  {
   "cell_type": "code",
   "execution_count": null,
   "metadata": {},
   "outputs": [],
   "source": [
    "# lookaround. Достанем имена только загруженных файлов\n",
    "report = 'файл 11.txt загружен, файл 22.txt загружен, файл 33.txt ошибка'\n",
    "find_downloaded = r'\\d+\\.txt(?=\\sзагружен)'\n",
    "files_error = r'\\d+\\.txt(?!\\sзагружен)'\n",
    "re.findall(find_downloaded, report)\n",
    "re.findall(files_error, report)"
   ]
  },
  {
   "cell_type": "code",
   "execution_count": null,
   "metadata": {},
   "outputs": [],
   "source": [
    "# ПРАКТИКА. Получить только рублевые цены\n",
    "prices = 'RUB4.44, RUB10.88, EUR0.99, RUB99.99'"
   ]
  },
  {
   "cell_type": "code",
   "execution_count": null,
   "metadata": {},
   "outputs": [],
   "source": [
    "re.findall(r\"(?:RUB)([0-9]+.[0-9]+)\",prices)"
   ]
  },
  {
   "cell_type": "code",
   "execution_count": null,
   "metadata": {},
   "outputs": [],
   "source": [
    "buf = re.findall(r\"RUB[0-9]+.[0-9]+\",prices)\n",
    "\n",
    "\n",
    "for i in buf:\n",
    "    print(re.findall(r\"[0-9]+.[0-9]+\", i))\n",
    "    "
   ]
  },
  {
   "cell_type": "markdown",
   "metadata": {},
   "source": [
    "# Заданиие 1"
   ]
  },
  {
   "cell_type": "code",
   "execution_count": 32,
   "metadata": {
    "ExecuteTime": {
     "end_time": "2022-02-24T15:24:18.100238Z",
     "start_time": "2022-02-24T15:24:18.098071Z"
    }
   },
   "outputs": [],
   "source": [
    "auto_number = [\"М657АХ17\",\"rd#52\", \"drjn46\", \"К541СТ9\"]"
   ]
  },
  {
   "cell_type": "code",
   "execution_count": 78,
   "metadata": {
    "ExecuteTime": {
     "end_time": "2022-02-24T18:57:22.115951Z",
     "start_time": "2022-02-24T18:57:22.106110Z"
    }
   },
   "outputs": [],
   "source": [
    "def func(a):\n",
    "    number =[]\n",
    "    region =[]\n",
    "    for num in auto_number:\n",
    "        # print(type(num))\n",
    "        buf = re.findall(a, num)\n",
    "        # print(buf)\n",
    "        if buf:\n",
    "            number.append(buf[0][1])\n",
    "            region.append(buf[0][3])\n",
    "    return [number,region]"
   ]
  },
  {
   "cell_type": "code",
   "execution_count": 80,
   "metadata": {
    "ExecuteTime": {
     "end_time": "2022-02-24T18:57:25.717172Z",
     "start_time": "2022-02-24T18:57:25.714130Z"
    }
   },
   "outputs": [
    {
     "data": {
      "text/plain": [
       "[['657', '541'], ['17', '9']]"
      ]
     },
     "execution_count": 80,
     "metadata": {},
     "output_type": "execute_result"
    }
   ],
   "source": [
    "a = r'([АВЕКМНОРСТУХ]{1})([0-9]{3})([АВЕКМНОРСТУХ]{2})([0-9]{1,3})'\n",
    "func(a)"
   ]
  },
  {
   "cell_type": "markdown",
   "metadata": {},
   "source": [
    "# Задание 3"
   ]
  },
  {
   "cell_type": "code",
   "execution_count": 67,
   "metadata": {
    "ExecuteTime": {
     "end_time": "2022-02-24T18:09:14.753393Z",
     "start_time": "2022-02-24T18:09:14.742334Z"
    }
   },
   "outputs": [
    {
     "data": {
      "text/plain": [
       "str"
      ]
     },
     "execution_count": 67,
     "metadata": {},
     "output_type": "execute_result"
    }
   ],
   "source": [
    "a = r\"fdb\"\n",
    "type(a)"
   ]
  },
  {
   "cell_type": "code",
   "execution_count": 6,
   "metadata": {
    "ExecuteTime": {
     "end_time": "2022-03-05T18:55:50.316534Z",
     "start_time": "2022-03-05T18:55:50.312164Z"
    }
   },
   "outputs": [],
   "source": [
    "def delete_repeat(str_):\n",
    "    new_str_ = str_.lower()\n",
    "    new_str_ = re.sub(r'\\b([^\\W\\d_]+)(\\s+\\1)+\\b', r'\\1', re.sub(r'\\W+', ' ', str_).strip(), flags=re.I) \n",
    "    return new_str_"
   ]
  },
  {
   "cell_type": "code",
   "execution_count": 8,
   "metadata": {
    "ExecuteTime": {
     "end_time": "2022-03-05T18:57:27.879683Z",
     "start_time": "2022-03-05T18:57:27.869341Z"
    }
   },
   "outputs": [
    {
     "data": {
      "text/plain": [
       "'Идет медведь встретил белку и упал'"
      ]
     },
     "execution_count": 8,
     "metadata": {},
     "output_type": "execute_result"
    }
   ],
   "source": [
    "delete_repeat(\"Идет идет  медведь медведь, встретил  белку Белку и! упал  упал упал!\")"
   ]
  },
  {
   "cell_type": "markdown",
   "metadata": {},
   "source": [
    "# re.sub(r'\\W+', ' ', s).strip() - заменяет 1 и более символов, отличных от букв, цифр и знаков подчёркивания, на один пробел, .strip() удалит пробелы в начале и конце строки\n",
    "# re.sub(r'\\b([^\\W\\d_]+)(\\s+\\1)+\\b', r'\\1', ..., flags=re.I): \n",
    "## \\b([^\\W\\d_]+)(\\s+\\1)+\\b - находит и захватывает в подмаску №1 слово (последовательность 1 и более букв в границах слова), после которого следует 1 и более повторов 1+ пробельных символов и такое же слово (\\1 - обратная ссылка на значение подмаски №1), за которыми следует граница слова\n",
    "## r'\\1' - заменяет найденное совпадение единичным экземпляром найденного слова (значение подмаски №1)\n",
    "## flags=re.I - включает регистронезависимый поиск текста"
   ]
  },
  {
   "cell_type": "markdown",
   "metadata": {},
   "source": [
    "# Задание 4"
   ]
  },
  {
   "cell_type": "code",
   "execution_count": null,
   "metadata": {},
   "outputs": [],
   "source": []
  }
 ],
 "metadata": {
  "kernelspec": {
   "display_name": "Python 3 (ipykernel)",
   "language": "python",
   "name": "python3"
  },
  "language_info": {
   "codemirror_mode": {
    "name": "ipython",
    "version": 3
   },
   "file_extension": ".py",
   "mimetype": "text/x-python",
   "name": "python",
   "nbconvert_exporter": "python",
   "pygments_lexer": "ipython3",
   "version": "3.9.7"
  }
 },
 "nbformat": 4,
 "nbformat_minor": 2
}
