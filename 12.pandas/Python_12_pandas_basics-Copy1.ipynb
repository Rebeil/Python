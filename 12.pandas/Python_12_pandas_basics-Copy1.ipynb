{
 "cells": [
  {
   "cell_type": "markdown",
   "metadata": {},
   "source": [
    "# <center>Основы pandas"
   ]
  },
  {
   "cell_type": "markdown",
   "metadata": {},
   "source": [
    "# Содержание\n",
    "* [Установка необходимых библиотек](#1) ***pandas*** lxml bs4 html5lib\n",
    "* [подключение библиотеки](#2)\n",
    "* [Импорт данных из файла](#3) ```pd.read_csv```\n",
    "* [Упражнение 1](#4) ```загрузить этот файл в датафрейм и посчитать его размеры```\n",
    "* [Основные сведения о датафрейме](#5) ```метод .info()```\n",
    "* [Отдельный столбец (тип Series)](#6) ``` ```\n",
    "* [Уникальные значения в столбце](#7)  ```unique() или nunique() - вместе с len() ```\n",
    "* [Упражнение 2](#8) ```Определите какой товар (столбец Product) упоминается в файле чаще всего?```\n",
    "* [Фильтры](#9) ```метод .filter()```\n",
    "    * [Выбрать несколько столбцов](#9.1) ``` ```\n",
    "    * [Отфильтруем строки с потреблением выше среднего](#9.2) ``` ```\n",
    "* [Строки с потреблением больше среднего](#12) ``` ```\n",
    "    * [Самый популярный способ](#12.1) ``` ```\n",
    "* [Как определить используемый вариант названия страны?](#13) ``` ```\n",
    "* [Сортировка](#14) ```метод .sort_values()```\n",
    "* [Параметр inplace](#15) ```= rewrite```\n",
    "* [Задание 1](#16) ```Определите какому фильму было выставлено больше всего оценок 5.0``` \n",
    "* [Задание 2](#17) <br>\n",
    "```посчитайте суммарное потребление стран Прибалтики (Латвия, Литва и Эстония) категорий 4, 12 и 21 за период с 2005 по 2010 года. Не учитывайте в расчетах отрицательные значения quantity.```\n",
    "* [Задание 3](#18)  <br>\n",
    "```Выберите страницу любого сайта с табличными данными. Импортируйте таблицы в pandas dataframe. Примеры страниц (необязательно брать именно эти)```"
   ]
  },
  {
   "cell_type": "markdown",
   "metadata": {},
   "source": [
    "# Установка необходимых библиотек <a class=\"anchor\" id=\"1\"></a>"
   ]
  },
  {
   "cell_type": "code",
   "execution_count": 2,
   "metadata": {
    "ExecuteTime": {
     "end_time": "2022-12-31T14:26:13.393244Z",
     "start_time": "2022-12-31T14:26:07.657025Z"
    },
    "collapsed": true,
    "deletable": false,
    "editable": false,
    "run_control": {
     "frozen": true
    }
   },
   "outputs": [
    {
     "name": "stdout",
     "output_type": "stream",
     "text": [
      "Collecting pandas\n",
      "  Downloading pandas-1.5.2-cp310-cp310-manylinux_2_17_x86_64.manylinux2014_x86_64.whl (12.1 MB)\n",
      "\u001b[2K     \u001b[38;2;114;156;31m━━━━━━━━━━━━━━━━━━━━━━━━━━━━━━━━━━━━━━━━\u001b[0m \u001b[32m12.1/12.1 MB\u001b[0m \u001b[31m63.0 MB/s\u001b[0m eta \u001b[36m0:00:00\u001b[0mm eta \u001b[36m0:00:01\u001b[0m:01\u001b[0m:01\u001b[0m\n",
      "\u001b[?25hRequirement already satisfied: python-dateutil>=2.8.1 in /home/rain/Jupyter/jup_venv/lib/python3.10/site-packages (from pandas) (2.8.2)\n",
      "Collecting pytz>=2020.1\n",
      "  Downloading pytz-2022.7-py2.py3-none-any.whl (499 kB)\n",
      "\u001b[2K     \u001b[38;2;114;156;31m━━━━━━━━━━━━━━━━━━━━━━━━━━━━━━━━━━━━━━\u001b[0m \u001b[32m499.4/499.4 kB\u001b[0m \u001b[31m86.6 MB/s\u001b[0m eta \u001b[36m0:00:00\u001b[0m\n",
      "\u001b[?25hRequirement already satisfied: numpy>=1.21.0 in /home/rain/Jupyter/jup_venv/lib/python3.10/site-packages (from pandas) (1.24.0)\n",
      "Requirement already satisfied: six>=1.5 in /home/rain/Jupyter/jup_venv/lib/python3.10/site-packages (from python-dateutil>=2.8.1->pandas) (1.16.0)\n",
      "Installing collected packages: pytz, pandas\n",
      "Successfully installed pandas-1.5.2 pytz-2022.7\n"
     ]
    }
   ],
   "source": [
    "!pip3 install pandas"
   ]
  },
  {
   "cell_type": "code",
   "execution_count": 1,
   "metadata": {
    "ExecuteTime": {
     "end_time": "2023-06-28T19:15:51.108616Z",
     "start_time": "2023-06-28T19:15:50.790367Z"
    }
   },
   "outputs": [],
   "source": [
    "!pip3 reinstall lxml bs4 html5lib"
   ]
  },
  {
   "cell_type": "markdown",
   "metadata": {},
   "source": [
    "# подключение библиотеки <a class=\"anchor\" id=\"2\"></a>"
   ]
  },
  {
   "cell_type": "code",
   "execution_count": 1,
   "metadata": {
    "ExecuteTime": {
     "end_time": "2023-06-29T17:34:33.908981Z",
     "start_time": "2023-06-29T17:34:33.354952Z"
    }
   },
   "outputs": [],
   "source": [
    "import pandas as pd"
   ]
  },
  {
   "cell_type": "code",
   "execution_count": 11,
   "metadata": {
    "ExecuteTime": {
     "end_time": "2023-06-28T19:19:59.910500Z",
     "start_time": "2023-06-28T19:19:59.899502Z"
    }
   },
   "outputs": [
    {
     "data": {
      "text/plain": [
       "'2.0.2'"
      ]
     },
     "execution_count": 11,
     "metadata": {},
     "output_type": "execute_result"
    }
   ],
   "source": [
    "pd.__version__"
   ]
  },
  {
   "cell_type": "markdown",
   "metadata": {},
   "source": [
    "Пример забора данных с сайтов"
   ]
  },
  {
   "cell_type": "code",
   "execution_count": 5,
   "metadata": {
    "ExecuteTime": {
     "end_time": "2023-06-28T19:17:38.760008Z",
     "start_time": "2023-06-28T19:17:38.485681Z"
    },
    "collapsed": true
   },
   "outputs": [
    {
     "data": {
      "text/plain": [
       "[    Цифр. код Букв. код  Единиц                                    Валюта  \\\n",
       " 0          36       AUD       1                      Австралийский доллар   \n",
       " 1         944       AZN       1                     Азербайджанский манат   \n",
       " 2          51       AMD     100                          Армянских драмов   \n",
       " 3         933       BYN       1                         Белорусский рубль   \n",
       " 4         975       BGN       1                            Болгарский лев   \n",
       " 5         986       BRL       1                          Бразильский реал   \n",
       " 6         348       HUF     100                       Венгерских форинтов   \n",
       " 7         410       KRW    1000                      Вон Республики Корея   \n",
       " 8         704       VND   10000                        Вьетнамских донгов   \n",
       " 9         344       HKD       1                        Гонконгский доллар   \n",
       " 10        981       GEL       1                           Грузинский лари   \n",
       " 11        208       DKK       1                             Датская крона   \n",
       " 12        784       AED       1                                Дирхам ОАЭ   \n",
       " 13        840       USD       1                                Доллар США   \n",
       " 14        978       EUR       1                                      Евро   \n",
       " 15        818       EGP      10                         Египетских фунтов   \n",
       " 16        356       INR      10                           Индийских рупий   \n",
       " 17        360       IDR   10000                       Индонезийских рупий   \n",
       " 18        398       KZT     100                       Казахстанских тенге   \n",
       " 19        124       CAD       1                          Канадский доллар   \n",
       " 20        634       QAR       1                            Катарский риал   \n",
       " 21        417       KGS     100                          Киргизских сомов   \n",
       " 22        156       CNY       1                            Китайский юань   \n",
       " 23        498       MDL      10                           Молдавских леев   \n",
       " 24        554       NZD       1                     Новозеландский доллар   \n",
       " 25        934       TMT       1                   Новый туркменский манат   \n",
       " 26        578       NOK      10                           Норвежских крон   \n",
       " 27        985       PLN       1                           Польский злотый   \n",
       " 28        946       RON       1                             Румынский лей   \n",
       " 29        960       XDR       1     СДР (специальные права заимствования)   \n",
       " 30        941       RSD     100                          Сербских динаров   \n",
       " 31        702       SGD       1                       Сингапурский доллар   \n",
       " 32        972       TJS      10                         Таджикских сомони   \n",
       " 33        764       THB      10                         Таиландских батов   \n",
       " 34        949       TRY      10                              Турецких лир   \n",
       " 35        860       UZS   10000                           Узбекских сумов   \n",
       " 36        980       UAH      10                         Украинских гривен   \n",
       " 37        826       GBP       1  Фунт стерлингов Соединенного королевства   \n",
       " 38        203       CZK      10                              Чешских крон   \n",
       " 39        752       SEK      10                             Шведских крон   \n",
       " 40        756       CHF       1                         Швейцарский франк   \n",
       " 41        710       ZAR      10                    Южноафриканских рэндов   \n",
       " 42        392       JPY     100                              Японских иен   \n",
       " \n",
       "        Курс  \n",
       " 0    569025  \n",
       " 1    503642  \n",
       " 2    221507  \n",
       " 3    283987  \n",
       " 4    479391  \n",
       " 5    178746  \n",
       " 6    252967  \n",
       " 7    654932  \n",
       " 8    360350  \n",
       " 9    109515  \n",
       " 10   325734  \n",
       " 11   125898  \n",
       " 12   233104  \n",
       " 13   856192  \n",
       " 14   938644  \n",
       " 15   277113  \n",
       " 16   104293  \n",
       " 17   569807  \n",
       " 18   190113  \n",
       " 19   649861  \n",
       " 20   235218  \n",
       " 21   980635  \n",
       " 22   117958  \n",
       " 23   470464  \n",
       " 24   524418  \n",
       " 25   244626  \n",
       " 26   791422  \n",
       " 27   208996  \n",
       " 28   189101  \n",
       " 29  1144121  \n",
       " 30   799591  \n",
       " 31   633888  \n",
       " 32   784511  \n",
       " 33   241870  \n",
       " 34   331262  \n",
       " 35   745285  \n",
       " 36   231859  \n",
       " 37  1091302  \n",
       " 38   397305  \n",
       " 39   798828  \n",
       " 40   953656  \n",
       " 41   458612  \n",
       " 42   594950  ]"
      ]
     },
     "execution_count": 5,
     "metadata": {},
     "output_type": "execute_result"
    }
   ],
   "source": [
    "url = 'https://cbr.ru/currency_base/daily/'\n",
    "pd.read_html(url, decimal=',', thousands='.')"
   ]
  },
  {
   "cell_type": "code",
   "execution_count": 9,
   "metadata": {
    "ExecuteTime": {
     "end_time": "2023-06-28T19:19:27.084923Z",
     "start_time": "2023-06-28T19:19:26.874116Z"
    },
    "collapsed": true
   },
   "outputs": [
    {
     "data": {
      "text/html": [
       "<div>\n",
       "<style scoped>\n",
       "    .dataframe tbody tr th:only-of-type {\n",
       "        vertical-align: middle;\n",
       "    }\n",
       "\n",
       "    .dataframe tbody tr th {\n",
       "        vertical-align: top;\n",
       "    }\n",
       "\n",
       "    .dataframe thead th {\n",
       "        text-align: right;\n",
       "    }\n",
       "</style>\n",
       "<table border=\"1\" class=\"dataframe\">\n",
       "  <thead>\n",
       "    <tr style=\"text-align: right;\">\n",
       "      <th></th>\n",
       "      <th>Цифр. код</th>\n",
       "      <th>Букв. код</th>\n",
       "      <th>Единиц</th>\n",
       "      <th>Валюта</th>\n",
       "      <th>Курс</th>\n",
       "    </tr>\n",
       "  </thead>\n",
       "  <tbody>\n",
       "    <tr>\n",
       "      <th>0</th>\n",
       "      <td>36</td>\n",
       "      <td>AUD</td>\n",
       "      <td>1</td>\n",
       "      <td>Австралийский доллар</td>\n",
       "      <td>56.9025</td>\n",
       "    </tr>\n",
       "    <tr>\n",
       "      <th>1</th>\n",
       "      <td>944</td>\n",
       "      <td>AZN</td>\n",
       "      <td>1</td>\n",
       "      <td>Азербайджанский манат</td>\n",
       "      <td>50.3642</td>\n",
       "    </tr>\n",
       "    <tr>\n",
       "      <th>2</th>\n",
       "      <td>51</td>\n",
       "      <td>AMD</td>\n",
       "      <td>100</td>\n",
       "      <td>Армянских драмов</td>\n",
       "      <td>22.1507</td>\n",
       "    </tr>\n",
       "    <tr>\n",
       "      <th>3</th>\n",
       "      <td>933</td>\n",
       "      <td>BYN</td>\n",
       "      <td>1</td>\n",
       "      <td>Белорусский рубль</td>\n",
       "      <td>28.3987</td>\n",
       "    </tr>\n",
       "    <tr>\n",
       "      <th>4</th>\n",
       "      <td>975</td>\n",
       "      <td>BGN</td>\n",
       "      <td>1</td>\n",
       "      <td>Болгарский лев</td>\n",
       "      <td>47.9391</td>\n",
       "    </tr>\n",
       "    <tr>\n",
       "      <th>5</th>\n",
       "      <td>986</td>\n",
       "      <td>BRL</td>\n",
       "      <td>1</td>\n",
       "      <td>Бразильский реал</td>\n",
       "      <td>17.8746</td>\n",
       "    </tr>\n",
       "    <tr>\n",
       "      <th>6</th>\n",
       "      <td>348</td>\n",
       "      <td>HUF</td>\n",
       "      <td>100</td>\n",
       "      <td>Венгерских форинтов</td>\n",
       "      <td>25.2967</td>\n",
       "    </tr>\n",
       "    <tr>\n",
       "      <th>7</th>\n",
       "      <td>410</td>\n",
       "      <td>KRW</td>\n",
       "      <td>1000</td>\n",
       "      <td>Вон Республики Корея</td>\n",
       "      <td>65.4932</td>\n",
       "    </tr>\n",
       "    <tr>\n",
       "      <th>8</th>\n",
       "      <td>704</td>\n",
       "      <td>VND</td>\n",
       "      <td>10000</td>\n",
       "      <td>Вьетнамских донгов</td>\n",
       "      <td>36.0350</td>\n",
       "    </tr>\n",
       "    <tr>\n",
       "      <th>9</th>\n",
       "      <td>344</td>\n",
       "      <td>HKD</td>\n",
       "      <td>1</td>\n",
       "      <td>Гонконгский доллар</td>\n",
       "      <td>10.9515</td>\n",
       "    </tr>\n",
       "    <tr>\n",
       "      <th>10</th>\n",
       "      <td>981</td>\n",
       "      <td>GEL</td>\n",
       "      <td>1</td>\n",
       "      <td>Грузинский лари</td>\n",
       "      <td>32.5734</td>\n",
       "    </tr>\n",
       "    <tr>\n",
       "      <th>11</th>\n",
       "      <td>208</td>\n",
       "      <td>DKK</td>\n",
       "      <td>1</td>\n",
       "      <td>Датская крона</td>\n",
       "      <td>12.5898</td>\n",
       "    </tr>\n",
       "    <tr>\n",
       "      <th>12</th>\n",
       "      <td>784</td>\n",
       "      <td>AED</td>\n",
       "      <td>1</td>\n",
       "      <td>Дирхам ОАЭ</td>\n",
       "      <td>23.3104</td>\n",
       "    </tr>\n",
       "    <tr>\n",
       "      <th>13</th>\n",
       "      <td>840</td>\n",
       "      <td>USD</td>\n",
       "      <td>1</td>\n",
       "      <td>Доллар США</td>\n",
       "      <td>85.6192</td>\n",
       "    </tr>\n",
       "    <tr>\n",
       "      <th>14</th>\n",
       "      <td>978</td>\n",
       "      <td>EUR</td>\n",
       "      <td>1</td>\n",
       "      <td>Евро</td>\n",
       "      <td>93.8644</td>\n",
       "    </tr>\n",
       "    <tr>\n",
       "      <th>15</th>\n",
       "      <td>818</td>\n",
       "      <td>EGP</td>\n",
       "      <td>10</td>\n",
       "      <td>Египетских фунтов</td>\n",
       "      <td>27.7113</td>\n",
       "    </tr>\n",
       "    <tr>\n",
       "      <th>16</th>\n",
       "      <td>356</td>\n",
       "      <td>INR</td>\n",
       "      <td>10</td>\n",
       "      <td>Индийских рупий</td>\n",
       "      <td>10.4293</td>\n",
       "    </tr>\n",
       "    <tr>\n",
       "      <th>17</th>\n",
       "      <td>360</td>\n",
       "      <td>IDR</td>\n",
       "      <td>10000</td>\n",
       "      <td>Индонезийских рупий</td>\n",
       "      <td>56.9807</td>\n",
       "    </tr>\n",
       "    <tr>\n",
       "      <th>18</th>\n",
       "      <td>398</td>\n",
       "      <td>KZT</td>\n",
       "      <td>100</td>\n",
       "      <td>Казахстанских тенге</td>\n",
       "      <td>19.0113</td>\n",
       "    </tr>\n",
       "    <tr>\n",
       "      <th>19</th>\n",
       "      <td>124</td>\n",
       "      <td>CAD</td>\n",
       "      <td>1</td>\n",
       "      <td>Канадский доллар</td>\n",
       "      <td>64.9861</td>\n",
       "    </tr>\n",
       "    <tr>\n",
       "      <th>20</th>\n",
       "      <td>634</td>\n",
       "      <td>QAR</td>\n",
       "      <td>1</td>\n",
       "      <td>Катарский риал</td>\n",
       "      <td>23.5218</td>\n",
       "    </tr>\n",
       "    <tr>\n",
       "      <th>21</th>\n",
       "      <td>417</td>\n",
       "      <td>KGS</td>\n",
       "      <td>100</td>\n",
       "      <td>Киргизских сомов</td>\n",
       "      <td>98.0635</td>\n",
       "    </tr>\n",
       "    <tr>\n",
       "      <th>22</th>\n",
       "      <td>156</td>\n",
       "      <td>CNY</td>\n",
       "      <td>1</td>\n",
       "      <td>Китайский юань</td>\n",
       "      <td>11.7958</td>\n",
       "    </tr>\n",
       "    <tr>\n",
       "      <th>23</th>\n",
       "      <td>498</td>\n",
       "      <td>MDL</td>\n",
       "      <td>10</td>\n",
       "      <td>Молдавских леев</td>\n",
       "      <td>47.0464</td>\n",
       "    </tr>\n",
       "    <tr>\n",
       "      <th>24</th>\n",
       "      <td>554</td>\n",
       "      <td>NZD</td>\n",
       "      <td>1</td>\n",
       "      <td>Новозеландский доллар</td>\n",
       "      <td>52.4418</td>\n",
       "    </tr>\n",
       "    <tr>\n",
       "      <th>25</th>\n",
       "      <td>934</td>\n",
       "      <td>TMT</td>\n",
       "      <td>1</td>\n",
       "      <td>Новый туркменский манат</td>\n",
       "      <td>24.4626</td>\n",
       "    </tr>\n",
       "    <tr>\n",
       "      <th>26</th>\n",
       "      <td>578</td>\n",
       "      <td>NOK</td>\n",
       "      <td>10</td>\n",
       "      <td>Норвежских крон</td>\n",
       "      <td>79.1422</td>\n",
       "    </tr>\n",
       "    <tr>\n",
       "      <th>27</th>\n",
       "      <td>985</td>\n",
       "      <td>PLN</td>\n",
       "      <td>1</td>\n",
       "      <td>Польский злотый</td>\n",
       "      <td>20.8996</td>\n",
       "    </tr>\n",
       "    <tr>\n",
       "      <th>28</th>\n",
       "      <td>946</td>\n",
       "      <td>RON</td>\n",
       "      <td>1</td>\n",
       "      <td>Румынский лей</td>\n",
       "      <td>18.9101</td>\n",
       "    </tr>\n",
       "    <tr>\n",
       "      <th>29</th>\n",
       "      <td>960</td>\n",
       "      <td>XDR</td>\n",
       "      <td>1</td>\n",
       "      <td>СДР (специальные права заимствования)</td>\n",
       "      <td>114.4121</td>\n",
       "    </tr>\n",
       "    <tr>\n",
       "      <th>30</th>\n",
       "      <td>941</td>\n",
       "      <td>RSD</td>\n",
       "      <td>100</td>\n",
       "      <td>Сербских динаров</td>\n",
       "      <td>79.9591</td>\n",
       "    </tr>\n",
       "    <tr>\n",
       "      <th>31</th>\n",
       "      <td>702</td>\n",
       "      <td>SGD</td>\n",
       "      <td>1</td>\n",
       "      <td>Сингапурский доллар</td>\n",
       "      <td>63.3888</td>\n",
       "    </tr>\n",
       "    <tr>\n",
       "      <th>32</th>\n",
       "      <td>972</td>\n",
       "      <td>TJS</td>\n",
       "      <td>10</td>\n",
       "      <td>Таджикских сомони</td>\n",
       "      <td>78.4511</td>\n",
       "    </tr>\n",
       "    <tr>\n",
       "      <th>33</th>\n",
       "      <td>764</td>\n",
       "      <td>THB</td>\n",
       "      <td>10</td>\n",
       "      <td>Таиландских батов</td>\n",
       "      <td>24.1870</td>\n",
       "    </tr>\n",
       "    <tr>\n",
       "      <th>34</th>\n",
       "      <td>949</td>\n",
       "      <td>TRY</td>\n",
       "      <td>10</td>\n",
       "      <td>Турецких лир</td>\n",
       "      <td>33.1262</td>\n",
       "    </tr>\n",
       "    <tr>\n",
       "      <th>35</th>\n",
       "      <td>860</td>\n",
       "      <td>UZS</td>\n",
       "      <td>10000</td>\n",
       "      <td>Узбекских сумов</td>\n",
       "      <td>74.5285</td>\n",
       "    </tr>\n",
       "    <tr>\n",
       "      <th>36</th>\n",
       "      <td>980</td>\n",
       "      <td>UAH</td>\n",
       "      <td>10</td>\n",
       "      <td>Украинских гривен</td>\n",
       "      <td>23.1859</td>\n",
       "    </tr>\n",
       "    <tr>\n",
       "      <th>37</th>\n",
       "      <td>826</td>\n",
       "      <td>GBP</td>\n",
       "      <td>1</td>\n",
       "      <td>Фунт стерлингов Соединенного королевства</td>\n",
       "      <td>109.1302</td>\n",
       "    </tr>\n",
       "    <tr>\n",
       "      <th>38</th>\n",
       "      <td>203</td>\n",
       "      <td>CZK</td>\n",
       "      <td>10</td>\n",
       "      <td>Чешских крон</td>\n",
       "      <td>39.7305</td>\n",
       "    </tr>\n",
       "    <tr>\n",
       "      <th>39</th>\n",
       "      <td>752</td>\n",
       "      <td>SEK</td>\n",
       "      <td>10</td>\n",
       "      <td>Шведских крон</td>\n",
       "      <td>79.8828</td>\n",
       "    </tr>\n",
       "    <tr>\n",
       "      <th>40</th>\n",
       "      <td>756</td>\n",
       "      <td>CHF</td>\n",
       "      <td>1</td>\n",
       "      <td>Швейцарский франк</td>\n",
       "      <td>95.3656</td>\n",
       "    </tr>\n",
       "    <tr>\n",
       "      <th>41</th>\n",
       "      <td>710</td>\n",
       "      <td>ZAR</td>\n",
       "      <td>10</td>\n",
       "      <td>Южноафриканских рэндов</td>\n",
       "      <td>45.8612</td>\n",
       "    </tr>\n",
       "    <tr>\n",
       "      <th>42</th>\n",
       "      <td>392</td>\n",
       "      <td>JPY</td>\n",
       "      <td>100</td>\n",
       "      <td>Японских иен</td>\n",
       "      <td>59.4950</td>\n",
       "    </tr>\n",
       "  </tbody>\n",
       "</table>\n",
       "</div>"
      ],
      "text/plain": [
       "    Цифр. код Букв. код  Единиц                                    Валюта  \\\n",
       "0          36       AUD       1                      Австралийский доллар   \n",
       "1         944       AZN       1                     Азербайджанский манат   \n",
       "2          51       AMD     100                          Армянских драмов   \n",
       "3         933       BYN       1                         Белорусский рубль   \n",
       "4         975       BGN       1                            Болгарский лев   \n",
       "5         986       BRL       1                          Бразильский реал   \n",
       "6         348       HUF     100                       Венгерских форинтов   \n",
       "7         410       KRW    1000                      Вон Республики Корея   \n",
       "8         704       VND   10000                        Вьетнамских донгов   \n",
       "9         344       HKD       1                        Гонконгский доллар   \n",
       "10        981       GEL       1                           Грузинский лари   \n",
       "11        208       DKK       1                             Датская крона   \n",
       "12        784       AED       1                                Дирхам ОАЭ   \n",
       "13        840       USD       1                                Доллар США   \n",
       "14        978       EUR       1                                      Евро   \n",
       "15        818       EGP      10                         Египетских фунтов   \n",
       "16        356       INR      10                           Индийских рупий   \n",
       "17        360       IDR   10000                       Индонезийских рупий   \n",
       "18        398       KZT     100                       Казахстанских тенге   \n",
       "19        124       CAD       1                          Канадский доллар   \n",
       "20        634       QAR       1                            Катарский риал   \n",
       "21        417       KGS     100                          Киргизских сомов   \n",
       "22        156       CNY       1                            Китайский юань   \n",
       "23        498       MDL      10                           Молдавских леев   \n",
       "24        554       NZD       1                     Новозеландский доллар   \n",
       "25        934       TMT       1                   Новый туркменский манат   \n",
       "26        578       NOK      10                           Норвежских крон   \n",
       "27        985       PLN       1                           Польский злотый   \n",
       "28        946       RON       1                             Румынский лей   \n",
       "29        960       XDR       1     СДР (специальные права заимствования)   \n",
       "30        941       RSD     100                          Сербских динаров   \n",
       "31        702       SGD       1                       Сингапурский доллар   \n",
       "32        972       TJS      10                         Таджикских сомони   \n",
       "33        764       THB      10                         Таиландских батов   \n",
       "34        949       TRY      10                              Турецких лир   \n",
       "35        860       UZS   10000                           Узбекских сумов   \n",
       "36        980       UAH      10                         Украинских гривен   \n",
       "37        826       GBP       1  Фунт стерлингов Соединенного королевства   \n",
       "38        203       CZK      10                              Чешских крон   \n",
       "39        752       SEK      10                             Шведских крон   \n",
       "40        756       CHF       1                         Швейцарский франк   \n",
       "41        710       ZAR      10                    Южноафриканских рэндов   \n",
       "42        392       JPY     100                              Японских иен   \n",
       "\n",
       "        Курс  \n",
       "0    56.9025  \n",
       "1    50.3642  \n",
       "2    22.1507  \n",
       "3    28.3987  \n",
       "4    47.9391  \n",
       "5    17.8746  \n",
       "6    25.2967  \n",
       "7    65.4932  \n",
       "8    36.0350  \n",
       "9    10.9515  \n",
       "10   32.5734  \n",
       "11   12.5898  \n",
       "12   23.3104  \n",
       "13   85.6192  \n",
       "14   93.8644  \n",
       "15   27.7113  \n",
       "16   10.4293  \n",
       "17   56.9807  \n",
       "18   19.0113  \n",
       "19   64.9861  \n",
       "20   23.5218  \n",
       "21   98.0635  \n",
       "22   11.7958  \n",
       "23   47.0464  \n",
       "24   52.4418  \n",
       "25   24.4626  \n",
       "26   79.1422  \n",
       "27   20.8996  \n",
       "28   18.9101  \n",
       "29  114.4121  \n",
       "30   79.9591  \n",
       "31   63.3888  \n",
       "32   78.4511  \n",
       "33   24.1870  \n",
       "34   33.1262  \n",
       "35   74.5285  \n",
       "36   23.1859  \n",
       "37  109.1302  \n",
       "38   39.7305  \n",
       "39   79.8828  \n",
       "40   95.3656  \n",
       "41   45.8612  \n",
       "42   59.4950  "
      ]
     },
     "execution_count": 9,
     "metadata": {},
     "output_type": "execute_result"
    }
   ],
   "source": [
    "# decimal=',', thousands='.' потому что не считывает запятые\n",
    "pd.read_html(url, decimal=',', thousands='.')[0]"
   ]
  },
  {
   "cell_type": "code",
   "execution_count": 26,
   "metadata": {
    "ExecuteTime": {
     "end_time": "2023-06-28T19:35:14.147710Z",
     "start_time": "2023-06-28T19:35:13.961374Z"
    },
    "collapsed": true
   },
   "outputs": [
    {
     "ename": "HTTPError",
     "evalue": "HTTP Error 403: Forbidden",
     "output_type": "error",
     "traceback": [
      "\u001b[0;31m---------------------------------------------------------------------------\u001b[0m",
      "\u001b[0;31mHTTPError\u001b[0m                                 Traceback (most recent call last)",
      "Cell \u001b[0;32mIn[26], line 1\u001b[0m\n\u001b[0;32m----> 1\u001b[0m \u001b[43mpd\u001b[49m\u001b[38;5;241;43m.\u001b[39;49m\u001b[43mread_html\u001b[49m\u001b[43m(\u001b[49m\u001b[38;5;124;43m'\u001b[39;49m\u001b[38;5;124;43mhttps://ru.investing.com/crypto\u001b[39;49m\u001b[38;5;124;43m'\u001b[39;49m\u001b[43m,\u001b[49m\u001b[43m \u001b[49m\n\u001b[1;32m      2\u001b[0m \u001b[43m             \u001b[49m\u001b[43mattrs\u001b[49m\u001b[43m \u001b[49m\u001b[38;5;241;43m=\u001b[39;49m\u001b[43m \u001b[49m\u001b[43m{\u001b[49m\u001b[38;5;124;43m'\u001b[39;49m\u001b[38;5;124;43mid\u001b[39;49m\u001b[38;5;124;43m'\u001b[39;49m\u001b[43m:\u001b[49m\u001b[43m \u001b[49m\u001b[38;5;124;43m'\u001b[39;49m\u001b[38;5;124;43mDataTables_Table_0_wrapper\u001b[39;49m\u001b[38;5;124;43m'\u001b[39;49m\u001b[43m}\u001b[49m\u001b[43m,\u001b[49m\n\u001b[1;32m      3\u001b[0m \u001b[43m             \u001b[49m\u001b[43mencoding\u001b[49m\u001b[38;5;241;43m=\u001b[39;49m\u001b[38;5;124;43m'\u001b[39;49m\u001b[38;5;124;43mutf-8\u001b[39;49m\u001b[38;5;124;43m'\u001b[39;49m\u001b[43m)\u001b[49m\n",
      "File \u001b[0;32m~/main_env/lib/python3.10/site-packages/pandas/io/html.py:1212\u001b[0m, in \u001b[0;36mread_html\u001b[0;34m(io, match, flavor, header, index_col, skiprows, attrs, parse_dates, thousands, encoding, decimal, converters, na_values, keep_default_na, displayed_only, extract_links, dtype_backend)\u001b[0m\n\u001b[1;32m   1208\u001b[0m check_dtype_backend(dtype_backend)\n\u001b[1;32m   1210\u001b[0m io \u001b[38;5;241m=\u001b[39m stringify_path(io)\n\u001b[0;32m-> 1212\u001b[0m \u001b[38;5;28;01mreturn\u001b[39;00m \u001b[43m_parse\u001b[49m\u001b[43m(\u001b[49m\n\u001b[1;32m   1213\u001b[0m \u001b[43m    \u001b[49m\u001b[43mflavor\u001b[49m\u001b[38;5;241;43m=\u001b[39;49m\u001b[43mflavor\u001b[49m\u001b[43m,\u001b[49m\n\u001b[1;32m   1214\u001b[0m \u001b[43m    \u001b[49m\u001b[43mio\u001b[49m\u001b[38;5;241;43m=\u001b[39;49m\u001b[43mio\u001b[49m\u001b[43m,\u001b[49m\n\u001b[1;32m   1215\u001b[0m \u001b[43m    \u001b[49m\u001b[43mmatch\u001b[49m\u001b[38;5;241;43m=\u001b[39;49m\u001b[43mmatch\u001b[49m\u001b[43m,\u001b[49m\n\u001b[1;32m   1216\u001b[0m \u001b[43m    \u001b[49m\u001b[43mheader\u001b[49m\u001b[38;5;241;43m=\u001b[39;49m\u001b[43mheader\u001b[49m\u001b[43m,\u001b[49m\n\u001b[1;32m   1217\u001b[0m \u001b[43m    \u001b[49m\u001b[43mindex_col\u001b[49m\u001b[38;5;241;43m=\u001b[39;49m\u001b[43mindex_col\u001b[49m\u001b[43m,\u001b[49m\n\u001b[1;32m   1218\u001b[0m \u001b[43m    \u001b[49m\u001b[43mskiprows\u001b[49m\u001b[38;5;241;43m=\u001b[39;49m\u001b[43mskiprows\u001b[49m\u001b[43m,\u001b[49m\n\u001b[1;32m   1219\u001b[0m \u001b[43m    \u001b[49m\u001b[43mparse_dates\u001b[49m\u001b[38;5;241;43m=\u001b[39;49m\u001b[43mparse_dates\u001b[49m\u001b[43m,\u001b[49m\n\u001b[1;32m   1220\u001b[0m \u001b[43m    \u001b[49m\u001b[43mthousands\u001b[49m\u001b[38;5;241;43m=\u001b[39;49m\u001b[43mthousands\u001b[49m\u001b[43m,\u001b[49m\n\u001b[1;32m   1221\u001b[0m \u001b[43m    \u001b[49m\u001b[43mattrs\u001b[49m\u001b[38;5;241;43m=\u001b[39;49m\u001b[43mattrs\u001b[49m\u001b[43m,\u001b[49m\n\u001b[1;32m   1222\u001b[0m \u001b[43m    \u001b[49m\u001b[43mencoding\u001b[49m\u001b[38;5;241;43m=\u001b[39;49m\u001b[43mencoding\u001b[49m\u001b[43m,\u001b[49m\n\u001b[1;32m   1223\u001b[0m \u001b[43m    \u001b[49m\u001b[43mdecimal\u001b[49m\u001b[38;5;241;43m=\u001b[39;49m\u001b[43mdecimal\u001b[49m\u001b[43m,\u001b[49m\n\u001b[1;32m   1224\u001b[0m \u001b[43m    \u001b[49m\u001b[43mconverters\u001b[49m\u001b[38;5;241;43m=\u001b[39;49m\u001b[43mconverters\u001b[49m\u001b[43m,\u001b[49m\n\u001b[1;32m   1225\u001b[0m \u001b[43m    \u001b[49m\u001b[43mna_values\u001b[49m\u001b[38;5;241;43m=\u001b[39;49m\u001b[43mna_values\u001b[49m\u001b[43m,\u001b[49m\n\u001b[1;32m   1226\u001b[0m \u001b[43m    \u001b[49m\u001b[43mkeep_default_na\u001b[49m\u001b[38;5;241;43m=\u001b[39;49m\u001b[43mkeep_default_na\u001b[49m\u001b[43m,\u001b[49m\n\u001b[1;32m   1227\u001b[0m \u001b[43m    \u001b[49m\u001b[43mdisplayed_only\u001b[49m\u001b[38;5;241;43m=\u001b[39;49m\u001b[43mdisplayed_only\u001b[49m\u001b[43m,\u001b[49m\n\u001b[1;32m   1228\u001b[0m \u001b[43m    \u001b[49m\u001b[43mextract_links\u001b[49m\u001b[38;5;241;43m=\u001b[39;49m\u001b[43mextract_links\u001b[49m\u001b[43m,\u001b[49m\n\u001b[1;32m   1229\u001b[0m \u001b[43m    \u001b[49m\u001b[43mdtype_backend\u001b[49m\u001b[38;5;241;43m=\u001b[39;49m\u001b[43mdtype_backend\u001b[49m\u001b[43m,\u001b[49m\n\u001b[1;32m   1230\u001b[0m \u001b[43m\u001b[49m\u001b[43m)\u001b[49m\n",
      "File \u001b[0;32m~/main_env/lib/python3.10/site-packages/pandas/io/html.py:981\u001b[0m, in \u001b[0;36m_parse\u001b[0;34m(flavor, io, match, attrs, encoding, displayed_only, extract_links, **kwargs)\u001b[0m\n\u001b[1;32m    978\u001b[0m p \u001b[38;5;241m=\u001b[39m parser(io, compiled_match, attrs, encoding, displayed_only, extract_links)\n\u001b[1;32m    980\u001b[0m \u001b[38;5;28;01mtry\u001b[39;00m:\n\u001b[0;32m--> 981\u001b[0m     tables \u001b[38;5;241m=\u001b[39m \u001b[43mp\u001b[49m\u001b[38;5;241;43m.\u001b[39;49m\u001b[43mparse_tables\u001b[49m\u001b[43m(\u001b[49m\u001b[43m)\u001b[49m\n\u001b[1;32m    982\u001b[0m \u001b[38;5;28;01mexcept\u001b[39;00m \u001b[38;5;167;01mValueError\u001b[39;00m \u001b[38;5;28;01mas\u001b[39;00m caught:\n\u001b[1;32m    983\u001b[0m     \u001b[38;5;66;03m# if `io` is an io-like object, check if it's seekable\u001b[39;00m\n\u001b[1;32m    984\u001b[0m     \u001b[38;5;66;03m# and try to rewind it before trying the next parser\u001b[39;00m\n\u001b[1;32m    985\u001b[0m     \u001b[38;5;28;01mif\u001b[39;00m \u001b[38;5;28mhasattr\u001b[39m(io, \u001b[38;5;124m\"\u001b[39m\u001b[38;5;124mseekable\u001b[39m\u001b[38;5;124m\"\u001b[39m) \u001b[38;5;129;01mand\u001b[39;00m io\u001b[38;5;241m.\u001b[39mseekable():\n",
      "File \u001b[0;32m~/main_env/lib/python3.10/site-packages/pandas/io/html.py:257\u001b[0m, in \u001b[0;36m_HtmlFrameParser.parse_tables\u001b[0;34m(self)\u001b[0m\n\u001b[1;32m    249\u001b[0m \u001b[38;5;28;01mdef\u001b[39;00m \u001b[38;5;21mparse_tables\u001b[39m(\u001b[38;5;28mself\u001b[39m):\n\u001b[1;32m    250\u001b[0m \u001b[38;5;250m    \u001b[39m\u001b[38;5;124;03m\"\"\"\u001b[39;00m\n\u001b[1;32m    251\u001b[0m \u001b[38;5;124;03m    Parse and return all tables from the DOM.\u001b[39;00m\n\u001b[1;32m    252\u001b[0m \n\u001b[0;32m   (...)\u001b[0m\n\u001b[1;32m    255\u001b[0m \u001b[38;5;124;03m    list of parsed (header, body, footer) tuples from tables.\u001b[39;00m\n\u001b[1;32m    256\u001b[0m \u001b[38;5;124;03m    \"\"\"\u001b[39;00m\n\u001b[0;32m--> 257\u001b[0m     tables \u001b[38;5;241m=\u001b[39m \u001b[38;5;28mself\u001b[39m\u001b[38;5;241m.\u001b[39m_parse_tables(\u001b[38;5;28;43mself\u001b[39;49m\u001b[38;5;241;43m.\u001b[39;49m\u001b[43m_build_doc\u001b[49m\u001b[43m(\u001b[49m\u001b[43m)\u001b[49m, \u001b[38;5;28mself\u001b[39m\u001b[38;5;241m.\u001b[39mmatch, \u001b[38;5;28mself\u001b[39m\u001b[38;5;241m.\u001b[39mattrs)\n\u001b[1;32m    258\u001b[0m     \u001b[38;5;28;01mreturn\u001b[39;00m (\u001b[38;5;28mself\u001b[39m\u001b[38;5;241m.\u001b[39m_parse_thead_tbody_tfoot(table) \u001b[38;5;28;01mfor\u001b[39;00m table \u001b[38;5;129;01min\u001b[39;00m tables)\n",
      "File \u001b[0;32m~/main_env/lib/python3.10/site-packages/pandas/io/html.py:816\u001b[0m, in \u001b[0;36m_LxmlFrameParser._build_doc\u001b[0;34m(self)\u001b[0m\n\u001b[1;32m    814\u001b[0m             \u001b[38;5;28;01mpass\u001b[39;00m\n\u001b[1;32m    815\u001b[0m     \u001b[38;5;28;01melse\u001b[39;00m:\n\u001b[0;32m--> 816\u001b[0m         \u001b[38;5;28;01mraise\u001b[39;00m e\n\u001b[1;32m    817\u001b[0m \u001b[38;5;28;01melse\u001b[39;00m:\n\u001b[1;32m    818\u001b[0m     \u001b[38;5;28;01mif\u001b[39;00m \u001b[38;5;129;01mnot\u001b[39;00m \u001b[38;5;28mhasattr\u001b[39m(r, \u001b[38;5;124m\"\u001b[39m\u001b[38;5;124mtext_content\u001b[39m\u001b[38;5;124m\"\u001b[39m):\n",
      "File \u001b[0;32m~/main_env/lib/python3.10/site-packages/pandas/io/html.py:797\u001b[0m, in \u001b[0;36m_LxmlFrameParser._build_doc\u001b[0;34m(self)\u001b[0m\n\u001b[1;32m    795\u001b[0m \u001b[38;5;28;01mtry\u001b[39;00m:\n\u001b[1;32m    796\u001b[0m     \u001b[38;5;28;01mif\u001b[39;00m is_url(\u001b[38;5;28mself\u001b[39m\u001b[38;5;241m.\u001b[39mio):\n\u001b[0;32m--> 797\u001b[0m         \u001b[38;5;28;01mwith\u001b[39;00m \u001b[43murlopen\u001b[49m\u001b[43m(\u001b[49m\u001b[38;5;28;43mself\u001b[39;49m\u001b[38;5;241;43m.\u001b[39;49m\u001b[43mio\u001b[49m\u001b[43m)\u001b[49m \u001b[38;5;28;01mas\u001b[39;00m f:\n\u001b[1;32m    798\u001b[0m             r \u001b[38;5;241m=\u001b[39m parse(f, parser\u001b[38;5;241m=\u001b[39mparser)\n\u001b[1;32m    799\u001b[0m     \u001b[38;5;28;01melse\u001b[39;00m:\n\u001b[1;32m    800\u001b[0m         \u001b[38;5;66;03m# try to parse the input in the simplest way\u001b[39;00m\n",
      "File \u001b[0;32m~/main_env/lib/python3.10/site-packages/pandas/io/common.py:270\u001b[0m, in \u001b[0;36murlopen\u001b[0;34m(*args, **kwargs)\u001b[0m\n\u001b[1;32m    264\u001b[0m \u001b[38;5;250m\u001b[39m\u001b[38;5;124;03m\"\"\"\u001b[39;00m\n\u001b[1;32m    265\u001b[0m \u001b[38;5;124;03mLazy-import wrapper for stdlib urlopen, as that imports a big chunk of\u001b[39;00m\n\u001b[1;32m    266\u001b[0m \u001b[38;5;124;03mthe stdlib.\u001b[39;00m\n\u001b[1;32m    267\u001b[0m \u001b[38;5;124;03m\"\"\"\u001b[39;00m\n\u001b[1;32m    268\u001b[0m \u001b[38;5;28;01mimport\u001b[39;00m \u001b[38;5;21;01murllib\u001b[39;00m\u001b[38;5;21;01m.\u001b[39;00m\u001b[38;5;21;01mrequest\u001b[39;00m\n\u001b[0;32m--> 270\u001b[0m \u001b[38;5;28;01mreturn\u001b[39;00m \u001b[43murllib\u001b[49m\u001b[38;5;241;43m.\u001b[39;49m\u001b[43mrequest\u001b[49m\u001b[38;5;241;43m.\u001b[39;49m\u001b[43murlopen\u001b[49m\u001b[43m(\u001b[49m\u001b[38;5;241;43m*\u001b[39;49m\u001b[43margs\u001b[49m\u001b[43m,\u001b[49m\u001b[43m \u001b[49m\u001b[38;5;241;43m*\u001b[39;49m\u001b[38;5;241;43m*\u001b[39;49m\u001b[43mkwargs\u001b[49m\u001b[43m)\u001b[49m\n",
      "File \u001b[0;32m/usr/lib/python3.10/urllib/request.py:216\u001b[0m, in \u001b[0;36murlopen\u001b[0;34m(url, data, timeout, cafile, capath, cadefault, context)\u001b[0m\n\u001b[1;32m    214\u001b[0m \u001b[38;5;28;01melse\u001b[39;00m:\n\u001b[1;32m    215\u001b[0m     opener \u001b[38;5;241m=\u001b[39m _opener\n\u001b[0;32m--> 216\u001b[0m \u001b[38;5;28;01mreturn\u001b[39;00m \u001b[43mopener\u001b[49m\u001b[38;5;241;43m.\u001b[39;49m\u001b[43mopen\u001b[49m\u001b[43m(\u001b[49m\u001b[43murl\u001b[49m\u001b[43m,\u001b[49m\u001b[43m \u001b[49m\u001b[43mdata\u001b[49m\u001b[43m,\u001b[49m\u001b[43m \u001b[49m\u001b[43mtimeout\u001b[49m\u001b[43m)\u001b[49m\n",
      "File \u001b[0;32m/usr/lib/python3.10/urllib/request.py:525\u001b[0m, in \u001b[0;36mOpenerDirector.open\u001b[0;34m(self, fullurl, data, timeout)\u001b[0m\n\u001b[1;32m    523\u001b[0m \u001b[38;5;28;01mfor\u001b[39;00m processor \u001b[38;5;129;01min\u001b[39;00m \u001b[38;5;28mself\u001b[39m\u001b[38;5;241m.\u001b[39mprocess_response\u001b[38;5;241m.\u001b[39mget(protocol, []):\n\u001b[1;32m    524\u001b[0m     meth \u001b[38;5;241m=\u001b[39m \u001b[38;5;28mgetattr\u001b[39m(processor, meth_name)\n\u001b[0;32m--> 525\u001b[0m     response \u001b[38;5;241m=\u001b[39m \u001b[43mmeth\u001b[49m\u001b[43m(\u001b[49m\u001b[43mreq\u001b[49m\u001b[43m,\u001b[49m\u001b[43m \u001b[49m\u001b[43mresponse\u001b[49m\u001b[43m)\u001b[49m\n\u001b[1;32m    527\u001b[0m \u001b[38;5;28;01mreturn\u001b[39;00m response\n",
      "File \u001b[0;32m/usr/lib/python3.10/urllib/request.py:634\u001b[0m, in \u001b[0;36mHTTPErrorProcessor.http_response\u001b[0;34m(self, request, response)\u001b[0m\n\u001b[1;32m    631\u001b[0m \u001b[38;5;66;03m# According to RFC 2616, \"2xx\" code indicates that the client's\u001b[39;00m\n\u001b[1;32m    632\u001b[0m \u001b[38;5;66;03m# request was successfully received, understood, and accepted.\u001b[39;00m\n\u001b[1;32m    633\u001b[0m \u001b[38;5;28;01mif\u001b[39;00m \u001b[38;5;129;01mnot\u001b[39;00m (\u001b[38;5;241m200\u001b[39m \u001b[38;5;241m<\u001b[39m\u001b[38;5;241m=\u001b[39m code \u001b[38;5;241m<\u001b[39m \u001b[38;5;241m300\u001b[39m):\n\u001b[0;32m--> 634\u001b[0m     response \u001b[38;5;241m=\u001b[39m \u001b[38;5;28;43mself\u001b[39;49m\u001b[38;5;241;43m.\u001b[39;49m\u001b[43mparent\u001b[49m\u001b[38;5;241;43m.\u001b[39;49m\u001b[43merror\u001b[49m\u001b[43m(\u001b[49m\n\u001b[1;32m    635\u001b[0m \u001b[43m        \u001b[49m\u001b[38;5;124;43m'\u001b[39;49m\u001b[38;5;124;43mhttp\u001b[39;49m\u001b[38;5;124;43m'\u001b[39;49m\u001b[43m,\u001b[49m\u001b[43m \u001b[49m\u001b[43mrequest\u001b[49m\u001b[43m,\u001b[49m\u001b[43m \u001b[49m\u001b[43mresponse\u001b[49m\u001b[43m,\u001b[49m\u001b[43m \u001b[49m\u001b[43mcode\u001b[49m\u001b[43m,\u001b[49m\u001b[43m \u001b[49m\u001b[43mmsg\u001b[49m\u001b[43m,\u001b[49m\u001b[43m \u001b[49m\u001b[43mhdrs\u001b[49m\u001b[43m)\u001b[49m\n\u001b[1;32m    637\u001b[0m \u001b[38;5;28;01mreturn\u001b[39;00m response\n",
      "File \u001b[0;32m/usr/lib/python3.10/urllib/request.py:563\u001b[0m, in \u001b[0;36mOpenerDirector.error\u001b[0;34m(self, proto, *args)\u001b[0m\n\u001b[1;32m    561\u001b[0m \u001b[38;5;28;01mif\u001b[39;00m http_err:\n\u001b[1;32m    562\u001b[0m     args \u001b[38;5;241m=\u001b[39m (\u001b[38;5;28mdict\u001b[39m, \u001b[38;5;124m'\u001b[39m\u001b[38;5;124mdefault\u001b[39m\u001b[38;5;124m'\u001b[39m, \u001b[38;5;124m'\u001b[39m\u001b[38;5;124mhttp_error_default\u001b[39m\u001b[38;5;124m'\u001b[39m) \u001b[38;5;241m+\u001b[39m orig_args\n\u001b[0;32m--> 563\u001b[0m     \u001b[38;5;28;01mreturn\u001b[39;00m \u001b[38;5;28;43mself\u001b[39;49m\u001b[38;5;241;43m.\u001b[39;49m\u001b[43m_call_chain\u001b[49m\u001b[43m(\u001b[49m\u001b[38;5;241;43m*\u001b[39;49m\u001b[43margs\u001b[49m\u001b[43m)\u001b[49m\n",
      "File \u001b[0;32m/usr/lib/python3.10/urllib/request.py:496\u001b[0m, in \u001b[0;36mOpenerDirector._call_chain\u001b[0;34m(self, chain, kind, meth_name, *args)\u001b[0m\n\u001b[1;32m    494\u001b[0m \u001b[38;5;28;01mfor\u001b[39;00m handler \u001b[38;5;129;01min\u001b[39;00m handlers:\n\u001b[1;32m    495\u001b[0m     func \u001b[38;5;241m=\u001b[39m \u001b[38;5;28mgetattr\u001b[39m(handler, meth_name)\n\u001b[0;32m--> 496\u001b[0m     result \u001b[38;5;241m=\u001b[39m \u001b[43mfunc\u001b[49m\u001b[43m(\u001b[49m\u001b[38;5;241;43m*\u001b[39;49m\u001b[43margs\u001b[49m\u001b[43m)\u001b[49m\n\u001b[1;32m    497\u001b[0m     \u001b[38;5;28;01mif\u001b[39;00m result \u001b[38;5;129;01mis\u001b[39;00m \u001b[38;5;129;01mnot\u001b[39;00m \u001b[38;5;28;01mNone\u001b[39;00m:\n\u001b[1;32m    498\u001b[0m         \u001b[38;5;28;01mreturn\u001b[39;00m result\n",
      "File \u001b[0;32m/usr/lib/python3.10/urllib/request.py:643\u001b[0m, in \u001b[0;36mHTTPDefaultErrorHandler.http_error_default\u001b[0;34m(self, req, fp, code, msg, hdrs)\u001b[0m\n\u001b[1;32m    642\u001b[0m \u001b[38;5;28;01mdef\u001b[39;00m \u001b[38;5;21mhttp_error_default\u001b[39m(\u001b[38;5;28mself\u001b[39m, req, fp, code, msg, hdrs):\n\u001b[0;32m--> 643\u001b[0m     \u001b[38;5;28;01mraise\u001b[39;00m HTTPError(req\u001b[38;5;241m.\u001b[39mfull_url, code, msg, hdrs, fp)\n",
      "\u001b[0;31mHTTPError\u001b[0m: HTTP Error 403: Forbidden"
     ]
    }
   ],
   "source": [
    "pd.read_html('https://ru.investing.com/crypto', \n",
    "             attrs = {'id': 'DataTables_Table_0_wrapper'},\n",
    "             encoding='utf-8')"
   ]
  },
  {
   "cell_type": "code",
   "execution_count": 16,
   "metadata": {
    "ExecuteTime": {
     "end_time": "2023-06-28T19:24:31.696791Z",
     "start_time": "2023-06-28T19:24:31.329826Z"
    },
    "collapsed": true
   },
   "outputs": [
    {
     "name": "stderr",
     "output_type": "stream",
     "text": [
      "/home/rain/main_env/lib/python3.10/site-packages/bs4/__init__.py:226: UserWarning: You provided Unicode markup but also provided a value for from_encoding. Your from_encoding will be ignored.\n",
      "  warnings.warn(\"You provided Unicode markup but also provided a value for from_encoding. Your from_encoding will be ignored.\")\n"
     ]
    },
    {
     "ename": "ValueError",
     "evalue": "No tables found",
     "output_type": "error",
     "traceback": [
      "\u001b[0;31m---------------------------------------------------------------------------\u001b[0m",
      "\u001b[0;31mValueError\u001b[0m                                Traceback (most recent call last)",
      "Cell \u001b[0;32mIn[16], line 6\u001b[0m\n\u001b[1;32m      1\u001b[0m page_url \u001b[38;5;241m=\u001b[39m \u001b[38;5;124m'\u001b[39m\u001b[38;5;124mhttps://cbr.ru\u001b[39m\u001b[38;5;124m'\u001b[39m\n\u001b[1;32m      3\u001b[0m \u001b[38;5;66;03m# Импортируем нужную нам страницу в df\u001b[39;00m\n\u001b[1;32m      4\u001b[0m \u001b[38;5;66;03m# attrs = {'class': 'news_table'} ---> указываем какой именно блок нам нужен\u001b[39;00m\n\u001b[1;32m      5\u001b[0m \u001b[38;5;66;03m# encoding='utf-8' ---> указываем кодировку страниц для корректного отображения кириллицы\u001b[39;00m\n\u001b[0;32m----> 6\u001b[0m df \u001b[38;5;241m=\u001b[39m \u001b[43mpd\u001b[49m\u001b[38;5;241;43m.\u001b[39;49m\u001b[43mread_html\u001b[49m\u001b[43m(\u001b[49m\u001b[43mpage_url\u001b[49m\u001b[43m,\u001b[49m\u001b[43m \u001b[49m\u001b[43mattrs\u001b[49m\u001b[43m \u001b[49m\u001b[38;5;241;43m=\u001b[39;49m\u001b[43m \u001b[49m\u001b[43m{\u001b[49m\u001b[38;5;124;43m'\u001b[39;49m\u001b[38;5;124;43mclass\u001b[39;49m\u001b[38;5;124;43m'\u001b[39;49m\u001b[43m:\u001b[49m\u001b[43m \u001b[49m\u001b[38;5;124;43m'\u001b[39;49m\u001b[38;5;124;43mnews_table\u001b[39;49m\u001b[38;5;124;43m'\u001b[39;49m\u001b[43m}\u001b[49m\u001b[43m,\u001b[49m\u001b[43m \u001b[49m\u001b[43mencoding\u001b[49m\u001b[38;5;241;43m=\u001b[39;49m\u001b[38;5;124;43m'\u001b[39;49m\u001b[38;5;124;43mutf-8\u001b[39;49m\u001b[38;5;124;43m'\u001b[39;49m\u001b[43m)\u001b[49m\n",
      "File \u001b[0;32m~/main_env/lib/python3.10/site-packages/pandas/io/html.py:1212\u001b[0m, in \u001b[0;36mread_html\u001b[0;34m(io, match, flavor, header, index_col, skiprows, attrs, parse_dates, thousands, encoding, decimal, converters, na_values, keep_default_na, displayed_only, extract_links, dtype_backend)\u001b[0m\n\u001b[1;32m   1208\u001b[0m check_dtype_backend(dtype_backend)\n\u001b[1;32m   1210\u001b[0m io \u001b[38;5;241m=\u001b[39m stringify_path(io)\n\u001b[0;32m-> 1212\u001b[0m \u001b[38;5;28;01mreturn\u001b[39;00m \u001b[43m_parse\u001b[49m\u001b[43m(\u001b[49m\n\u001b[1;32m   1213\u001b[0m \u001b[43m    \u001b[49m\u001b[43mflavor\u001b[49m\u001b[38;5;241;43m=\u001b[39;49m\u001b[43mflavor\u001b[49m\u001b[43m,\u001b[49m\n\u001b[1;32m   1214\u001b[0m \u001b[43m    \u001b[49m\u001b[43mio\u001b[49m\u001b[38;5;241;43m=\u001b[39;49m\u001b[43mio\u001b[49m\u001b[43m,\u001b[49m\n\u001b[1;32m   1215\u001b[0m \u001b[43m    \u001b[49m\u001b[43mmatch\u001b[49m\u001b[38;5;241;43m=\u001b[39;49m\u001b[43mmatch\u001b[49m\u001b[43m,\u001b[49m\n\u001b[1;32m   1216\u001b[0m \u001b[43m    \u001b[49m\u001b[43mheader\u001b[49m\u001b[38;5;241;43m=\u001b[39;49m\u001b[43mheader\u001b[49m\u001b[43m,\u001b[49m\n\u001b[1;32m   1217\u001b[0m \u001b[43m    \u001b[49m\u001b[43mindex_col\u001b[49m\u001b[38;5;241;43m=\u001b[39;49m\u001b[43mindex_col\u001b[49m\u001b[43m,\u001b[49m\n\u001b[1;32m   1218\u001b[0m \u001b[43m    \u001b[49m\u001b[43mskiprows\u001b[49m\u001b[38;5;241;43m=\u001b[39;49m\u001b[43mskiprows\u001b[49m\u001b[43m,\u001b[49m\n\u001b[1;32m   1219\u001b[0m \u001b[43m    \u001b[49m\u001b[43mparse_dates\u001b[49m\u001b[38;5;241;43m=\u001b[39;49m\u001b[43mparse_dates\u001b[49m\u001b[43m,\u001b[49m\n\u001b[1;32m   1220\u001b[0m \u001b[43m    \u001b[49m\u001b[43mthousands\u001b[49m\u001b[38;5;241;43m=\u001b[39;49m\u001b[43mthousands\u001b[49m\u001b[43m,\u001b[49m\n\u001b[1;32m   1221\u001b[0m \u001b[43m    \u001b[49m\u001b[43mattrs\u001b[49m\u001b[38;5;241;43m=\u001b[39;49m\u001b[43mattrs\u001b[49m\u001b[43m,\u001b[49m\n\u001b[1;32m   1222\u001b[0m \u001b[43m    \u001b[49m\u001b[43mencoding\u001b[49m\u001b[38;5;241;43m=\u001b[39;49m\u001b[43mencoding\u001b[49m\u001b[43m,\u001b[49m\n\u001b[1;32m   1223\u001b[0m \u001b[43m    \u001b[49m\u001b[43mdecimal\u001b[49m\u001b[38;5;241;43m=\u001b[39;49m\u001b[43mdecimal\u001b[49m\u001b[43m,\u001b[49m\n\u001b[1;32m   1224\u001b[0m \u001b[43m    \u001b[49m\u001b[43mconverters\u001b[49m\u001b[38;5;241;43m=\u001b[39;49m\u001b[43mconverters\u001b[49m\u001b[43m,\u001b[49m\n\u001b[1;32m   1225\u001b[0m \u001b[43m    \u001b[49m\u001b[43mna_values\u001b[49m\u001b[38;5;241;43m=\u001b[39;49m\u001b[43mna_values\u001b[49m\u001b[43m,\u001b[49m\n\u001b[1;32m   1226\u001b[0m \u001b[43m    \u001b[49m\u001b[43mkeep_default_na\u001b[49m\u001b[38;5;241;43m=\u001b[39;49m\u001b[43mkeep_default_na\u001b[49m\u001b[43m,\u001b[49m\n\u001b[1;32m   1227\u001b[0m \u001b[43m    \u001b[49m\u001b[43mdisplayed_only\u001b[49m\u001b[38;5;241;43m=\u001b[39;49m\u001b[43mdisplayed_only\u001b[49m\u001b[43m,\u001b[49m\n\u001b[1;32m   1228\u001b[0m \u001b[43m    \u001b[49m\u001b[43mextract_links\u001b[49m\u001b[38;5;241;43m=\u001b[39;49m\u001b[43mextract_links\u001b[49m\u001b[43m,\u001b[49m\n\u001b[1;32m   1229\u001b[0m \u001b[43m    \u001b[49m\u001b[43mdtype_backend\u001b[49m\u001b[38;5;241;43m=\u001b[39;49m\u001b[43mdtype_backend\u001b[49m\u001b[43m,\u001b[49m\n\u001b[1;32m   1230\u001b[0m \u001b[43m\u001b[49m\u001b[43m)\u001b[49m\n",
      "File \u001b[0;32m~/main_env/lib/python3.10/site-packages/pandas/io/html.py:1001\u001b[0m, in \u001b[0;36m_parse\u001b[0;34m(flavor, io, match, attrs, encoding, displayed_only, extract_links, **kwargs)\u001b[0m\n\u001b[1;32m    999\u001b[0m \u001b[38;5;28;01melse\u001b[39;00m:\n\u001b[1;32m   1000\u001b[0m     \u001b[38;5;28;01massert\u001b[39;00m retained \u001b[38;5;129;01mis\u001b[39;00m \u001b[38;5;129;01mnot\u001b[39;00m \u001b[38;5;28;01mNone\u001b[39;00m  \u001b[38;5;66;03m# for mypy\u001b[39;00m\n\u001b[0;32m-> 1001\u001b[0m     \u001b[38;5;28;01mraise\u001b[39;00m retained\n\u001b[1;32m   1003\u001b[0m ret \u001b[38;5;241m=\u001b[39m []\n\u001b[1;32m   1004\u001b[0m \u001b[38;5;28;01mfor\u001b[39;00m table \u001b[38;5;129;01min\u001b[39;00m tables:\n",
      "File \u001b[0;32m~/main_env/lib/python3.10/site-packages/pandas/io/html.py:981\u001b[0m, in \u001b[0;36m_parse\u001b[0;34m(flavor, io, match, attrs, encoding, displayed_only, extract_links, **kwargs)\u001b[0m\n\u001b[1;32m    978\u001b[0m p \u001b[38;5;241m=\u001b[39m parser(io, compiled_match, attrs, encoding, displayed_only, extract_links)\n\u001b[1;32m    980\u001b[0m \u001b[38;5;28;01mtry\u001b[39;00m:\n\u001b[0;32m--> 981\u001b[0m     tables \u001b[38;5;241m=\u001b[39m \u001b[43mp\u001b[49m\u001b[38;5;241;43m.\u001b[39;49m\u001b[43mparse_tables\u001b[49m\u001b[43m(\u001b[49m\u001b[43m)\u001b[49m\n\u001b[1;32m    982\u001b[0m \u001b[38;5;28;01mexcept\u001b[39;00m \u001b[38;5;167;01mValueError\u001b[39;00m \u001b[38;5;28;01mas\u001b[39;00m caught:\n\u001b[1;32m    983\u001b[0m     \u001b[38;5;66;03m# if `io` is an io-like object, check if it's seekable\u001b[39;00m\n\u001b[1;32m    984\u001b[0m     \u001b[38;5;66;03m# and try to rewind it before trying the next parser\u001b[39;00m\n\u001b[1;32m    985\u001b[0m     \u001b[38;5;28;01mif\u001b[39;00m \u001b[38;5;28mhasattr\u001b[39m(io, \u001b[38;5;124m\"\u001b[39m\u001b[38;5;124mseekable\u001b[39m\u001b[38;5;124m\"\u001b[39m) \u001b[38;5;129;01mand\u001b[39;00m io\u001b[38;5;241m.\u001b[39mseekable():\n",
      "File \u001b[0;32m~/main_env/lib/python3.10/site-packages/pandas/io/html.py:257\u001b[0m, in \u001b[0;36m_HtmlFrameParser.parse_tables\u001b[0;34m(self)\u001b[0m\n\u001b[1;32m    249\u001b[0m \u001b[38;5;28;01mdef\u001b[39;00m \u001b[38;5;21mparse_tables\u001b[39m(\u001b[38;5;28mself\u001b[39m):\n\u001b[1;32m    250\u001b[0m \u001b[38;5;250m    \u001b[39m\u001b[38;5;124;03m\"\"\"\u001b[39;00m\n\u001b[1;32m    251\u001b[0m \u001b[38;5;124;03m    Parse and return all tables from the DOM.\u001b[39;00m\n\u001b[1;32m    252\u001b[0m \n\u001b[0;32m   (...)\u001b[0m\n\u001b[1;32m    255\u001b[0m \u001b[38;5;124;03m    list of parsed (header, body, footer) tuples from tables.\u001b[39;00m\n\u001b[1;32m    256\u001b[0m \u001b[38;5;124;03m    \"\"\"\u001b[39;00m\n\u001b[0;32m--> 257\u001b[0m     tables \u001b[38;5;241m=\u001b[39m \u001b[38;5;28;43mself\u001b[39;49m\u001b[38;5;241;43m.\u001b[39;49m\u001b[43m_parse_tables\u001b[49m\u001b[43m(\u001b[49m\u001b[38;5;28;43mself\u001b[39;49m\u001b[38;5;241;43m.\u001b[39;49m\u001b[43m_build_doc\u001b[49m\u001b[43m(\u001b[49m\u001b[43m)\u001b[49m\u001b[43m,\u001b[49m\u001b[43m \u001b[49m\u001b[38;5;28;43mself\u001b[39;49m\u001b[38;5;241;43m.\u001b[39;49m\u001b[43mmatch\u001b[49m\u001b[43m,\u001b[49m\u001b[43m \u001b[49m\u001b[38;5;28;43mself\u001b[39;49m\u001b[38;5;241;43m.\u001b[39;49m\u001b[43mattrs\u001b[49m\u001b[43m)\u001b[49m\n\u001b[1;32m    258\u001b[0m     \u001b[38;5;28;01mreturn\u001b[39;00m (\u001b[38;5;28mself\u001b[39m\u001b[38;5;241m.\u001b[39m_parse_thead_tbody_tfoot(table) \u001b[38;5;28;01mfor\u001b[39;00m table \u001b[38;5;129;01min\u001b[39;00m tables)\n",
      "File \u001b[0;32m~/main_env/lib/python3.10/site-packages/pandas/io/html.py:613\u001b[0m, in \u001b[0;36m_BeautifulSoupHtml5LibFrameParser._parse_tables\u001b[0;34m(self, doc, match, attrs)\u001b[0m\n\u001b[1;32m    610\u001b[0m tables \u001b[38;5;241m=\u001b[39m doc\u001b[38;5;241m.\u001b[39mfind_all(element_name, attrs\u001b[38;5;241m=\u001b[39mattrs)\n\u001b[1;32m    612\u001b[0m \u001b[38;5;28;01mif\u001b[39;00m \u001b[38;5;129;01mnot\u001b[39;00m tables:\n\u001b[0;32m--> 613\u001b[0m     \u001b[38;5;28;01mraise\u001b[39;00m \u001b[38;5;167;01mValueError\u001b[39;00m(\u001b[38;5;124m\"\u001b[39m\u001b[38;5;124mNo tables found\u001b[39m\u001b[38;5;124m\"\u001b[39m)\n\u001b[1;32m    615\u001b[0m result \u001b[38;5;241m=\u001b[39m []\n\u001b[1;32m    616\u001b[0m unique_tables \u001b[38;5;241m=\u001b[39m \u001b[38;5;28mset\u001b[39m()\n",
      "\u001b[0;31mValueError\u001b[0m: No tables found"
     ]
    }
   ],
   "source": [
    "page_url = 'https://cbr.ru'\n",
    "\n",
    "# Импортируем нужную нам страницу в df\n",
    "# attrs = {'class': 'news_table'} ---> указываем какой именно блок нам нужен\n",
    "# encoding='utf-8' ---> указываем кодировку страниц для корректного отображения кириллицы\n",
    "df = pd.read_html(page_url, attrs = {'class': 'news_table'}, encoding='utf-8')"
   ]
  },
  {
   "cell_type": "markdown",
   "metadata": {},
   "source": [
    "### Импорт данных из файла <a class=\"anchor\" id=\"3\"></a>"
   ]
  },
  {
   "cell_type": "code",
   "execution_count": 42,
   "metadata": {
    "ExecuteTime": {
     "end_time": "2023-06-28T21:18:26.227789Z",
     "start_time": "2023-06-28T21:18:25.939364Z"
    },
    "scrolled": false
   },
   "outputs": [
    {
     "data": {
      "text/html": [
       "<div>\n",
       "<style scoped>\n",
       "    .dataframe tbody tr th:only-of-type {\n",
       "        vertical-align: middle;\n",
       "    }\n",
       "\n",
       "    .dataframe tbody tr th {\n",
       "        vertical-align: top;\n",
       "    }\n",
       "\n",
       "    .dataframe thead th {\n",
       "        text-align: right;\n",
       "    }\n",
       "</style>\n",
       "<table border=\"1\" class=\"dataframe\">\n",
       "  <thead>\n",
       "    <tr style=\"text-align: right;\">\n",
       "      <th></th>\n",
       "      <th>country</th>\n",
       "      <th>year</th>\n",
       "      <th>quantity</th>\n",
       "      <th>category</th>\n",
       "    </tr>\n",
       "  </thead>\n",
       "  <tbody>\n",
       "    <tr>\n",
       "      <th>0</th>\n",
       "      <td>Austria</td>\n",
       "      <td>1996</td>\n",
       "      <td>5.0</td>\n",
       "      <td>1</td>\n",
       "    </tr>\n",
       "    <tr>\n",
       "      <th>1</th>\n",
       "      <td>Austria</td>\n",
       "      <td>1995</td>\n",
       "      <td>17.0</td>\n",
       "      <td>1</td>\n",
       "    </tr>\n",
       "    <tr>\n",
       "      <th>2</th>\n",
       "      <td>Belgium</td>\n",
       "      <td>2014</td>\n",
       "      <td>0.0</td>\n",
       "      <td>1</td>\n",
       "    </tr>\n",
       "    <tr>\n",
       "      <th>3</th>\n",
       "      <td>Belgium</td>\n",
       "      <td>2013</td>\n",
       "      <td>0.0</td>\n",
       "      <td>1</td>\n",
       "    </tr>\n",
       "    <tr>\n",
       "      <th>4</th>\n",
       "      <td>Belgium</td>\n",
       "      <td>2012</td>\n",
       "      <td>35.0</td>\n",
       "      <td>1</td>\n",
       "    </tr>\n",
       "  </tbody>\n",
       "</table>\n",
       "</div>"
      ],
      "text/plain": [
       "   country  year  quantity  category\n",
       "0  Austria  1996       5.0         1\n",
       "1  Austria  1995      17.0         1\n",
       "2  Belgium  2014       0.0         1\n",
       "3  Belgium  2013       0.0         1\n",
       "4  Belgium  2012      35.0         1"
      ]
     },
     "execution_count": 42,
     "metadata": {},
     "output_type": "execute_result"
    }
   ],
   "source": [
    "data = pd.read_csv('../.datasets/power.csv')\n",
    "data.head()"
   ]
  },
  {
   "cell_type": "code",
   "execution_count": 29,
   "metadata": {
    "ExecuteTime": {
     "end_time": "2023-06-28T19:42:23.548303Z",
     "start_time": "2023-06-28T19:42:23.526786Z"
    }
   },
   "outputs": [
    {
     "data": {
      "text/html": [
       "<div>\n",
       "<style scoped>\n",
       "    .dataframe tbody tr th:only-of-type {\n",
       "        vertical-align: middle;\n",
       "    }\n",
       "\n",
       "    .dataframe tbody tr th {\n",
       "        vertical-align: top;\n",
       "    }\n",
       "\n",
       "    .dataframe thead th {\n",
       "        text-align: right;\n",
       "    }\n",
       "</style>\n",
       "<table border=\"1\" class=\"dataframe\">\n",
       "  <thead>\n",
       "    <tr style=\"text-align: right;\">\n",
       "      <th></th>\n",
       "      <th>country</th>\n",
       "      <th>year</th>\n",
       "      <th>quantity</th>\n",
       "      <th>category</th>\n",
       "    </tr>\n",
       "  </thead>\n",
       "  <tbody>\n",
       "    <tr>\n",
       "      <th>1189477</th>\n",
       "      <td>Viet Nam</td>\n",
       "      <td>2012</td>\n",
       "      <td>92.0</td>\n",
       "      <td>71</td>\n",
       "    </tr>\n",
       "    <tr>\n",
       "      <th>1189478</th>\n",
       "      <td>Viet Nam</td>\n",
       "      <td>2011</td>\n",
       "      <td>87.0</td>\n",
       "      <td>71</td>\n",
       "    </tr>\n",
       "    <tr>\n",
       "      <th>1189479</th>\n",
       "      <td>Viet Nam</td>\n",
       "      <td>2010</td>\n",
       "      <td>50.0</td>\n",
       "      <td>71</td>\n",
       "    </tr>\n",
       "    <tr>\n",
       "      <th>1189480</th>\n",
       "      <td>Viet Nam</td>\n",
       "      <td>2009</td>\n",
       "      <td>10.0</td>\n",
       "      <td>71</td>\n",
       "    </tr>\n",
       "    <tr>\n",
       "      <th>1189481</th>\n",
       "      <td>Viet Nam</td>\n",
       "      <td>2008</td>\n",
       "      <td>1.0</td>\n",
       "      <td>71</td>\n",
       "    </tr>\n",
       "  </tbody>\n",
       "</table>\n",
       "</div>"
      ],
      "text/plain": [
       "          country  year  quantity  category\n",
       "1189477  Viet Nam  2012      92.0        71\n",
       "1189478  Viet Nam  2011      87.0        71\n",
       "1189479  Viet Nam  2010      50.0        71\n",
       "1189480  Viet Nam  2009      10.0        71\n",
       "1189481  Viet Nam  2008       1.0        71"
      ]
     },
     "execution_count": 29,
     "metadata": {},
     "output_type": "execute_result"
    }
   ],
   "source": [
    "data.tail()"
   ]
  },
  {
   "cell_type": "code",
   "execution_count": 30,
   "metadata": {
    "ExecuteTime": {
     "end_time": "2023-06-28T19:42:25.645285Z",
     "start_time": "2023-06-28T19:42:25.642487Z"
    },
    "scrolled": true
   },
   "outputs": [
    {
     "data": {
      "text/plain": [
       "pandas.core.frame.DataFrame"
      ]
     },
     "execution_count": 30,
     "metadata": {},
     "output_type": "execute_result"
    }
   ],
   "source": [
    "type(data)"
   ]
  },
  {
   "cell_type": "code",
   "execution_count": 43,
   "metadata": {
    "ExecuteTime": {
     "end_time": "2023-06-28T21:18:34.821310Z",
     "start_time": "2023-06-28T21:18:34.572389Z"
    }
   },
   "outputs": [
    {
     "data": {
      "text/html": [
       "<div>\n",
       "<style scoped>\n",
       "    .dataframe tbody tr th:only-of-type {\n",
       "        vertical-align: middle;\n",
       "    }\n",
       "\n",
       "    .dataframe tbody tr th {\n",
       "        vertical-align: top;\n",
       "    }\n",
       "\n",
       "    .dataframe thead th {\n",
       "        text-align: right;\n",
       "    }\n",
       "</style>\n",
       "<table border=\"1\" class=\"dataframe\">\n",
       "  <thead>\n",
       "    <tr style=\"text-align: right;\">\n",
       "      <th></th>\n",
       "      <th>страна</th>\n",
       "      <th>год</th>\n",
       "      <th>количество</th>\n",
       "      <th>категория</th>\n",
       "    </tr>\n",
       "  </thead>\n",
       "  <tbody>\n",
       "    <tr>\n",
       "      <th>0</th>\n",
       "      <td>Austria</td>\n",
       "      <td>1996</td>\n",
       "      <td>5.0</td>\n",
       "      <td>1</td>\n",
       "    </tr>\n",
       "    <tr>\n",
       "      <th>1</th>\n",
       "      <td>Austria</td>\n",
       "      <td>1995</td>\n",
       "      <td>17.0</td>\n",
       "      <td>1</td>\n",
       "    </tr>\n",
       "    <tr>\n",
       "      <th>2</th>\n",
       "      <td>Belgium</td>\n",
       "      <td>2014</td>\n",
       "      <td>0.0</td>\n",
       "      <td>1</td>\n",
       "    </tr>\n",
       "    <tr>\n",
       "      <th>3</th>\n",
       "      <td>Belgium</td>\n",
       "      <td>2013</td>\n",
       "      <td>0.0</td>\n",
       "      <td>1</td>\n",
       "    </tr>\n",
       "    <tr>\n",
       "      <th>4</th>\n",
       "      <td>Belgium</td>\n",
       "      <td>2012</td>\n",
       "      <td>35.0</td>\n",
       "      <td>1</td>\n",
       "    </tr>\n",
       "  </tbody>\n",
       "</table>\n",
       "</div>"
      ],
      "text/plain": [
       "    страна   год  количество  категория\n",
       "0  Austria  1996         5.0          1\n",
       "1  Austria  1995        17.0          1\n",
       "2  Belgium  2014         0.0          1\n",
       "3  Belgium  2013         0.0          1\n",
       "4  Belgium  2012        35.0          1"
      ]
     },
     "execution_count": 43,
     "metadata": {},
     "output_type": "execute_result"
    }
   ],
   "source": [
    "# если надо указать свои заголовки и разделитель\n",
    "#?pd.read_csv\n",
    "buf = pd.read_csv(filepath_or_buffer='../.datasets/power.csv', \n",
    "                  names = ['страна', 'год', 'количество', 'категория'], \n",
    "                  sep = ',', header=0)\n",
    "buf.head()"
   ]
  },
  {
   "cell_type": "code",
   "execution_count": 38,
   "metadata": {
    "ExecuteTime": {
     "end_time": "2023-06-28T19:49:10.016520Z",
     "start_time": "2023-06-28T19:49:10.012923Z"
    }
   },
   "outputs": [
    {
     "data": {
      "text/plain": [
       "1189482"
      ]
     },
     "execution_count": 38,
     "metadata": {},
     "output_type": "execute_result"
    }
   ],
   "source": [
    "# количество строк в датафрейме\n",
    "len(data)"
   ]
  },
  {
   "cell_type": "code",
   "execution_count": 39,
   "metadata": {
    "ExecuteTime": {
     "end_time": "2023-06-28T19:49:14.821649Z",
     "start_time": "2023-06-28T19:49:14.818401Z"
    }
   },
   "outputs": [
    {
     "data": {
      "text/plain": [
       "(1189482, 4)"
      ]
     },
     "execution_count": 39,
     "metadata": {},
     "output_type": "execute_result"
    }
   ],
   "source": [
    "# или так\n",
    "data.shape"
   ]
  },
  {
   "cell_type": "markdown",
   "metadata": {},
   "source": [
    "Простые вычисления для нового столбца"
   ]
  },
  {
   "cell_type": "code",
   "execution_count": 44,
   "metadata": {
    "ExecuteTime": {
     "end_time": "2023-06-28T21:18:38.198827Z",
     "start_time": "2023-06-28T21:18:38.186464Z"
    },
    "scrolled": true
   },
   "outputs": [
    {
     "data": {
      "text/html": [
       "<div>\n",
       "<style scoped>\n",
       "    .dataframe tbody tr th:only-of-type {\n",
       "        vertical-align: middle;\n",
       "    }\n",
       "\n",
       "    .dataframe tbody tr th {\n",
       "        vertical-align: top;\n",
       "    }\n",
       "\n",
       "    .dataframe thead th {\n",
       "        text-align: right;\n",
       "    }\n",
       "</style>\n",
       "<table border=\"1\" class=\"dataframe\">\n",
       "  <thead>\n",
       "    <tr style=\"text-align: right;\">\n",
       "      <th></th>\n",
       "      <th>country</th>\n",
       "      <th>year</th>\n",
       "      <th>quantity</th>\n",
       "      <th>category</th>\n",
       "      <th>year_plus_one</th>\n",
       "    </tr>\n",
       "  </thead>\n",
       "  <tbody>\n",
       "    <tr>\n",
       "      <th>0</th>\n",
       "      <td>Austria</td>\n",
       "      <td>1996</td>\n",
       "      <td>5.0</td>\n",
       "      <td>1</td>\n",
       "      <td>1997</td>\n",
       "    </tr>\n",
       "    <tr>\n",
       "      <th>1</th>\n",
       "      <td>Austria</td>\n",
       "      <td>1995</td>\n",
       "      <td>17.0</td>\n",
       "      <td>1</td>\n",
       "      <td>1996</td>\n",
       "    </tr>\n",
       "    <tr>\n",
       "      <th>2</th>\n",
       "      <td>Belgium</td>\n",
       "      <td>2014</td>\n",
       "      <td>0.0</td>\n",
       "      <td>1</td>\n",
       "      <td>2015</td>\n",
       "    </tr>\n",
       "    <tr>\n",
       "      <th>3</th>\n",
       "      <td>Belgium</td>\n",
       "      <td>2013</td>\n",
       "      <td>0.0</td>\n",
       "      <td>1</td>\n",
       "      <td>2014</td>\n",
       "    </tr>\n",
       "    <tr>\n",
       "      <th>4</th>\n",
       "      <td>Belgium</td>\n",
       "      <td>2012</td>\n",
       "      <td>35.0</td>\n",
       "      <td>1</td>\n",
       "      <td>2013</td>\n",
       "    </tr>\n",
       "  </tbody>\n",
       "</table>\n",
       "</div>"
      ],
      "text/plain": [
       "   country  year  quantity  category  year_plus_one\n",
       "0  Austria  1996       5.0         1           1997\n",
       "1  Austria  1995      17.0         1           1996\n",
       "2  Belgium  2014       0.0         1           2015\n",
       "3  Belgium  2013       0.0         1           2014\n",
       "4  Belgium  2012      35.0         1           2013"
      ]
     },
     "execution_count": 44,
     "metadata": {},
     "output_type": "execute_result"
    }
   ],
   "source": [
    "data['year_plus_one'] = data['year'] + 1\n",
    "data.head()"
   ]
  },
  {
   "cell_type": "markdown",
   "metadata": {},
   "source": [
    "### Упражнение 1 <a class=\"anchor\" id=\"4\"></a>\n",
    "Вам дана статистика продаж в файле transactions.csv. Вам необходимо загрузить этот файл в датафрейм и посчитать его размеры."
   ]
  },
  {
   "cell_type": "code",
   "execution_count": 45,
   "metadata": {
    "ExecuteTime": {
     "end_time": "2023-06-28T21:18:42.628280Z",
     "start_time": "2023-06-28T21:18:42.619125Z"
    }
   },
   "outputs": [
    {
     "data": {
      "text/html": [
       "<div>\n",
       "<style scoped>\n",
       "    .dataframe tbody tr th:only-of-type {\n",
       "        vertical-align: middle;\n",
       "    }\n",
       "\n",
       "    .dataframe tbody tr th {\n",
       "        vertical-align: top;\n",
       "    }\n",
       "\n",
       "    .dataframe thead th {\n",
       "        text-align: right;\n",
       "    }\n",
       "</style>\n",
       "<table border=\"1\" class=\"dataframe\">\n",
       "  <thead>\n",
       "    <tr style=\"text-align: right;\">\n",
       "      <th></th>\n",
       "      <th>Year</th>\n",
       "      <th>Month</th>\n",
       "      <th>ID</th>\n",
       "      <th>Product</th>\n",
       "      <th>Amount</th>\n",
       "      <th>Price</th>\n",
       "      <th>Total</th>\n",
       "      <th>Cost</th>\n",
       "    </tr>\n",
       "  </thead>\n",
       "  <tbody>\n",
       "    <tr>\n",
       "      <th>0</th>\n",
       "      <td>2017</td>\n",
       "      <td>1</td>\n",
       "      <td>t001</td>\n",
       "      <td>A1</td>\n",
       "      <td>7</td>\n",
       "      <td>2904</td>\n",
       "      <td>20328</td>\n",
       "      <td>1200</td>\n",
       "    </tr>\n",
       "    <tr>\n",
       "      <th>1</th>\n",
       "      <td>2017</td>\n",
       "      <td>1</td>\n",
       "      <td>t002</td>\n",
       "      <td>A2</td>\n",
       "      <td>2</td>\n",
       "      <td>1896</td>\n",
       "      <td>3792</td>\n",
       "      <td>1100</td>\n",
       "    </tr>\n",
       "    <tr>\n",
       "      <th>2</th>\n",
       "      <td>2017</td>\n",
       "      <td>2</td>\n",
       "      <td>t003</td>\n",
       "      <td>A1</td>\n",
       "      <td>5</td>\n",
       "      <td>2904</td>\n",
       "      <td>14520</td>\n",
       "      <td>1200</td>\n",
       "    </tr>\n",
       "    <tr>\n",
       "      <th>3</th>\n",
       "      <td>2017</td>\n",
       "      <td>2</td>\n",
       "      <td>t004</td>\n",
       "      <td>A4</td>\n",
       "      <td>1</td>\n",
       "      <td>8618</td>\n",
       "      <td>8618</td>\n",
       "      <td>4200</td>\n",
       "    </tr>\n",
       "    <tr>\n",
       "      <th>4</th>\n",
       "      <td>2017</td>\n",
       "      <td>2</td>\n",
       "      <td>t005</td>\n",
       "      <td>A5</td>\n",
       "      <td>3</td>\n",
       "      <td>5175</td>\n",
       "      <td>15525</td>\n",
       "      <td>500</td>\n",
       "    </tr>\n",
       "  </tbody>\n",
       "</table>\n",
       "</div>"
      ],
      "text/plain": [
       "   Year  Month    ID Product  Amount  Price  Total  Cost\n",
       "0  2017      1  t001      A1       7   2904  20328  1200\n",
       "1  2017      1  t002      A2       2   1896   3792  1100\n",
       "2  2017      2  t003      A1       5   2904  14520  1200\n",
       "3  2017      2  t004      A4       1   8618   8618  4200\n",
       "4  2017      2  t005      A5       3   5175  15525   500"
      ]
     },
     "execution_count": 45,
     "metadata": {},
     "output_type": "execute_result"
    }
   ],
   "source": [
    "transactions = pd.read_csv('../.datasets/transactions.csv')\n",
    "transactions.head()"
   ]
  },
  {
   "cell_type": "code",
   "execution_count": 46,
   "metadata": {
    "ExecuteTime": {
     "end_time": "2023-06-28T21:18:44.493431Z",
     "start_time": "2023-06-28T21:18:44.485040Z"
    }
   },
   "outputs": [
    {
     "data": {
      "text/html": [
       "<div>\n",
       "<style scoped>\n",
       "    .dataframe tbody tr th:only-of-type {\n",
       "        vertical-align: middle;\n",
       "    }\n",
       "\n",
       "    .dataframe tbody tr th {\n",
       "        vertical-align: top;\n",
       "    }\n",
       "\n",
       "    .dataframe thead th {\n",
       "        text-align: right;\n",
       "    }\n",
       "</style>\n",
       "<table border=\"1\" class=\"dataframe\">\n",
       "  <thead>\n",
       "    <tr style=\"text-align: right;\">\n",
       "      <th></th>\n",
       "      <th>Year</th>\n",
       "      <th>Month</th>\n",
       "      <th>ID</th>\n",
       "      <th>Product</th>\n",
       "      <th>Amount</th>\n",
       "      <th>Price</th>\n",
       "      <th>Total</th>\n",
       "      <th>Cost</th>\n",
       "    </tr>\n",
       "  </thead>\n",
       "  <tbody>\n",
       "    <tr>\n",
       "      <th>55</th>\n",
       "      <td>2017</td>\n",
       "      <td>12</td>\n",
       "      <td>t056</td>\n",
       "      <td>_4</td>\n",
       "      <td>2</td>\n",
       "      <td>8618</td>\n",
       "      <td>17236</td>\n",
       "      <td>1200</td>\n",
       "    </tr>\n",
       "    <tr>\n",
       "      <th>56</th>\n",
       "      <td>2017</td>\n",
       "      <td>12</td>\n",
       "      <td>t057</td>\n",
       "      <td>_2</td>\n",
       "      <td>8</td>\n",
       "      <td>1896</td>\n",
       "      <td>15168</td>\n",
       "      <td>1200</td>\n",
       "    </tr>\n",
       "    <tr>\n",
       "      <th>57</th>\n",
       "      <td>2017</td>\n",
       "      <td>12</td>\n",
       "      <td>t058</td>\n",
       "      <td>_5</td>\n",
       "      <td>2</td>\n",
       "      <td>5175</td>\n",
       "      <td>10350</td>\n",
       "      <td>200</td>\n",
       "    </tr>\n",
       "    <tr>\n",
       "      <th>58</th>\n",
       "      <td>2017</td>\n",
       "      <td>12</td>\n",
       "      <td>t059</td>\n",
       "      <td>_8</td>\n",
       "      <td>3</td>\n",
       "      <td>3760</td>\n",
       "      <td>11280</td>\n",
       "      <td>800</td>\n",
       "    </tr>\n",
       "    <tr>\n",
       "      <th>59</th>\n",
       "      <td>2017</td>\n",
       "      <td>12</td>\n",
       "      <td>t060</td>\n",
       "      <td>_3</td>\n",
       "      <td>4</td>\n",
       "      <td>1265</td>\n",
       "      <td>5060</td>\n",
       "      <td>700</td>\n",
       "    </tr>\n",
       "  </tbody>\n",
       "</table>\n",
       "</div>"
      ],
      "text/plain": [
       "    Year  Month    ID Product  Amount  Price  Total  Cost\n",
       "55  2017     12  t056      _4       2   8618  17236  1200\n",
       "56  2017     12  t057      _2       8   1896  15168  1200\n",
       "57  2017     12  t058      _5       2   5175  10350   200\n",
       "58  2017     12  t059      _8       3   3760  11280   800\n",
       "59  2017     12  t060      _3       4   1265   5060   700"
      ]
     },
     "execution_count": 46,
     "metadata": {},
     "output_type": "execute_result"
    }
   ],
   "source": [
    "transactions.tail()"
   ]
  },
  {
   "cell_type": "code",
   "execution_count": 47,
   "metadata": {
    "ExecuteTime": {
     "end_time": "2023-06-28T21:18:45.353515Z",
     "start_time": "2023-06-28T21:18:45.350391Z"
    }
   },
   "outputs": [
    {
     "data": {
      "text/plain": [
       "(60, 8)"
      ]
     },
     "execution_count": 47,
     "metadata": {},
     "output_type": "execute_result"
    }
   ],
   "source": [
    "transactions.shape"
   ]
  },
  {
   "cell_type": "markdown",
   "metadata": {},
   "source": [
    "### Основные сведения о датафрейме <a class=\"anchor\" id=\"5\"></a>"
   ]
  },
  {
   "cell_type": "code",
   "execution_count": 48,
   "metadata": {
    "ExecuteTime": {
     "end_time": "2023-06-28T21:18:55.351430Z",
     "start_time": "2023-06-28T21:18:55.304172Z"
    }
   },
   "outputs": [
    {
     "name": "stdout",
     "output_type": "stream",
     "text": [
      "<class 'pandas.core.frame.DataFrame'>\n",
      "RangeIndex: 1189482 entries, 0 to 1189481\n",
      "Data columns (total 5 columns):\n",
      " #   Column         Non-Null Count    Dtype  \n",
      "---  ------         --------------    -----  \n",
      " 0   country        1189482 non-null  object \n",
      " 1   year           1189482 non-null  int64  \n",
      " 2   quantity       1189482 non-null  float64\n",
      " 3   category       1189482 non-null  int64  \n",
      " 4   year_plus_one  1189482 non-null  int64  \n",
      "dtypes: float64(1), int64(3), object(1)\n",
      "memory usage: 45.4+ MB\n"
     ]
    }
   ],
   "source": [
    "data.info()"
   ]
  },
  {
   "cell_type": "code",
   "execution_count": 49,
   "metadata": {
    "ExecuteTime": {
     "end_time": "2023-06-28T21:18:56.753630Z",
     "start_time": "2023-06-28T21:18:56.626751Z"
    },
    "scrolled": false
   },
   "outputs": [
    {
     "data": {
      "text/html": [
       "<div>\n",
       "<style scoped>\n",
       "    .dataframe tbody tr th:only-of-type {\n",
       "        vertical-align: middle;\n",
       "    }\n",
       "\n",
       "    .dataframe tbody tr th {\n",
       "        vertical-align: top;\n",
       "    }\n",
       "\n",
       "    .dataframe thead th {\n",
       "        text-align: right;\n",
       "    }\n",
       "</style>\n",
       "<table border=\"1\" class=\"dataframe\">\n",
       "  <thead>\n",
       "    <tr style=\"text-align: right;\">\n",
       "      <th></th>\n",
       "      <th>year</th>\n",
       "      <th>quantity</th>\n",
       "      <th>category</th>\n",
       "      <th>year_plus_one</th>\n",
       "    </tr>\n",
       "  </thead>\n",
       "  <tbody>\n",
       "    <tr>\n",
       "      <th>count</th>\n",
       "      <td>1.189482e+06</td>\n",
       "      <td>1.189482e+06</td>\n",
       "      <td>1.189482e+06</td>\n",
       "      <td>1.189482e+06</td>\n",
       "    </tr>\n",
       "    <tr>\n",
       "      <th>mean</th>\n",
       "      <td>2.002852e+03</td>\n",
       "      <td>1.842648e+05</td>\n",
       "      <td>3.624763e+01</td>\n",
       "      <td>2.003852e+03</td>\n",
       "    </tr>\n",
       "    <tr>\n",
       "      <th>std</th>\n",
       "      <td>7.167345e+00</td>\n",
       "      <td>1.585663e+07</td>\n",
       "      <td>1.809968e+01</td>\n",
       "      <td>7.167345e+00</td>\n",
       "    </tr>\n",
       "    <tr>\n",
       "      <th>min</th>\n",
       "      <td>1.990000e+03</td>\n",
       "      <td>-8.643480e+05</td>\n",
       "      <td>1.000000e+00</td>\n",
       "      <td>1.991000e+03</td>\n",
       "    </tr>\n",
       "    <tr>\n",
       "      <th>25%</th>\n",
       "      <td>1.997000e+03</td>\n",
       "      <td>1.400000e+01</td>\n",
       "      <td>2.400000e+01</td>\n",
       "      <td>1.998000e+03</td>\n",
       "    </tr>\n",
       "    <tr>\n",
       "      <th>50%</th>\n",
       "      <td>2.003000e+03</td>\n",
       "      <td>1.890000e+02</td>\n",
       "      <td>3.500000e+01</td>\n",
       "      <td>2.004000e+03</td>\n",
       "    </tr>\n",
       "    <tr>\n",
       "      <th>75%</th>\n",
       "      <td>2.009000e+03</td>\n",
       "      <td>2.265000e+03</td>\n",
       "      <td>5.100000e+01</td>\n",
       "      <td>2.010000e+03</td>\n",
       "    </tr>\n",
       "    <tr>\n",
       "      <th>max</th>\n",
       "      <td>2.014000e+03</td>\n",
       "      <td>6.680329e+09</td>\n",
       "      <td>7.100000e+01</td>\n",
       "      <td>2.015000e+03</td>\n",
       "    </tr>\n",
       "  </tbody>\n",
       "</table>\n",
       "</div>"
      ],
      "text/plain": [
       "               year      quantity      category  year_plus_one\n",
       "count  1.189482e+06  1.189482e+06  1.189482e+06   1.189482e+06\n",
       "mean   2.002852e+03  1.842648e+05  3.624763e+01   2.003852e+03\n",
       "std    7.167345e+00  1.585663e+07  1.809968e+01   7.167345e+00\n",
       "min    1.990000e+03 -8.643480e+05  1.000000e+00   1.991000e+03\n",
       "25%    1.997000e+03  1.400000e+01  2.400000e+01   1.998000e+03\n",
       "50%    2.003000e+03  1.890000e+02  3.500000e+01   2.004000e+03\n",
       "75%    2.009000e+03  2.265000e+03  5.100000e+01   2.010000e+03\n",
       "max    2.014000e+03  6.680329e+09  7.100000e+01   2.015000e+03"
      ]
     },
     "execution_count": 49,
     "metadata": {},
     "output_type": "execute_result"
    }
   ],
   "source": [
    "# немного статистики\n",
    "data.describe()"
   ]
  },
  {
   "cell_type": "markdown",
   "metadata": {},
   "source": [
    "### Отдельный столбец (тип Series) <a class=\"anchor\" id=\"6\"></a>"
   ]
  },
  {
   "cell_type": "code",
   "execution_count": 15,
   "metadata": {
    "ExecuteTime": {
     "end_time": "2023-01-04T19:59:53.352652Z",
     "start_time": "2023-01-04T19:59:53.348894Z"
    }
   },
   "outputs": [
    {
     "data": {
      "text/plain": [
       "0    1996\n",
       "1    1995\n",
       "2    2014\n",
       "3    2013\n",
       "4    2012\n",
       "Name: year, dtype: int64"
      ]
     },
     "execution_count": 15,
     "metadata": {},
     "output_type": "execute_result"
    }
   ],
   "source": [
    "data['year'].head()"
   ]
  },
  {
   "cell_type": "markdown",
   "metadata": {},
   "source": [
    "или так"
   ]
  },
  {
   "cell_type": "code",
   "execution_count": 50,
   "metadata": {
    "ExecuteTime": {
     "end_time": "2023-06-28T21:19:06.787927Z",
     "start_time": "2023-06-28T21:19:06.783634Z"
    }
   },
   "outputs": [
    {
     "data": {
      "text/plain": [
       "0    1996\n",
       "1    1995\n",
       "2    2014\n",
       "3    2013\n",
       "4    2012\n",
       "Name: year, dtype: int64"
      ]
     },
     "execution_count": 50,
     "metadata": {},
     "output_type": "execute_result"
    }
   ],
   "source": [
    "data.year.head()"
   ]
  },
  {
   "cell_type": "code",
   "execution_count": 17,
   "metadata": {
    "ExecuteTime": {
     "end_time": "2023-01-04T19:59:54.642323Z",
     "start_time": "2023-01-04T19:59:54.636085Z"
    },
    "scrolled": true
   },
   "outputs": [
    {
     "data": {
      "text/plain": [
       "pandas.core.series.Series"
      ]
     },
     "execution_count": 17,
     "metadata": {},
     "output_type": "execute_result"
    }
   ],
   "source": [
    "type(data['year'])"
   ]
  },
  {
   "cell_type": "code",
   "execution_count": 18,
   "metadata": {
    "ExecuteTime": {
     "end_time": "2023-01-04T19:59:54.990462Z",
     "start_time": "2023-01-04T19:59:54.982083Z"
    }
   },
   "outputs": [
    {
     "data": {
      "text/html": [
       "<div>\n",
       "<style scoped>\n",
       "    .dataframe tbody tr th:only-of-type {\n",
       "        vertical-align: middle;\n",
       "    }\n",
       "\n",
       "    .dataframe tbody tr th {\n",
       "        vertical-align: top;\n",
       "    }\n",
       "\n",
       "    .dataframe thead th {\n",
       "        text-align: right;\n",
       "    }\n",
       "</style>\n",
       "<table border=\"1\" class=\"dataframe\">\n",
       "  <thead>\n",
       "    <tr style=\"text-align: right;\">\n",
       "      <th></th>\n",
       "      <th>country</th>\n",
       "      <th>year</th>\n",
       "      <th>quantity</th>\n",
       "      <th>category</th>\n",
       "    </tr>\n",
       "  </thead>\n",
       "  <tbody>\n",
       "    <tr>\n",
       "      <th>0</th>\n",
       "      <td>Austria</td>\n",
       "      <td>1996</td>\n",
       "      <td>5.0</td>\n",
       "      <td>1</td>\n",
       "    </tr>\n",
       "    <tr>\n",
       "      <th>1</th>\n",
       "      <td>Austria</td>\n",
       "      <td>1995</td>\n",
       "      <td>17.0</td>\n",
       "      <td>1</td>\n",
       "    </tr>\n",
       "    <tr>\n",
       "      <th>2</th>\n",
       "      <td>Belgium</td>\n",
       "      <td>2014</td>\n",
       "      <td>0.0</td>\n",
       "      <td>1</td>\n",
       "    </tr>\n",
       "    <tr>\n",
       "      <th>3</th>\n",
       "      <td>Belgium</td>\n",
       "      <td>2013</td>\n",
       "      <td>0.0</td>\n",
       "      <td>1</td>\n",
       "    </tr>\n",
       "    <tr>\n",
       "      <th>4</th>\n",
       "      <td>Belgium</td>\n",
       "      <td>2012</td>\n",
       "      <td>35.0</td>\n",
       "      <td>1</td>\n",
       "    </tr>\n",
       "  </tbody>\n",
       "</table>\n",
       "</div>"
      ],
      "text/plain": [
       "   country  year  quantity  category\n",
       "0  Austria  1996       5.0         1\n",
       "1  Austria  1995      17.0         1\n",
       "2  Belgium  2014       0.0         1\n",
       "3  Belgium  2013       0.0         1\n",
       "4  Belgium  2012      35.0         1"
      ]
     },
     "execution_count": 18,
     "metadata": {},
     "output_type": "execute_result"
    }
   ],
   "source": [
    "data.head()"
   ]
  },
  {
   "cell_type": "code",
   "execution_count": 59,
   "metadata": {
    "ExecuteTime": {
     "end_time": "2023-06-28T21:21:57.231495Z",
     "start_time": "2023-06-28T21:21:57.223177Z"
    }
   },
   "outputs": [
    {
     "data": {
      "text/html": [
       "<div>\n",
       "<style scoped>\n",
       "    .dataframe tbody tr th:only-of-type {\n",
       "        vertical-align: middle;\n",
       "    }\n",
       "\n",
       "    .dataframe tbody tr th {\n",
       "        vertical-align: top;\n",
       "    }\n",
       "\n",
       "    .dataframe thead th {\n",
       "        text-align: right;\n",
       "    }\n",
       "</style>\n",
       "<table border=\"1\" class=\"dataframe\">\n",
       "  <thead>\n",
       "    <tr style=\"text-align: right;\">\n",
       "      <th></th>\n",
       "      <th>country</th>\n",
       "      <th>year</th>\n",
       "      <th>quantity</th>\n",
       "      <th>category</th>\n",
       "      <th>year_plus_one</th>\n",
       "    </tr>\n",
       "  </thead>\n",
       "  <tbody>\n",
       "    <tr>\n",
       "      <th>1189477</th>\n",
       "      <td>Viet Nam</td>\n",
       "      <td>2012</td>\n",
       "      <td>92.0</td>\n",
       "      <td>71</td>\n",
       "      <td>2013</td>\n",
       "    </tr>\n",
       "    <tr>\n",
       "      <th>1189478</th>\n",
       "      <td>Viet Nam</td>\n",
       "      <td>2011</td>\n",
       "      <td>87.0</td>\n",
       "      <td>71</td>\n",
       "      <td>2012</td>\n",
       "    </tr>\n",
       "    <tr>\n",
       "      <th>1189479</th>\n",
       "      <td>Viet Nam</td>\n",
       "      <td>2010</td>\n",
       "      <td>50.0</td>\n",
       "      <td>71</td>\n",
       "      <td>2011</td>\n",
       "    </tr>\n",
       "    <tr>\n",
       "      <th>1189480</th>\n",
       "      <td>Viet Nam</td>\n",
       "      <td>2009</td>\n",
       "      <td>10.0</td>\n",
       "      <td>71</td>\n",
       "      <td>2010</td>\n",
       "    </tr>\n",
       "    <tr>\n",
       "      <th>1189481</th>\n",
       "      <td>Viet Nam</td>\n",
       "      <td>2008</td>\n",
       "      <td>1.0</td>\n",
       "      <td>71</td>\n",
       "      <td>2009</td>\n",
       "    </tr>\n",
       "  </tbody>\n",
       "</table>\n",
       "</div>"
      ],
      "text/plain": [
       "          country  year  quantity  category  year_plus_one\n",
       "1189477  Viet Nam  2012      92.0        71           2013\n",
       "1189478  Viet Nam  2011      87.0        71           2012\n",
       "1189479  Viet Nam  2010      50.0        71           2011\n",
       "1189480  Viet Nam  2009      10.0        71           2010\n",
       "1189481  Viet Nam  2008       1.0        71           2009"
      ]
     },
     "execution_count": 59,
     "metadata": {},
     "output_type": "execute_result"
    }
   ],
   "source": [
    "data.tail()"
   ]
  },
  {
   "cell_type": "markdown",
   "metadata": {},
   "source": [
    "# Уникальные значения в столбце <a class=\"anchor\" id=\"7\"></a>"
   ]
  },
  {
   "cell_type": "code",
   "execution_count": 51,
   "metadata": {
    "ExecuteTime": {
     "end_time": "2023-06-28T21:19:41.793832Z",
     "start_time": "2023-06-28T21:19:41.784885Z"
    }
   },
   "outputs": [
    {
     "data": {
      "text/plain": [
       "array([ 1,  2,  3,  4,  5,  6,  7,  8,  9, 10, 11, 13, 12, 14, 15, 16, 17,\n",
       "       18, 19, 20, 21, 22, 23, 24, 25, 26, 27, 28, 29, 30, 31, 32, 33, 34,\n",
       "       35, 36, 37, 38, 39, 40, 41, 42, 43, 44, 45, 46, 47, 48, 49, 50, 51,\n",
       "       52, 53, 54, 55, 56, 57, 58, 59, 60, 61, 62, 63, 64, 65, 66, 67, 68,\n",
       "       69, 70, 71])"
      ]
     },
     "execution_count": 51,
     "metadata": {},
     "output_type": "execute_result"
    }
   ],
   "source": [
    "data['category'].unique()"
   ]
  },
  {
   "cell_type": "markdown",
   "metadata": {},
   "source": [
    "их кол-во"
   ]
  },
  {
   "cell_type": "code",
   "execution_count": 52,
   "metadata": {
    "ExecuteTime": {
     "end_time": "2023-06-28T21:20:34.226474Z",
     "start_time": "2023-06-28T21:20:34.218474Z"
    }
   },
   "outputs": [
    {
     "data": {
      "text/plain": [
       "71"
      ]
     },
     "execution_count": 52,
     "metadata": {},
     "output_type": "execute_result"
    }
   ],
   "source": [
    "len(data['category'].unique())"
   ]
  },
  {
   "cell_type": "code",
   "execution_count": 58,
   "metadata": {
    "ExecuteTime": {
     "end_time": "2023-06-28T21:21:35.925894Z",
     "start_time": "2023-06-28T21:21:35.920798Z"
    }
   },
   "outputs": [
    {
     "data": {
      "text/plain": [
       "0    1\n",
       "1    1\n",
       "2    1\n",
       "3    1\n",
       "4    1\n",
       "Name: category, dtype: int64"
      ]
     },
     "execution_count": 58,
     "metadata": {},
     "output_type": "execute_result"
    }
   ],
   "source": [
    "data['category'].head()"
   ]
  },
  {
   "cell_type": "code",
   "execution_count": 66,
   "metadata": {
    "ExecuteTime": {
     "end_time": "2023-06-28T21:23:45.181552Z",
     "start_time": "2023-06-28T21:23:45.167725Z"
    }
   },
   "outputs": [
    {
     "data": {
      "text/plain": [
       "category\n",
       "67    133916\n",
       "27     97645\n",
       "24     75132\n",
       "42     64161\n",
       "37     62156\n",
       "39     53198\n",
       "25     52032\n",
       "21     50229\n",
       "51     43466\n",
       "31     42307\n",
       "Name: count, dtype: int64"
      ]
     },
     "execution_count": 66,
     "metadata": {},
     "output_type": "execute_result"
    }
   ],
   "source": [
    "# распределение количества строк по значениям столбца\n",
    "data['category'].value_counts().sort_values(ascending=False).head(10)"
   ]
  },
  {
   "cell_type": "code",
   "execution_count": 67,
   "metadata": {
    "ExecuteTime": {
     "end_time": "2023-06-28T21:23:45.640283Z",
     "start_time": "2023-06-28T21:23:45.628779Z"
    }
   },
   "outputs": [
    {
     "data": {
      "text/plain": [
       "category\n",
       "67    0.112583\n",
       "27    0.082090\n",
       "24    0.063164\n",
       "42    0.053940\n",
       "37    0.052255\n",
       "Name: proportion, dtype: float64"
      ]
     },
     "execution_count": 67,
     "metadata": {},
     "output_type": "execute_result"
    }
   ],
   "source": [
    "data['category'].value_counts(normalize=True).head()"
   ]
  },
  {
   "cell_type": "markdown",
   "metadata": {},
   "source": [
    "### Упражнение 2 <a class=\"anchor\" id=\"8\"></a>\n",
    "Используем файл transactions.csv. Определите какой товар (столбец Product) упоминается в файле чаще всего?"
   ]
  },
  {
   "cell_type": "code",
   "execution_count": 24,
   "metadata": {
    "ExecuteTime": {
     "end_time": "2023-01-04T20:00:25.599752Z",
     "start_time": "2023-01-04T20:00:25.591512Z"
    }
   },
   "outputs": [
    {
     "data": {
      "text/html": [
       "<div>\n",
       "<style scoped>\n",
       "    .dataframe tbody tr th:only-of-type {\n",
       "        vertical-align: middle;\n",
       "    }\n",
       "\n",
       "    .dataframe tbody tr th {\n",
       "        vertical-align: top;\n",
       "    }\n",
       "\n",
       "    .dataframe thead th {\n",
       "        text-align: right;\n",
       "    }\n",
       "</style>\n",
       "<table border=\"1\" class=\"dataframe\">\n",
       "  <thead>\n",
       "    <tr style=\"text-align: right;\">\n",
       "      <th></th>\n",
       "      <th>Year</th>\n",
       "      <th>Month</th>\n",
       "      <th>ID</th>\n",
       "      <th>Product</th>\n",
       "      <th>Amount</th>\n",
       "      <th>Price</th>\n",
       "      <th>Total</th>\n",
       "      <th>Cost</th>\n",
       "    </tr>\n",
       "  </thead>\n",
       "  <tbody>\n",
       "    <tr>\n",
       "      <th>0</th>\n",
       "      <td>2017</td>\n",
       "      <td>1</td>\n",
       "      <td>t001</td>\n",
       "      <td>A1</td>\n",
       "      <td>7</td>\n",
       "      <td>2904</td>\n",
       "      <td>20328</td>\n",
       "      <td>1200</td>\n",
       "    </tr>\n",
       "    <tr>\n",
       "      <th>1</th>\n",
       "      <td>2017</td>\n",
       "      <td>1</td>\n",
       "      <td>t002</td>\n",
       "      <td>A2</td>\n",
       "      <td>2</td>\n",
       "      <td>1896</td>\n",
       "      <td>3792</td>\n",
       "      <td>1100</td>\n",
       "    </tr>\n",
       "    <tr>\n",
       "      <th>2</th>\n",
       "      <td>2017</td>\n",
       "      <td>2</td>\n",
       "      <td>t003</td>\n",
       "      <td>A1</td>\n",
       "      <td>5</td>\n",
       "      <td>2904</td>\n",
       "      <td>14520</td>\n",
       "      <td>1200</td>\n",
       "    </tr>\n",
       "    <tr>\n",
       "      <th>3</th>\n",
       "      <td>2017</td>\n",
       "      <td>2</td>\n",
       "      <td>t004</td>\n",
       "      <td>A4</td>\n",
       "      <td>1</td>\n",
       "      <td>8618</td>\n",
       "      <td>8618</td>\n",
       "      <td>4200</td>\n",
       "    </tr>\n",
       "    <tr>\n",
       "      <th>4</th>\n",
       "      <td>2017</td>\n",
       "      <td>2</td>\n",
       "      <td>t005</td>\n",
       "      <td>A5</td>\n",
       "      <td>3</td>\n",
       "      <td>5175</td>\n",
       "      <td>15525</td>\n",
       "      <td>500</td>\n",
       "    </tr>\n",
       "  </tbody>\n",
       "</table>\n",
       "</div>"
      ],
      "text/plain": [
       "   Year  Month    ID Product  Amount  Price  Total  Cost\n",
       "0  2017      1  t001      A1       7   2904  20328  1200\n",
       "1  2017      1  t002      A2       2   1896   3792  1100\n",
       "2  2017      2  t003      A1       5   2904  14520  1200\n",
       "3  2017      2  t004      A4       1   8618   8618  4200\n",
       "4  2017      2  t005      A5       3   5175  15525   500"
      ]
     },
     "execution_count": 24,
     "metadata": {},
     "output_type": "execute_result"
    }
   ],
   "source": [
    "transactions = pd.read_csv('../.datasets/transactions.csv')\n",
    "transactions.head()"
   ]
  },
  {
   "cell_type": "code",
   "execution_count": 27,
   "metadata": {
    "ExecuteTime": {
     "end_time": "2023-01-04T20:01:34.390515Z",
     "start_time": "2023-01-04T20:01:34.386178Z"
    }
   },
   "outputs": [
    {
     "data": {
      "text/plain": [
       "_5    11\n",
       "_8     8\n",
       "_2     8\n",
       "_3     7\n",
       "_4     7\n",
       "A1     5\n",
       "A4     5\n",
       "A5     5\n",
       "A2     2\n",
       "_6     2\n",
       "Name: Product, dtype: int64"
      ]
     },
     "execution_count": 27,
     "metadata": {},
     "output_type": "execute_result"
    }
   ],
   "source": [
    "transactions['Product'].value_counts()"
   ]
  },
  {
   "cell_type": "code",
   "execution_count": 68,
   "metadata": {
    "ExecuteTime": {
     "end_time": "2023-06-28T21:24:22.678456Z",
     "start_time": "2023-06-28T21:24:22.673608Z"
    }
   },
   "outputs": [
    {
     "data": {
      "text/plain": [
       "11"
      ]
     },
     "execution_count": 68,
     "metadata": {},
     "output_type": "execute_result"
    }
   ],
   "source": [
    "transactions['Product'].value_counts()[0]"
   ]
  },
  {
   "cell_type": "markdown",
   "metadata": {},
   "source": [
    "выведем самый популярный продукт"
   ]
  },
  {
   "cell_type": "code",
   "execution_count": 77,
   "metadata": {
    "ExecuteTime": {
     "end_time": "2023-06-28T21:25:11.613761Z",
     "start_time": "2023-06-28T21:25:11.609613Z"
    }
   },
   "outputs": [
    {
     "data": {
      "text/plain": [
       "'_5'"
      ]
     },
     "execution_count": 77,
     "metadata": {},
     "output_type": "execute_result"
    }
   ],
   "source": [
    "transactions['Product'].value_counts().index[0]"
   ]
  },
  {
   "cell_type": "markdown",
   "metadata": {},
   "source": [
    "# Фильтры <a class=\"anchor\" id=\"9\"></a>"
   ]
  },
  {
   "cell_type": "code",
   "execution_count": 78,
   "metadata": {
    "ExecuteTime": {
     "end_time": "2023-06-28T21:26:05.088615Z",
     "start_time": "2023-06-28T21:26:04.832581Z"
    }
   },
   "outputs": [
    {
     "data": {
      "text/html": [
       "<div>\n",
       "<style scoped>\n",
       "    .dataframe tbody tr th:only-of-type {\n",
       "        vertical-align: middle;\n",
       "    }\n",
       "\n",
       "    .dataframe tbody tr th {\n",
       "        vertical-align: top;\n",
       "    }\n",
       "\n",
       "    .dataframe thead th {\n",
       "        text-align: right;\n",
       "    }\n",
       "</style>\n",
       "<table border=\"1\" class=\"dataframe\">\n",
       "  <thead>\n",
       "    <tr style=\"text-align: right;\">\n",
       "      <th></th>\n",
       "      <th>country</th>\n",
       "      <th>year</th>\n",
       "      <th>quantity</th>\n",
       "      <th>category</th>\n",
       "    </tr>\n",
       "  </thead>\n",
       "  <tbody>\n",
       "    <tr>\n",
       "      <th>0</th>\n",
       "      <td>Austria</td>\n",
       "      <td>1996</td>\n",
       "      <td>5.0</td>\n",
       "      <td>1</td>\n",
       "    </tr>\n",
       "    <tr>\n",
       "      <th>1</th>\n",
       "      <td>Austria</td>\n",
       "      <td>1995</td>\n",
       "      <td>17.0</td>\n",
       "      <td>1</td>\n",
       "    </tr>\n",
       "    <tr>\n",
       "      <th>2</th>\n",
       "      <td>Belgium</td>\n",
       "      <td>2014</td>\n",
       "      <td>0.0</td>\n",
       "      <td>1</td>\n",
       "    </tr>\n",
       "    <tr>\n",
       "      <th>3</th>\n",
       "      <td>Belgium</td>\n",
       "      <td>2013</td>\n",
       "      <td>0.0</td>\n",
       "      <td>1</td>\n",
       "    </tr>\n",
       "    <tr>\n",
       "      <th>4</th>\n",
       "      <td>Belgium</td>\n",
       "      <td>2012</td>\n",
       "      <td>35.0</td>\n",
       "      <td>1</td>\n",
       "    </tr>\n",
       "  </tbody>\n",
       "</table>\n",
       "</div>"
      ],
      "text/plain": [
       "   country  year  quantity  category\n",
       "0  Austria  1996       5.0         1\n",
       "1  Austria  1995      17.0         1\n",
       "2  Belgium  2014       0.0         1\n",
       "3  Belgium  2013       0.0         1\n",
       "4  Belgium  2012      35.0         1"
      ]
     },
     "execution_count": 78,
     "metadata": {},
     "output_type": "execute_result"
    }
   ],
   "source": [
    "data = pd.read_csv('../.datasets/power.csv')\n",
    "data.head()"
   ]
  },
  {
   "cell_type": "markdown",
   "metadata": {},
   "source": [
    "# Выбрать несколько столбцов <a class=\"anchor\" id=\"9.1\"></a>"
   ]
  },
  {
   "cell_type": "code",
   "execution_count": 79,
   "metadata": {
    "ExecuteTime": {
     "end_time": "2023-06-28T21:26:33.184668Z",
     "start_time": "2023-06-28T21:26:33.167091Z"
    }
   },
   "outputs": [
    {
     "data": {
      "text/html": [
       "<div>\n",
       "<style scoped>\n",
       "    .dataframe tbody tr th:only-of-type {\n",
       "        vertical-align: middle;\n",
       "    }\n",
       "\n",
       "    .dataframe tbody tr th {\n",
       "        vertical-align: top;\n",
       "    }\n",
       "\n",
       "    .dataframe thead th {\n",
       "        text-align: right;\n",
       "    }\n",
       "</style>\n",
       "<table border=\"1\" class=\"dataframe\">\n",
       "  <thead>\n",
       "    <tr style=\"text-align: right;\">\n",
       "      <th></th>\n",
       "      <th>country</th>\n",
       "      <th>quantity</th>\n",
       "    </tr>\n",
       "  </thead>\n",
       "  <tbody>\n",
       "    <tr>\n",
       "      <th>0</th>\n",
       "      <td>Austria</td>\n",
       "      <td>5.0</td>\n",
       "    </tr>\n",
       "    <tr>\n",
       "      <th>1</th>\n",
       "      <td>Austria</td>\n",
       "      <td>17.0</td>\n",
       "    </tr>\n",
       "    <tr>\n",
       "      <th>2</th>\n",
       "      <td>Belgium</td>\n",
       "      <td>0.0</td>\n",
       "    </tr>\n",
       "    <tr>\n",
       "      <th>3</th>\n",
       "      <td>Belgium</td>\n",
       "      <td>0.0</td>\n",
       "    </tr>\n",
       "    <tr>\n",
       "      <th>4</th>\n",
       "      <td>Belgium</td>\n",
       "      <td>35.0</td>\n",
       "    </tr>\n",
       "  </tbody>\n",
       "</table>\n",
       "</div>"
      ],
      "text/plain": [
       "   country  quantity\n",
       "0  Austria       5.0\n",
       "1  Austria      17.0\n",
       "2  Belgium       0.0\n",
       "3  Belgium       0.0\n",
       "4  Belgium      35.0"
      ]
     },
     "execution_count": 79,
     "metadata": {},
     "output_type": "execute_result"
    }
   ],
   "source": [
    "country_stats = data.filter(items = ['country', 'quantity'])\n",
    "country_stats.head()"
   ]
  },
  {
   "cell_type": "markdown",
   "metadata": {},
   "source": [
    "или так"
   ]
  },
  {
   "cell_type": "code",
   "execution_count": 30,
   "metadata": {
    "ExecuteTime": {
     "end_time": "2023-01-04T20:52:14.091549Z",
     "start_time": "2023-01-04T20:52:14.070669Z"
    }
   },
   "outputs": [
    {
     "data": {
      "text/html": [
       "<div>\n",
       "<style scoped>\n",
       "    .dataframe tbody tr th:only-of-type {\n",
       "        vertical-align: middle;\n",
       "    }\n",
       "\n",
       "    .dataframe tbody tr th {\n",
       "        vertical-align: top;\n",
       "    }\n",
       "\n",
       "    .dataframe thead th {\n",
       "        text-align: right;\n",
       "    }\n",
       "</style>\n",
       "<table border=\"1\" class=\"dataframe\">\n",
       "  <thead>\n",
       "    <tr style=\"text-align: right;\">\n",
       "      <th></th>\n",
       "      <th>country</th>\n",
       "      <th>quantity</th>\n",
       "    </tr>\n",
       "  </thead>\n",
       "  <tbody>\n",
       "    <tr>\n",
       "      <th>0</th>\n",
       "      <td>Austria</td>\n",
       "      <td>5.0</td>\n",
       "    </tr>\n",
       "    <tr>\n",
       "      <th>1</th>\n",
       "      <td>Austria</td>\n",
       "      <td>17.0</td>\n",
       "    </tr>\n",
       "    <tr>\n",
       "      <th>2</th>\n",
       "      <td>Belgium</td>\n",
       "      <td>0.0</td>\n",
       "    </tr>\n",
       "    <tr>\n",
       "      <th>3</th>\n",
       "      <td>Belgium</td>\n",
       "      <td>0.0</td>\n",
       "    </tr>\n",
       "    <tr>\n",
       "      <th>4</th>\n",
       "      <td>Belgium</td>\n",
       "      <td>35.0</td>\n",
       "    </tr>\n",
       "  </tbody>\n",
       "</table>\n",
       "</div>"
      ],
      "text/plain": [
       "   country  quantity\n",
       "0  Austria       5.0\n",
       "1  Austria      17.0\n",
       "2  Belgium       0.0\n",
       "3  Belgium       0.0\n",
       "4  Belgium      35.0"
      ]
     },
     "execution_count": 30,
     "metadata": {},
     "output_type": "execute_result"
    }
   ],
   "source": [
    "data[['country', 'quantity']].head()"
   ]
  },
  {
   "cell_type": "markdown",
   "metadata": {},
   "source": [
    "# Отфильтруем строки с потреблением выше среднего <a class=\"anchor\" id=\"9.2\"></a>"
   ]
  },
  {
   "cell_type": "code",
   "execution_count": 80,
   "metadata": {
    "ExecuteTime": {
     "end_time": "2023-06-28T21:27:56.491742Z",
     "start_time": "2023-06-28T21:27:56.484695Z"
    }
   },
   "outputs": [
    {
     "data": {
      "text/plain": [
       "184264.77005012863"
      ]
     },
     "execution_count": 80,
     "metadata": {},
     "output_type": "execute_result"
    }
   ],
   "source": [
    "average_level = data['quantity'].mean()\n",
    "average_level"
   ]
  },
  {
   "cell_type": "code",
   "execution_count": 81,
   "metadata": {
    "ExecuteTime": {
     "end_time": "2023-06-28T21:28:01.859840Z",
     "start_time": "2023-06-28T21:28:01.856672Z"
    }
   },
   "outputs": [
    {
     "data": {
      "text/plain": [
       "'quantity > 184264.77005012863'"
      ]
     },
     "execution_count": 81,
     "metadata": {},
     "output_type": "execute_result"
    }
   ],
   "source": [
    "'quantity > {}'.format(average_level)"
   ]
  },
  {
   "cell_type": "code",
   "execution_count": 82,
   "metadata": {
    "ExecuteTime": {
     "end_time": "2023-06-28T21:28:03.956095Z",
     "start_time": "2023-06-28T21:28:03.950338Z"
    }
   },
   "outputs": [
    {
     "data": {
      "text/plain": [
       "184264.77005012863"
      ]
     },
     "execution_count": 82,
     "metadata": {},
     "output_type": "execute_result"
    }
   ],
   "source": [
    "data['quantity'].mean()"
   ]
  },
  {
   "cell_type": "markdown",
   "metadata": {},
   "source": [
    "# Строки с потреблением больше среднего <a class=\"anchor\" id=\"12\"></a>"
   ]
  },
  {
   "cell_type": "code",
   "execution_count": 83,
   "metadata": {
    "ExecuteTime": {
     "end_time": "2023-06-28T21:28:41.685829Z",
     "start_time": "2023-06-28T21:28:41.671655Z"
    }
   },
   "outputs": [
    {
     "data": {
      "text/html": [
       "<div>\n",
       "<style scoped>\n",
       "    .dataframe tbody tr th:only-of-type {\n",
       "        vertical-align: middle;\n",
       "    }\n",
       "\n",
       "    .dataframe tbody tr th {\n",
       "        vertical-align: top;\n",
       "    }\n",
       "\n",
       "    .dataframe thead th {\n",
       "        text-align: right;\n",
       "    }\n",
       "</style>\n",
       "<table border=\"1\" class=\"dataframe\">\n",
       "  <thead>\n",
       "    <tr style=\"text-align: right;\">\n",
       "      <th></th>\n",
       "      <th>country</th>\n",
       "      <th>quantity</th>\n",
       "    </tr>\n",
       "  </thead>\n",
       "  <tbody>\n",
       "    <tr>\n",
       "      <th>3228</th>\n",
       "      <td>United States</td>\n",
       "      <td>367987.0</td>\n",
       "    </tr>\n",
       "    <tr>\n",
       "      <th>3229</th>\n",
       "      <td>United States</td>\n",
       "      <td>384439.0</td>\n",
       "    </tr>\n",
       "    <tr>\n",
       "      <th>3230</th>\n",
       "      <td>United States</td>\n",
       "      <td>370625.0</td>\n",
       "    </tr>\n",
       "    <tr>\n",
       "      <th>3231</th>\n",
       "      <td>United States</td>\n",
       "      <td>310909.0</td>\n",
       "    </tr>\n",
       "    <tr>\n",
       "      <th>3232</th>\n",
       "      <td>United States</td>\n",
       "      <td>335418.0</td>\n",
       "    </tr>\n",
       "  </tbody>\n",
       "</table>\n",
       "</div>"
      ],
      "text/plain": [
       "            country  quantity\n",
       "3228  United States  367987.0\n",
       "3229  United States  384439.0\n",
       "3230  United States  370625.0\n",
       "3231  United States  310909.0\n",
       "3232  United States  335418.0"
      ]
     },
     "execution_count": 83,
     "metadata": {},
     "output_type": "execute_result"
    }
   ],
   "source": [
    "average_level = data['quantity'].mean()\n",
    "country_stats.query(f'quantity > {average_level}').head()"
   ]
  },
  {
   "cell_type": "markdown",
   "metadata": {},
   "source": [
    "# Самый популярный способ <a class=\"anchor\" id=\"12.1\"></a>"
   ]
  },
  {
   "cell_type": "code",
   "execution_count": 84,
   "metadata": {
    "ExecuteTime": {
     "end_time": "2023-06-28T21:29:20.643423Z",
     "start_time": "2023-06-28T21:29:20.626833Z"
    },
    "scrolled": true
   },
   "outputs": [
    {
     "data": {
      "text/html": [
       "<div>\n",
       "<style scoped>\n",
       "    .dataframe tbody tr th:only-of-type {\n",
       "        vertical-align: middle;\n",
       "    }\n",
       "\n",
       "    .dataframe tbody tr th {\n",
       "        vertical-align: top;\n",
       "    }\n",
       "\n",
       "    .dataframe thead th {\n",
       "        text-align: right;\n",
       "    }\n",
       "</style>\n",
       "<table border=\"1\" class=\"dataframe\">\n",
       "  <thead>\n",
       "    <tr style=\"text-align: right;\">\n",
       "      <th></th>\n",
       "      <th>country</th>\n",
       "      <th>year</th>\n",
       "      <th>quantity</th>\n",
       "      <th>category</th>\n",
       "    </tr>\n",
       "  </thead>\n",
       "  <tbody>\n",
       "    <tr>\n",
       "      <th>3228</th>\n",
       "      <td>United States</td>\n",
       "      <td>2014</td>\n",
       "      <td>367987.0</td>\n",
       "      <td>2</td>\n",
       "    </tr>\n",
       "    <tr>\n",
       "      <th>3229</th>\n",
       "      <td>United States</td>\n",
       "      <td>2013</td>\n",
       "      <td>384439.0</td>\n",
       "      <td>2</td>\n",
       "    </tr>\n",
       "    <tr>\n",
       "      <th>3230</th>\n",
       "      <td>United States</td>\n",
       "      <td>2012</td>\n",
       "      <td>370625.0</td>\n",
       "      <td>2</td>\n",
       "    </tr>\n",
       "    <tr>\n",
       "      <th>3231</th>\n",
       "      <td>United States</td>\n",
       "      <td>2011</td>\n",
       "      <td>310909.0</td>\n",
       "      <td>2</td>\n",
       "    </tr>\n",
       "    <tr>\n",
       "      <th>3232</th>\n",
       "      <td>United States</td>\n",
       "      <td>2010</td>\n",
       "      <td>335418.0</td>\n",
       "      <td>2</td>\n",
       "    </tr>\n",
       "  </tbody>\n",
       "</table>\n",
       "</div>"
      ],
      "text/plain": [
       "            country  year  quantity  category\n",
       "3228  United States  2014  367987.0         2\n",
       "3229  United States  2013  384439.0         2\n",
       "3230  United States  2012  370625.0         2\n",
       "3231  United States  2011  310909.0         2\n",
       "3232  United States  2010  335418.0         2"
      ]
     },
     "execution_count": 84,
     "metadata": {},
     "output_type": "execute_result"
    }
   ],
   "source": [
    "data[data.quantity > average_level].head()"
   ]
  },
  {
   "cell_type": "markdown",
   "metadata": {},
   "source": [
    "# Как определить используемый вариант названия страны? <a class=\"anchor\" id=\"13\"></a>"
   ]
  },
  {
   "cell_type": "code",
   "execution_count": 85,
   "metadata": {
    "ExecuteTime": {
     "end_time": "2023-06-28T21:29:31.582377Z",
     "start_time": "2023-06-28T21:29:31.534156Z"
    },
    "collapsed": true
   },
   "outputs": [
    {
     "data": {
      "text/plain": [
       "array(['Austria', 'Belgium', 'Czechia', 'Finland', 'France', 'Greece',\n",
       "       'Hungary', 'Italy', 'Korea, Republic of', 'Netherlands', 'Romania',\n",
       "       'Serbia', 'Slovakia', 'Ukraine', 'United Kingdom', 'United States',\n",
       "       'Brunei Darussalam', 'Bulgaria', 'Canada', 'Chile', 'Croatia',\n",
       "       'Iran (Islamic Rep. of)', 'Jordan', 'Lithuania', 'Mexico', 'Oman',\n",
       "       'Other Asia', 'Poland', 'Portugal', 'Spain', 'Sweden',\n",
       "       'Switzerland', 'T.F.Yug.Rep. Macedonia', 'Turkey', 'Uzbekistan',\n",
       "       'Argentina', 'Colombia', 'Germany', 'Norway', 'Australia',\n",
       "       'China, Macao SAR', 'Japan', 'Denmark', 'Ireland', 'Philippines',\n",
       "       'Bangladesh', 'Eritrea', 'Ethiopia', 'Lesotho', 'Nepal', 'Niger',\n",
       "       'Pakistan', 'Serbia and Montenegro', 'Tunisia', 'Botswana',\n",
       "       'Georgia', 'Republic of Moldova', 'Peru', 'South Africa',\n",
       "       'Iceland', 'Latvia', 'Luxembourg', 'Cuba', 'Kyrgyzstan',\n",
       "       'Singapore', 'Thailand', 'United Arab Emirates', 'Uruguay',\n",
       "       'Armenia', 'Fiji', \"Korea, Dem.Ppl's.Rep.\", 'Russian Federation',\n",
       "       'Swaziland', 'Zimbabwe', 'Afghanistan', 'Antigua and Barbuda',\n",
       "       'Azerbaijan', 'Bahamas', 'Belize', 'Bolivia (Plur. State of)',\n",
       "       'Brazil', 'Burkina Faso', 'Cameroon', 'Cayman Islands',\n",
       "       'Central African Rep.', 'China', 'Comoros', 'Congo', 'Costa Rica',\n",
       "       \"Côte d'Ivoire\", 'Dem. Rep. of the Congo', 'Dominican Republic',\n",
       "       'Ecuador', 'Egypt', 'El Salvador', 'Estonia',\n",
       "       'Ethiopia, incl. Eritrea', 'Faeroe Islands', 'French Guiana',\n",
       "       'Germany, Fed. R. (former)', 'Greenland', 'Guatemala', 'Guinea',\n",
       "       'Guyana', 'Honduras', 'Indonesia', 'Israel', 'Jamaica', 'Jersey',\n",
       "       'Kazakhstan', 'Kenya', 'Kuwait', \"Lao People's Dem. Rep.\",\n",
       "       'Liberia', 'Libya', 'Malawi', 'Malaysia', 'Maldives', 'Mauritania',\n",
       "       'Mayotte', 'Morocco', 'Myanmar', 'Namibia', 'New Caledonia',\n",
       "       'New Zealand', 'Nicaragua', 'Niue', 'Panama', 'Papua New Guinea',\n",
       "       'Paraguay', 'Sao Tome and Principe', 'Senegal', 'Seychelles',\n",
       "       'Slovenia', 'Solomon Islands', 'Sri Lanka', 'Sudan (former)',\n",
       "       'Suriname', 'Togo', 'Tonga', 'Trinidad and Tobago',\n",
       "       'United Rep. of Tanzania', 'Venezuela (Bolivar. Rep.)',\n",
       "       'Yugoslavia, SFR (former)', 'Zambia', 'Algeria', 'Curaçao',\n",
       "       'Gabon', 'Malta', 'Neth. Antilles (former)', 'Sierra Leone',\n",
       "       'USSR (former)', 'Barbados', 'Benin', 'Chad', 'Djibouti',\n",
       "       'French Polynesia', 'Ghana', 'Grenada', 'Guadeloupe', 'Haiti',\n",
       "       'Iraq', 'Kiribati', 'Madagascar', 'Mali', 'Martinique',\n",
       "       'Pacific Islands (former)', 'Palau', 'St. Helena and Depend.',\n",
       "       'St. Vincent-Grenadines', 'Syrian Arab Republic', 'Uganda',\n",
       "       'Yemen', 'Yemen, Dem. (former)', 'Burundi', 'India', 'Mauritius',\n",
       "       'Mozambique', 'Nigeria', 'Réunion', 'Rwanda', 'Samoa', 'Somalia',\n",
       "       'St. Kitts-Nevis', 'Viet Nam', 'Belarus', 'Cyprus', 'Cabo Verde',\n",
       "       'Albania', 'Bahrain', 'Bosnia and Herzegovina',\n",
       "       'China, Hong Kong SAR', 'Czechoslovakia (former)', 'Angola',\n",
       "       'Bermuda', 'Bhutan', 'Equatorial Guinea', 'Lebanon',\n",
       "       'Saudi Arabia', 'St. Lucia', 'St. Pierre-Miquelon',\n",
       "       'State of Palestine', 'Tajikistan', 'German Dem. R. (former)',\n",
       "       'Anguilla', 'Mongolia', 'Montenegro', 'Cambodia', 'South Sudan',\n",
       "       'Sudan', 'Andorra', 'Aruba', 'Bonaire, St Eustatius, Saba',\n",
       "       'British Virgin Islands', 'Dominica', 'Falkland Is. (Malvinas)',\n",
       "       'Gambia', 'Gibraltar', 'Qatar', 'Sint Maarten (Dutch part)',\n",
       "       'Turkmenistan', 'Turks and Caicos Islands', 'Vanuatu',\n",
       "       'Guinea-Bissau', 'Micronesia (Fed. States of)', 'Timor-Leste',\n",
       "       'Yemen Arab Rep. (former)', 'American Samoa', 'Liechtenstein',\n",
       "       'Puerto Rico', 'Cook Islands', 'Guam', 'Guernsey', 'Isle of Man',\n",
       "       'Marshall Islands', 'Montserrat', 'Nauru',\n",
       "       'Northern Mariana Islands', 'Tuvalu', 'United States Virgin Is.',\n",
       "       'Wallis and Futuna Is.',\n",
       "       'Commonwealth of Independent States (CIS)', 'Antarctic Fisheries'],\n",
       "      dtype=object)"
      ]
     },
     "execution_count": 85,
     "metadata": {},
     "output_type": "execute_result"
    }
   ],
   "source": [
    "data['country'].unique()"
   ]
  },
  {
   "cell_type": "markdown",
   "metadata": {},
   "source": [
    "найдем как называется Россия и Беларусь в этом датафрейме\n",
    "\n",
    "фильтр на подстроку - смотрим все страны, содержащие в названии 'us'"
   ]
  },
  {
   "cell_type": "code",
   "execution_count": 86,
   "metadata": {
    "ExecuteTime": {
     "end_time": "2023-06-28T21:30:31.545276Z",
     "start_time": "2023-06-28T21:30:31.101487Z"
    }
   },
   "outputs": [
    {
     "data": {
      "text/plain": [
       "array(['Austria', 'Brunei Darussalam', 'Australia', 'Russian Federation',\n",
       "       'USSR (former)', 'Mauritius', 'Belarus', 'Cyprus',\n",
       "       'Bonaire, St Eustatius, Saba'], dtype=object)"
      ]
     },
     "execution_count": 86,
     "metadata": {},
     "output_type": "execute_result"
    }
   ],
   "source": [
    "data[ data['country'].str.contains('us', case=False) ]['country'].unique()"
   ]
  },
  {
   "cell_type": "markdown",
   "metadata": {},
   "source": [
    "```\n",
    "# фильтр на несколько условий сразу\n",
    "# | - условие ИЛИ\n",
    "# & AND\n",
    "# () | (() | () & ())\n",
    "```"
   ]
  },
  {
   "cell_type": "code",
   "execution_count": 88,
   "metadata": {
    "ExecuteTime": {
     "end_time": "2023-06-28T21:30:53.123832Z",
     "start_time": "2023-06-28T21:30:52.970450Z"
    }
   },
   "outputs": [
    {
     "data": {
      "text/html": [
       "<div>\n",
       "<style scoped>\n",
       "    .dataframe tbody tr th:only-of-type {\n",
       "        vertical-align: middle;\n",
       "    }\n",
       "\n",
       "    .dataframe tbody tr th {\n",
       "        vertical-align: top;\n",
       "    }\n",
       "\n",
       "    .dataframe thead th {\n",
       "        text-align: right;\n",
       "    }\n",
       "</style>\n",
       "<table border=\"1\" class=\"dataframe\">\n",
       "  <thead>\n",
       "    <tr style=\"text-align: right;\">\n",
       "      <th></th>\n",
       "      <th>country</th>\n",
       "      <th>year</th>\n",
       "      <th>quantity</th>\n",
       "      <th>category</th>\n",
       "    </tr>\n",
       "  </thead>\n",
       "  <tbody>\n",
       "    <tr>\n",
       "      <th>6940</th>\n",
       "      <td>Russian Federation</td>\n",
       "      <td>2014</td>\n",
       "      <td>12714.0</td>\n",
       "      <td>3</td>\n",
       "    </tr>\n",
       "    <tr>\n",
       "      <th>6941</th>\n",
       "      <td>Russian Federation</td>\n",
       "      <td>2013</td>\n",
       "      <td>11285.0</td>\n",
       "      <td>3</td>\n",
       "    </tr>\n",
       "    <tr>\n",
       "      <th>6942</th>\n",
       "      <td>Russian Federation</td>\n",
       "      <td>2012</td>\n",
       "      <td>11302.0</td>\n",
       "      <td>3</td>\n",
       "    </tr>\n",
       "    <tr>\n",
       "      <th>6943</th>\n",
       "      <td>Russian Federation</td>\n",
       "      <td>2011</td>\n",
       "      <td>7611.0</td>\n",
       "      <td>3</td>\n",
       "    </tr>\n",
       "    <tr>\n",
       "      <th>6944</th>\n",
       "      <td>Russian Federation</td>\n",
       "      <td>2010</td>\n",
       "      <td>9263.0</td>\n",
       "      <td>3</td>\n",
       "    </tr>\n",
       "  </tbody>\n",
       "</table>\n",
       "</div>"
      ],
      "text/plain": [
       "                 country  year  quantity  category\n",
       "6940  Russian Federation  2014   12714.0         3\n",
       "6941  Russian Federation  2013   11285.0         3\n",
       "6942  Russian Federation  2012   11302.0         3\n",
       "6943  Russian Federation  2011    7611.0         3\n",
       "6944  Russian Federation  2010    9263.0         3"
      ]
     },
     "execution_count": 88,
     "metadata": {},
     "output_type": "execute_result"
    }
   ],
   "source": [
    "filtered_countries = data[(data['country']=='Russian Federation') | (data['country']=='Belarus')]\n",
    "filtered_countries.head()"
   ]
  },
  {
   "cell_type": "code",
   "execution_count": 39,
   "metadata": {
    "ExecuteTime": {
     "end_time": "2023-01-04T20:56:54.926012Z",
     "start_time": "2023-01-04T20:56:54.921550Z"
    }
   },
   "outputs": [
    {
     "data": {
      "text/plain": [
       "array(['Russian Federation', 'Belarus'], dtype=object)"
      ]
     },
     "execution_count": 39,
     "metadata": {},
     "output_type": "execute_result"
    }
   ],
   "source": [
    "filtered_countries['country'].unique()"
   ]
  },
  {
   "cell_type": "code",
   "execution_count": 41,
   "metadata": {
    "ExecuteTime": {
     "end_time": "2023-01-04T20:58:12.704578Z",
     "start_time": "2023-01-04T20:58:12.673844Z"
    }
   },
   "outputs": [
    {
     "data": {
      "text/html": [
       "<div>\n",
       "<style scoped>\n",
       "    .dataframe tbody tr th:only-of-type {\n",
       "        vertical-align: middle;\n",
       "    }\n",
       "\n",
       "    .dataframe tbody tr th {\n",
       "        vertical-align: top;\n",
       "    }\n",
       "\n",
       "    .dataframe thead th {\n",
       "        text-align: right;\n",
       "    }\n",
       "</style>\n",
       "<table border=\"1\" class=\"dataframe\">\n",
       "  <thead>\n",
       "    <tr style=\"text-align: right;\">\n",
       "      <th></th>\n",
       "      <th>country</th>\n",
       "      <th>year</th>\n",
       "      <th>quantity</th>\n",
       "      <th>category</th>\n",
       "    </tr>\n",
       "  </thead>\n",
       "  <tbody>\n",
       "    <tr>\n",
       "      <th>6940</th>\n",
       "      <td>Russian Federation</td>\n",
       "      <td>2014</td>\n",
       "      <td>12714.0</td>\n",
       "      <td>3</td>\n",
       "    </tr>\n",
       "    <tr>\n",
       "      <th>6941</th>\n",
       "      <td>Russian Federation</td>\n",
       "      <td>2013</td>\n",
       "      <td>11285.0</td>\n",
       "      <td>3</td>\n",
       "    </tr>\n",
       "    <tr>\n",
       "      <th>6942</th>\n",
       "      <td>Russian Federation</td>\n",
       "      <td>2012</td>\n",
       "      <td>11302.0</td>\n",
       "      <td>3</td>\n",
       "    </tr>\n",
       "    <tr>\n",
       "      <th>6943</th>\n",
       "      <td>Russian Federation</td>\n",
       "      <td>2011</td>\n",
       "      <td>7611.0</td>\n",
       "      <td>3</td>\n",
       "    </tr>\n",
       "    <tr>\n",
       "      <th>6944</th>\n",
       "      <td>Russian Federation</td>\n",
       "      <td>2010</td>\n",
       "      <td>9263.0</td>\n",
       "      <td>3</td>\n",
       "    </tr>\n",
       "    <tr>\n",
       "      <th>...</th>\n",
       "      <td>...</td>\n",
       "      <td>...</td>\n",
       "      <td>...</td>\n",
       "      <td>...</td>\n",
       "    </tr>\n",
       "    <tr>\n",
       "      <th>1189189</th>\n",
       "      <td>Russian Federation</td>\n",
       "      <td>2001</td>\n",
       "      <td>3.0</td>\n",
       "      <td>71</td>\n",
       "    </tr>\n",
       "    <tr>\n",
       "      <th>1189190</th>\n",
       "      <td>Russian Federation</td>\n",
       "      <td>2000</td>\n",
       "      <td>2.0</td>\n",
       "      <td>71</td>\n",
       "    </tr>\n",
       "    <tr>\n",
       "      <th>1189191</th>\n",
       "      <td>Russian Federation</td>\n",
       "      <td>1999</td>\n",
       "      <td>2.0</td>\n",
       "      <td>71</td>\n",
       "    </tr>\n",
       "    <tr>\n",
       "      <th>1189192</th>\n",
       "      <td>Russian Federation</td>\n",
       "      <td>1998</td>\n",
       "      <td>0.0</td>\n",
       "      <td>71</td>\n",
       "    </tr>\n",
       "    <tr>\n",
       "      <th>1189193</th>\n",
       "      <td>Russian Federation</td>\n",
       "      <td>1997</td>\n",
       "      <td>0.0</td>\n",
       "      <td>71</td>\n",
       "    </tr>\n",
       "  </tbody>\n",
       "</table>\n",
       "<p>23697 rows × 4 columns</p>\n",
       "</div>"
      ],
      "text/plain": [
       "                    country  year  quantity  category\n",
       "6940     Russian Federation  2014   12714.0         3\n",
       "6941     Russian Federation  2013   11285.0         3\n",
       "6942     Russian Federation  2012   11302.0         3\n",
       "6943     Russian Federation  2011    7611.0         3\n",
       "6944     Russian Federation  2010    9263.0         3\n",
       "...                     ...   ...       ...       ...\n",
       "1189189  Russian Federation  2001       3.0        71\n",
       "1189190  Russian Federation  2000       2.0        71\n",
       "1189191  Russian Federation  1999       2.0        71\n",
       "1189192  Russian Federation  1998       0.0        71\n",
       "1189193  Russian Federation  1997       0.0        71\n",
       "\n",
       "[23697 rows x 4 columns]"
      ]
     },
     "execution_count": 41,
     "metadata": {},
     "output_type": "execute_result"
    }
   ],
   "source": [
    "data[data.country.isin(['Russian Federation','Belarus'])]"
   ]
  },
  {
   "cell_type": "code",
   "execution_count": 43,
   "metadata": {
    "ExecuteTime": {
     "end_time": "2023-01-04T20:59:23.500300Z",
     "start_time": "2023-01-04T20:59:23.493197Z"
    }
   },
   "outputs": [
    {
     "name": "stdout",
     "output_type": "stream",
     "text": [
      "6\n"
     ]
    },
    {
     "data": {
      "text/html": [
       "<div>\n",
       "<style scoped>\n",
       "    .dataframe tbody tr th:only-of-type {\n",
       "        vertical-align: middle;\n",
       "    }\n",
       "\n",
       "    .dataframe tbody tr th {\n",
       "        vertical-align: top;\n",
       "    }\n",
       "\n",
       "    .dataframe thead th {\n",
       "        text-align: right;\n",
       "    }\n",
       "</style>\n",
       "<table border=\"1\" class=\"dataframe\">\n",
       "  <thead>\n",
       "    <tr style=\"text-align: right;\">\n",
       "      <th></th>\n",
       "      <th>country</th>\n",
       "      <th>year</th>\n",
       "      <th>quantity</th>\n",
       "      <th>category</th>\n",
       "    </tr>\n",
       "  </thead>\n",
       "  <tbody>\n",
       "    <tr>\n",
       "      <th>1000</th>\n",
       "      <td>Austria</td>\n",
       "      <td>1998</td>\n",
       "      <td>-14.0</td>\n",
       "      <td>1</td>\n",
       "    </tr>\n",
       "    <tr>\n",
       "      <th>1001</th>\n",
       "      <td>Austria</td>\n",
       "      <td>1997</td>\n",
       "      <td>5.0</td>\n",
       "      <td>1</td>\n",
       "    </tr>\n",
       "    <tr>\n",
       "      <th>1002</th>\n",
       "      <td>Austria</td>\n",
       "      <td>1996</td>\n",
       "      <td>-1.0</td>\n",
       "      <td>1</td>\n",
       "    </tr>\n",
       "    <tr>\n",
       "      <th>1003</th>\n",
       "      <td>Austria</td>\n",
       "      <td>1995</td>\n",
       "      <td>-10.0</td>\n",
       "      <td>1</td>\n",
       "    </tr>\n",
       "    <tr>\n",
       "      <th>1004</th>\n",
       "      <td>Austria</td>\n",
       "      <td>1994</td>\n",
       "      <td>-8.0</td>\n",
       "      <td>1</td>\n",
       "    </tr>\n",
       "    <tr>\n",
       "      <th>1005</th>\n",
       "      <td>Austria</td>\n",
       "      <td>1993</td>\n",
       "      <td>-11.0</td>\n",
       "      <td>1</td>\n",
       "    </tr>\n",
       "  </tbody>\n",
       "</table>\n",
       "</div>"
      ],
      "text/plain": [
       "      country  year  quantity  category\n",
       "1000  Austria  1998     -14.0         1\n",
       "1001  Austria  1997       5.0         1\n",
       "1002  Austria  1996      -1.0         1\n",
       "1003  Austria  1995     -10.0         1\n",
       "1004  Austria  1994      -8.0         1\n",
       "1005  Austria  1993     -11.0         1"
      ]
     },
     "execution_count": 43,
     "metadata": {},
     "output_type": "execute_result"
    }
   ],
   "source": [
    "# фильтры на номер строки\n",
    "print(len(data.loc[1000:1005]))\n",
    "data.loc[1000:1005]"
   ]
  },
  {
   "cell_type": "markdown",
   "metadata": {},
   "source": [
    "# Сортировка <a class=\"anchor\" id=\"14\"></a>"
   ]
  },
  {
   "cell_type": "markdown",
   "metadata": {},
   "source": [
    "Сортировка по столбцу"
   ]
  },
  {
   "cell_type": "code",
   "execution_count": 89,
   "metadata": {
    "ExecuteTime": {
     "end_time": "2023-06-28T21:31:30.032519Z",
     "start_time": "2023-06-28T21:31:29.889896Z"
    }
   },
   "outputs": [
    {
     "data": {
      "text/html": [
       "<div>\n",
       "<style scoped>\n",
       "    .dataframe tbody tr th:only-of-type {\n",
       "        vertical-align: middle;\n",
       "    }\n",
       "\n",
       "    .dataframe tbody tr th {\n",
       "        vertical-align: top;\n",
       "    }\n",
       "\n",
       "    .dataframe thead th {\n",
       "        text-align: right;\n",
       "    }\n",
       "</style>\n",
       "<table border=\"1\" class=\"dataframe\">\n",
       "  <thead>\n",
       "    <tr style=\"text-align: right;\">\n",
       "      <th></th>\n",
       "      <th>country</th>\n",
       "      <th>year</th>\n",
       "      <th>quantity</th>\n",
       "      <th>category</th>\n",
       "    </tr>\n",
       "  </thead>\n",
       "  <tbody>\n",
       "    <tr>\n",
       "      <th>832375</th>\n",
       "      <td>United States</td>\n",
       "      <td>2000</td>\n",
       "      <td>-864348.0</td>\n",
       "      <td>42</td>\n",
       "    </tr>\n",
       "    <tr>\n",
       "      <th>832373</th>\n",
       "      <td>United States</td>\n",
       "      <td>2002</td>\n",
       "      <td>-562414.0</td>\n",
       "      <td>42</td>\n",
       "    </tr>\n",
       "    <tr>\n",
       "      <th>832362</th>\n",
       "      <td>United States</td>\n",
       "      <td>2013</td>\n",
       "      <td>-551490.0</td>\n",
       "      <td>42</td>\n",
       "    </tr>\n",
       "    <tr>\n",
       "      <th>832380</th>\n",
       "      <td>United States</td>\n",
       "      <td>1995</td>\n",
       "      <td>-493380.0</td>\n",
       "      <td>42</td>\n",
       "    </tr>\n",
       "    <tr>\n",
       "      <th>832322</th>\n",
       "      <td>Ukraine</td>\n",
       "      <td>2010</td>\n",
       "      <td>-477263.0</td>\n",
       "      <td>42</td>\n",
       "    </tr>\n",
       "  </tbody>\n",
       "</table>\n",
       "</div>"
      ],
      "text/plain": [
       "              country  year  quantity  category\n",
       "832375  United States  2000 -864348.0        42\n",
       "832373  United States  2002 -562414.0        42\n",
       "832362  United States  2013 -551490.0        42\n",
       "832380  United States  1995 -493380.0        42\n",
       "832322        Ukraine  2010 -477263.0        42"
      ]
     },
     "execution_count": 89,
     "metadata": {},
     "output_type": "execute_result"
    }
   ],
   "source": [
    "data.sort_values(by='quantity').head()"
   ]
  },
  {
   "cell_type": "markdown",
   "metadata": {},
   "source": [
    "сортировка по убыванию"
   ]
  },
  {
   "cell_type": "code",
   "execution_count": 90,
   "metadata": {
    "ExecuteTime": {
     "end_time": "2023-06-28T21:31:31.925299Z",
     "start_time": "2023-06-28T21:31:31.771662Z"
    }
   },
   "outputs": [
    {
     "data": {
      "text/html": [
       "<div>\n",
       "<style scoped>\n",
       "    .dataframe tbody tr th:only-of-type {\n",
       "        vertical-align: middle;\n",
       "    }\n",
       "\n",
       "    .dataframe tbody tr th {\n",
       "        vertical-align: top;\n",
       "    }\n",
       "\n",
       "    .dataframe thead th {\n",
       "        text-align: right;\n",
       "    }\n",
       "</style>\n",
       "<table border=\"1\" class=\"dataframe\">\n",
       "  <thead>\n",
       "    <tr style=\"text-align: right;\">\n",
       "      <th></th>\n",
       "      <th>country</th>\n",
       "      <th>year</th>\n",
       "      <th>quantity</th>\n",
       "      <th>category</th>\n",
       "    </tr>\n",
       "  </thead>\n",
       "  <tbody>\n",
       "    <tr>\n",
       "      <th>492581</th>\n",
       "      <td>United States</td>\n",
       "      <td>2014</td>\n",
       "      <td>6.680329e+09</td>\n",
       "      <td>31</td>\n",
       "    </tr>\n",
       "    <tr>\n",
       "      <th>492267</th>\n",
       "      <td>United States</td>\n",
       "      <td>2014</td>\n",
       "      <td>6.680329e+09</td>\n",
       "      <td>31</td>\n",
       "    </tr>\n",
       "    <tr>\n",
       "      <th>492047</th>\n",
       "      <td>China</td>\n",
       "      <td>2014</td>\n",
       "      <td>5.462672e+09</td>\n",
       "      <td>31</td>\n",
       "    </tr>\n",
       "    <tr>\n",
       "      <th>492345</th>\n",
       "      <td>China</td>\n",
       "      <td>2014</td>\n",
       "      <td>5.462672e+09</td>\n",
       "      <td>31</td>\n",
       "    </tr>\n",
       "    <tr>\n",
       "      <th>122392</th>\n",
       "      <td>USSR (former)</td>\n",
       "      <td>1990</td>\n",
       "      <td>3.257000e+09</td>\n",
       "      <td>12</td>\n",
       "    </tr>\n",
       "  </tbody>\n",
       "</table>\n",
       "</div>"
      ],
      "text/plain": [
       "              country  year      quantity  category\n",
       "492581  United States  2014  6.680329e+09        31\n",
       "492267  United States  2014  6.680329e+09        31\n",
       "492047          China  2014  5.462672e+09        31\n",
       "492345          China  2014  5.462672e+09        31\n",
       "122392  USSR (former)  1990  3.257000e+09        12"
      ]
     },
     "execution_count": 90,
     "metadata": {},
     "output_type": "execute_result"
    }
   ],
   "source": [
    "data.sort_values('quantity', ascending=False).head()"
   ]
  },
  {
   "cell_type": "markdown",
   "metadata": {},
   "source": [
    "сортировка по нескольким столбцам"
   ]
  },
  {
   "cell_type": "code",
   "execution_count": 92,
   "metadata": {
    "ExecuteTime": {
     "end_time": "2023-06-28T21:32:23.058811Z",
     "start_time": "2023-06-28T21:32:22.735632Z"
    }
   },
   "outputs": [
    {
     "data": {
      "text/html": [
       "<div>\n",
       "<style scoped>\n",
       "    .dataframe tbody tr th:only-of-type {\n",
       "        vertical-align: middle;\n",
       "    }\n",
       "\n",
       "    .dataframe tbody tr th {\n",
       "        vertical-align: top;\n",
       "    }\n",
       "\n",
       "    .dataframe thead th {\n",
       "        text-align: right;\n",
       "    }\n",
       "</style>\n",
       "<table border=\"1\" class=\"dataframe\">\n",
       "  <thead>\n",
       "    <tr style=\"text-align: right;\">\n",
       "      <th></th>\n",
       "      <th>country</th>\n",
       "      <th>year</th>\n",
       "      <th>quantity</th>\n",
       "      <th>category</th>\n",
       "    </tr>\n",
       "  </thead>\n",
       "  <tbody>\n",
       "    <tr>\n",
       "      <th>835127</th>\n",
       "      <td>Afghanistan</td>\n",
       "      <td>2014</td>\n",
       "      <td>1.935442e+06</td>\n",
       "      <td>42</td>\n",
       "    </tr>\n",
       "    <tr>\n",
       "      <th>491541</th>\n",
       "      <td>Afghanistan</td>\n",
       "      <td>2014</td>\n",
       "      <td>6.600000e+04</td>\n",
       "      <td>31</td>\n",
       "    </tr>\n",
       "    <tr>\n",
       "      <th>492004</th>\n",
       "      <td>Afghanistan</td>\n",
       "      <td>2014</td>\n",
       "      <td>6.600000e+04</td>\n",
       "      <td>31</td>\n",
       "    </tr>\n",
       "    <tr>\n",
       "      <th>492292</th>\n",
       "      <td>Afghanistan</td>\n",
       "      <td>2014</td>\n",
       "      <td>6.600000e+04</td>\n",
       "      <td>31</td>\n",
       "    </tr>\n",
       "    <tr>\n",
       "      <th>791301</th>\n",
       "      <td>Afghanistan</td>\n",
       "      <td>2014</td>\n",
       "      <td>5.537080e+03</td>\n",
       "      <td>42</td>\n",
       "    </tr>\n",
       "    <tr>\n",
       "      <th>...</th>\n",
       "      <td>...</td>\n",
       "      <td>...</td>\n",
       "      <td>...</td>\n",
       "      <td>...</td>\n",
       "    </tr>\n",
       "    <tr>\n",
       "      <th>521819</th>\n",
       "      <td>Zimbabwe</td>\n",
       "      <td>1990</td>\n",
       "      <td>0.000000e+00</td>\n",
       "      <td>31</td>\n",
       "    </tr>\n",
       "    <tr>\n",
       "      <th>727864</th>\n",
       "      <td>Zimbabwe</td>\n",
       "      <td>1990</td>\n",
       "      <td>0.000000e+00</td>\n",
       "      <td>39</td>\n",
       "    </tr>\n",
       "    <tr>\n",
       "      <th>901003</th>\n",
       "      <td>Zimbabwe</td>\n",
       "      <td>1990</td>\n",
       "      <td>0.000000e+00</td>\n",
       "      <td>51</td>\n",
       "    </tr>\n",
       "    <tr>\n",
       "      <th>1039388</th>\n",
       "      <td>Zimbabwe</td>\n",
       "      <td>1990</td>\n",
       "      <td>0.000000e+00</td>\n",
       "      <td>67</td>\n",
       "    </tr>\n",
       "    <tr>\n",
       "      <th>1052123</th>\n",
       "      <td>Zimbabwe</td>\n",
       "      <td>1990</td>\n",
       "      <td>0.000000e+00</td>\n",
       "      <td>67</td>\n",
       "    </tr>\n",
       "  </tbody>\n",
       "</table>\n",
       "<p>1189482 rows × 4 columns</p>\n",
       "</div>"
      ],
      "text/plain": [
       "             country  year      quantity  category\n",
       "835127   Afghanistan  2014  1.935442e+06        42\n",
       "491541   Afghanistan  2014  6.600000e+04        31\n",
       "492004   Afghanistan  2014  6.600000e+04        31\n",
       "492292   Afghanistan  2014  6.600000e+04        31\n",
       "791301   Afghanistan  2014  5.537080e+03        42\n",
       "...              ...   ...           ...       ...\n",
       "521819      Zimbabwe  1990  0.000000e+00        31\n",
       "727864      Zimbabwe  1990  0.000000e+00        39\n",
       "901003      Zimbabwe  1990  0.000000e+00        51\n",
       "1039388     Zimbabwe  1990  0.000000e+00        67\n",
       "1052123     Zimbabwe  1990  0.000000e+00        67\n",
       "\n",
       "[1189482 rows x 4 columns]"
      ]
     },
     "execution_count": 92,
     "metadata": {},
     "output_type": "execute_result"
    }
   ],
   "source": [
    "data.sort_values(by=['year', 'country', 'quantity'], ascending=[False, True, False])"
   ]
  },
  {
   "cell_type": "code",
   "execution_count": 97,
   "metadata": {
    "ExecuteTime": {
     "end_time": "2023-06-28T21:33:37.010681Z",
     "start_time": "2023-06-28T21:33:36.702690Z"
    }
   },
   "outputs": [
    {
     "data": {
      "text/plain": [
       "Index([ 835127,  491541,  492004,  492292,  791301,  797879,  811493,  813883,\n",
       "        820564,  828390,\n",
       "       ...\n",
       "        136544,  140374,  146170,  150366,  432305,  521819,  727864,  901003,\n",
       "       1039388, 1052123],\n",
       "      dtype='int64', length=1189482)"
      ]
     },
     "execution_count": 97,
     "metadata": {},
     "output_type": "execute_result"
    }
   ],
   "source": [
    "data.sort_values(by=['year', 'country', 'quantity'], ascending=[False, True, False]).index"
   ]
  },
  {
   "cell_type": "code",
   "execution_count": 99,
   "metadata": {
    "ExecuteTime": {
     "end_time": "2023-06-28T21:34:01.304932Z",
     "start_time": "2023-06-28T21:34:00.990909Z"
    }
   },
   "outputs": [
    {
     "data": {
      "text/plain": [
       "384894"
      ]
     },
     "execution_count": 99,
     "metadata": {},
     "output_type": "execute_result"
    }
   ],
   "source": [
    "data.sort_values(by=['year', 'country', 'quantity'], ascending=[False, True, False]).index[60]"
   ]
  },
  {
   "cell_type": "markdown",
   "metadata": {},
   "source": [
    "Вывести строку по нужному индексу, в примере ***data.sort_values(by=['year', 'country', 'quantity'], ascending=[False, True, False]).index[60]***"
   ]
  },
  {
   "cell_type": "code",
   "execution_count": 101,
   "metadata": {
    "ExecuteTime": {
     "end_time": "2023-06-28T21:35:29.441166Z",
     "start_time": "2023-06-28T21:35:28.822445Z"
    }
   },
   "outputs": [
    {
     "data": {
      "text/html": [
       "<div>\n",
       "<style scoped>\n",
       "    .dataframe tbody tr th:only-of-type {\n",
       "        vertical-align: middle;\n",
       "    }\n",
       "\n",
       "    .dataframe tbody tr th {\n",
       "        vertical-align: top;\n",
       "    }\n",
       "\n",
       "    .dataframe thead th {\n",
       "        text-align: right;\n",
       "    }\n",
       "</style>\n",
       "<table border=\"1\" class=\"dataframe\">\n",
       "  <thead>\n",
       "    <tr style=\"text-align: right;\">\n",
       "      <th></th>\n",
       "      <th>country</th>\n",
       "      <th>year</th>\n",
       "      <th>quantity</th>\n",
       "      <th>category</th>\n",
       "    </tr>\n",
       "  </thead>\n",
       "  <tbody>\n",
       "    <tr>\n",
       "      <th>180204</th>\n",
       "      <td>Viet Nam</td>\n",
       "      <td>2008</td>\n",
       "      <td>14904.0</td>\n",
       "      <td>18</td>\n",
       "    </tr>\n",
       "  </tbody>\n",
       "</table>\n",
       "</div>"
      ],
      "text/plain": [
       "         country  year  quantity  category\n",
       "180204  Viet Nam  2008   14904.0        18"
      ]
     },
     "execution_count": 101,
     "metadata": {},
     "output_type": "execute_result"
    }
   ],
   "source": [
    "data.sort_values(by=['year', 'country', 'quantity'], ascending=[False, True, False])\\\n",
    ".iloc[[data.sort_values(by=['year', 'country', 'quantity'], ascending=[False, True, False]).index[60]]]"
   ]
  },
  {
   "cell_type": "markdown",
   "metadata": {},
   "source": [
    "# Параметр inplace <a class=\"anchor\" id=\"15\"></a>"
   ]
  },
  {
   "cell_type": "code",
   "execution_count": 102,
   "metadata": {
    "ExecuteTime": {
     "end_time": "2023-06-28T21:36:49.344977Z",
     "start_time": "2023-06-28T21:36:49.337626Z"
    }
   },
   "outputs": [
    {
     "data": {
      "text/html": [
       "<div>\n",
       "<style scoped>\n",
       "    .dataframe tbody tr th:only-of-type {\n",
       "        vertical-align: middle;\n",
       "    }\n",
       "\n",
       "    .dataframe tbody tr th {\n",
       "        vertical-align: top;\n",
       "    }\n",
       "\n",
       "    .dataframe thead th {\n",
       "        text-align: right;\n",
       "    }\n",
       "</style>\n",
       "<table border=\"1\" class=\"dataframe\">\n",
       "  <thead>\n",
       "    <tr style=\"text-align: right;\">\n",
       "      <th></th>\n",
       "      <th>country</th>\n",
       "      <th>year</th>\n",
       "      <th>quantity</th>\n",
       "      <th>category</th>\n",
       "    </tr>\n",
       "  </thead>\n",
       "  <tbody>\n",
       "    <tr>\n",
       "      <th>0</th>\n",
       "      <td>Austria</td>\n",
       "      <td>1996</td>\n",
       "      <td>5.0</td>\n",
       "      <td>1</td>\n",
       "    </tr>\n",
       "    <tr>\n",
       "      <th>1</th>\n",
       "      <td>Austria</td>\n",
       "      <td>1995</td>\n",
       "      <td>17.0</td>\n",
       "      <td>1</td>\n",
       "    </tr>\n",
       "    <tr>\n",
       "      <th>2</th>\n",
       "      <td>Belgium</td>\n",
       "      <td>2014</td>\n",
       "      <td>0.0</td>\n",
       "      <td>1</td>\n",
       "    </tr>\n",
       "    <tr>\n",
       "      <th>3</th>\n",
       "      <td>Belgium</td>\n",
       "      <td>2013</td>\n",
       "      <td>0.0</td>\n",
       "      <td>1</td>\n",
       "    </tr>\n",
       "    <tr>\n",
       "      <th>4</th>\n",
       "      <td>Belgium</td>\n",
       "      <td>2012</td>\n",
       "      <td>35.0</td>\n",
       "      <td>1</td>\n",
       "    </tr>\n",
       "  </tbody>\n",
       "</table>\n",
       "</div>"
      ],
      "text/plain": [
       "   country  year  quantity  category\n",
       "0  Austria  1996       5.0         1\n",
       "1  Austria  1995      17.0         1\n",
       "2  Belgium  2014       0.0         1\n",
       "3  Belgium  2013       0.0         1\n",
       "4  Belgium  2012      35.0         1"
      ]
     },
     "execution_count": 102,
     "metadata": {},
     "output_type": "execute_result"
    }
   ],
   "source": [
    "data.head()"
   ]
  },
  {
   "cell_type": "code",
   "execution_count": null,
   "metadata": {},
   "outputs": [],
   "source": [
    "data.sort_values('country', ascending=True, inplace=rewrite)"
   ]
  },
  {
   "cell_type": "code",
   "execution_count": null,
   "metadata": {},
   "outputs": [],
   "source": [
    "data = data.sort_values(by=['country', 'year', 'quantity'], ascending=[True, True, False])\n",
    "# чтобы сократить это выражение используем inplace:\n",
    "data.sort_values(by=['country', 'year', 'quantity'], ascending=[True, True, False], inplace=True)"
   ]
  },
  {
   "cell_type": "markdown",
   "metadata": {},
   "source": [
    "### Упражнение\n",
    "Используем transactions.csv.\n",
    "\n",
    "Для какой транзакции (столбец ID) были наибольшие расходы (столбец Cost) в категории \"_8\" (столбец Product)? "
   ]
  },
  {
   "cell_type": "code",
   "execution_count": 103,
   "metadata": {
    "ExecuteTime": {
     "end_time": "2023-06-28T21:37:26.248665Z",
     "start_time": "2023-06-28T21:37:26.236890Z"
    }
   },
   "outputs": [
    {
     "data": {
      "text/html": [
       "<div>\n",
       "<style scoped>\n",
       "    .dataframe tbody tr th:only-of-type {\n",
       "        vertical-align: middle;\n",
       "    }\n",
       "\n",
       "    .dataframe tbody tr th {\n",
       "        vertical-align: top;\n",
       "    }\n",
       "\n",
       "    .dataframe thead th {\n",
       "        text-align: right;\n",
       "    }\n",
       "</style>\n",
       "<table border=\"1\" class=\"dataframe\">\n",
       "  <thead>\n",
       "    <tr style=\"text-align: right;\">\n",
       "      <th></th>\n",
       "      <th>Year</th>\n",
       "      <th>Month</th>\n",
       "      <th>ID</th>\n",
       "      <th>Product</th>\n",
       "      <th>Amount</th>\n",
       "      <th>Price</th>\n",
       "      <th>Total</th>\n",
       "      <th>Cost</th>\n",
       "    </tr>\n",
       "  </thead>\n",
       "  <tbody>\n",
       "    <tr>\n",
       "      <th>0</th>\n",
       "      <td>2017</td>\n",
       "      <td>1</td>\n",
       "      <td>t001</td>\n",
       "      <td>A1</td>\n",
       "      <td>7</td>\n",
       "      <td>2904</td>\n",
       "      <td>20328</td>\n",
       "      <td>1200</td>\n",
       "    </tr>\n",
       "    <tr>\n",
       "      <th>1</th>\n",
       "      <td>2017</td>\n",
       "      <td>1</td>\n",
       "      <td>t002</td>\n",
       "      <td>A2</td>\n",
       "      <td>2</td>\n",
       "      <td>1896</td>\n",
       "      <td>3792</td>\n",
       "      <td>1100</td>\n",
       "    </tr>\n",
       "    <tr>\n",
       "      <th>2</th>\n",
       "      <td>2017</td>\n",
       "      <td>2</td>\n",
       "      <td>t003</td>\n",
       "      <td>A1</td>\n",
       "      <td>5</td>\n",
       "      <td>2904</td>\n",
       "      <td>14520</td>\n",
       "      <td>1200</td>\n",
       "    </tr>\n",
       "    <tr>\n",
       "      <th>3</th>\n",
       "      <td>2017</td>\n",
       "      <td>2</td>\n",
       "      <td>t004</td>\n",
       "      <td>A4</td>\n",
       "      <td>1</td>\n",
       "      <td>8618</td>\n",
       "      <td>8618</td>\n",
       "      <td>4200</td>\n",
       "    </tr>\n",
       "    <tr>\n",
       "      <th>4</th>\n",
       "      <td>2017</td>\n",
       "      <td>2</td>\n",
       "      <td>t005</td>\n",
       "      <td>A5</td>\n",
       "      <td>3</td>\n",
       "      <td>5175</td>\n",
       "      <td>15525</td>\n",
       "      <td>500</td>\n",
       "    </tr>\n",
       "  </tbody>\n",
       "</table>\n",
       "</div>"
      ],
      "text/plain": [
       "   Year  Month    ID Product  Amount  Price  Total  Cost\n",
       "0  2017      1  t001      A1       7   2904  20328  1200\n",
       "1  2017      1  t002      A2       2   1896   3792  1100\n",
       "2  2017      2  t003      A1       5   2904  14520  1200\n",
       "3  2017      2  t004      A4       1   8618   8618  4200\n",
       "4  2017      2  t005      A5       3   5175  15525   500"
      ]
     },
     "execution_count": 103,
     "metadata": {},
     "output_type": "execute_result"
    }
   ],
   "source": [
    "transactions = pd.read_csv('../.datasets/transactions.csv')\n",
    "transactions.head()"
   ]
  },
  {
   "cell_type": "code",
   "execution_count": 104,
   "metadata": {
    "ExecuteTime": {
     "end_time": "2023-06-28T21:37:40.747269Z",
     "start_time": "2023-06-28T21:37:40.736736Z"
    },
    "scrolled": true
   },
   "outputs": [
    {
     "data": {
      "text/html": [
       "<div>\n",
       "<style scoped>\n",
       "    .dataframe tbody tr th:only-of-type {\n",
       "        vertical-align: middle;\n",
       "    }\n",
       "\n",
       "    .dataframe tbody tr th {\n",
       "        vertical-align: top;\n",
       "    }\n",
       "\n",
       "    .dataframe thead th {\n",
       "        text-align: right;\n",
       "    }\n",
       "</style>\n",
       "<table border=\"1\" class=\"dataframe\">\n",
       "  <thead>\n",
       "    <tr style=\"text-align: right;\">\n",
       "      <th></th>\n",
       "      <th>ID</th>\n",
       "      <th>Product</th>\n",
       "      <th>Cost</th>\n",
       "    </tr>\n",
       "  </thead>\n",
       "  <tbody>\n",
       "    <tr>\n",
       "      <th>0</th>\n",
       "      <td>t001</td>\n",
       "      <td>A1</td>\n",
       "      <td>1200</td>\n",
       "    </tr>\n",
       "    <tr>\n",
       "      <th>1</th>\n",
       "      <td>t002</td>\n",
       "      <td>A2</td>\n",
       "      <td>1100</td>\n",
       "    </tr>\n",
       "    <tr>\n",
       "      <th>2</th>\n",
       "      <td>t003</td>\n",
       "      <td>A1</td>\n",
       "      <td>1200</td>\n",
       "    </tr>\n",
       "    <tr>\n",
       "      <th>3</th>\n",
       "      <td>t004</td>\n",
       "      <td>A4</td>\n",
       "      <td>4200</td>\n",
       "    </tr>\n",
       "    <tr>\n",
       "      <th>4</th>\n",
       "      <td>t005</td>\n",
       "      <td>A5</td>\n",
       "      <td>500</td>\n",
       "    </tr>\n",
       "    <tr>\n",
       "      <th>5</th>\n",
       "      <td>t006</td>\n",
       "      <td>_6</td>\n",
       "      <td>200</td>\n",
       "    </tr>\n",
       "    <tr>\n",
       "      <th>6</th>\n",
       "      <td>t007</td>\n",
       "      <td>_3</td>\n",
       "      <td>200</td>\n",
       "    </tr>\n",
       "    <tr>\n",
       "      <th>7</th>\n",
       "      <td>t008</td>\n",
       "      <td>_5</td>\n",
       "      <td>1200</td>\n",
       "    </tr>\n",
       "    <tr>\n",
       "      <th>8</th>\n",
       "      <td>t009</td>\n",
       "      <td>_8</td>\n",
       "      <td>1000</td>\n",
       "    </tr>\n",
       "    <tr>\n",
       "      <th>9</th>\n",
       "      <td>t010</td>\n",
       "      <td>_4</td>\n",
       "      <td>3400</td>\n",
       "    </tr>\n",
       "    <tr>\n",
       "      <th>10</th>\n",
       "      <td>t011</td>\n",
       "      <td>_2</td>\n",
       "      <td>800</td>\n",
       "    </tr>\n",
       "    <tr>\n",
       "      <th>11</th>\n",
       "      <td>t012</td>\n",
       "      <td>_5</td>\n",
       "      <td>700</td>\n",
       "    </tr>\n",
       "    <tr>\n",
       "      <th>12</th>\n",
       "      <td>t013</td>\n",
       "      <td>_8</td>\n",
       "      <td>1200</td>\n",
       "    </tr>\n",
       "    <tr>\n",
       "      <th>13</th>\n",
       "      <td>t014</td>\n",
       "      <td>_4</td>\n",
       "      <td>250</td>\n",
       "    </tr>\n",
       "    <tr>\n",
       "      <th>14</th>\n",
       "      <td>t015</td>\n",
       "      <td>_2</td>\n",
       "      <td>650</td>\n",
       "    </tr>\n",
       "    <tr>\n",
       "      <th>15</th>\n",
       "      <td>t016</td>\n",
       "      <td>A4</td>\n",
       "      <td>2400</td>\n",
       "    </tr>\n",
       "    <tr>\n",
       "      <th>16</th>\n",
       "      <td>t017</td>\n",
       "      <td>A5</td>\n",
       "      <td>1200</td>\n",
       "    </tr>\n",
       "    <tr>\n",
       "      <th>17</th>\n",
       "      <td>t018</td>\n",
       "      <td>_6</td>\n",
       "      <td>1200</td>\n",
       "    </tr>\n",
       "    <tr>\n",
       "      <th>18</th>\n",
       "      <td>t019</td>\n",
       "      <td>_3</td>\n",
       "      <td>200</td>\n",
       "    </tr>\n",
       "    <tr>\n",
       "      <th>19</th>\n",
       "      <td>t020</td>\n",
       "      <td>_5</td>\n",
       "      <td>800</td>\n",
       "    </tr>\n",
       "    <tr>\n",
       "      <th>20</th>\n",
       "      <td>t021</td>\n",
       "      <td>_3</td>\n",
       "      <td>700</td>\n",
       "    </tr>\n",
       "    <tr>\n",
       "      <th>21</th>\n",
       "      <td>t022</td>\n",
       "      <td>_5</td>\n",
       "      <td>4200</td>\n",
       "    </tr>\n",
       "    <tr>\n",
       "      <th>22</th>\n",
       "      <td>t023</td>\n",
       "      <td>_8</td>\n",
       "      <td>200</td>\n",
       "    </tr>\n",
       "    <tr>\n",
       "      <th>23</th>\n",
       "      <td>t024</td>\n",
       "      <td>_4</td>\n",
       "      <td>1200</td>\n",
       "    </tr>\n",
       "    <tr>\n",
       "      <th>24</th>\n",
       "      <td>t025</td>\n",
       "      <td>_2</td>\n",
       "      <td>250</td>\n",
       "    </tr>\n",
       "    <tr>\n",
       "      <th>25</th>\n",
       "      <td>t026</td>\n",
       "      <td>_5</td>\n",
       "      <td>650</td>\n",
       "    </tr>\n",
       "    <tr>\n",
       "      <th>26</th>\n",
       "      <td>t027</td>\n",
       "      <td>_8</td>\n",
       "      <td>800</td>\n",
       "    </tr>\n",
       "    <tr>\n",
       "      <th>27</th>\n",
       "      <td>t028</td>\n",
       "      <td>_4</td>\n",
       "      <td>700</td>\n",
       "    </tr>\n",
       "    <tr>\n",
       "      <th>28</th>\n",
       "      <td>t029</td>\n",
       "      <td>_2</td>\n",
       "      <td>1200</td>\n",
       "    </tr>\n",
       "    <tr>\n",
       "      <th>29</th>\n",
       "      <td>t030</td>\n",
       "      <td>A4</td>\n",
       "      <td>250</td>\n",
       "    </tr>\n",
       "    <tr>\n",
       "      <th>30</th>\n",
       "      <td>t031</td>\n",
       "      <td>_2</td>\n",
       "      <td>650</td>\n",
       "    </tr>\n",
       "    <tr>\n",
       "      <th>31</th>\n",
       "      <td>t032</td>\n",
       "      <td>A4</td>\n",
       "      <td>2400</td>\n",
       "    </tr>\n",
       "    <tr>\n",
       "      <th>32</th>\n",
       "      <td>t033</td>\n",
       "      <td>A5</td>\n",
       "      <td>1200</td>\n",
       "    </tr>\n",
       "    <tr>\n",
       "      <th>33</th>\n",
       "      <td>t034</td>\n",
       "      <td>_3</td>\n",
       "      <td>1000</td>\n",
       "    </tr>\n",
       "    <tr>\n",
       "      <th>34</th>\n",
       "      <td>t035</td>\n",
       "      <td>_5</td>\n",
       "      <td>800</td>\n",
       "    </tr>\n",
       "    <tr>\n",
       "      <th>35</th>\n",
       "      <td>t036</td>\n",
       "      <td>_3</td>\n",
       "      <td>2400</td>\n",
       "    </tr>\n",
       "    <tr>\n",
       "      <th>36</th>\n",
       "      <td>t037</td>\n",
       "      <td>_5</td>\n",
       "      <td>200</td>\n",
       "    </tr>\n",
       "    <tr>\n",
       "      <th>37</th>\n",
       "      <td>t038</td>\n",
       "      <td>_8</td>\n",
       "      <td>700</td>\n",
       "    </tr>\n",
       "    <tr>\n",
       "      <th>38</th>\n",
       "      <td>t039</td>\n",
       "      <td>_4</td>\n",
       "      <td>2400</td>\n",
       "    </tr>\n",
       "    <tr>\n",
       "      <th>39</th>\n",
       "      <td>t040</td>\n",
       "      <td>_2</td>\n",
       "      <td>1000</td>\n",
       "    </tr>\n",
       "    <tr>\n",
       "      <th>40</th>\n",
       "      <td>t041</td>\n",
       "      <td>_5</td>\n",
       "      <td>800</td>\n",
       "    </tr>\n",
       "    <tr>\n",
       "      <th>41</th>\n",
       "      <td>t042</td>\n",
       "      <td>_8</td>\n",
       "      <td>800</td>\n",
       "    </tr>\n",
       "    <tr>\n",
       "      <th>42</th>\n",
       "      <td>t043</td>\n",
       "      <td>_4</td>\n",
       "      <td>200</td>\n",
       "    </tr>\n",
       "    <tr>\n",
       "      <th>43</th>\n",
       "      <td>t044</td>\n",
       "      <td>_5</td>\n",
       "      <td>700</td>\n",
       "    </tr>\n",
       "    <tr>\n",
       "      <th>44</th>\n",
       "      <td>t045</td>\n",
       "      <td>_3</td>\n",
       "      <td>250</td>\n",
       "    </tr>\n",
       "    <tr>\n",
       "      <th>45</th>\n",
       "      <td>t046</td>\n",
       "      <td>_5</td>\n",
       "      <td>650</td>\n",
       "    </tr>\n",
       "    <tr>\n",
       "      <th>46</th>\n",
       "      <td>t047</td>\n",
       "      <td>A5</td>\n",
       "      <td>2400</td>\n",
       "    </tr>\n",
       "    <tr>\n",
       "      <th>47</th>\n",
       "      <td>t048</td>\n",
       "      <td>A1</td>\n",
       "      <td>1200</td>\n",
       "    </tr>\n",
       "    <tr>\n",
       "      <th>48</th>\n",
       "      <td>t049</td>\n",
       "      <td>A2</td>\n",
       "      <td>1200</td>\n",
       "    </tr>\n",
       "    <tr>\n",
       "      <th>49</th>\n",
       "      <td>t050</td>\n",
       "      <td>A1</td>\n",
       "      <td>200</td>\n",
       "    </tr>\n",
       "    <tr>\n",
       "      <th>50</th>\n",
       "      <td>t051</td>\n",
       "      <td>A4</td>\n",
       "      <td>800</td>\n",
       "    </tr>\n",
       "    <tr>\n",
       "      <th>51</th>\n",
       "      <td>t052</td>\n",
       "      <td>A5</td>\n",
       "      <td>700</td>\n",
       "    </tr>\n",
       "    <tr>\n",
       "      <th>52</th>\n",
       "      <td>t053</td>\n",
       "      <td>_2</td>\n",
       "      <td>250</td>\n",
       "    </tr>\n",
       "    <tr>\n",
       "      <th>53</th>\n",
       "      <td>t054</td>\n",
       "      <td>A1</td>\n",
       "      <td>650</td>\n",
       "    </tr>\n",
       "    <tr>\n",
       "      <th>54</th>\n",
       "      <td>t055</td>\n",
       "      <td>_8</td>\n",
       "      <td>2400</td>\n",
       "    </tr>\n",
       "    <tr>\n",
       "      <th>55</th>\n",
       "      <td>t056</td>\n",
       "      <td>_4</td>\n",
       "      <td>1200</td>\n",
       "    </tr>\n",
       "    <tr>\n",
       "      <th>56</th>\n",
       "      <td>t057</td>\n",
       "      <td>_2</td>\n",
       "      <td>1200</td>\n",
       "    </tr>\n",
       "    <tr>\n",
       "      <th>57</th>\n",
       "      <td>t058</td>\n",
       "      <td>_5</td>\n",
       "      <td>200</td>\n",
       "    </tr>\n",
       "    <tr>\n",
       "      <th>58</th>\n",
       "      <td>t059</td>\n",
       "      <td>_8</td>\n",
       "      <td>800</td>\n",
       "    </tr>\n",
       "    <tr>\n",
       "      <th>59</th>\n",
       "      <td>t060</td>\n",
       "      <td>_3</td>\n",
       "      <td>700</td>\n",
       "    </tr>\n",
       "  </tbody>\n",
       "</table>\n",
       "</div>"
      ],
      "text/plain": [
       "      ID Product  Cost\n",
       "0   t001      A1  1200\n",
       "1   t002      A2  1100\n",
       "2   t003      A1  1200\n",
       "3   t004      A4  4200\n",
       "4   t005      A5   500\n",
       "5   t006      _6   200\n",
       "6   t007      _3   200\n",
       "7   t008      _5  1200\n",
       "8   t009      _8  1000\n",
       "9   t010      _4  3400\n",
       "10  t011      _2   800\n",
       "11  t012      _5   700\n",
       "12  t013      _8  1200\n",
       "13  t014      _4   250\n",
       "14  t015      _2   650\n",
       "15  t016      A4  2400\n",
       "16  t017      A5  1200\n",
       "17  t018      _6  1200\n",
       "18  t019      _3   200\n",
       "19  t020      _5   800\n",
       "20  t021      _3   700\n",
       "21  t022      _5  4200\n",
       "22  t023      _8   200\n",
       "23  t024      _4  1200\n",
       "24  t025      _2   250\n",
       "25  t026      _5   650\n",
       "26  t027      _8   800\n",
       "27  t028      _4   700\n",
       "28  t029      _2  1200\n",
       "29  t030      A4   250\n",
       "30  t031      _2   650\n",
       "31  t032      A4  2400\n",
       "32  t033      A5  1200\n",
       "33  t034      _3  1000\n",
       "34  t035      _5   800\n",
       "35  t036      _3  2400\n",
       "36  t037      _5   200\n",
       "37  t038      _8   700\n",
       "38  t039      _4  2400\n",
       "39  t040      _2  1000\n",
       "40  t041      _5   800\n",
       "41  t042      _8   800\n",
       "42  t043      _4   200\n",
       "43  t044      _5   700\n",
       "44  t045      _3   250\n",
       "45  t046      _5   650\n",
       "46  t047      A5  2400\n",
       "47  t048      A1  1200\n",
       "48  t049      A2  1200\n",
       "49  t050      A1   200\n",
       "50  t051      A4   800\n",
       "51  t052      A5   700\n",
       "52  t053      _2   250\n",
       "53  t054      A1   650\n",
       "54  t055      _8  2400\n",
       "55  t056      _4  1200\n",
       "56  t057      _2  1200\n",
       "57  t058      _5   200\n",
       "58  t059      _8   800\n",
       "59  t060      _3   700"
      ]
     },
     "execution_count": 104,
     "metadata": {},
     "output_type": "execute_result"
    }
   ],
   "source": [
    "transactions[['ID','Product', 'Cost']]"
   ]
  },
  {
   "cell_type": "markdown",
   "metadata": {},
   "source": [
    "Выведем транзакции в категории(продукта) ***_8***, отсортируем по ***Cost*** и выведем столбец ***ID***"
   ]
  },
  {
   "cell_type": "code",
   "execution_count": 105,
   "metadata": {
    "ExecuteTime": {
     "end_time": "2023-06-28T21:38:47.007331Z",
     "start_time": "2023-06-28T21:38:47.001547Z"
    },
    "collapsed": true
   },
   "outputs": [
    {
     "data": {
      "text/plain": [
       "54    t055\n",
       "12    t013\n",
       "8     t009\n",
       "26    t027\n",
       "41    t042\n",
       "58    t059\n",
       "37    t038\n",
       "22    t023\n",
       "Name: ID, dtype: object"
      ]
     },
     "execution_count": 105,
     "metadata": {},
     "output_type": "execute_result"
    }
   ],
   "source": [
    "transactions[transactions['Product'] == '_8'].sort_values('Cost', ascending=False)['ID']"
   ]
  },
  {
   "cell_type": "markdown",
   "metadata": {},
   "source": [
    "Выведем самое первое значение, т.е. самую затратную"
   ]
  },
  {
   "cell_type": "code",
   "execution_count": 106,
   "metadata": {
    "ExecuteTime": {
     "end_time": "2023-06-28T21:39:10.977711Z",
     "start_time": "2023-06-28T21:39:10.972751Z"
    }
   },
   "outputs": [
    {
     "data": {
      "text/plain": [
       "'t055'"
      ]
     },
     "execution_count": 106,
     "metadata": {},
     "output_type": "execute_result"
    }
   ],
   "source": [
    "transactions[transactions['Product'] == '_8'].sort_values('Cost', ascending=False)['ID'].values[0]"
   ]
  },
  {
   "cell_type": "code",
   "execution_count": 107,
   "metadata": {
    "ExecuteTime": {
     "end_time": "2023-06-28T21:43:04.911432Z",
     "start_time": "2023-06-28T21:43:04.905128Z"
    }
   },
   "outputs": [
    {
     "data": {
      "text/plain": [
       "pandas.core.frame.DataFrame"
      ]
     },
     "execution_count": 107,
     "metadata": {},
     "output_type": "execute_result"
    }
   ],
   "source": [
    "type(transactions[transactions['Product'] == '_8'].sort_values('Cost', ascending=False))"
   ]
  },
  {
   "cell_type": "code",
   "execution_count": 108,
   "metadata": {
    "ExecuteTime": {
     "end_time": "2023-06-28T21:43:07.023951Z",
     "start_time": "2023-06-28T21:43:07.019481Z"
    }
   },
   "outputs": [
    {
     "data": {
      "text/plain": [
       "pandas.core.series.Series"
      ]
     },
     "execution_count": 108,
     "metadata": {},
     "output_type": "execute_result"
    }
   ],
   "source": [
    "type(transactions[transactions['Product'] == '_8'].sort_values('Cost', ascending=False)['ID'].head(1))"
   ]
  },
  {
   "cell_type": "code",
   "execution_count": 109,
   "metadata": {
    "ExecuteTime": {
     "end_time": "2023-06-28T21:43:08.109330Z",
     "start_time": "2023-06-28T21:43:08.105013Z"
    }
   },
   "outputs": [
    {
     "data": {
      "text/plain": [
       "(2400, int)"
      ]
     },
     "execution_count": 109,
     "metadata": {},
     "output_type": "execute_result"
    }
   ],
   "source": [
    "max(transactions[transactions['Product'] == '_8']['Cost']), type(max(transactions[transactions['Product'] == '_8']['Cost']))"
   ]
  },
  {
   "cell_type": "markdown",
   "metadata": {},
   "source": [
    "Выберем транзакции в категории(продукта) _8 и выведем столбец ***Cost***"
   ]
  },
  {
   "cell_type": "code",
   "execution_count": 110,
   "metadata": {
    "ExecuteTime": {
     "end_time": "2023-06-28T21:43:13.995812Z",
     "start_time": "2023-06-28T21:43:13.991519Z"
    }
   },
   "outputs": [
    {
     "data": {
      "text/plain": [
       "8     1000\n",
       "12    1200\n",
       "22     200\n",
       "26     800\n",
       "37     700\n",
       "41     800\n",
       "54    2400\n",
       "58     800\n",
       "Name: Cost, dtype: int64"
      ]
     },
     "execution_count": 110,
     "metadata": {},
     "output_type": "execute_result"
    }
   ],
   "source": [
    "transactions[transactions['Product'] == '_8']['Cost']"
   ]
  },
  {
   "cell_type": "markdown",
   "metadata": {},
   "source": [
    "# Задание 1 <a class=\"anchor\" id=\"16\"></a>\n",
    "### Скачайте с сайта https://grouplens.org/datasets/movielens/ датасет любого размера. Определите какому фильму было выставлено больше всего оценок 5.0."
   ]
  },
  {
   "cell_type": "code",
   "execution_count": 2,
   "metadata": {
    "ExecuteTime": {
     "end_time": "2023-06-29T18:04:26.554880Z",
     "start_time": "2023-06-29T18:04:26.485753Z"
    }
   },
   "outputs": [
    {
     "data": {
      "text/html": [
       "<div>\n",
       "<style scoped>\n",
       "    .dataframe tbody tr th:only-of-type {\n",
       "        vertical-align: middle;\n",
       "    }\n",
       "\n",
       "    .dataframe tbody tr th {\n",
       "        vertical-align: top;\n",
       "    }\n",
       "\n",
       "    .dataframe thead th {\n",
       "        text-align: right;\n",
       "    }\n",
       "</style>\n",
       "<table border=\"1\" class=\"dataframe\">\n",
       "  <thead>\n",
       "    <tr style=\"text-align: right;\">\n",
       "      <th></th>\n",
       "      <th>movieId</th>\n",
       "      <th>title</th>\n",
       "      <th>genres</th>\n",
       "    </tr>\n",
       "  </thead>\n",
       "  <tbody>\n",
       "    <tr>\n",
       "      <th>0</th>\n",
       "      <td>1</td>\n",
       "      <td>Toy Story (1995)</td>\n",
       "      <td>Adventure|Animation|Children|Comedy|Fantasy</td>\n",
       "    </tr>\n",
       "    <tr>\n",
       "      <th>1</th>\n",
       "      <td>2</td>\n",
       "      <td>Jumanji (1995)</td>\n",
       "      <td>Adventure|Children|Fantasy</td>\n",
       "    </tr>\n",
       "    <tr>\n",
       "      <th>2</th>\n",
       "      <td>3</td>\n",
       "      <td>Grumpier Old Men (1995)</td>\n",
       "      <td>Comedy|Romance</td>\n",
       "    </tr>\n",
       "    <tr>\n",
       "      <th>3</th>\n",
       "      <td>4</td>\n",
       "      <td>Waiting to Exhale (1995)</td>\n",
       "      <td>Comedy|Drama|Romance</td>\n",
       "    </tr>\n",
       "    <tr>\n",
       "      <th>4</th>\n",
       "      <td>5</td>\n",
       "      <td>Father of the Bride Part II (1995)</td>\n",
       "      <td>Comedy</td>\n",
       "    </tr>\n",
       "  </tbody>\n",
       "</table>\n",
       "</div>"
      ],
      "text/plain": [
       "   movieId                               title  \\\n",
       "0        1                    Toy Story (1995)   \n",
       "1        2                      Jumanji (1995)   \n",
       "2        3             Grumpier Old Men (1995)   \n",
       "3        4            Waiting to Exhale (1995)   \n",
       "4        5  Father of the Bride Part II (1995)   \n",
       "\n",
       "                                        genres  \n",
       "0  Adventure|Animation|Children|Comedy|Fantasy  \n",
       "1                   Adventure|Children|Fantasy  \n",
       "2                               Comedy|Romance  \n",
       "3                         Comedy|Drama|Romance  \n",
       "4                                       Comedy  "
      ]
     },
     "execution_count": 2,
     "metadata": {},
     "output_type": "execute_result"
    }
   ],
   "source": [
    "movies = pd.read_csv('../.datasets/movies.csv')\n",
    "movies.head()"
   ]
  },
  {
   "cell_type": "code",
   "execution_count": 3,
   "metadata": {
    "ExecuteTime": {
     "end_time": "2023-06-29T15:52:45.897153Z",
     "start_time": "2023-06-29T15:52:45.877918Z"
    }
   },
   "outputs": [
    {
     "name": "stdout",
     "output_type": "stream",
     "text": [
      "<class 'pandas.core.frame.DataFrame'>\n",
      "RangeIndex: 62423 entries, 0 to 62422\n",
      "Data columns (total 3 columns):\n",
      " #   Column   Non-Null Count  Dtype \n",
      "---  ------   --------------  ----- \n",
      " 0   movieId  62423 non-null  int64 \n",
      " 1   title    62423 non-null  object\n",
      " 2   genres   62423 non-null  object\n",
      "dtypes: int64(1), object(2)\n",
      "memory usage: 1.4+ MB\n"
     ]
    }
   ],
   "source": [
    "movies.info()"
   ]
  },
  {
   "cell_type": "code",
   "execution_count": 3,
   "metadata": {
    "ExecuteTime": {
     "end_time": "2023-06-29T18:04:33.890133Z",
     "start_time": "2023-06-29T18:04:28.083880Z"
    }
   },
   "outputs": [
    {
     "data": {
      "text/html": [
       "<div>\n",
       "<style scoped>\n",
       "    .dataframe tbody tr th:only-of-type {\n",
       "        vertical-align: middle;\n",
       "    }\n",
       "\n",
       "    .dataframe tbody tr th {\n",
       "        vertical-align: top;\n",
       "    }\n",
       "\n",
       "    .dataframe thead th {\n",
       "        text-align: right;\n",
       "    }\n",
       "</style>\n",
       "<table border=\"1\" class=\"dataframe\">\n",
       "  <thead>\n",
       "    <tr style=\"text-align: right;\">\n",
       "      <th></th>\n",
       "      <th>userId</th>\n",
       "      <th>movieId</th>\n",
       "      <th>rating</th>\n",
       "      <th>timestamp</th>\n",
       "    </tr>\n",
       "  </thead>\n",
       "  <tbody>\n",
       "    <tr>\n",
       "      <th>0</th>\n",
       "      <td>1</td>\n",
       "      <td>296</td>\n",
       "      <td>5.0</td>\n",
       "      <td>1147880044</td>\n",
       "    </tr>\n",
       "    <tr>\n",
       "      <th>1</th>\n",
       "      <td>1</td>\n",
       "      <td>306</td>\n",
       "      <td>3.5</td>\n",
       "      <td>1147868817</td>\n",
       "    </tr>\n",
       "    <tr>\n",
       "      <th>2</th>\n",
       "      <td>1</td>\n",
       "      <td>307</td>\n",
       "      <td>5.0</td>\n",
       "      <td>1147868828</td>\n",
       "    </tr>\n",
       "    <tr>\n",
       "      <th>3</th>\n",
       "      <td>1</td>\n",
       "      <td>665</td>\n",
       "      <td>5.0</td>\n",
       "      <td>1147878820</td>\n",
       "    </tr>\n",
       "    <tr>\n",
       "      <th>4</th>\n",
       "      <td>1</td>\n",
       "      <td>899</td>\n",
       "      <td>3.5</td>\n",
       "      <td>1147868510</td>\n",
       "    </tr>\n",
       "  </tbody>\n",
       "</table>\n",
       "</div>"
      ],
      "text/plain": [
       "   userId  movieId  rating   timestamp\n",
       "0       1      296     5.0  1147880044\n",
       "1       1      306     3.5  1147868817\n",
       "2       1      307     5.0  1147868828\n",
       "3       1      665     5.0  1147878820\n",
       "4       1      899     3.5  1147868510"
      ]
     },
     "execution_count": 3,
     "metadata": {},
     "output_type": "execute_result"
    }
   ],
   "source": [
    "ratings = pd.read_csv('../.datasets/ratings.csv')\n",
    "ratings.head()"
   ]
  },
  {
   "cell_type": "code",
   "execution_count": 5,
   "metadata": {
    "ExecuteTime": {
     "end_time": "2023-06-29T15:52:57.496295Z",
     "start_time": "2023-06-29T15:52:57.490771Z"
    }
   },
   "outputs": [
    {
     "name": "stdout",
     "output_type": "stream",
     "text": [
      "<class 'pandas.core.frame.DataFrame'>\n",
      "RangeIndex: 25000095 entries, 0 to 25000094\n",
      "Data columns (total 4 columns):\n",
      " #   Column     Dtype  \n",
      "---  ------     -----  \n",
      " 0   userId     int64  \n",
      " 1   movieId    int64  \n",
      " 2   rating     float64\n",
      " 3   timestamp  int64  \n",
      "dtypes: float64(1), int64(3)\n",
      "memory usage: 762.9 MB\n"
     ]
    }
   ],
   "source": [
    "ratings.info()"
   ]
  },
  {
   "cell_type": "code",
   "execution_count": 25,
   "metadata": {
    "ExecuteTime": {
     "end_time": "2023-01-07T22:38:49.034237Z",
     "start_time": "2023-01-07T22:38:47.238409Z"
    },
    "collapsed": true
   },
   "outputs": [
    {
     "data": {
      "text/plain": [
       "movieId  rating\n",
       "318      5.0       48762\n",
       "296      5.0       37458\n",
       "356      5.0       32009\n",
       "260      5.0       31385\n",
       "593      5.0       30280\n",
       "                   ...  \n",
       "120240   4.5           1\n",
       "120236   3.0           1\n",
       "120224   3.5           1\n",
       "120222   4.0           1\n",
       "193886   4.0           1\n",
       "Length: 272286, dtype: int64"
      ]
     },
     "execution_count": 25,
     "metadata": {},
     "output_type": "execute_result"
    }
   ],
   "source": [
    "ratings[['movieId','rating' ]].value_counts(777777777777)???????????????????????????????//"
   ]
  },
  {
   "cell_type": "code",
   "execution_count": 27,
   "metadata": {
    "ExecuteTime": {
     "end_time": "2023-01-07T22:39:35.978717Z",
     "start_time": "2023-01-07T22:39:34.120609Z"
    }
   },
   "outputs": [
    {
     "name": "stdout",
     "output_type": "stream",
     "text": [
      "<class 'pandas.core.series.Series'>\n",
      "MultiIndex: 272286 entries, (318, 5.0) to (193886, 4.0)\n",
      "Series name: None\n",
      "Non-Null Count   Dtype\n",
      "--------------   -----\n",
      "272286 non-null  int64\n",
      "dtypes: int64(1)\n",
      "memory usage: 3.8 MB\n"
     ]
    }
   ],
   "source": [
    "ratings[['movieId','rating' ]].value_counts().info()"
   ]
  },
  {
   "cell_type": "code",
   "execution_count": 60,
   "metadata": {
    "ExecuteTime": {
     "end_time": "2023-01-05T15:14:10.968297Z",
     "start_time": "2023-01-05T15:14:10.730154Z"
    }
   },
   "outputs": [
    {
     "data": {
      "text/plain": [
       "4071135"
      ]
     },
     "execution_count": 60,
     "metadata": {},
     "output_type": "execute_result"
    }
   ],
   "source": [
    "len(ratings[ratings['rating'] == 5.0 ])"
   ]
  },
  {
   "cell_type": "code",
   "execution_count": 68,
   "metadata": {
    "ExecuteTime": {
     "end_time": "2023-01-05T15:16:28.556134Z",
     "start_time": "2023-01-05T15:16:28.332623Z"
    }
   },
   "outputs": [
    {
     "data": {
      "text/html": [
       "<div>\n",
       "<style scoped>\n",
       "    .dataframe tbody tr th:only-of-type {\n",
       "        vertical-align: middle;\n",
       "    }\n",
       "\n",
       "    .dataframe tbody tr th {\n",
       "        vertical-align: top;\n",
       "    }\n",
       "\n",
       "    .dataframe thead th {\n",
       "        text-align: right;\n",
       "    }\n",
       "</style>\n",
       "<table border=\"1\" class=\"dataframe\">\n",
       "  <thead>\n",
       "    <tr style=\"text-align: right;\">\n",
       "      <th></th>\n",
       "      <th>userId</th>\n",
       "      <th>movieId</th>\n",
       "      <th>rating</th>\n",
       "      <th>timestamp</th>\n",
       "    </tr>\n",
       "  </thead>\n",
       "  <tbody>\n",
       "    <tr>\n",
       "      <th>40</th>\n",
       "      <td>3</td>\n",
       "      <td>2028</td>\n",
       "      <td>5.0</td>\n",
       "      <td>945141611</td>\n",
       "    </tr>\n",
       "    <tr>\n",
       "      <th>61</th>\n",
       "      <td>4</td>\n",
       "      <td>47</td>\n",
       "      <td>5.0</td>\n",
       "      <td>1113767129</td>\n",
       "    </tr>\n",
       "    <tr>\n",
       "      <th>107</th>\n",
       "      <td>4</td>\n",
       "      <td>296</td>\n",
       "      <td>5.0</td>\n",
       "      <td>1113767056</td>\n",
       "    </tr>\n",
       "    <tr>\n",
       "      <th>109</th>\n",
       "      <td>4</td>\n",
       "      <td>316</td>\n",
       "      <td>5.0</td>\n",
       "      <td>1113767120</td>\n",
       "    </tr>\n",
       "    <tr>\n",
       "      <th>111</th>\n",
       "      <td>4</td>\n",
       "      <td>318</td>\n",
       "      <td>5.0</td>\n",
       "      <td>1113766505</td>\n",
       "    </tr>\n",
       "    <tr>\n",
       "      <th>...</th>\n",
       "      <td>...</td>\n",
       "      <td>...</td>\n",
       "      <td>...</td>\n",
       "      <td>...</td>\n",
       "    </tr>\n",
       "    <tr>\n",
       "      <th>27753429</th>\n",
       "      <td>283228</td>\n",
       "      <td>6377</td>\n",
       "      <td>5.0</td>\n",
       "      <td>1379882837</td>\n",
       "    </tr>\n",
       "    <tr>\n",
       "      <th>27753431</th>\n",
       "      <td>283228</td>\n",
       "      <td>7072</td>\n",
       "      <td>5.0</td>\n",
       "      <td>1379882920</td>\n",
       "    </tr>\n",
       "    <tr>\n",
       "      <th>27753436</th>\n",
       "      <td>283228</td>\n",
       "      <td>7831</td>\n",
       "      <td>5.0</td>\n",
       "      <td>1379882907</td>\n",
       "    </tr>\n",
       "    <tr>\n",
       "      <th>27753437</th>\n",
       "      <td>283228</td>\n",
       "      <td>7834</td>\n",
       "      <td>5.0</td>\n",
       "      <td>1379882865</td>\n",
       "    </tr>\n",
       "    <tr>\n",
       "      <th>27753438</th>\n",
       "      <td>283228</td>\n",
       "      <td>8228</td>\n",
       "      <td>5.0</td>\n",
       "      <td>1354137317</td>\n",
       "    </tr>\n",
       "  </tbody>\n",
       "</table>\n",
       "<p>4071135 rows × 4 columns</p>\n",
       "</div>"
      ],
      "text/plain": [
       "          userId  movieId  rating   timestamp\n",
       "40             3     2028     5.0   945141611\n",
       "61             4       47     5.0  1113767129\n",
       "107            4      296     5.0  1113767056\n",
       "109            4      316     5.0  1113767120\n",
       "111            4      318     5.0  1113766505\n",
       "...          ...      ...     ...         ...\n",
       "27753429  283228     6377     5.0  1379882837\n",
       "27753431  283228     7072     5.0  1379882920\n",
       "27753436  283228     7831     5.0  1379882907\n",
       "27753437  283228     7834     5.0  1379882865\n",
       "27753438  283228     8228     5.0  1354137317\n",
       "\n",
       "[4071135 rows x 4 columns]"
      ]
     },
     "execution_count": 68,
     "metadata": {},
     "output_type": "execute_result"
    }
   ],
   "source": [
    "ratings[ratings['rating'] == 5.0 ]"
   ]
  },
  {
   "cell_type": "code",
   "execution_count": 72,
   "metadata": {
    "ExecuteTime": {
     "end_time": "2023-01-05T15:17:40.707882Z",
     "start_time": "2023-01-05T15:17:40.491172Z"
    }
   },
   "outputs": [],
   "source": [
    "buf = ratings[ratings['rating'] == 5.0 ]"
   ]
  },
  {
   "cell_type": "code",
   "execution_count": 112,
   "metadata": {
    "ExecuteTime": {
     "end_time": "2023-01-05T16:25:29.779797Z",
     "start_time": "2023-01-05T16:25:29.763027Z"
    }
   },
   "outputs": [
    {
     "name": "stdout",
     "output_type": "stream",
     "text": [
      "<class 'pandas.core.frame.DataFrame'>\n",
      "Int64Index: 4071135 entries, 40 to 27753438\n",
      "Data columns (total 4 columns):\n",
      " #   Column     Dtype  \n",
      "---  ------     -----  \n",
      " 0   userId     int64  \n",
      " 1   movieId    int64  \n",
      " 2   rating     float64\n",
      " 3   timestamp  int64  \n",
      "dtypes: float64(1), int64(3)\n",
      "memory usage: 155.3 MB\n"
     ]
    }
   ],
   "source": [
    "buf.info()"
   ]
  },
  {
   "cell_type": "code",
   "execution_count": 4,
   "metadata": {
    "ExecuteTime": {
     "end_time": "2023-06-29T18:04:41.045848Z",
     "start_time": "2023-06-29T18:04:40.988631Z"
    }
   },
   "outputs": [],
   "source": [
    "?pd.value_counts"
   ]
  },
  {
   "cell_type": "code",
   "execution_count": 115,
   "metadata": {
    "ExecuteTime": {
     "end_time": "2023-01-05T16:26:02.589980Z",
     "start_time": "2023-01-05T16:26:02.360823Z"
    }
   },
   "outputs": [
    {
     "data": {
      "text/plain": [
       "rating  movieId\n",
       "5.0     318        48762\n",
       "        296        37458\n",
       "        356        32009\n",
       "        260        31385\n",
       "        593        30280\n",
       "                   ...  \n",
       "        114382         1\n",
       "        114373         1\n",
       "        114363         1\n",
       "        114353         1\n",
       "        193874         1\n",
       "Length: 24209, dtype: int64"
      ]
     },
     "execution_count": 115,
     "metadata": {},
     "output_type": "execute_result"
    }
   ],
   "source": [
    "buf[['rating', 'movieId']].value_counts()"
   ]
  },
  {
   "cell_type": "code",
   "execution_count": 110,
   "metadata": {
    "ExecuteTime": {
     "end_time": "2023-01-05T16:24:56.064942Z",
     "start_time": "2023-01-05T16:24:55.834067Z"
    }
   },
   "outputs": [
    {
     "data": {
      "text/plain": [
       "movieId  rating\n",
       "318      5.0       48762\n",
       "296      5.0       37458\n",
       "356      5.0       32009\n",
       "260      5.0       31385\n",
       "593      5.0       30280\n",
       "                   ...  \n",
       "114382   5.0           1\n",
       "114373   5.0           1\n",
       "114363   5.0           1\n",
       "114353   5.0           1\n",
       "193874   5.0           1\n",
       "Length: 24209, dtype: int64"
      ]
     },
     "execution_count": 110,
     "metadata": {},
     "output_type": "execute_result"
    }
   ],
   "source": [
    "buf[['movieId','rating' ]].value_counts()"
   ]
  },
  {
   "cell_type": "code",
   "execution_count": 151,
   "metadata": {
    "ExecuteTime": {
     "end_time": "2023-01-05T16:37:12.273616Z",
     "start_time": "2023-01-05T16:37:12.240273Z"
    }
   },
   "outputs": [],
   "source": [
    "mv = buf[['rating','movieId' ]]"
   ]
  },
  {
   "cell_type": "code",
   "execution_count": 152,
   "metadata": {
    "ExecuteTime": {
     "end_time": "2023-01-05T16:37:12.896675Z",
     "start_time": "2023-01-05T16:37:12.881620Z"
    }
   },
   "outputs": [
    {
     "name": "stdout",
     "output_type": "stream",
     "text": [
      "<class 'pandas.core.frame.DataFrame'>\n",
      "Int64Index: 4071135 entries, 40 to 27753438\n",
      "Data columns (total 2 columns):\n",
      " #   Column   Dtype  \n",
      "---  ------   -----  \n",
      " 0   rating   float64\n",
      " 1   movieId  int64  \n",
      "dtypes: float64(1), int64(1)\n",
      "memory usage: 93.2 MB\n"
     ]
    }
   ],
   "source": [
    "mv.info()"
   ]
  },
  {
   "cell_type": "code",
   "execution_count": 153,
   "metadata": {
    "ExecuteTime": {
     "end_time": "2023-01-05T16:37:15.622053Z",
     "start_time": "2023-01-05T16:37:15.232802Z"
    },
    "collapsed": true
   },
   "outputs": [
    {
     "data": {
      "text/plain": [
       "(rating  movieId\n",
       " 5.0     318        48762\n",
       "         296        37458\n",
       "         356        32009\n",
       "         260        31385\n",
       "         593        30280\n",
       "                    ...  \n",
       "         114382         1\n",
       "         114373         1\n",
       "         114363         1\n",
       "         114353         1\n",
       "         193874         1\n",
       " Length: 24209, dtype: int64,\n",
       " pandas.core.series.Series)"
      ]
     },
     "execution_count": 153,
     "metadata": {},
     "output_type": "execute_result"
    }
   ],
   "source": [
    "mv.value_counts(), type(mv.value_counts())"
   ]
  },
  {
   "cell_type": "code",
   "execution_count": 154,
   "metadata": {
    "ExecuteTime": {
     "end_time": "2023-01-05T16:37:50.552599Z",
     "start_time": "2023-01-05T16:37:50.524582Z"
    }
   },
   "outputs": [
    {
     "data": {
      "text/html": [
       "<div>\n",
       "<style scoped>\n",
       "    .dataframe tbody tr th:only-of-type {\n",
       "        vertical-align: middle;\n",
       "    }\n",
       "\n",
       "    .dataframe tbody tr th {\n",
       "        vertical-align: top;\n",
       "    }\n",
       "\n",
       "    .dataframe thead th {\n",
       "        text-align: right;\n",
       "    }\n",
       "</style>\n",
       "<table border=\"1\" class=\"dataframe\">\n",
       "  <thead>\n",
       "    <tr style=\"text-align: right;\">\n",
       "      <th></th>\n",
       "      <th>rating</th>\n",
       "      <th>movieId</th>\n",
       "    </tr>\n",
       "  </thead>\n",
       "  <tbody>\n",
       "    <tr>\n",
       "      <th>111</th>\n",
       "      <td>5.0</td>\n",
       "      <td>318</td>\n",
       "    </tr>\n",
       "    <tr>\n",
       "      <th>782</th>\n",
       "      <td>5.0</td>\n",
       "      <td>318</td>\n",
       "    </tr>\n",
       "    <tr>\n",
       "      <th>1537</th>\n",
       "      <td>5.0</td>\n",
       "      <td>318</td>\n",
       "    </tr>\n",
       "    <tr>\n",
       "      <th>2058</th>\n",
       "      <td>5.0</td>\n",
       "      <td>318</td>\n",
       "    </tr>\n",
       "    <tr>\n",
       "      <th>2113</th>\n",
       "      <td>5.0</td>\n",
       "      <td>318</td>\n",
       "    </tr>\n",
       "    <tr>\n",
       "      <th>...</th>\n",
       "      <td>...</td>\n",
       "      <td>...</td>\n",
       "    </tr>\n",
       "    <tr>\n",
       "      <th>27749722</th>\n",
       "      <td>5.0</td>\n",
       "      <td>318</td>\n",
       "    </tr>\n",
       "    <tr>\n",
       "      <th>27749767</th>\n",
       "      <td>5.0</td>\n",
       "      <td>318</td>\n",
       "    </tr>\n",
       "    <tr>\n",
       "      <th>27749828</th>\n",
       "      <td>5.0</td>\n",
       "      <td>318</td>\n",
       "    </tr>\n",
       "    <tr>\n",
       "      <th>27750127</th>\n",
       "      <td>5.0</td>\n",
       "      <td>318</td>\n",
       "    </tr>\n",
       "    <tr>\n",
       "      <th>27751767</th>\n",
       "      <td>5.0</td>\n",
       "      <td>318</td>\n",
       "    </tr>\n",
       "  </tbody>\n",
       "</table>\n",
       "<p>48762 rows × 2 columns</p>\n",
       "</div>"
      ],
      "text/plain": [
       "          rating  movieId\n",
       "111          5.0      318\n",
       "782          5.0      318\n",
       "1537         5.0      318\n",
       "2058         5.0      318\n",
       "2113         5.0      318\n",
       "...          ...      ...\n",
       "27749722     5.0      318\n",
       "27749767     5.0      318\n",
       "27749828     5.0      318\n",
       "27750127     5.0      318\n",
       "27751767     5.0      318\n",
       "\n",
       "[48762 rows x 2 columns]"
      ]
     },
     "execution_count": 154,
     "metadata": {},
     "output_type": "execute_result"
    }
   ],
   "source": [
    "mv[mv['movieId'] == 318]"
   ]
  },
  {
   "cell_type": "code",
   "execution_count": 123,
   "metadata": {
    "ExecuteTime": {
     "end_time": "2023-01-05T16:28:22.419658Z",
     "start_time": "2023-01-05T16:28:22.401992Z"
    }
   },
   "outputs": [
    {
     "data": {
      "text/html": [
       "<div>\n",
       "<style scoped>\n",
       "    .dataframe tbody tr th:only-of-type {\n",
       "        vertical-align: middle;\n",
       "    }\n",
       "\n",
       "    .dataframe tbody tr th {\n",
       "        vertical-align: top;\n",
       "    }\n",
       "\n",
       "    .dataframe thead th {\n",
       "        text-align: right;\n",
       "    }\n",
       "</style>\n",
       "<table border=\"1\" class=\"dataframe\">\n",
       "  <thead>\n",
       "    <tr style=\"text-align: right;\">\n",
       "      <th></th>\n",
       "      <th>movieId</th>\n",
       "      <th>title</th>\n",
       "      <th>genres</th>\n",
       "    </tr>\n",
       "  </thead>\n",
       "  <tbody>\n",
       "    <tr>\n",
       "      <th>315</th>\n",
       "      <td>318</td>\n",
       "      <td>Shawshank Redemption, The (1994)</td>\n",
       "      <td>Crime|Drama</td>\n",
       "    </tr>\n",
       "  </tbody>\n",
       "</table>\n",
       "</div>"
      ],
      "text/plain": [
       "     movieId                             title       genres\n",
       "315      318  Shawshank Redemption, The (1994)  Crime|Drama"
      ]
     },
     "execution_count": 123,
     "metadata": {},
     "output_type": "execute_result"
    }
   ],
   "source": [
    "movies[movies['movieId'] == 318]"
   ]
  },
  {
   "cell_type": "code",
   "execution_count": 32,
   "metadata": {
    "ExecuteTime": {
     "end_time": "2023-06-29T18:12:50.545070Z",
     "start_time": "2023-06-29T18:12:50.379743Z"
    }
   },
   "outputs": [
    {
     "data": {
      "text/html": [
       "<div>\n",
       "<style scoped>\n",
       "    .dataframe tbody tr th:only-of-type {\n",
       "        vertical-align: middle;\n",
       "    }\n",
       "\n",
       "    .dataframe tbody tr th {\n",
       "        vertical-align: top;\n",
       "    }\n",
       "\n",
       "    .dataframe thead th {\n",
       "        text-align: right;\n",
       "    }\n",
       "</style>\n",
       "<table border=\"1\" class=\"dataframe\">\n",
       "  <thead>\n",
       "    <tr style=\"text-align: right;\">\n",
       "      <th></th>\n",
       "      <th>userId</th>\n",
       "      <th>movieId</th>\n",
       "      <th>rating</th>\n",
       "      <th>timestamp</th>\n",
       "    </tr>\n",
       "  </thead>\n",
       "  <tbody>\n",
       "    <tr>\n",
       "      <th>0</th>\n",
       "      <td>1</td>\n",
       "      <td>296</td>\n",
       "      <td>5.0</td>\n",
       "      <td>1147880044</td>\n",
       "    </tr>\n",
       "    <tr>\n",
       "      <th>2</th>\n",
       "      <td>1</td>\n",
       "      <td>307</td>\n",
       "      <td>5.0</td>\n",
       "      <td>1147868828</td>\n",
       "    </tr>\n",
       "    <tr>\n",
       "      <th>3</th>\n",
       "      <td>1</td>\n",
       "      <td>665</td>\n",
       "      <td>5.0</td>\n",
       "      <td>1147878820</td>\n",
       "    </tr>\n",
       "    <tr>\n",
       "      <th>8</th>\n",
       "      <td>1</td>\n",
       "      <td>1237</td>\n",
       "      <td>5.0</td>\n",
       "      <td>1147868839</td>\n",
       "    </tr>\n",
       "    <tr>\n",
       "      <th>18</th>\n",
       "      <td>1</td>\n",
       "      <td>2632</td>\n",
       "      <td>5.0</td>\n",
       "      <td>1147878248</td>\n",
       "    </tr>\n",
       "    <tr>\n",
       "      <th>...</th>\n",
       "      <td>...</td>\n",
       "      <td>...</td>\n",
       "      <td>...</td>\n",
       "      <td>...</td>\n",
       "    </tr>\n",
       "    <tr>\n",
       "      <th>25000065</th>\n",
       "      <td>162541</td>\n",
       "      <td>5952</td>\n",
       "      <td>5.0</td>\n",
       "      <td>1240952617</td>\n",
       "    </tr>\n",
       "    <tr>\n",
       "      <th>25000067</th>\n",
       "      <td>162541</td>\n",
       "      <td>6104</td>\n",
       "      <td>5.0</td>\n",
       "      <td>1240953565</td>\n",
       "    </tr>\n",
       "    <tr>\n",
       "      <th>25000078</th>\n",
       "      <td>162541</td>\n",
       "      <td>7153</td>\n",
       "      <td>5.0</td>\n",
       "      <td>1240952613</td>\n",
       "    </tr>\n",
       "    <tr>\n",
       "      <th>25000080</th>\n",
       "      <td>162541</td>\n",
       "      <td>7193</td>\n",
       "      <td>5.0</td>\n",
       "      <td>1240950032</td>\n",
       "    </tr>\n",
       "    <tr>\n",
       "      <th>25000094</th>\n",
       "      <td>162541</td>\n",
       "      <td>63876</td>\n",
       "      <td>5.0</td>\n",
       "      <td>1240952515</td>\n",
       "    </tr>\n",
       "  </tbody>\n",
       "</table>\n",
       "<p>3612474 rows × 4 columns</p>\n",
       "</div>"
      ],
      "text/plain": [
       "          userId  movieId  rating   timestamp\n",
       "0              1      296     5.0  1147880044\n",
       "2              1      307     5.0  1147868828\n",
       "3              1      665     5.0  1147878820\n",
       "8              1     1237     5.0  1147868839\n",
       "18             1     2632     5.0  1147878248\n",
       "...          ...      ...     ...         ...\n",
       "25000065  162541     5952     5.0  1240952617\n",
       "25000067  162541     6104     5.0  1240953565\n",
       "25000078  162541     7153     5.0  1240952613\n",
       "25000080  162541     7193     5.0  1240950032\n",
       "25000094  162541    63876     5.0  1240952515\n",
       "\n",
       "[3612474 rows x 4 columns]"
      ]
     },
     "execution_count": 32,
     "metadata": {},
     "output_type": "execute_result"
    }
   ],
   "source": [
    "buf = ratings[ratings['rating'] == 5.0 ]\n",
    "buf "
   ]
  },
  {
   "cell_type": "code",
   "execution_count": 33,
   "metadata": {
    "ExecuteTime": {
     "end_time": "2023-06-29T18:12:59.322224Z",
     "start_time": "2023-06-29T18:12:59.290881Z"
    }
   },
   "outputs": [
    {
     "data": {
      "text/html": [
       "<div>\n",
       "<style scoped>\n",
       "    .dataframe tbody tr th:only-of-type {\n",
       "        vertical-align: middle;\n",
       "    }\n",
       "\n",
       "    .dataframe tbody tr th {\n",
       "        vertical-align: top;\n",
       "    }\n",
       "\n",
       "    .dataframe thead th {\n",
       "        text-align: right;\n",
       "    }\n",
       "</style>\n",
       "<table border=\"1\" class=\"dataframe\">\n",
       "  <thead>\n",
       "    <tr style=\"text-align: right;\">\n",
       "      <th></th>\n",
       "      <th>movieId</th>\n",
       "      <th>rating</th>\n",
       "    </tr>\n",
       "  </thead>\n",
       "  <tbody>\n",
       "    <tr>\n",
       "      <th>0</th>\n",
       "      <td>296</td>\n",
       "      <td>5.0</td>\n",
       "    </tr>\n",
       "    <tr>\n",
       "      <th>2</th>\n",
       "      <td>307</td>\n",
       "      <td>5.0</td>\n",
       "    </tr>\n",
       "    <tr>\n",
       "      <th>3</th>\n",
       "      <td>665</td>\n",
       "      <td>5.0</td>\n",
       "    </tr>\n",
       "    <tr>\n",
       "      <th>8</th>\n",
       "      <td>1237</td>\n",
       "      <td>5.0</td>\n",
       "    </tr>\n",
       "    <tr>\n",
       "      <th>18</th>\n",
       "      <td>2632</td>\n",
       "      <td>5.0</td>\n",
       "    </tr>\n",
       "    <tr>\n",
       "      <th>...</th>\n",
       "      <td>...</td>\n",
       "      <td>...</td>\n",
       "    </tr>\n",
       "    <tr>\n",
       "      <th>25000065</th>\n",
       "      <td>5952</td>\n",
       "      <td>5.0</td>\n",
       "    </tr>\n",
       "    <tr>\n",
       "      <th>25000067</th>\n",
       "      <td>6104</td>\n",
       "      <td>5.0</td>\n",
       "    </tr>\n",
       "    <tr>\n",
       "      <th>25000078</th>\n",
       "      <td>7153</td>\n",
       "      <td>5.0</td>\n",
       "    </tr>\n",
       "    <tr>\n",
       "      <th>25000080</th>\n",
       "      <td>7193</td>\n",
       "      <td>5.0</td>\n",
       "    </tr>\n",
       "    <tr>\n",
       "      <th>25000094</th>\n",
       "      <td>63876</td>\n",
       "      <td>5.0</td>\n",
       "    </tr>\n",
       "  </tbody>\n",
       "</table>\n",
       "<p>3612474 rows × 2 columns</p>\n",
       "</div>"
      ],
      "text/plain": [
       "          movieId  rating\n",
       "0             296     5.0\n",
       "2             307     5.0\n",
       "3             665     5.0\n",
       "8            1237     5.0\n",
       "18           2632     5.0\n",
       "...           ...     ...\n",
       "25000065     5952     5.0\n",
       "25000067     6104     5.0\n",
       "25000078     7153     5.0\n",
       "25000080     7193     5.0\n",
       "25000094    63876     5.0\n",
       "\n",
       "[3612474 rows x 2 columns]"
      ]
     },
     "execution_count": 33,
     "metadata": {},
     "output_type": "execute_result"
    }
   ],
   "source": [
    "buf[['movieId','rating' ]]"
   ]
  },
  {
   "cell_type": "code",
   "execution_count": 30,
   "metadata": {
    "ExecuteTime": {
     "end_time": "2023-06-29T18:11:57.662644Z",
     "start_time": "2023-06-29T18:11:57.485669Z"
    }
   },
   "outputs": [
    {
     "data": {
      "text/plain": [
       "movieId  rating\n",
       "318      5.0       39553\n",
       "296      5.0       32169\n",
       "356      5.0       25918\n",
       "260      5.0       25804\n",
       "2571     5.0       25482\n",
       "                   ...  \n",
       "147014   5.0           1\n",
       "89377    5.0           1\n",
       "147026   5.0           1\n",
       "147033   5.0           1\n",
       "209155   5.0           1\n",
       "Name: count, Length: 27133, dtype: int64"
      ]
     },
     "execution_count": 30,
     "metadata": {},
     "output_type": "execute_result"
    }
   ],
   "source": [
    "buf[['movieId','rating' ]].value_counts()"
   ]
  },
  {
   "cell_type": "code",
   "execution_count": 24,
   "metadata": {
    "ExecuteTime": {
     "end_time": "2023-06-29T18:09:55.457447Z",
     "start_time": "2023-06-29T18:09:55.279173Z"
    }
   },
   "outputs": [
    {
     "data": {
      "text/plain": [
       "318"
      ]
     },
     "execution_count": 24,
     "metadata": {},
     "output_type": "execute_result"
    }
   ],
   "source": [
    "buf[['movieId','rating' ]].value_counts().index[0][0]"
   ]
  },
  {
   "cell_type": "code",
   "execution_count": 27,
   "metadata": {
    "ExecuteTime": {
     "end_time": "2023-06-29T18:11:26.151883Z",
     "start_time": "2023-06-29T18:11:25.836186Z"
    }
   },
   "outputs": [
    {
     "data": {
      "text/plain": [
       "318"
      ]
     },
     "execution_count": 27,
     "metadata": {},
     "output_type": "execute_result"
    }
   ],
   "source": [
    "ratings[ratings['rating'] == 5.0 ][['movieId','rating' ]].value_counts().index[0][0]"
   ]
  },
  {
   "cell_type": "code",
   "execution_count": 28,
   "metadata": {
    "ExecuteTime": {
     "end_time": "2023-06-29T18:11:41.727205Z",
     "start_time": "2023-06-29T18:11:41.410262Z"
    }
   },
   "outputs": [
    {
     "data": {
      "text/html": [
       "<div>\n",
       "<style scoped>\n",
       "    .dataframe tbody tr th:only-of-type {\n",
       "        vertical-align: middle;\n",
       "    }\n",
       "\n",
       "    .dataframe tbody tr th {\n",
       "        vertical-align: top;\n",
       "    }\n",
       "\n",
       "    .dataframe thead th {\n",
       "        text-align: right;\n",
       "    }\n",
       "</style>\n",
       "<table border=\"1\" class=\"dataframe\">\n",
       "  <thead>\n",
       "    <tr style=\"text-align: right;\">\n",
       "      <th></th>\n",
       "      <th>movieId</th>\n",
       "      <th>title</th>\n",
       "      <th>genres</th>\n",
       "    </tr>\n",
       "  </thead>\n",
       "  <tbody>\n",
       "    <tr>\n",
       "      <th>314</th>\n",
       "      <td>318</td>\n",
       "      <td>Shawshank Redemption, The (1994)</td>\n",
       "      <td>Crime|Drama</td>\n",
       "    </tr>\n",
       "  </tbody>\n",
       "</table>\n",
       "</div>"
      ],
      "text/plain": [
       "     movieId                             title       genres\n",
       "314      318  Shawshank Redemption, The (1994)  Crime|Drama"
      ]
     },
     "execution_count": 28,
     "metadata": {},
     "output_type": "execute_result"
    }
   ],
   "source": [
    "movies[movies['movieId'] == \\\n",
    "       ratings[ratings['rating'] == 5.0 ][['movieId','rating' ]].value_counts().index[0][0]]"
   ]
  },
  {
   "cell_type": "code",
   "execution_count": 43,
   "metadata": {
    "ExecuteTime": {
     "end_time": "2023-06-29T18:16:16.262972Z",
     "start_time": "2023-06-29T18:16:16.091471Z"
    }
   },
   "outputs": [
    {
     "data": {
      "text/plain": [
       "movieId  rating\n",
       "318      5.0       39553\n",
       "Name: count, dtype: int64"
      ]
     },
     "execution_count": 43,
     "metadata": {},
     "output_type": "execute_result"
    }
   ],
   "source": [
    "ratings[['movieId','rating']][(ratings.movieId==318)&(ratings.rating==5)].value_counts()"
   ]
  },
  {
   "cell_type": "markdown",
   "metadata": {},
   "source": [
    "# Задание 2 <a class=\"anchor\" id=\"17\"></a>\n",
    "По данным файла power.csv посчитайте суммарное потребление стран Прибалтики (Латвия, Литва и Эстония) категорий 4, 12 и 21 за период с 2005 по 2010 года. Не учитывайте в расчетах отрицательные значения quantity."
   ]
  },
  {
   "cell_type": "code",
   "execution_count": 2,
   "metadata": {
    "ExecuteTime": {
     "end_time": "2023-01-07T22:29:41.016734Z",
     "start_time": "2023-01-07T22:29:41.013161Z"
    }
   },
   "outputs": [],
   "source": [
    "def baltic(country):\n",
    "    if country in ['Lithuania','Latvia','Estinia']:\n",
    "        return 'Прибалтика'\n",
    "    return 'other'"
   ]
  },
  {
   "cell_type": "code",
   "execution_count": 4,
   "metadata": {
    "ExecuteTime": {
     "end_time": "2023-01-07T22:31:01.679442Z",
     "start_time": "2023-01-07T22:31:01.345506Z"
    }
   },
   "outputs": [
    {
     "data": {
      "text/html": [
       "<div>\n",
       "<style scoped>\n",
       "    .dataframe tbody tr th:only-of-type {\n",
       "        vertical-align: middle;\n",
       "    }\n",
       "\n",
       "    .dataframe tbody tr th {\n",
       "        vertical-align: top;\n",
       "    }\n",
       "\n",
       "    .dataframe thead th {\n",
       "        text-align: right;\n",
       "    }\n",
       "</style>\n",
       "<table border=\"1\" class=\"dataframe\">\n",
       "  <thead>\n",
       "    <tr style=\"text-align: right;\">\n",
       "      <th></th>\n",
       "      <th>country</th>\n",
       "      <th>year</th>\n",
       "      <th>quantity</th>\n",
       "      <th>category</th>\n",
       "    </tr>\n",
       "  </thead>\n",
       "  <tbody>\n",
       "    <tr>\n",
       "      <th>0</th>\n",
       "      <td>Austria</td>\n",
       "      <td>1996</td>\n",
       "      <td>5.0</td>\n",
       "      <td>1</td>\n",
       "    </tr>\n",
       "    <tr>\n",
       "      <th>1</th>\n",
       "      <td>Austria</td>\n",
       "      <td>1995</td>\n",
       "      <td>17.0</td>\n",
       "      <td>1</td>\n",
       "    </tr>\n",
       "    <tr>\n",
       "      <th>2</th>\n",
       "      <td>Belgium</td>\n",
       "      <td>2014</td>\n",
       "      <td>0.0</td>\n",
       "      <td>1</td>\n",
       "    </tr>\n",
       "    <tr>\n",
       "      <th>3</th>\n",
       "      <td>Belgium</td>\n",
       "      <td>2013</td>\n",
       "      <td>0.0</td>\n",
       "      <td>1</td>\n",
       "    </tr>\n",
       "    <tr>\n",
       "      <th>4</th>\n",
       "      <td>Belgium</td>\n",
       "      <td>2012</td>\n",
       "      <td>35.0</td>\n",
       "      <td>1</td>\n",
       "    </tr>\n",
       "    <tr>\n",
       "      <th>...</th>\n",
       "      <td>...</td>\n",
       "      <td>...</td>\n",
       "      <td>...</td>\n",
       "      <td>...</td>\n",
       "    </tr>\n",
       "    <tr>\n",
       "      <th>1189477</th>\n",
       "      <td>Viet Nam</td>\n",
       "      <td>2012</td>\n",
       "      <td>92.0</td>\n",
       "      <td>71</td>\n",
       "    </tr>\n",
       "    <tr>\n",
       "      <th>1189478</th>\n",
       "      <td>Viet Nam</td>\n",
       "      <td>2011</td>\n",
       "      <td>87.0</td>\n",
       "      <td>71</td>\n",
       "    </tr>\n",
       "    <tr>\n",
       "      <th>1189479</th>\n",
       "      <td>Viet Nam</td>\n",
       "      <td>2010</td>\n",
       "      <td>50.0</td>\n",
       "      <td>71</td>\n",
       "    </tr>\n",
       "    <tr>\n",
       "      <th>1189480</th>\n",
       "      <td>Viet Nam</td>\n",
       "      <td>2009</td>\n",
       "      <td>10.0</td>\n",
       "      <td>71</td>\n",
       "    </tr>\n",
       "    <tr>\n",
       "      <th>1189481</th>\n",
       "      <td>Viet Nam</td>\n",
       "      <td>2008</td>\n",
       "      <td>1.0</td>\n",
       "      <td>71</td>\n",
       "    </tr>\n",
       "  </tbody>\n",
       "</table>\n",
       "<p>1189482 rows × 4 columns</p>\n",
       "</div>"
      ],
      "text/plain": [
       "          country  year  quantity  category\n",
       "0         Austria  1996       5.0         1\n",
       "1         Austria  1995      17.0         1\n",
       "2         Belgium  2014       0.0         1\n",
       "3         Belgium  2013       0.0         1\n",
       "4         Belgium  2012      35.0         1\n",
       "...           ...   ...       ...       ...\n",
       "1189477  Viet Nam  2012      92.0        71\n",
       "1189478  Viet Nam  2011      87.0        71\n",
       "1189479  Viet Nam  2010      50.0        71\n",
       "1189480  Viet Nam  2009      10.0        71\n",
       "1189481  Viet Nam  2008       1.0        71\n",
       "\n",
       "[1189482 rows x 4 columns]"
      ]
     },
     "execution_count": 4,
     "metadata": {},
     "output_type": "execute_result"
    }
   ],
   "source": [
    "power = pd.read_csv('../.datasets/power.csv')\n",
    "power"
   ]
  },
  {
   "cell_type": "code",
   "execution_count": 171,
   "metadata": {
    "ExecuteTime": {
     "end_time": "2023-01-05T16:45:32.388384Z",
     "start_time": "2023-01-05T16:45:32.368270Z"
    }
   },
   "outputs": [
    {
     "data": {
      "text/html": [
       "<div>\n",
       "<style scoped>\n",
       "    .dataframe tbody tr th:only-of-type {\n",
       "        vertical-align: middle;\n",
       "    }\n",
       "\n",
       "    .dataframe tbody tr th {\n",
       "        vertical-align: top;\n",
       "    }\n",
       "\n",
       "    .dataframe thead th {\n",
       "        text-align: right;\n",
       "    }\n",
       "</style>\n",
       "<table border=\"1\" class=\"dataframe\">\n",
       "  <thead>\n",
       "    <tr style=\"text-align: right;\">\n",
       "      <th></th>\n",
       "      <th>country</th>\n",
       "      <th>year</th>\n",
       "      <th>quantity</th>\n",
       "      <th>category</th>\n",
       "    </tr>\n",
       "  </thead>\n",
       "  <tbody>\n",
       "    <tr>\n",
       "      <th>9834</th>\n",
       "      <td>Swaziland</td>\n",
       "      <td>2014</td>\n",
       "      <td>0.15</td>\n",
       "      <td>4</td>\n",
       "    </tr>\n",
       "    <tr>\n",
       "      <th>9835</th>\n",
       "      <td>Swaziland</td>\n",
       "      <td>2013</td>\n",
       "      <td>0.15</td>\n",
       "      <td>4</td>\n",
       "    </tr>\n",
       "    <tr>\n",
       "      <th>9836</th>\n",
       "      <td>Swaziland</td>\n",
       "      <td>2012</td>\n",
       "      <td>0.15</td>\n",
       "      <td>4</td>\n",
       "    </tr>\n",
       "    <tr>\n",
       "      <th>9837</th>\n",
       "      <td>Swaziland</td>\n",
       "      <td>2011</td>\n",
       "      <td>0.15</td>\n",
       "      <td>4</td>\n",
       "    </tr>\n",
       "    <tr>\n",
       "      <th>9838</th>\n",
       "      <td>Swaziland</td>\n",
       "      <td>2010</td>\n",
       "      <td>0.18</td>\n",
       "      <td>4</td>\n",
       "    </tr>\n",
       "    <tr>\n",
       "      <th>...</th>\n",
       "      <td>...</td>\n",
       "      <td>...</td>\n",
       "      <td>...</td>\n",
       "      <td>...</td>\n",
       "    </tr>\n",
       "    <tr>\n",
       "      <th>254622</th>\n",
       "      <td>Viet Nam</td>\n",
       "      <td>2012</td>\n",
       "      <td>37.00</td>\n",
       "      <td>21</td>\n",
       "    </tr>\n",
       "    <tr>\n",
       "      <th>254623</th>\n",
       "      <td>Viet Nam</td>\n",
       "      <td>2011</td>\n",
       "      <td>31.00</td>\n",
       "      <td>21</td>\n",
       "    </tr>\n",
       "    <tr>\n",
       "      <th>254624</th>\n",
       "      <td>Viet Nam</td>\n",
       "      <td>2010</td>\n",
       "      <td>31.00</td>\n",
       "      <td>21</td>\n",
       "    </tr>\n",
       "    <tr>\n",
       "      <th>254625</th>\n",
       "      <td>Viet Nam</td>\n",
       "      <td>2009</td>\n",
       "      <td>8.00</td>\n",
       "      <td>21</td>\n",
       "    </tr>\n",
       "    <tr>\n",
       "      <th>254626</th>\n",
       "      <td>Viet Nam</td>\n",
       "      <td>2008</td>\n",
       "      <td>1.00</td>\n",
       "      <td>21</td>\n",
       "    </tr>\n",
       "  </tbody>\n",
       "</table>\n",
       "<p>88129 rows × 4 columns</p>\n",
       "</div>"
      ],
      "text/plain": [
       "          country  year  quantity  category\n",
       "9834    Swaziland  2014      0.15         4\n",
       "9835    Swaziland  2013      0.15         4\n",
       "9836    Swaziland  2012      0.15         4\n",
       "9837    Swaziland  2011      0.15         4\n",
       "9838    Swaziland  2010      0.18         4\n",
       "...           ...   ...       ...       ...\n",
       "254622   Viet Nam  2012     37.00        21\n",
       "254623   Viet Nam  2011     31.00        21\n",
       "254624   Viet Nam  2010     31.00        21\n",
       "254625   Viet Nam  2009      8.00        21\n",
       "254626   Viet Nam  2008      1.00        21\n",
       "\n",
       "[88129 rows x 4 columns]"
      ]
     },
     "execution_count": 171,
     "metadata": {},
     "output_type": "execute_result"
    }
   ],
   "source": [
    "power[(power['category'].isin((4, 12, 21)))]"
   ]
  },
  {
   "cell_type": "code",
   "execution_count": 173,
   "metadata": {
    "ExecuteTime": {
     "end_time": "2023-01-05T16:46:28.511628Z",
     "start_time": "2023-01-05T16:46:28.470023Z"
    }
   },
   "outputs": [
    {
     "data": {
      "text/html": [
       "<div>\n",
       "<style scoped>\n",
       "    .dataframe tbody tr th:only-of-type {\n",
       "        vertical-align: middle;\n",
       "    }\n",
       "\n",
       "    .dataframe tbody tr th {\n",
       "        vertical-align: top;\n",
       "    }\n",
       "\n",
       "    .dataframe thead th {\n",
       "        text-align: right;\n",
       "    }\n",
       "</style>\n",
       "<table border=\"1\" class=\"dataframe\">\n",
       "  <thead>\n",
       "    <tr style=\"text-align: right;\">\n",
       "      <th></th>\n",
       "      <th>country</th>\n",
       "      <th>year</th>\n",
       "      <th>quantity</th>\n",
       "      <th>category</th>\n",
       "    </tr>\n",
       "  </thead>\n",
       "  <tbody>\n",
       "    <tr>\n",
       "      <th>6</th>\n",
       "      <td>Belgium</td>\n",
       "      <td>2010</td>\n",
       "      <td>22.00</td>\n",
       "      <td>1</td>\n",
       "    </tr>\n",
       "    <tr>\n",
       "      <th>7</th>\n",
       "      <td>Belgium</td>\n",
       "      <td>2009</td>\n",
       "      <td>45.00</td>\n",
       "      <td>1</td>\n",
       "    </tr>\n",
       "    <tr>\n",
       "      <th>10</th>\n",
       "      <td>Finland</td>\n",
       "      <td>2010</td>\n",
       "      <td>9.00</td>\n",
       "      <td>1</td>\n",
       "    </tr>\n",
       "    <tr>\n",
       "      <th>11</th>\n",
       "      <td>Finland</td>\n",
       "      <td>2009</td>\n",
       "      <td>13.00</td>\n",
       "      <td>1</td>\n",
       "    </tr>\n",
       "    <tr>\n",
       "      <th>12</th>\n",
       "      <td>Finland</td>\n",
       "      <td>2008</td>\n",
       "      <td>39.00</td>\n",
       "      <td>1</td>\n",
       "    </tr>\n",
       "    <tr>\n",
       "      <th>...</th>\n",
       "      <td>...</td>\n",
       "      <td>...</td>\n",
       "      <td>...</td>\n",
       "      <td>...</td>\n",
       "    </tr>\n",
       "    <tr>\n",
       "      <th>1189473</th>\n",
       "      <td>Vanuatu</td>\n",
       "      <td>2009</td>\n",
       "      <td>5.63</td>\n",
       "      <td>71</td>\n",
       "    </tr>\n",
       "    <tr>\n",
       "      <th>1189474</th>\n",
       "      <td>Vanuatu</td>\n",
       "      <td>2008</td>\n",
       "      <td>5.63</td>\n",
       "      <td>71</td>\n",
       "    </tr>\n",
       "    <tr>\n",
       "      <th>1189479</th>\n",
       "      <td>Viet Nam</td>\n",
       "      <td>2010</td>\n",
       "      <td>50.00</td>\n",
       "      <td>71</td>\n",
       "    </tr>\n",
       "    <tr>\n",
       "      <th>1189480</th>\n",
       "      <td>Viet Nam</td>\n",
       "      <td>2009</td>\n",
       "      <td>10.00</td>\n",
       "      <td>71</td>\n",
       "    </tr>\n",
       "    <tr>\n",
       "      <th>1189481</th>\n",
       "      <td>Viet Nam</td>\n",
       "      <td>2008</td>\n",
       "      <td>1.00</td>\n",
       "      <td>71</td>\n",
       "    </tr>\n",
       "  </tbody>\n",
       "</table>\n",
       "<p>360736 rows × 4 columns</p>\n",
       "</div>"
      ],
      "text/plain": [
       "          country  year  quantity  category\n",
       "6         Belgium  2010     22.00         1\n",
       "7         Belgium  2009     45.00         1\n",
       "10        Finland  2010      9.00         1\n",
       "11        Finland  2009     13.00         1\n",
       "12        Finland  2008     39.00         1\n",
       "...           ...   ...       ...       ...\n",
       "1189473   Vanuatu  2009      5.63        71\n",
       "1189474   Vanuatu  2008      5.63        71\n",
       "1189479  Viet Nam  2010     50.00        71\n",
       "1189480  Viet Nam  2009     10.00        71\n",
       "1189481  Viet Nam  2008      1.00        71\n",
       "\n",
       "[360736 rows x 4 columns]"
      ]
     },
     "execution_count": 173,
     "metadata": {},
     "output_type": "execute_result"
    }
   ],
   "source": [
    " power[power['year'].isin(range(2004, 2010+1))]"
   ]
  },
  {
   "cell_type": "code",
   "execution_count": 174,
   "metadata": {
    "ExecuteTime": {
     "end_time": "2023-01-05T16:47:11.036408Z",
     "start_time": "2023-01-05T16:47:10.999127Z"
    }
   },
   "outputs": [
    {
     "data": {
      "text/html": [
       "<div>\n",
       "<style scoped>\n",
       "    .dataframe tbody tr th:only-of-type {\n",
       "        vertical-align: middle;\n",
       "    }\n",
       "\n",
       "    .dataframe tbody tr th {\n",
       "        vertical-align: top;\n",
       "    }\n",
       "\n",
       "    .dataframe thead th {\n",
       "        text-align: right;\n",
       "    }\n",
       "</style>\n",
       "<table border=\"1\" class=\"dataframe\">\n",
       "  <thead>\n",
       "    <tr style=\"text-align: right;\">\n",
       "      <th></th>\n",
       "      <th>country</th>\n",
       "      <th>year</th>\n",
       "      <th>quantity</th>\n",
       "      <th>category</th>\n",
       "    </tr>\n",
       "  </thead>\n",
       "  <tbody>\n",
       "    <tr>\n",
       "      <th>9838</th>\n",
       "      <td>Swaziland</td>\n",
       "      <td>2010</td>\n",
       "      <td>0.1800</td>\n",
       "      <td>4</td>\n",
       "    </tr>\n",
       "    <tr>\n",
       "      <th>9839</th>\n",
       "      <td>Swaziland</td>\n",
       "      <td>2009</td>\n",
       "      <td>0.2100</td>\n",
       "      <td>4</td>\n",
       "    </tr>\n",
       "    <tr>\n",
       "      <th>9840</th>\n",
       "      <td>Swaziland</td>\n",
       "      <td>2008</td>\n",
       "      <td>0.3100</td>\n",
       "      <td>4</td>\n",
       "    </tr>\n",
       "    <tr>\n",
       "      <th>9841</th>\n",
       "      <td>Swaziland</td>\n",
       "      <td>2007</td>\n",
       "      <td>0.3080</td>\n",
       "      <td>4</td>\n",
       "    </tr>\n",
       "    <tr>\n",
       "      <th>9842</th>\n",
       "      <td>Swaziland</td>\n",
       "      <td>2006</td>\n",
       "      <td>0.2957</td>\n",
       "      <td>4</td>\n",
       "    </tr>\n",
       "    <tr>\n",
       "      <th>...</th>\n",
       "      <td>...</td>\n",
       "      <td>...</td>\n",
       "      <td>...</td>\n",
       "      <td>...</td>\n",
       "    </tr>\n",
       "    <tr>\n",
       "      <th>254615</th>\n",
       "      <td>Vanuatu</td>\n",
       "      <td>2009</td>\n",
       "      <td>2.4700</td>\n",
       "      <td>21</td>\n",
       "    </tr>\n",
       "    <tr>\n",
       "      <th>254616</th>\n",
       "      <td>Vanuatu</td>\n",
       "      <td>2008</td>\n",
       "      <td>2.4700</td>\n",
       "      <td>21</td>\n",
       "    </tr>\n",
       "    <tr>\n",
       "      <th>254624</th>\n",
       "      <td>Viet Nam</td>\n",
       "      <td>2010</td>\n",
       "      <td>31.0000</td>\n",
       "      <td>21</td>\n",
       "    </tr>\n",
       "    <tr>\n",
       "      <th>254625</th>\n",
       "      <td>Viet Nam</td>\n",
       "      <td>2009</td>\n",
       "      <td>8.0000</td>\n",
       "      <td>21</td>\n",
       "    </tr>\n",
       "    <tr>\n",
       "      <th>254626</th>\n",
       "      <td>Viet Nam</td>\n",
       "      <td>2008</td>\n",
       "      <td>1.0000</td>\n",
       "      <td>21</td>\n",
       "    </tr>\n",
       "  </tbody>\n",
       "</table>\n",
       "<p>25534 rows × 4 columns</p>\n",
       "</div>"
      ],
      "text/plain": [
       "          country  year  quantity  category\n",
       "9838    Swaziland  2010    0.1800         4\n",
       "9839    Swaziland  2009    0.2100         4\n",
       "9840    Swaziland  2008    0.3100         4\n",
       "9841    Swaziland  2007    0.3080         4\n",
       "9842    Swaziland  2006    0.2957         4\n",
       "...           ...   ...       ...       ...\n",
       "254615    Vanuatu  2009    2.4700        21\n",
       "254616    Vanuatu  2008    2.4700        21\n",
       "254624   Viet Nam  2010   31.0000        21\n",
       "254625   Viet Nam  2009    8.0000        21\n",
       "254626   Viet Nam  2008    1.0000        21\n",
       "\n",
       "[25534 rows x 4 columns]"
      ]
     },
     "execution_count": 174,
     "metadata": {},
     "output_type": "execute_result"
    }
   ],
   "source": [
    "power[(power['category'].isin((4, 12, 21))) & power['year'].isin(range(2004, 2010+1))]"
   ]
  },
  {
   "cell_type": "code",
   "execution_count": 13,
   "metadata": {
    "ExecuteTime": {
     "end_time": "2023-01-07T22:32:51.524195Z",
     "start_time": "2023-01-07T22:32:51.471813Z"
    }
   },
   "outputs": [
    {
     "data": {
      "text/plain": [
       "11156    1.0\n",
       "11157    0.0\n",
       "11158    1.0\n",
       "11159    1.0\n",
       "11160    1.0\n",
       "Name: quantity, dtype: float64"
      ]
     },
     "execution_count": 13,
     "metadata": {},
     "output_type": "execute_result"
    }
   ],
   "source": [
    "power[(power['category'].isin((4, 12, 21))) & power['year'].isin(range(2004, 2010+1)) \n",
    "      & power['country'].isin(('Lithuania','Latvia','Estinia'))]['quantity'].head()"
   ]
  },
  {
   "cell_type": "code",
   "execution_count": 14,
   "metadata": {
    "ExecuteTime": {
     "end_time": "2023-01-07T22:33:47.730612Z",
     "start_time": "2023-01-07T22:33:47.666926Z"
    }
   },
   "outputs": [
    {
     "data": {
      "text/plain": [
       "pandas.core.series.Series"
      ]
     },
     "execution_count": 14,
     "metadata": {},
     "output_type": "execute_result"
    }
   ],
   "source": [
    "type(power[(power['category'].isin((4, 12, 21))) & power['year'].isin(range(2004, 2010+1)) \n",
    "      & power['country'].isin(('Lithuania','Latvia','Estinia'))]['quantity'].head())"
   ]
  },
  {
   "cell_type": "code",
   "execution_count": 15,
   "metadata": {
    "ExecuteTime": {
     "end_time": "2023-01-07T22:33:58.377494Z",
     "start_time": "2023-01-07T22:33:58.324704Z"
    }
   },
   "outputs": [
    {
     "data": {
      "text/plain": [
       "[1.0, 0.0, 1.0, 1.0, 1.0]"
      ]
     },
     "execution_count": 15,
     "metadata": {},
     "output_type": "execute_result"
    }
   ],
   "source": [
    "list(power[(power['category'].isin((4, 12, 21))) & power['year'].isin(range(2004, 2010+1)) \n",
    "      & power['country'].isin(('Lithuania','Latvia','Estinia'))]['quantity'].head())"
   ]
  },
  {
   "cell_type": "code",
   "execution_count": 18,
   "metadata": {
    "ExecuteTime": {
     "end_time": "2023-01-07T22:35:49.886512Z",
     "start_time": "2023-01-07T22:35:49.827478Z"
    }
   },
   "outputs": [
    {
     "data": {
      "text/plain": [
       "208712.0"
      ]
     },
     "execution_count": 18,
     "metadata": {},
     "output_type": "execute_result"
    }
   ],
   "source": [
    "s = 0\n",
    "for i in list(power[(power['category'].isin((4, 12, 21))) & power['year'].isin(range(2004, 2010+1)) \n",
    "      & power['country'].isin(('Lithuania','Latvia','Estinia'))]['quantity']):\n",
    "    #print(i)\n",
    "    if i > 0:\n",
    "        s += i\n",
    "s"
   ]
  },
  {
   "cell_type": "markdown",
   "metadata": {},
   "source": [
    "# Задание 3 <a class=\"anchor\" id=\"18\"></a>\n",
    "Выберите страницу любого сайта с табличными данными. Импортируйте таблицы в pandas dataframe.\n",
    "Примеры страниц (необязательно брать именно эти):\n",
    "https://fortrader.org/quotes\n",
    "https://www.finanz.ru/valyuty/v-realnom-vremeni"
   ]
  },
  {
   "cell_type": "code",
   "execution_count": 2,
   "metadata": {
    "ExecuteTime": {
     "end_time": "2023-01-24T12:28:20.631708Z",
     "start_time": "2023-01-24T12:28:19.864880Z"
    }
   },
   "outputs": [],
   "source": [
    "tables = pd.read_html(\n",
    "    'https://ru.wikipedia.org/wiki/%D0%9F%D0%B0%D0%BD%D0%B4%D0%B5%D0%BC%D0%B8%D1%8F_COVID-19',\n",
    "    match='стран')"
   ]
  },
  {
   "cell_type": "code",
   "execution_count": 3,
   "metadata": {
    "ExecuteTime": {
     "end_time": "2023-01-24T12:28:24.945390Z",
     "start_time": "2023-01-24T12:28:24.914755Z"
    }
   },
   "outputs": [
    {
     "data": {
      "text/plain": [
       "[                                    Пандемия COVID-19  \\\n",
       " 0   Медсестра готовит больного COVID-19 пациента к...   \n",
       " 1                                                 NaN   \n",
       " 2                                                 NaN   \n",
       " 3                                                 NaN   \n",
       " 4                                                 NaN   \n",
       " 5   .mw-parser-output .ts-Скрытый_блок{margin:0;ov...   \n",
       " 6   Карта общего количества подтверждённых случаев...   \n",
       " 7   Карта подтверждённых смертей на душу населения...   \n",
       " 8   Количество больных в странах с наивысшим уровн...   \n",
       " 9                                             Болезнь   \n",
       " 10                                        Возбудитель   \n",
       " 11                                       Место начала   \n",
       " 12                                        Дата начала   \n",
       " 13                             Подтверждённых случаев   \n",
       " 14                             Подтверждённых смертей   \n",
       " 15                          Оценка количества умерших   \n",
       " 16                           Медиафайлы на Викискладе   \n",
       " \n",
       "                                   Пандемия COVID-19.1  \n",
       " 0   Медсестра готовит больного COVID-19 пациента к...  \n",
       " 1                                                 NaN  \n",
       " 2                                                 NaN  \n",
       " 3                                                 NaN  \n",
       " 4                                                 NaN  \n",
       " 5   .mw-parser-output .ts-Скрытый_блок{margin:0;ov...  \n",
       " 6   Карта общего количества подтверждённых случаев...  \n",
       " 7   Карта подтверждённых смертей на душу населения...  \n",
       " 8   Количество больных в странах с наивысшим уровн...  \n",
       " 9                                            COVID-19  \n",
       " 10                                         SARS-CoV-2  \n",
       " 11  Ухань, Хубэй, Китай 30°37′11″ с. ш. 114°15′28″...  \n",
       " 12       с 17 ноября 2019 (3 года 2 месяца 6 дней)[1]  \n",
       " 13         по состоянию на 21.12.2022: 654 420 532[2]  \n",
       " 14           по состоянию на 21.12.2022: 6 669 455[2]  \n",
       " 15                                 9,5—21,6 млн[3][4]  \n",
       " 16                           Медиафайлы на Викискладе  ,\n",
       "                                    Страны и территории  \\\n",
       "                                  Всего 000000000000000   \n",
       " 0                                                  NaN   \n",
       " 1                                                  NaN   \n",
       " 2                                                  NaN   \n",
       " 3                                                  NaN   \n",
       " 4                                                  NaN   \n",
       " ..                                                 ...   \n",
       " 229  Морские суда, классифицируемые как международн...   \n",
       " 230                                                NaN   \n",
       " 231                                                NaN   \n",
       " 232                                         Примечания   \n",
       " 233  ↑ Всемирная организация здравоохранения опреде...   \n",
       " \n",
       "                                                         \\\n",
       "                                Всего 000000000000000.1   \n",
       " 0                                        США[141][142]   \n",
       " 1                                           Индия[143]   \n",
       " 2                                    Франция[144][145]   \n",
       " 3                                        Германия[146]   \n",
       " 4                                        Бразилия[147]   \n",
       " ..                                                 ...   \n",
       " 229  Морские суда, классифицируемые как международн...   \n",
       " 230                                   Diamond Princess   \n",
       " 231                                   Zaandam[nl][310]   \n",
       " 232                                         Примечания   \n",
       " 233  ↑ Всемирная организация здравоохранения опреде...   \n",
       " \n",
       "                                               Заражено  \\\n",
       "                                            648 516 665   \n",
       " 0                                          100 743 392   \n",
       " 1                                           44 673 984   \n",
       " 2                                           37 916 052   \n",
       " 3                                           36 530 020   \n",
       " 4                                           35 336 482   \n",
       " ..                                                 ...   \n",
       " 229  Морские суда, классифицируемые как международн...   \n",
       " 230                                                712   \n",
       " 231                                                  9   \n",
       " 232                                         Примечания   \n",
       " 233  ↑ Всемирная организация здравоохранения опреде...   \n",
       " \n",
       "                                                Выздор.  \\\n",
       "                                            626 263 547   \n",
       " 0                                           98 191 251   \n",
       " 1                                           44 137 617   \n",
       " 2                                           36 935 415   \n",
       " 3                                           35 853 000   \n",
       " 4                                           34 257 388   \n",
       " ..                                                 ...   \n",
       " 229  Морские суда, классифицируемые как международн...   \n",
       " 230                                                699   \n",
       " 231                                                  7   \n",
       " 232                                         Примечания   \n",
       " 233  ↑ Всемирная организация здравоохранения опреде...   \n",
       " \n",
       "                                             Скончалось  \\\n",
       "                                              6 642 548   \n",
       " 0                                            1 106 378   \n",
       " 1                                              530 624   \n",
       " 2                                              159 026   \n",
       " 3                                              158 109   \n",
       " 4                                              689 998   \n",
       " ..                                                 ...   \n",
       " 229  Морские суда, классифицируемые как международн...   \n",
       " 230                                                 13   \n",
       " 231                                                  2   \n",
       " 232                                         Примечания   \n",
       " 233  ↑ Всемирная организация здравоохранения опреде...   \n",
       " \n",
       "     .mw-parser-output .ts-comment-commentedText{border-bottom:1px dotted;cursor:help}@media(hover:none){.mw-parser-output .ts-comment-commentedText:not(.rt-commentedText){border-bottom:0;cursor:auto}}Летал.  \\\n",
       "                                                                                                                                                                                                          1,024   \n",
       " 0                                                 0011                                                                                                                                                           \n",
       " 1                                                 1188                                                                                                                                                           \n",
       " 2                                                 0419                                                                                                                                                           \n",
       " 3                                                 0433                                                                                                                                                           \n",
       " 4                                                 1953                                                                                                                                                           \n",
       " ..                                                 ...                                                                                                                                                           \n",
       " 229  Морские суда, классифицируемые как международн...                                                                                                                                                           \n",
       " 230                                               1826                                                                                                                                                           \n",
       " 231                                              22222                                                                                                                                                           \n",
       " 232                                         Примечания                                                                                                                                                           \n",
       " 233  ↑ Всемирная организация здравоохранения опреде...                                                                                                                                                           \n",
       " \n",
       "                                               На 1 млн  \\\n",
       "                                                  83199   \n",
       " 0                                               300901   \n",
       " 1                                                31760   \n",
       " 2                                               578125   \n",
       " 3                                               435485   \n",
       " 4                                               164086   \n",
       " ..                                                 ...   \n",
       " 229  Морские суда, классифицируемые как международн...   \n",
       " 230                                                  —   \n",
       " 231                                                  —   \n",
       " 232                                         Примечания   \n",
       " 233  ↑ Всемирная организация здравоохранения опреде...   \n",
       " \n",
       "                                     Unnamed: 7_level_0  \n",
       "                                     Unnamed: 7_level_1  \n",
       " 0                                                  NaN  \n",
       " 1                                                  NaN  \n",
       " 2                                                  NaN  \n",
       " 3                                                  NaN  \n",
       " 4                                                  NaN  \n",
       " ..                                                 ...  \n",
       " 229  Морские суда, классифицируемые как международн...  \n",
       " 230                                                NaN  \n",
       " 231                                                NaN  \n",
       " 232                                                NaN  \n",
       " 233                                                NaN  \n",
       " \n",
       " [234 rows x 8 columns],\n",
       "                                     Пандемия COVID-19  \\\n",
       " 0                                            Инфекция   \n",
       " 1                                            Варианты   \n",
       " 2                             Вакцины против COVID-19   \n",
       " 3   .mw-parser-output .ts-navbox-plaintitle{font-s...   \n",
       " 4                        Пандемия COVID-19 по странам   \n",
       " 5                                            Азия[en]   \n",
       " 6                                          Африка[en]   \n",
       " 7                                          Европа[en]   \n",
       " 8                                         Океания[en]   \n",
       " 9                                Северная Америка[en]   \n",
       " 10                                  Южная Америка[en]   \n",
       " 11                                               Иное   \n",
       " 12  Курсивом выделены непризнанные и частично приз...   \n",
       " 13            Лечебные и исследовательские учреждения   \n",
       " 14                               Последствия пандемии   \n",
       " 15                                         Персоналии   \n",
       " \n",
       "                                   Пандемия COVID-19.1  \n",
       " 0   заболевание COVID-19 профилактика вирус SARS-C...  \n",
       " 1   Кластер 5 Альфа Бета Гамма Дельта Эпсилон[en] ...  \n",
       " 2   Коваксин КовиВак Конвасэл Конвидеция Спутник V...  \n",
       " 3   .mw-parser-output .ts-navbox-plaintitle{font-s...  \n",
       " 4                        Пандемия COVID-19 по странам  \n",
       " 5   Азербайджан Армения Афганистан Бангладеш[en] Б...  \n",
       " 6   Алжир[en] Буркина-Фасо Бурунди Габон[en] Гамби...  \n",
       " 7   Австрия Албания Андорра Армения Азербайджан Бе...  \n",
       " 8   Австралия Вануату Кирибати Маршалловы Острова ...  \n",
       " 9   Антигуа и Барбуда Аруба[en] Белиз Гваделупа[en...  \n",
       " 10  Аргентина Боливия Бразилия (Амазонас) Венесуэл...  \n",
       " 11  Антарктика Круизные суда[en] Diamond Princess ...  \n",
       " 12  Курсивом выделены непризнанные и частично приз...  \n",
       " 13  Госпитальные суда[en] Центральная больница Уха...  \n",
       " 14  Конспирологические теории Вооружённые силы Здо...  \n",
       " 15  Марк ван Ранст Питер Дашак Ли Вэньлян Тедрос А...  ,\n",
       "                         Пандемия COVID-19 по странам  \\\n",
       " 0                                           Азия[en]   \n",
       " 1                                         Африка[en]   \n",
       " 2                                         Европа[en]   \n",
       " 3                                        Океания[en]   \n",
       " 4                               Северная Америка[en]   \n",
       " 5                                  Южная Америка[en]   \n",
       " 6                                               Иное   \n",
       " 7  Курсивом выделены непризнанные и частично приз...   \n",
       " \n",
       "                       Пандемия COVID-19 по странам.1  \n",
       " 0  Азербайджан Армения Афганистан Бангладеш[en] Б...  \n",
       " 1  Алжир[en] Буркина-Фасо Бурунди Габон[en] Гамби...  \n",
       " 2  Австрия Албания Андорра Армения Азербайджан Бе...  \n",
       " 3  Австралия Вануату Кирибати Маршалловы Острова ...  \n",
       " 4  Антигуа и Барбуда Аруба[en] Белиз Гваделупа[en...  \n",
       " 5  Аргентина Боливия Бразилия (Амазонас) Венесуэл...  \n",
       " 6  Антарктика Круизные суда[en] Diamond Princess ...  \n",
       " 7  Курсивом выделены непризнанные и частично приз...  ]"
      ]
     },
     "execution_count": 3,
     "metadata": {},
     "output_type": "execute_result"
    }
   ],
   "source": [
    "tables"
   ]
  },
  {
   "cell_type": "code",
   "execution_count": 5,
   "metadata": {
    "ExecuteTime": {
     "end_time": "2023-01-24T12:54:54.125960Z",
     "start_time": "2023-01-24T12:54:53.108934Z"
    }
   },
   "outputs": [],
   "source": [
    "URL = 'https://en.wikipedia.org/wiki/London'\n",
    "dfs = pd.read_html(URL)"
   ]
  },
  {
   "cell_type": "code",
   "execution_count": 6,
   "metadata": {
    "ExecuteTime": {
     "end_time": "2023-01-24T12:54:56.952229Z",
     "start_time": "2023-01-24T12:54:56.879668Z"
    }
   },
   "outputs": [
    {
     "data": {
      "text/plain": [
       "[                                               London  \\\n",
       " 0                                        Capital city   \n",
       " 1   Clockwise from top: City of London in the fore...   \n",
       " 2   .mw-parser-output .locmap .od{position:absolut...   \n",
       " 3   Coordinates: .mw-parser-output .geo-default,.m...   \n",
       " 4                                     Sovereign state   \n",
       " 5                                             Country   \n",
       " 6                                              Region   \n",
       " 7                                 Ceremonial counties   \n",
       " 8                          Local government districts   \n",
       " 9                                   Settled by Romans   \n",
       " 10                                         Government   \n",
       " 11                                             • Type   \n",
       " 12                                             • Body   \n",
       " 13                                  • London Assembly   \n",
       " 14                                    • UK Parliament   \n",
       " 15                                               Area   \n",
       " 16                                         • Total[A]   \n",
       " 17                                            • Urban   \n",
       " 18                                            • Metro   \n",
       " 19                                   • City of London   \n",
       " 20  • 32 London boroughs .mw-parser-output .nobold...   \n",
       " 21                                       Elevation[3]   \n",
       " 22              Population (2021 except where stated)   \n",
       " 23                                         • Total[A]   \n",
       " 24                                          • Density   \n",
       " 25                                  • Urban (2011)[4]   \n",
       " 26                                  • Metro (2019)[5]   \n",
       " 27                                   • City of London   \n",
       " 28                                           Demonyms   \n",
       " 29                                      GVA (2020)[6]   \n",
       " 30                                            • Total   \n",
       " 31                                       • Per capita   \n",
       " 32                                          Time zone   \n",
       " 33                                     • Summer (DST)   \n",
       " 34                                     Postcode areas   \n",
       " 35                                         Area codes   \n",
       " 36                                             Budget   \n",
       " 37                             International airports   \n",
       " 38                               Rapid transit system   \n",
       " 39                                             Police   \n",
       " 40                                          Ambulance   \n",
       " 41                                               Fire   \n",
       " 42                                             GeoTLD   \n",
       " 43                                            Website   \n",
       " \n",
       "                                              London.1  \n",
       " 0                                        Capital city  \n",
       " 1   Clockwise from top: City of London in the fore...  \n",
       " 2   .mw-parser-output .locmap .od{position:absolut...  \n",
       " 3   Coordinates: .mw-parser-output .geo-default,.m...  \n",
       " 4                                      United Kingdom  \n",
       " 5                                             England  \n",
       " 6                             London (Greater London)  \n",
       " 7   Greater London (ceremonial county) City of London  \n",
       " 8           32 London boroughs and the City of London  \n",
       " 9               AD 47; 1976 years ago[2] as Londinium  \n",
       " 10                                         Government  \n",
       " 11  Executive mayoralty and deliberative assembly ...  \n",
       " 12  Greater London Authority • Mayor Sadiq Khan (L...  \n",
       " 13                                  14 constituencies  \n",
       " 14                                  73 constituencies  \n",
       " 15                                               Area  \n",
       " 16                        606.96 sq mi (1,572.03 km2)  \n",
       " 17                          671.0 sq mi (1,737.9 km2)  \n",
       " 18                            3,236 sq mi (8,382 km2)  \n",
       " 19                              1.12 sq mi (2.89 km2)  \n",
       " 20                        605.85 sq mi (1,569.14 km2)  \n",
       " 21                                       36 ft (11 m)  \n",
       " 22              Population (2021 except where stated)  \n",
       " 23                                       8,799,800[1]  \n",
       " 24                           14,500/sq mi (5,598/km2)  \n",
       " 25                                            9787426  \n",
       " 26              14,257,962 (London metropolitan area)  \n",
       " 27                                           8,600[1]  \n",
       " 28                                           Londoner  \n",
       " 29                                      GVA (2020)[6]  \n",
       " 30                                       £504 billion  \n",
       " 31                                            £55,974  \n",
       " 32                          UTC (Greenwich Mean Time)  \n",
       " 33                        UTC+1 (British Summer Time)  \n",
       " 34  22 areas E, EC, N, NW, SE, SW, W, WC, BR, CM, ...  \n",
       " 35  9 area codes 020, 01322, 01689, 01708, 01737, ...  \n",
       " 36                   £19.376 billion ($25 billion)[7]  \n",
       " 37  Inside London: Heathrow (LHR)  City (LCY) Outs...  \n",
       " 38                                 London Underground  \n",
       " 39  Metropolitan (county of Greater London) City o...  \n",
       " 40                                             London  \n",
       " 41                                             London  \n",
       " 42                                            .london  \n",
       " 43                                  www.london.gov.uk  ,\n",
       "                              Part of a series on the\n",
       "                                    History of London\n",
       " 0  Roman London Anglo-Saxon London Norman and Med...\n",
       " 1                                           See also\n",
       " 2                                           Timeline\n",
       " 3                                      London portal\n",
       " 4  .mw-parser-output .navbar{display:inline;font-...,\n",
       "                                       London, England  \\\n",
       "                           Climate chart (explanation)   \n",
       " 0   J F M A M J J A S O N D  59  8 3  45  9 3  39 ...   \n",
       " 1                                                   J   \n",
       " 2                                             59  8 3   \n",
       " 3            Average max. and min. temperatures in °C   \n",
       " 4                          Precipitation totals in mm   \n",
       " 5   Imperial conversion JFMAMJJASOND  2.3  47 37  ...   \n",
       " 6                                 Imperial conversion   \n",
       " 7                                                   J   \n",
       " 8                                          2.3  47 37   \n",
       " 9            Average max. and min. temperatures in °F   \n",
       " 10                     Precipitation totals in inches   \n",
       " \n",
       "                           Unnamed: 1_level_0  \\\n",
       "                           Unnamed: 1_level_1   \n",
       " 0                                        NaN   \n",
       " 1                                          F   \n",
       " 2                                    45  9 3   \n",
       " 3   Average max. and min. temperatures in °C   \n",
       " 4                 Precipitation totals in mm   \n",
       " 5                                        NaN   \n",
       " 6                        Imperial conversion   \n",
       " 7                                          F   \n",
       " 8                                 1.8  48 37   \n",
       " 9   Average max. and min. temperatures in °F   \n",
       " 10            Precipitation totals in inches   \n",
       " \n",
       "                           Unnamed: 2_level_0  \\\n",
       "                           Unnamed: 2_level_1   \n",
       " 0                                        NaN   \n",
       " 1                                          M   \n",
       " 2                                   39  12 4   \n",
       " 3   Average max. and min. temperatures in °C   \n",
       " 4                 Precipitation totals in mm   \n",
       " 5                                        NaN   \n",
       " 6                        Imperial conversion   \n",
       " 7                                          M   \n",
       " 8                                 1.5  53 39   \n",
       " 9   Average max. and min. temperatures in °F   \n",
       " 10            Precipitation totals in inches   \n",
       " \n",
       "                           Unnamed: 3_level_0  \\\n",
       "                           Unnamed: 3_level_1   \n",
       " 0                                        NaN   \n",
       " 1                                          A   \n",
       " 2                                   42  15 6   \n",
       " 3   Average max. and min. temperatures in °C   \n",
       " 4                 Precipitation totals in mm   \n",
       " 5                                        NaN   \n",
       " 6                        Imperial conversion   \n",
       " 7                                          A   \n",
       " 8                                 1.7  59 43   \n",
       " 9   Average max. and min. temperatures in °F   \n",
       " 10            Precipitation totals in inches   \n",
       " \n",
       "                           Unnamed: 4_level_0  \\\n",
       "                           Unnamed: 4_level_1   \n",
       " 0                                        NaN   \n",
       " 1                                          M   \n",
       " 2                                   46  18 9   \n",
       " 3   Average max. and min. temperatures in °C   \n",
       " 4                 Precipitation totals in mm   \n",
       " 5                                        NaN   \n",
       " 6                        Imperial conversion   \n",
       " 7                                          M   \n",
       " 8                                 1.8  65 48   \n",
       " 9   Average max. and min. temperatures in °F   \n",
       " 10            Precipitation totals in inches   \n",
       " \n",
       "                           Unnamed: 5_level_0  \\\n",
       "                           Unnamed: 5_level_1   \n",
       " 0                                        NaN   \n",
       " 1                                          J   \n",
       " 2                                  47  22 12   \n",
       " 3   Average max. and min. temperatures in °C   \n",
       " 4                 Precipitation totals in mm   \n",
       " 5                                        NaN   \n",
       " 6                        Imperial conversion   \n",
       " 7                                          J   \n",
       " 8                                 1.9  71 54   \n",
       " 9   Average max. and min. temperatures in °F   \n",
       " 10            Precipitation totals in inches   \n",
       " \n",
       "                           Unnamed: 6_level_0  \\\n",
       "                           Unnamed: 6_level_1   \n",
       " 0                                        NaN   \n",
       " 1                                          J   \n",
       " 2                                  46  24 14   \n",
       " 3   Average max. and min. temperatures in °C   \n",
       " 4                 Precipitation totals in mm   \n",
       " 5                                        NaN   \n",
       " 6                        Imperial conversion   \n",
       " 7                                          J   \n",
       " 8                                 1.8  75 58   \n",
       " 9   Average max. and min. temperatures in °F   \n",
       " 10            Precipitation totals in inches   \n",
       " \n",
       "                           Unnamed: 7_level_0  \\\n",
       "                           Unnamed: 7_level_1   \n",
       " 0                                        NaN   \n",
       " 1                                          A   \n",
       " 2                                  53  23 14   \n",
       " 3   Average max. and min. temperatures in °C   \n",
       " 4                 Precipitation totals in mm   \n",
       " 5                                        NaN   \n",
       " 6                        Imperial conversion   \n",
       " 7                                          A   \n",
       " 8                                 2.1  74 57   \n",
       " 9   Average max. and min. temperatures in °F   \n",
       " 10            Precipitation totals in inches   \n",
       " \n",
       "                           Unnamed: 8_level_0  \\\n",
       "                           Unnamed: 8_level_1   \n",
       " 0                                        NaN   \n",
       " 1                                          S   \n",
       " 2                                  50  20 12   \n",
       " 3   Average max. and min. temperatures in °C   \n",
       " 4                 Precipitation totals in mm   \n",
       " 5                                        NaN   \n",
       " 6                        Imperial conversion   \n",
       " 7                                          S   \n",
       " 8                                   2  68 53   \n",
       " 9   Average max. and min. temperatures in °F   \n",
       " 10            Precipitation totals in inches   \n",
       " \n",
       "                           Unnamed: 9_level_0  \\\n",
       "                           Unnamed: 9_level_1   \n",
       " 0                                        NaN   \n",
       " 1                                          O   \n",
       " 2                                   65  16 9   \n",
       " 3   Average max. and min. temperatures in °C   \n",
       " 4                 Precipitation totals in mm   \n",
       " 5                                        NaN   \n",
       " 6                        Imperial conversion   \n",
       " 7                                          O   \n",
       " 8                                 2.6  60 48   \n",
       " 9   Average max. and min. temperatures in °F   \n",
       " 10            Precipitation totals in inches   \n",
       " \n",
       "                          Unnamed: 10_level_0  \\\n",
       "                          Unnamed: 10_level_1   \n",
       " 0                                        NaN   \n",
       " 1                                          N   \n",
       " 2                                   67  11 5   \n",
       " 3   Average max. and min. temperatures in °C   \n",
       " 4                 Precipitation totals in mm   \n",
       " 5                                        NaN   \n",
       " 6                        Imperial conversion   \n",
       " 7                                          N   \n",
       " 8                                 2.6  53 41   \n",
       " 9   Average max. and min. temperatures in °F   \n",
       " 10            Precipitation totals in inches   \n",
       " \n",
       "                          Unnamed: 11_level_0  \n",
       "                          Unnamed: 11_level_1  \n",
       " 0                                        NaN  \n",
       " 1                                          D  \n",
       " 2                                    57  9 3  \n",
       " 3   Average max. and min. temperatures in °C  \n",
       " 4                 Precipitation totals in mm  \n",
       " 5                                        NaN  \n",
       " 6                        Imperial conversion  \n",
       " 7                                          D  \n",
       " 8                                 2.2  48 38  \n",
       " 9   Average max. and min. temperatures in °F  \n",
       " 10            Precipitation totals in inches  ,\n",
       "                                          0   \\\n",
       " 0                                         J   \n",
       " 1                                   59  8 3   \n",
       " 2  Average max. and min. temperatures in °C   \n",
       " 3                Precipitation totals in mm   \n",
       " \n",
       "                                          1   \\\n",
       " 0                                         F   \n",
       " 1                                   45  9 3   \n",
       " 2  Average max. and min. temperatures in °C   \n",
       " 3                Precipitation totals in mm   \n",
       " \n",
       "                                          2   \\\n",
       " 0                                         M   \n",
       " 1                                  39  12 4   \n",
       " 2  Average max. and min. temperatures in °C   \n",
       " 3                Precipitation totals in mm   \n",
       " \n",
       "                                          3   \\\n",
       " 0                                         A   \n",
       " 1                                  42  15 6   \n",
       " 2  Average max. and min. temperatures in °C   \n",
       " 3                Precipitation totals in mm   \n",
       " \n",
       "                                          4   \\\n",
       " 0                                         M   \n",
       " 1                                  46  18 9   \n",
       " 2  Average max. and min. temperatures in °C   \n",
       " 3                Precipitation totals in mm   \n",
       " \n",
       "                                          5   \\\n",
       " 0                                         J   \n",
       " 1                                 47  22 12   \n",
       " 2  Average max. and min. temperatures in °C   \n",
       " 3                Precipitation totals in mm   \n",
       " \n",
       "                                          6   \\\n",
       " 0                                         J   \n",
       " 1                                 46  24 14   \n",
       " 2  Average max. and min. temperatures in °C   \n",
       " 3                Precipitation totals in mm   \n",
       " \n",
       "                                          7   \\\n",
       " 0                                         A   \n",
       " 1                                 53  23 14   \n",
       " 2  Average max. and min. temperatures in °C   \n",
       " 3                Precipitation totals in mm   \n",
       " \n",
       "                                          8   \\\n",
       " 0                                         S   \n",
       " 1                                 50  20 12   \n",
       " 2  Average max. and min. temperatures in °C   \n",
       " 3                Precipitation totals in mm   \n",
       " \n",
       "                                          9   \\\n",
       " 0                                         O   \n",
       " 1                                  65  16 9   \n",
       " 2  Average max. and min. temperatures in °C   \n",
       " 3                Precipitation totals in mm   \n",
       " \n",
       "                                          10  \\\n",
       " 0                                         N   \n",
       " 1                                  67  11 5   \n",
       " 2  Average max. and min. temperatures in °C   \n",
       " 3                Precipitation totals in mm   \n",
       " \n",
       "                                          11  \n",
       " 0                                         D  \n",
       " 1                                   57  9 3  \n",
       " 2  Average max. and min. temperatures in °C  \n",
       " 3                Precipitation totals in mm  ,\n",
       "                         Imperial conversion  \\\n",
       " 0                                         J   \n",
       " 1                                2.3  47 37   \n",
       " 2  Average max. and min. temperatures in °F   \n",
       " 3            Precipitation totals in inches   \n",
       " \n",
       "                       Imperial conversion.1  \\\n",
       " 0                                         F   \n",
       " 1                                1.8  48 37   \n",
       " 2  Average max. and min. temperatures in °F   \n",
       " 3            Precipitation totals in inches   \n",
       " \n",
       "                       Imperial conversion.2  \\\n",
       " 0                                         M   \n",
       " 1                                1.5  53 39   \n",
       " 2  Average max. and min. temperatures in °F   \n",
       " 3            Precipitation totals in inches   \n",
       " \n",
       "                       Imperial conversion.3  \\\n",
       " 0                                         A   \n",
       " 1                                1.7  59 43   \n",
       " 2  Average max. and min. temperatures in °F   \n",
       " 3            Precipitation totals in inches   \n",
       " \n",
       "                       Imperial conversion.4  \\\n",
       " 0                                         M   \n",
       " 1                                1.8  65 48   \n",
       " 2  Average max. and min. temperatures in °F   \n",
       " 3            Precipitation totals in inches   \n",
       " \n",
       "                       Imperial conversion.5  \\\n",
       " 0                                         J   \n",
       " 1                                1.9  71 54   \n",
       " 2  Average max. and min. temperatures in °F   \n",
       " 3            Precipitation totals in inches   \n",
       " \n",
       "                       Imperial conversion.6  \\\n",
       " 0                                         J   \n",
       " 1                                1.8  75 58   \n",
       " 2  Average max. and min. temperatures in °F   \n",
       " 3            Precipitation totals in inches   \n",
       " \n",
       "                       Imperial conversion.7  \\\n",
       " 0                                         A   \n",
       " 1                                2.1  74 57   \n",
       " 2  Average max. and min. temperatures in °F   \n",
       " 3            Precipitation totals in inches   \n",
       " \n",
       "                       Imperial conversion.8  \\\n",
       " 0                                         S   \n",
       " 1                                  2  68 53   \n",
       " 2  Average max. and min. temperatures in °F   \n",
       " 3            Precipitation totals in inches   \n",
       " \n",
       "                       Imperial conversion.9  \\\n",
       " 0                                         O   \n",
       " 1                                2.6  60 48   \n",
       " 2  Average max. and min. temperatures in °F   \n",
       " 3            Precipitation totals in inches   \n",
       " \n",
       "                      Imperial conversion.10  \\\n",
       " 0                                         N   \n",
       " 1                                2.6  53 41   \n",
       " 2  Average max. and min. temperatures in °F   \n",
       " 3            Precipitation totals in inches   \n",
       " \n",
       "                      Imperial conversion.11  \n",
       " 0                                         D  \n",
       " 1                                2.2  48 38  \n",
       " 2  Average max. and min. temperatures in °F  \n",
       " 3            Precipitation totals in inches  ,\n",
       "    vteClimate data for London (LHR),[a] elevation: 25 m (82 ft), 1991–2020 normals  \\\n",
       "                                                                              Month   \n",
       " 0                                 Record high °C (°F)                                \n",
       " 1                                Average high °C (°F)                                \n",
       " 2                                  Daily mean °C (°F)                                \n",
       " 3                                 Average low °C (°F)                                \n",
       " 4                                  Record low °C (°F)                                \n",
       " 5                   Average precipitation mm (inches)                                \n",
       " 6               Average precipitation days (≥ 1.0 mm)                                \n",
       " 7                       Average relative humidity (%)                                \n",
       " 8                           Average dew point °C (°F)                                \n",
       " 9                         Mean monthly sunshine hours                                \n",
       " 10                          Percent possible sunshine                                \n",
       " 11                          Average ultraviolet index                                \n",
       " 12  Source 1: Met Office[194][195][196] Royal Neth...                                \n",
       " 13  Source 2: Weather Atlas (percent sunshine and ...                                \n",
       " \n",
       "                                                        \\\n",
       "                                                   Jan   \n",
       " 0                                         17.2 (63.0)   \n",
       " 1                                          8.4 (47.1)   \n",
       " 2                                          5.6 (42.1)   \n",
       " 3                                          2.7 (36.9)   \n",
       " 4                                         −16.1 (3.0)   \n",
       " 5                                         58.8 (2.31)   \n",
       " 6                                                11.5   \n",
       " 7                                                  80   \n",
       " 8                                              3 (37)   \n",
       " 9                                                61.1   \n",
       " 10                                                 23   \n",
       " 11                                                  1   \n",
       " 12  Source 1: Met Office[194][195][196] Royal Neth...   \n",
       " 13  Source 2: Weather Atlas (percent sunshine and ...   \n",
       " \n",
       "                                                        \\\n",
       "                                                   Feb   \n",
       " 0                                         21.2 (70.2)   \n",
       " 1                                          9.0 (48.2)   \n",
       " 2                                          5.8 (42.4)   \n",
       " 3                                          2.7 (36.9)   \n",
       " 4                                        −12.2 (10.0)   \n",
       " 5                                         45.0 (1.77)   \n",
       " 6                                                 9.5   \n",
       " 7                                                  77   \n",
       " 8                                              2 (36)   \n",
       " 9                                                78.8   \n",
       " 10                                                 28   \n",
       " 11                                                  1   \n",
       " 12  Source 1: Met Office[194][195][196] Royal Neth...   \n",
       " 13  Source 2: Weather Atlas (percent sunshine and ...   \n",
       " \n",
       "                                                        \\\n",
       "                                                   Mar   \n",
       " 0                                         24.5 (76.1)   \n",
       " 1                                         11.7 (53.1)   \n",
       " 2                                          7.9 (46.2)   \n",
       " 3                                          4.1 (39.4)   \n",
       " 4                                         −8.3 (17.1)   \n",
       " 5                                         38.8 (1.53)   \n",
       " 6                                                 8.5   \n",
       " 7                                                  70   \n",
       " 8                                              2 (36)   \n",
       " 9                                               124.5   \n",
       " 10                                                 31   \n",
       " 11                                                  2   \n",
       " 12  Source 1: Met Office[194][195][196] Royal Neth...   \n",
       " 13  Source 2: Weather Atlas (percent sunshine and ...   \n",
       " \n",
       "                                                        \\\n",
       "                                                   Apr   \n",
       " 0                                         29.4 (84.9)   \n",
       " 1                                         15.0 (59.0)   \n",
       " 2                                         10.5 (50.9)   \n",
       " 3                                          6.0 (42.8)   \n",
       " 4                                         −3.2 (26.2)   \n",
       " 5                                         42.3 (1.67)   \n",
       " 6                                                 8.8   \n",
       " 7                                                  65   \n",
       " 8                                              4 (39)   \n",
       " 9                                               176.7   \n",
       " 10                                                 40   \n",
       " 11                                                  4   \n",
       " 12  Source 1: Met Office[194][195][196] Royal Neth...   \n",
       " 13  Source 2: Weather Atlas (percent sunshine and ...   \n",
       " \n",
       "                                                        \\\n",
       "                                                   May   \n",
       " 0                                         32.8 (91.0)   \n",
       " 1                                         18.4 (65.1)   \n",
       " 2                                         13.7 (56.7)   \n",
       " 3                                          9.1 (48.4)   \n",
       " 4                                         −3.1 (26.4)   \n",
       " 5                                         45.9 (1.81)   \n",
       " 6                                                 8.0   \n",
       " 7                                                  67   \n",
       " 8                                              7 (45)   \n",
       " 9                                               207.5   \n",
       " 10                                                 41   \n",
       " 11                                                  5   \n",
       " 12  Source 1: Met Office[194][195][196] Royal Neth...   \n",
       " 13  Source 2: Weather Atlas (percent sunshine and ...   \n",
       " \n",
       "                                                        \\\n",
       "                                                   Jun   \n",
       " 0                                         35.6 (96.1)   \n",
       " 1                                         21.6 (70.9)   \n",
       " 2                                         16.8 (62.2)   \n",
       " 3                                         12.0 (53.6)   \n",
       " 4                                         −0.6 (30.9)   \n",
       " 5                                         47.3 (1.86)   \n",
       " 6                                                 8.3   \n",
       " 7                                                  65   \n",
       " 8                                             10 (50)   \n",
       " 9                                               208.4   \n",
       " 10                                                 41   \n",
       " 11                                                  6   \n",
       " 12  Source 1: Met Office[194][195][196] Royal Neth...   \n",
       " 13  Source 2: Weather Atlas (percent sunshine and ...   \n",
       " \n",
       "                                                        \\\n",
       "                                                   Jul   \n",
       " 0                                        40.2 (104.4)   \n",
       " 1                                         23.9 (75.0)   \n",
       " 2                                         19.0 (66.2)   \n",
       " 3                                         14.2 (57.6)   \n",
       " 4                                          3.9 (39.0)   \n",
       " 5                                         45.8 (1.80)   \n",
       " 6                                                 7.9   \n",
       " 7                                                  65   \n",
       " 8                                             12 (54)   \n",
       " 9                                               217.8   \n",
       " 10                                                 42   \n",
       " 11                                                  6   \n",
       " 12  Source 1: Met Office[194][195][196] Royal Neth...   \n",
       " 13  Source 2: Weather Atlas (percent sunshine and ...   \n",
       " \n",
       "                                                        \\\n",
       "                                                   Aug   \n",
       " 0                                        38.1 (100.6)   \n",
       " 1                                         23.4 (74.1)   \n",
       " 2                                         18.7 (65.7)   \n",
       " 3                                         14.1 (57.4)   \n",
       " 4                                          2.1 (35.8)   \n",
       " 5                                         52.8 (2.08)   \n",
       " 6                                                 8.4   \n",
       " 7                                                  69   \n",
       " 8                                             12 (54)   \n",
       " 9                                               202.1   \n",
       " 10                                                 45   \n",
       " 11                                                  5   \n",
       " 12  Source 1: Met Office[194][195][196] Royal Neth...   \n",
       " 13  Source 2: Weather Atlas (percent sunshine and ...   \n",
       " \n",
       "                                                        \\\n",
       "                                                   Sep   \n",
       " 0                                         35.0 (95.0)   \n",
       " 1                                         20.2 (68.4)   \n",
       " 2                                         15.9 (60.6)   \n",
       " 3                                         11.6 (52.9)   \n",
       " 4                                          1.4 (34.5)   \n",
       " 5                                         49.6 (1.95)   \n",
       " 6                                                 7.9   \n",
       " 7                                                  73   \n",
       " 8                                             10 (50)   \n",
       " 9                                               157.1   \n",
       " 10                                                 40   \n",
       " 11                                                  4   \n",
       " 12  Source 1: Met Office[194][195][196] Royal Neth...   \n",
       " 13  Source 2: Weather Atlas (percent sunshine and ...   \n",
       " \n",
       "                                                        \\\n",
       "                                                   Oct   \n",
       " 0                                         29.5 (85.1)   \n",
       " 1                                         15.8 (60.4)   \n",
       " 2                                         12.3 (54.1)   \n",
       " 3                                          8.8 (47.8)   \n",
       " 4                                         −5.5 (22.1)   \n",
       " 5                                         65.1 (2.56)   \n",
       " 6                                                10.8   \n",
       " 7                                                  78   \n",
       " 8                                              9 (48)   \n",
       " 9                                               115.2   \n",
       " 10                                                 35   \n",
       " 11                                                  2   \n",
       " 12  Source 1: Met Office[194][195][196] Royal Neth...   \n",
       " 13  Source 2: Weather Atlas (percent sunshine and ...   \n",
       " \n",
       "                                                        \\\n",
       "                                                   Nov   \n",
       " 0                                         21.1 (70.0)   \n",
       " 1                                         11.5 (52.7)   \n",
       " 2                                          8.4 (47.1)   \n",
       " 3                                          5.3 (41.5)   \n",
       " 4                                         −7.1 (19.2)   \n",
       " 5                                         66.6 (2.62)   \n",
       " 6                                                11.2   \n",
       " 7                                                  81   \n",
       " 8                                              6 (43)   \n",
       " 9                                                70.7   \n",
       " 10                                                 27   \n",
       " 11                                                  1   \n",
       " 12  Source 1: Met Office[194][195][196] Royal Neth...   \n",
       " 13  Source 2: Weather Atlas (percent sunshine and ...   \n",
       " \n",
       "                                                        \\\n",
       "                                                   Dec   \n",
       " 0                                         17.4 (63.3)   \n",
       " 1                                          8.8 (47.8)   \n",
       " 2                                          5.9 (42.6)   \n",
       " 3                                          3.1 (37.6)   \n",
       " 4                                         −14.2 (6.4)   \n",
       " 5                                         57.1 (2.25)   \n",
       " 6                                                10.8   \n",
       " 7                                                  81   \n",
       " 8                                              3 (37)   \n",
       " 9                                                55.0   \n",
       " 10                                                 21   \n",
       " 11                                                  0   \n",
       " 12  Source 1: Met Office[194][195][196] Royal Neth...   \n",
       " 13  Source 2: Weather Atlas (percent sunshine and ...   \n",
       " \n",
       "                                                        \n",
       "                                                  Year  \n",
       " 0                                        40.2 (104.4)  \n",
       " 1                                         15.7 (60.3)  \n",
       " 2                                         11.7 (53.1)  \n",
       " 3                                          7.8 (46.0)  \n",
       " 4                                         −16.1 (3.0)  \n",
       " 5                                       615.0 (24.21)  \n",
       " 6                                               111.7  \n",
       " 7                                                  73  \n",
       " 8                                              7 (44)  \n",
       " 9                                              1674.8  \n",
       " 10                                                 35  \n",
       " 11                                                  3  \n",
       " 12  Source 1: Met Office[194][195][196] Royal Neth...  \n",
       " 13  Source 2: Weather Atlas (percent sunshine and ...  ,\n",
       "   vteClimate data for Greenwich Park, elevation: 47 m (154 ft), 1991–2020 normals  \\\n",
       "                                                                             Month   \n",
       " 0                                Record high °C (°F)                                \n",
       " 1                               Average high °C (°F)                                \n",
       " 2                                 Daily mean °C (°F)                                \n",
       " 3                                Average low °C (°F)                                \n",
       " 4                                 Record low °C (°F)                                \n",
       " 5                  Average precipitation mm (inches)                                \n",
       " 6              Average precipitation days (≥ 1.0 mm)                                \n",
       " 7                        Mean monthly sunshine hours                                \n",
       " 8                Source 1: Met Office[203][204][205]                                \n",
       " 9                         Source 2: BBC Weather[206]                                \n",
       " \n",
       "                                                                              \\\n",
       "                                    Jan                                  Feb   \n",
       " 0                          14.4 (57.9)                          19.7 (67.5)   \n",
       " 1                           8.5 (47.3)                           9.2 (48.6)   \n",
       " 2                           5.9 (42.6)                           6.2 (43.2)   \n",
       " 3                           3.4 (38.1)                           3.2 (37.8)   \n",
       " 4                          −9.4 (15.1)                          −9.4 (15.1)   \n",
       " 5                          43.9 (1.73)                          39.9 (1.57)   \n",
       " 6                                 10.5                                  9.2   \n",
       " 7                                 44.4                                 66.1   \n",
       " 8  Source 1: Met Office[203][204][205]  Source 1: Met Office[203][204][205]   \n",
       " 9           Source 2: BBC Weather[206]           Source 2: BBC Weather[206]   \n",
       " \n",
       "                                                                              \\\n",
       "                                    Mar                                  Apr   \n",
       " 0                          21.7 (71.1)                          25.6 (78.1)   \n",
       " 1                          12.1 (53.8)                          15.4 (59.7)   \n",
       " 2                           8.4 (47.1)                          10.7 (51.3)   \n",
       " 3                           4.7 (40.5)                           6.0 (42.8)   \n",
       " 4                          −7.8 (18.0)                          −2.2 (28.0)   \n",
       " 5                          36.5 (1.44)                          38.6 (1.52)   \n",
       " 6                                  7.9                                  8.1   \n",
       " 7                                109.7                                152.9   \n",
       " 8  Source 1: Met Office[203][204][205]  Source 1: Met Office[203][204][205]   \n",
       " 9           Source 2: BBC Weather[206]           Source 2: BBC Weather[206]   \n",
       " \n",
       "                                                                              \\\n",
       "                                    May                                  Jun   \n",
       " 0                          30.0 (86.0)                          32.8 (91.0)   \n",
       " 1                          18.6 (65.5)                          21.4 (70.5)   \n",
       " 2                          13.8 (56.8)                          16.7 (62.1)   \n",
       " 3                           9.1 (48.4)                          12.0 (53.6)   \n",
       " 4                          −1.1 (30.0)                           5.0 (41.0)   \n",
       " 5                          44.0 (1.73)                          49.3 (1.94)   \n",
       " 6                                  7.9                                  7.8   \n",
       " 7                                198.7                                198.6   \n",
       " 8  Source 1: Met Office[203][204][205]  Source 1: Met Office[203][204][205]   \n",
       " 9           Source 2: BBC Weather[206]           Source 2: BBC Weather[206]   \n",
       " \n",
       "                                                                              \\\n",
       "                                    Jul                                  Aug   \n",
       " 0                          35.3 (95.5)                          37.5 (99.5)   \n",
       " 1                          23.8 (74.8)                          23.3 (73.9)   \n",
       " 2                          18.8 (65.8)                          18.7 (65.7)   \n",
       " 3                          13.9 (57.0)                          14.1 (57.4)   \n",
       " 4                           7.2 (45.0)                           6.1 (43.0)   \n",
       " 5                          36.3 (1.43)                          53.0 (2.09)   \n",
       " 6                                  7.1                                  8.2   \n",
       " 7                                209.2                                198.0   \n",
       " 8  Source 1: Met Office[203][204][205]  Source 1: Met Office[203][204][205]   \n",
       " 9           Source 2: BBC Weather[206]           Source 2: BBC Weather[206]   \n",
       " \n",
       "                                                                              \\\n",
       "                                    Sep                                  Oct   \n",
       " 0                          30.0 (86.0)                          25.6 (78.1)   \n",
       " 1                          20.3 (68.5)                          15.8 (60.4)   \n",
       " 2                          15.9 (60.6)                          12.4 (54.3)   \n",
       " 3                          11.6 (52.9)                           9.0 (48.2)   \n",
       " 4                           2.8 (37.0)                          −3.3 (26.1)   \n",
       " 5                          52.4 (2.06)                          58.3 (2.30)   \n",
       " 6                                  7.9                                 10.3   \n",
       " 7                                140.6                                 99.7   \n",
       " 8  Source 1: Met Office[203][204][205]  Source 1: Met Office[203][204][205]   \n",
       " 9           Source 2: BBC Weather[206]           Source 2: BBC Weather[206]   \n",
       " \n",
       "                                                                              \\\n",
       "                                    Nov                                  Dec   \n",
       " 0                          18.9 (66.0)                          15.0 (59.0)   \n",
       " 1                          11.6 (52.9)                           8.9 (48.0)   \n",
       " 2                           8.8 (47.8)                           6.3 (43.3)   \n",
       " 3                           6.1 (43.0)                           3.8 (38.8)   \n",
       " 4                          −5.0 (23.0)                          −7.2 (19.0)   \n",
       " 5                          59.9 (2.36)                          50.7 (2.00)   \n",
       " 6                                 10.6                                 10.2   \n",
       " 7                                 58.5                                 50.1   \n",
       " 8  Source 1: Met Office[203][204][205]  Source 1: Met Office[203][204][205]   \n",
       " 9           Source 2: BBC Weather[206]           Source 2: BBC Weather[206]   \n",
       " \n",
       "                                         \n",
       "                                   Year  \n",
       " 0                          37.5 (99.5)  \n",
       " 1                          15.3 (59.5)  \n",
       " 2                          11.9 (53.4)  \n",
       " 3                           8.1 (46.6)  \n",
       " 4                          −9.4 (15.1)  \n",
       " 5                        562.9 (22.16)  \n",
       " 6                                105.6  \n",
       " 7                               1526.4  \n",
       " 8  Source 1: Met Office[203][204][205]  \n",
       " 9           Source 2: BBC Weather[206]  ,\n",
       "      Country of Birth                      Population Percent\n",
       "        United Kingdom                       5,223,986    59.4\n",
       "    Non-United Kingdom Non-United Kingdom.1  3,575,739    40.6\n",
       " 0                 NaN                India     322644     3.7\n",
       " 1                 NaN              Romania     175991     2.0\n",
       " 2                 NaN               Poland     149397     1.7\n",
       " 3                 NaN           Bangladesh     138895     1.6\n",
       " 4                 NaN             Pakistan     129774     1.5\n",
       " 5                 NaN                Italy     126059     1.4\n",
       " 6                 NaN              Nigeria     117145     1.3\n",
       " 7                 NaN              Ireland      96566     1.1\n",
       " 8                 NaN            Sri Lanka      80379     0.9\n",
       " 9                 NaN               France      77715     0.9\n",
       " 10                NaN               Others    2161174    24.6\n",
       " 11              Total                Total    8799725   100.0,\n",
       "   vteHistory of London                             vteHistory of London.1  \\\n",
       " 0            Evolution  Londinium Lundenwic City of London City of Wes...   \n",
       " 1              Periods  Roman London Anglo-Saxon London Norman and Med...   \n",
       " 2               Events  Peasants' Revolt Black Death Great Plague Grea...   \n",
       " 3           Government  Historic Metropolitan Board of Works London Co...   \n",
       " 4             Politics  Parties Labour Conservatives Liberal Democrats...   \n",
       " 5             Services  Bow Street Runners Metropolitan Police London ...   \n",
       " 6       City of London  City of London Corporation Lord Mayor of the C...   \n",
       " 7           Structures  St Paul's Cathedral Tower of London Palace of ...   \n",
       " 8             Category                                           Category   \n",
       " \n",
       "   vteHistory of London.2  \n",
       " 0                    NaN  \n",
       " 1                    NaN  \n",
       " 2                    NaN  \n",
       " 3                    NaN  \n",
       " 4                    NaN  \n",
       " 5                    NaN  \n",
       " 6                    NaN  \n",
       " 7                    NaN  \n",
       " 8               Category  ,\n",
       "                     vteLondon landmarks  \\\n",
       " 0              Buildings and structures   \n",
       " 1                               Bridges   \n",
       " 2                  Entertainment venues   \n",
       " 3                               Cinemas   \n",
       " 4                       Football stadia   \n",
       " 5             Other major sports venues   \n",
       " 6                              Theatres   \n",
       " 7                                 Other   \n",
       " 8                            Government   \n",
       " 9                 Museums and galleries   \n",
       " 10                    Places of worship   \n",
       " 11                            Retailing   \n",
       " 12                                Shops   \n",
       " 13         Shopping centres and markets   \n",
       " 14                      Royal buildings   \n",
       " 15  Partly occupied by the royal family   \n",
       " 16                           Unoccupied   \n",
       " 17                          Skyscrapers   \n",
       " 18                           Structures   \n",
       " 19                            Transport   \n",
       " 20                                Other   \n",
       " 21                                Parks   \n",
       " 22                          Royal Parks   \n",
       " 23                                Other   \n",
       " 24            Squares and public spaces   \n",
       " 25                              Streets   \n",
       " \n",
       "                                 vteLondon landmarks.1  \n",
       " 0   Bridges Albert Bridge Barnes Railway Bridge Ba...  \n",
       " 1   Albert Bridge Barnes Railway Bridge Battersea ...  \n",
       " 2   Cinemas BFI IMAX Empire, Leicester Square Odeo...  \n",
       " 3   BFI IMAX Empire, Leicester Square Odeon Luxe L...  \n",
       " 4   Wembley Stadium (national stadium) Craven Cott...  \n",
       " 5   All England Lawn Tennis and Croquet Club The C...  \n",
       " 6   Adelphi Apollo Victoria Coliseum Criterion Dom...  \n",
       " 7   Alexandra Palace Brixton Academy ExCeL Hammers...  \n",
       " 8   10 Downing Street Admiralty Arch Bank of Engla...  \n",
       " 9   British Museum Churchill War Rooms Courtauld G...  \n",
       " 10  All Hallows-by-the-Tower BAPS Shri Swaminaraya...  \n",
       " 11  Shops Fortnum & Mason Hamleys Harrods Harvey N...  \n",
       " 12  Fortnum & Mason Hamleys Harrods Harvey Nichols...  \n",
       " 13  Borough Market Brent Cross Burlington Arcade C...  \n",
       " 14  Partly occupied by the royal family Buckingham...  \n",
       " 15  Buckingham Palace Clarence House Kensington Pa...  \n",
       " 16  Banqueting House Hampton Court Palace Kew Pala...  \n",
       " 17  One Canada Square One Churchill Place 8 Canada...  \n",
       " 18  Albert Memorial ArcelorMittal Orbit Big Ben Th...  \n",
       " 19  City Airport Heathrow Airport Blackfriars stat...  \n",
       " 20  Barbican Estate Battersea Power Station Britis...  \n",
       " 21  Royal Parks Bushy Park Green Park Greenwich Pa...  \n",
       " 22  Bushy Park Green Park Greenwich Park Hampton C...  \n",
       " 23  Battersea Park Burgess Park Clapham Common Col...  \n",
       " 24  Covent Garden Horse Guards Parade Leicester Sq...  \n",
       " 25  Aldwych Baker Street Bishopsgate Bond Street C...  ,\n",
       "                                       0  \\\n",
       " 0                               Bridges   \n",
       " 1                  Entertainment venues   \n",
       " 2                               Cinemas   \n",
       " 3                       Football stadia   \n",
       " 4             Other major sports venues   \n",
       " 5                              Theatres   \n",
       " 6                                 Other   \n",
       " 7                            Government   \n",
       " 8                 Museums and galleries   \n",
       " 9                     Places of worship   \n",
       " 10                            Retailing   \n",
       " 11                                Shops   \n",
       " 12         Shopping centres and markets   \n",
       " 13                      Royal buildings   \n",
       " 14  Partly occupied by the royal family   \n",
       " 15                           Unoccupied   \n",
       " 16                          Skyscrapers   \n",
       " 17                           Structures   \n",
       " 18                            Transport   \n",
       " 19                                Other   \n",
       " \n",
       "                                                     1  \n",
       " 0   Albert Bridge Barnes Railway Bridge Battersea ...  \n",
       " 1   Cinemas BFI IMAX Empire, Leicester Square Odeo...  \n",
       " 2   BFI IMAX Empire, Leicester Square Odeon Luxe L...  \n",
       " 3   Wembley Stadium (national stadium) Craven Cott...  \n",
       " 4   All England Lawn Tennis and Croquet Club The C...  \n",
       " 5   Adelphi Apollo Victoria Coliseum Criterion Dom...  \n",
       " 6   Alexandra Palace Brixton Academy ExCeL Hammers...  \n",
       " 7   10 Downing Street Admiralty Arch Bank of Engla...  \n",
       " 8   British Museum Churchill War Rooms Courtauld G...  \n",
       " 9   All Hallows-by-the-Tower BAPS Shri Swaminaraya...  \n",
       " 10  Shops Fortnum & Mason Hamleys Harrods Harvey N...  \n",
       " 11  Fortnum & Mason Hamleys Harrods Harvey Nichols...  \n",
       " 12  Borough Market Brent Cross Burlington Arcade C...  \n",
       " 13  Partly occupied by the royal family Buckingham...  \n",
       " 14  Buckingham Palace Clarence House Kensington Pa...  \n",
       " 15  Banqueting House Hampton Court Palace Kew Pala...  \n",
       " 16  One Canada Square One Churchill Place 8 Canada...  \n",
       " 17  Albert Memorial ArcelorMittal Orbit Big Ben Th...  \n",
       " 18  City Airport Heathrow Airport Blackfriars stat...  \n",
       " 19  Barbican Estate Battersea Power Station Britis...  ,\n",
       "                            0  \\\n",
       " 0                    Cinemas   \n",
       " 1            Football stadia   \n",
       " 2  Other major sports venues   \n",
       " 3                   Theatres   \n",
       " 4                      Other   \n",
       " \n",
       "                                                    1  \n",
       " 0  BFI IMAX Empire, Leicester Square Odeon Luxe L...  \n",
       " 1  Wembley Stadium (national stadium) Craven Cott...  \n",
       " 2  All England Lawn Tennis and Croquet Club The C...  \n",
       " 3  Adelphi Apollo Victoria Coliseum Criterion Dom...  \n",
       " 4  Alexandra Palace Brixton Academy ExCeL Hammers...  ,\n",
       "                               0  \\\n",
       " 0                         Shops   \n",
       " 1  Shopping centres and markets   \n",
       " \n",
       "                                                    1  \n",
       " 0  Fortnum & Mason Hamleys Harrods Harvey Nichols...  \n",
       " 1  Borough Market Brent Cross Burlington Arcade C...  ,\n",
       "                                      0  \\\n",
       " 0  Partly occupied by the royal family   \n",
       " 1                           Unoccupied   \n",
       " \n",
       "                                                    1  \n",
       " 0  Buckingham Palace Clarence House Kensington Pa...  \n",
       " 1  Banqueting House Hampton Court Palace Kew Pala...  ,\n",
       "              0                                                  1\n",
       " 0  Royal Parks  Bushy Park Green Park Greenwich Park Hampton C...\n",
       " 1        Other  Battersea Park Burgess Park Clapham Common Col...,\n",
       "            vteAreas of London  \\\n",
       " 0     Central activities zone   \n",
       " 1         Town centre network   \n",
       " 2               International   \n",
       " 3                Metropolitan   \n",
       " 4                       Major   \n",
       " 5       Districts (principal)   \n",
       " 6  Neighbourhoods (principal)   \n",
       " 7   Lists of areas by borough   \n",
       " 8                   Fictional   \n",
       " \n",
       "                                 vteAreas of London.1  \n",
       " 0  Bloomsbury City of London wards Holborn Maryle...  \n",
       " 1  International Knightsbridge West End Metropoli...  \n",
       " 2                             Knightsbridge West End  \n",
       " 3  Bromley Croydon Ealing Harrow Hounslow Ilford ...  \n",
       " 4  Angel Barking Bayswater Bexleyheath Brixton Ca...  \n",
       " 5  Acton Beckenham Belgravia Bethnal Green Brentf...  \n",
       " 6  Abbey Wood Alperton Anerley Archway Barnes Bar...  \n",
       " 7  Barking and Dagenham Barnet Bexley Brent Broml...  \n",
       " 8  Canley (borough) (The Bill: TV soap) Charnham ...  ,\n",
       "                             0  \\\n",
       " 0               International   \n",
       " 1                Metropolitan   \n",
       " 2                       Major   \n",
       " 3       Districts (principal)   \n",
       " 4  Neighbourhoods (principal)   \n",
       " \n",
       "                                                    1  \n",
       " 0                             Knightsbridge West End  \n",
       " 1  Bromley Croydon Ealing Harrow Hounslow Ilford ...  \n",
       " 2  Angel Barking Bayswater Bexleyheath Brixton Ca...  \n",
       " 3  Acton Beckenham Belgravia Bethnal Green Brentf...  \n",
       " 4  Abbey Wood Alperton Anerley Archway Barnes Bar...  ,\n",
       "                      Other articles related to London  \\\n",
       " 0   vteGovernance of Greater London City of London...   \n",
       " 1                     vteGovernance of Greater London   \n",
       " 2                City of London Greater London London   \n",
       " 3                                            Regional   \n",
       " 4                                          Ceremonial   \n",
       " 5                                     London Councils   \n",
       " 6                                     Boroughs (list)   \n",
       " 7                                          Historical   \n",
       " 8                              vteTransport in London   \n",
       " 9                         Companies and organisations   \n",
       " 10                         Transport for London (TFL)   \n",
       " 11                                 London Underground   \n",
       " 12                                        London Rail   \n",
       " 13                                              Other   \n",
       " 14                                      Bus operators   \n",
       " 15                                    River operators   \n",
       " 16                                    Train operators   \n",
       " 17                                              Other   \n",
       " 18                                           Airports   \n",
       " 19                                      Within London   \n",
       " 20                                     Outside London   \n",
       " 21                                     Major stations   \n",
       " 22                                       Central area   \n",
       " 23                                              Other   \n",
       " 24                                              Roads   \n",
       " 25                                          Motorways   \n",
       " 26                                         Ring roads   \n",
       " 27                                           Charging   \n",
       " 28                                          Ticketing   \n",
       " 29                                              Other   \n",
       " 30                                  Former BR sectors   \n",
       " 31             Category  Commons  WikiProject  Portal   \n",
       " 32                            vteLondon commuter belt   \n",
       " 33                                      Home counties   \n",
       " 34                                        Urban areas   \n",
       " 35                           Cities and towns (100k+)   \n",
       " 36                                    Towns (25k–99k)   \n",
       " 37                                    Towns (10k–25k)   \n",
       " 38             vteUniversities and colleges in London   \n",
       " 39                                Education in London   \n",
       " 40                                       Universities   \n",
       " 41                               University of London   \n",
       " 42                                              Other   \n",
       " 43                          Higher education colleges   \n",
       " 44                         Further education colleges   \n",
       " 45                                Sixth form colleges   \n",
       " 46                                               List   \n",
       " 47                                      vteMegacities   \n",
       " 48                                         Africa (3)   \n",
       " 49                                          Asia (28)   \n",
       " 50                                         Europe (5)   \n",
       " 51                                  North America (3)   \n",
       " 52                                  South America (5)   \n",
       " 53                                      Cities portal   \n",
       " 54               vte Summer Olympic Games host cities   \n",
       " 55  1896: Athens 1900: Paris 1904: St. Louis 1908:...   \n",
       " 56  [c1] Cancelled due to World War I; [c2] Cancel...   \n",
       " \n",
       "                    Other articles related to London.1               Unnamed: 2  \n",
       " 0   vteGovernance of Greater London City of London...                      NaN  \n",
       " 1                     vteGovernance of Greater London                      NaN  \n",
       " 2                City of London Greater London London                      NaN  \n",
       " 3   Greater London Authority London Assembly Mayor...                      NaN  \n",
       " 4   City of London Lord Mayor Lord Lieutenant Sher...                      NaN  \n",
       " 5   Boroughs (list) Barking and Dagenham Barnet Be...                      NaN  \n",
       " 6   Barking and Dagenham Barnet Bexley Brent Broml...                      NaN  \n",
       " 7   Metropolitan Board of Works (MBW) 1855–1889 Lo...                      NaN  \n",
       " 8                              vteTransport in London                      NaN  \n",
       " 9   Transport for London (TFL)London Underground N...                      NaN  \n",
       " 10  London Underground Night Tube Bakerloo Central...                      NaN  \n",
       " 11  Night Tube Bakerloo Central Circle District Ha...                      NaN  \n",
       " 12  Docklands Light Railway Elizabeth line London ...                      NaN  \n",
       " 13  Buses Night buses Coach station Cycle hire Dia...                      NaN  \n",
       " 14  Abellio London Arriva East Herts & Essex Arriv...                      NaN  \n",
       " 15  City Cruises Lower Thames and Medway Passenger...                      NaN  \n",
       " 16  Arriva Rail London Avanti West Coast c2c Caled...                      NaN  \n",
       " 17  Global Infrastructure Partners Heathrow Airpor...                      NaN  \n",
       " 18  Within London City Heathrow London Heliport Mi...                      NaN  \n",
       " 19  City Heathrow London Heliport Military: Northo...                      NaN  \n",
       " 20                    Gatwick Luton Southend Stansted                      NaN  \n",
       " 21  Central area Baker Street Bank-Monument Blackf...                      NaN  \n",
       " 22  Baker Street Bank-Monument Blackfriars Bond St...                      NaN  \n",
       " 23  Barking Bromley South Canary Wharf Clapham Jun...                      NaN  \n",
       " 24  Motorways M1 M4 M11 M25 London Orbital Former:...                      NaN  \n",
       " 25  M1 M4 M11 M25 London Orbital Former: M41 (West...                      NaN  \n",
       " 26  London Inner Ring Road North Circular Road Sou...                      NaN  \n",
       " 27  Congestion charge Low emission zone Ultra Low ...                      NaN  \n",
       " 28                Freedom Pass Oyster card Travelcard                      NaN  \n",
       " 29  Cycle routes History of public transport autho...                      NaN  \n",
       " 30           British Rail InterCity Network SouthEast                      NaN  \n",
       " 31             Category  Commons  WikiProject  Portal                      NaN  \n",
       " 32                            vteLondon commuter belt  vteLondon commuter belt  \n",
       " 33  Berkshire Buckinghamshire Essex Hertfordshire ...                      NaN  \n",
       " 34  Greater London Built-up Area Farnborough/Alder...                      NaN  \n",
       " 35  Chelmsford Crawley Guildford High Wycombe Lond...                      NaN  \n",
       " 36  Aldershot Ashford, Surrey Aylesbury Basildon B...                      NaN  \n",
       " 37  Addlestone Amersham Ashtead Baldock Beaconsfie...                      NaN  \n",
       " 38             vteUniversities and colleges in London                      NaN  \n",
       " 39                                Education in London                      NaN  \n",
       " 40  University of London Birkbeck City Courtauld I...                      NaN  \n",
       " 41  Birkbeck City Courtauld Institute of Art Golds...                      NaN  \n",
       " 42  University of the Arts London BPP Brunel East ...                      NaN  \n",
       " 43  Architectural Association London School of Jou...                      NaN  \n",
       " 44  Ada Barking and Dagenham Barnet and Southgate ...                      NaN  \n",
       " 45  Big Creative BSix Christ the King Coulsdon ELA...                      NaN  \n",
       " 46                                               List                      NaN  \n",
       " 47                                      vteMegacities                      NaN  \n",
       " 48                               Cairo Kinshasa Lagos                      NaN  \n",
       " 49  Bangalore Bangkok Beijing Chengdu Chennai Chon...                      NaN  \n",
       " 50            Istanbul London Moscow Paris Rhine-Ruhr                      NaN  \n",
       " 51              Los Angeles Mexico City New York City                      NaN  \n",
       " 52  Bogotá Buenos Aires Lima Rio de Janeiro São Paulo                      NaN  \n",
       " 53                                      Cities portal                      NaN  \n",
       " 54               vte Summer Olympic Games host cities                      NaN  \n",
       " 55  1896: Athens 1900: Paris 1904: St. Louis 1908:...                      NaN  \n",
       " 56  [c1] Cancelled due to World War I; [c2] Cancel...                      NaN  ,\n",
       "         vteGovernance of Greater London  \\\n",
       " 0  City of London Greater London London   \n",
       " 1                              Regional   \n",
       " 2                            Ceremonial   \n",
       " 3                       London Councils   \n",
       " 4                       Boroughs (list)   \n",
       " 5                            Historical   \n",
       " \n",
       "                    vteGovernance of Greater London.1  \n",
       " 0               City of London Greater London London  \n",
       " 1  Greater London Authority London Assembly Mayor...  \n",
       " 2  City of London Lord Mayor Lord Lieutenant Sher...  \n",
       " 3  Boroughs (list) Barking and Dagenham Barnet Be...  \n",
       " 4  Barking and Dagenham Barnet Bexley Brent Broml...  \n",
       " 5  Metropolitan Board of Works (MBW) 1855–1889 Lo...  ,\n",
       "                  0                                                  1\n",
       " 0  Boroughs (list)  Barking and Dagenham Barnet Bexley Brent Broml...,\n",
       "                     vteTransport in London  \\\n",
       " 0              Companies and organisations   \n",
       " 1               Transport for London (TFL)   \n",
       " 2                       London Underground   \n",
       " 3                              London Rail   \n",
       " 4                                    Other   \n",
       " 5                            Bus operators   \n",
       " 6                          River operators   \n",
       " 7                          Train operators   \n",
       " 8                                    Other   \n",
       " 9                                 Airports   \n",
       " 10                           Within London   \n",
       " 11                          Outside London   \n",
       " 12                          Major stations   \n",
       " 13                            Central area   \n",
       " 14                                   Other   \n",
       " 15                                   Roads   \n",
       " 16                               Motorways   \n",
       " 17                              Ring roads   \n",
       " 18                                Charging   \n",
       " 19                               Ticketing   \n",
       " 20                                   Other   \n",
       " 21                       Former BR sectors   \n",
       " 22  Category  Commons  WikiProject  Portal   \n",
       " \n",
       "                              vteTransport in London.1  \n",
       " 0   Transport for London (TFL)London Underground N...  \n",
       " 1   London Underground Night Tube Bakerloo Central...  \n",
       " 2   Night Tube Bakerloo Central Circle District Ha...  \n",
       " 3   Docklands Light Railway Elizabeth line London ...  \n",
       " 4   Buses Night buses Coach station Cycle hire Dia...  \n",
       " 5   Abellio London Arriva East Herts & Essex Arriv...  \n",
       " 6   City Cruises Lower Thames and Medway Passenger...  \n",
       " 7   Arriva Rail London Avanti West Coast c2c Caled...  \n",
       " 8   Global Infrastructure Partners Heathrow Airpor...  \n",
       " 9   Within London City Heathrow London Heliport Mi...  \n",
       " 10  City Heathrow London Heliport Military: Northo...  \n",
       " 11                    Gatwick Luton Southend Stansted  \n",
       " 12  Central area Baker Street Bank-Monument Blackf...  \n",
       " 13  Baker Street Bank-Monument Blackfriars Bond St...  \n",
       " 14  Barking Bromley South Canary Wharf Clapham Jun...  \n",
       " 15  Motorways M1 M4 M11 M25 London Orbital Former:...  \n",
       " 16  M1 M4 M11 M25 London Orbital Former: M41 (West...  \n",
       " 17  London Inner Ring Road North Circular Road Sou...  \n",
       " 18  Congestion charge Low emission zone Ultra Low ...  \n",
       " 19                Freedom Pass Oyster card Travelcard  \n",
       " 20  Cycle routes History of public transport autho...  \n",
       " 21           British Rail InterCity Network SouthEast  \n",
       " 22             Category  Commons  WikiProject  Portal  ,\n",
       "                             0  \\\n",
       " 0  Transport for London (TFL)   \n",
       " 1          London Underground   \n",
       " 2                 London Rail   \n",
       " 3                       Other   \n",
       " 4               Bus operators   \n",
       " 5             River operators   \n",
       " 6             Train operators   \n",
       " 7                       Other   \n",
       " \n",
       "                                                    1  \n",
       " 0  London Underground Night Tube Bakerloo Central...  \n",
       " 1  Night Tube Bakerloo Central Circle District Ha...  \n",
       " 2  Docklands Light Railway Elizabeth line London ...  \n",
       " 3  Buses Night buses Coach station Cycle hire Dia...  \n",
       " 4  Abellio London Arriva East Herts & Essex Arriv...  \n",
       " 5  City Cruises Lower Thames and Medway Passenger...  \n",
       " 6  Arriva Rail London Avanti West Coast c2c Caled...  \n",
       " 7  Global Infrastructure Partners Heathrow Airpor...  ,\n",
       "                     0                                                  1\n",
       " 0  London Underground  Night Tube Bakerloo Central Circle District Ha...\n",
       " 1         London Rail  Docklands Light Railway Elizabeth line London ...\n",
       " 2               Other  Buses Night buses Coach station Cycle hire Dia...,\n",
       "                 0                                                  1\n",
       " 0   Within London  City Heathrow London Heliport Military: Northo...\n",
       " 1  Outside London                    Gatwick Luton Southend Stansted,\n",
       "               0                                                  1\n",
       " 0  Central area  Baker Street Bank-Monument Blackfriars Bond St...\n",
       " 1         Other  Barking Bromley South Canary Wharf Clapham Jun...,\n",
       "             0                                                  1\n",
       " 0   Motorways  M1 M4 M11 M25 London Orbital Former: M41 (West...\n",
       " 1  Ring roads  London Inner Ring Road North Circular Road Sou...\n",
       " 2    Charging  Congestion charge Low emission zone Ultra Low ...,\n",
       "     vteLondon commuter belt  \\\n",
       " 0             Home counties   \n",
       " 1               Urban areas   \n",
       " 2  Cities and towns (100k+)   \n",
       " 3           Towns (25k–99k)   \n",
       " 4           Towns (10k–25k)   \n",
       " \n",
       "                            vteLondon commuter belt.1  \\\n",
       " 0  Berkshire Buckinghamshire Essex Hertfordshire ...   \n",
       " 1  Greater London Built-up Area Farnborough/Alder...   \n",
       " 2  Chelmsford Crawley Guildford High Wycombe Lond...   \n",
       " 3  Aldershot Ashford, Surrey Aylesbury Basildon B...   \n",
       " 4  Addlestone Amersham Ashtead Baldock Beaconsfie...   \n",
       " \n",
       "    vteLondon commuter belt.2  \n",
       " 0                        NaN  \n",
       " 1                        NaN  \n",
       " 2                        NaN  \n",
       " 3                        NaN  \n",
       " 4                        NaN  ,\n",
       "   vteUniversities and colleges in London  \\\n",
       " 0                    Education in London   \n",
       " 1                           Universities   \n",
       " 2                   University of London   \n",
       " 3                                  Other   \n",
       " 4              Higher education colleges   \n",
       " 5             Further education colleges   \n",
       " 6                    Sixth form colleges   \n",
       " 7                                   List   \n",
       " \n",
       "             vteUniversities and colleges in London.1  \n",
       " 0                                Education in London  \n",
       " 1  University of London Birkbeck City Courtauld I...  \n",
       " 2  Birkbeck City Courtauld Institute of Art Golds...  \n",
       " 3  University of the Arts London BPP Brunel East ...  \n",
       " 4  Architectural Association London School of Jou...  \n",
       " 5  Ada Barking and Dagenham Barnet and Southgate ...  \n",
       " 6  Big Creative BSix Christ the King Coulsdon ELA...  \n",
       " 7                                               List  ,\n",
       "                       0                                                  1\n",
       " 0  University of London  Birkbeck City Courtauld Institute of Art Golds...\n",
       " 1                 Other  University of the Arts London BPP Brunel East ...,\n",
       "        vteMegacities                                    vteMegacities.1\n",
       " 0         Africa (3)                               Cairo Kinshasa Lagos\n",
       " 1          Asia (28)  Bangalore Bangkok Beijing Chengdu Chennai Chon...\n",
       " 2         Europe (5)            Istanbul London Moscow Paris Rhine-Ruhr\n",
       " 3  North America (3)              Los Angeles Mexico City New York City\n",
       " 4  South America (5)  Bogotá Buenos Aires Lima Rio de Janeiro São Paulo\n",
       " 5      Cities portal                                      Cities portal,\n",
       "                 vte Summer Olympic Games host cities  \\\n",
       " 0  1896: Athens 1900: Paris 1904: St. Louis 1908:...   \n",
       " 1  [c1] Cancelled due to World War I; [c2] Cancel...   \n",
       " \n",
       "               vte Summer Olympic Games host cities.1  \n",
       " 0  1896: Athens 1900: Paris 1904: St. Louis 1908:...  \n",
       " 1  [c1] Cancelled due to World War I; [c2] Cancel...  ,\n",
       "            Authority control  \\\n",
       " 0                    General   \n",
       " 1         National libraries   \n",
       " 2  Art galleries and museums   \n",
       " 3                      Other   \n",
       " \n",
       "                                  Authority control.1  \n",
       " 0                                    VIAF 1 WorldCat  \n",
       " 1  Spain France (data) Catalonia Ukraine Germany ...  \n",
       " 2                                           Victoria  \n",
       " 3  FAST Historical Dictionary of Switzerland Musi...  ]"
      ]
     },
     "execution_count": 6,
     "metadata": {},
     "output_type": "execute_result"
    }
   ],
   "source": [
    "dfs"
   ]
  },
  {
   "cell_type": "code",
   "execution_count": 7,
   "metadata": {
    "ExecuteTime": {
     "end_time": "2023-01-24T12:57:44.729060Z",
     "start_time": "2023-01-24T12:57:43.832974Z"
    }
   },
   "outputs": [],
   "source": [
    "url = \"https://ru.wikipedia.org/wiki/%D0%A1%D0%BF%D0%B8%D1%81%D0%BE%D0%BA_%D0%B3%D0%BE%D1%81%D1%83%D0%B4%D0%B0%D1%80%D1%81%D1%82%D0%B2\"\n",
    "df = pd.read_html(url, attrs={'class': 'wikitable'},\n",
    "                  header=0, flavor='html5lib')"
   ]
  },
  {
   "cell_type": "code",
   "execution_count": 9,
   "metadata": {
    "ExecuteTime": {
     "end_time": "2023-01-24T12:58:10.316001Z",
     "start_time": "2023-01-24T12:58:10.312802Z"
    }
   },
   "outputs": [
    {
     "data": {
      "text/plain": [
       "list"
      ]
     },
     "execution_count": 9,
     "metadata": {},
     "output_type": "execute_result"
    }
   ],
   "source": [
    "type(df)"
   ]
  },
  {
   "cell_type": "code",
   "execution_count": 11,
   "metadata": {
    "ExecuteTime": {
     "end_time": "2023-01-24T12:58:27.567277Z",
     "start_time": "2023-01-24T12:58:27.558346Z"
    }
   },
   "outputs": [
    {
     "data": {
      "text/html": [
       "<div>\n",
       "<style scoped>\n",
       "    .dataframe tbody tr th:only-of-type {\n",
       "        vertical-align: middle;\n",
       "    }\n",
       "\n",
       "    .dataframe tbody tr th {\n",
       "        vertical-align: top;\n",
       "    }\n",
       "\n",
       "    .dataframe thead th {\n",
       "        text-align: right;\n",
       "    }\n",
       "</style>\n",
       "<table border=\"1\" class=\"dataframe\">\n",
       "  <thead>\n",
       "    <tr style=\"text-align: right;\">\n",
       "      <th></th>\n",
       "      <th>Номер</th>\n",
       "      <th>Флаг</th>\n",
       "      <th>Страна</th>\n",
       "      <th>Полное название страны</th>\n",
       "    </tr>\n",
       "  </thead>\n",
       "  <tbody>\n",
       "    <tr>\n",
       "      <th>0</th>\n",
       "      <td>1</td>\n",
       "      <td>NaN</td>\n",
       "      <td>Австралия</td>\n",
       "      <td>Австралийский Союз</td>\n",
       "    </tr>\n",
       "    <tr>\n",
       "      <th>1</th>\n",
       "      <td>2</td>\n",
       "      <td>NaN</td>\n",
       "      <td>Австрия</td>\n",
       "      <td>Австрийская Республика</td>\n",
       "    </tr>\n",
       "    <tr>\n",
       "      <th>2</th>\n",
       "      <td>3</td>\n",
       "      <td>NaN</td>\n",
       "      <td>Азербайджан</td>\n",
       "      <td>Азербайджанская Республика</td>\n",
       "    </tr>\n",
       "    <tr>\n",
       "      <th>3</th>\n",
       "      <td>4</td>\n",
       "      <td>NaN</td>\n",
       "      <td>Албания</td>\n",
       "      <td>Республика Албания</td>\n",
       "    </tr>\n",
       "    <tr>\n",
       "      <th>4</th>\n",
       "      <td>5</td>\n",
       "      <td>NaN</td>\n",
       "      <td>Алжир</td>\n",
       "      <td>Алжирская Народная Демократическая Республика</td>\n",
       "    </tr>\n",
       "    <tr>\n",
       "      <th>...</th>\n",
       "      <td>...</td>\n",
       "      <td>...</td>\n",
       "      <td>...</td>\n",
       "      <td>...</td>\n",
       "    </tr>\n",
       "    <tr>\n",
       "      <th>188</th>\n",
       "      <td>189</td>\n",
       "      <td>NaN</td>\n",
       "      <td>Эфиопия</td>\n",
       "      <td>Федеративная Демократическая Республика Эфиопия</td>\n",
       "    </tr>\n",
       "    <tr>\n",
       "      <th>189</th>\n",
       "      <td>190</td>\n",
       "      <td>NaN</td>\n",
       "      <td>ЮАР</td>\n",
       "      <td>Южно-Африканская Республика</td>\n",
       "    </tr>\n",
       "    <tr>\n",
       "      <th>190</th>\n",
       "      <td>191</td>\n",
       "      <td>NaN</td>\n",
       "      <td>Южный Судан</td>\n",
       "      <td>Республика Южный Судан</td>\n",
       "    </tr>\n",
       "    <tr>\n",
       "      <th>191</th>\n",
       "      <td>192</td>\n",
       "      <td>NaN</td>\n",
       "      <td>Ямайка</td>\n",
       "      <td>Ямайка</td>\n",
       "    </tr>\n",
       "    <tr>\n",
       "      <th>192</th>\n",
       "      <td>193</td>\n",
       "      <td>NaN</td>\n",
       "      <td>Япония</td>\n",
       "      <td>Государство Япония</td>\n",
       "    </tr>\n",
       "  </tbody>\n",
       "</table>\n",
       "<p>193 rows × 4 columns</p>\n",
       "</div>"
      ],
      "text/plain": [
       "     Номер  Флаг       Страна                           Полное название страны\n",
       "0        1   NaN    Австралия                               Австралийский Союз\n",
       "1        2   NaN      Австрия                           Австрийская Республика\n",
       "2        3   NaN  Азербайджан                       Азербайджанская Республика\n",
       "3        4   NaN      Албания                               Республика Албания\n",
       "4        5   NaN        Алжир    Алжирская Народная Демократическая Республика\n",
       "..     ...   ...          ...                                              ...\n",
       "188    189   NaN      Эфиопия  Федеративная Демократическая Республика Эфиопия\n",
       "189    190   NaN          ЮАР                      Южно-Африканская Республика\n",
       "190    191   NaN  Южный Судан                           Республика Южный Судан\n",
       "191    192   NaN       Ямайка                                           Ямайка\n",
       "192    193   NaN       Япония                               Государство Япония\n",
       "\n",
       "[193 rows x 4 columns]"
      ]
     },
     "execution_count": 11,
     "metadata": {},
     "output_type": "execute_result"
    }
   ],
   "source": [
    "df[0]"
   ]
  },
  {
   "cell_type": "code",
   "execution_count": 10,
   "metadata": {
    "ExecuteTime": {
     "end_time": "2023-01-24T12:58:14.737654Z",
     "start_time": "2023-01-24T12:58:14.724226Z"
    }
   },
   "outputs": [
    {
     "data": {
      "text/plain": [
       "[     Номер  Флаг       Страна                           Полное название страны\n",
       " 0        1   NaN    Австралия                               Австралийский Союз\n",
       " 1        2   NaN      Австрия                           Австрийская Республика\n",
       " 2        3   NaN  Азербайджан                       Азербайджанская Республика\n",
       " 3        4   NaN      Албания                               Республика Албания\n",
       " 4        5   NaN        Алжир    Алжирская Народная Демократическая Республика\n",
       " ..     ...   ...          ...                                              ...\n",
       " 188    189   NaN      Эфиопия  Федеративная Демократическая Республика Эфиопия\n",
       " 189    190   NaN          ЮАР                      Южно-Африканская Республика\n",
       " 190    191   NaN  Южный Судан                           Республика Южный Судан\n",
       " 191    192   NaN       Ямайка                                           Ямайка\n",
       " 192    193   NaN       Япония                               Государство Япония\n",
       " \n",
       " [193 rows x 4 columns],\n",
       "    Номер  Флаг     Страна     Полное название страны  \\\n",
       " 0      1   NaN    Ватикан  Государство-город Ватикан   \n",
       " 1      2   NaN  Палестина      Государство Палестина   \n",
       " \n",
       "   Дата получения статуса наблюдателя при ООН  \n",
       " 0                                   1964 год  \n",
       " 1                        29 ноября 2012 года  ,\n",
       "    Год провозглашения независимости  \\\n",
       " 0                              1948   \n",
       " 1                              1948   \n",
       " 2                              1948   \n",
       " 3                              1949   \n",
       " 4                              1960   \n",
       " 5                              1990   \n",
       " \n",
       "                        Самоназвание государства    Население  \\\n",
       " 0                           Государство Израиль      9,4 млн   \n",
       " 1                              Республика Корея     51,7 млн   \n",
       " 2  Корейская Народно-Демократическая Республика     26,1 млн   \n",
       " 3                 Китайская Народная Республика  1 411,8 млн   \n",
       " 4                               Республика Кипр      1,3 млн   \n",
       " 5                            Республика Армения      3,0 млн   \n",
       " \n",
       "                                       Непризнанность  \n",
       " 0  Не признают 19 государств — членов ООН: Алжир,...  \n",
       " 1                                 Не признаётся КНДР  \n",
       " 2  Не признаётся Южной Кореей, Францией[1] и Япон...  \n",
       " 3  Не признают 13 государств — членов ООН и 1 гос...  \n",
       " 4                        Не признаётся Турцией[3][4]  \n",
       " 5    Не признаётся Пакистаном[5][6][7][8][9][10][11]  ,\n",
       "    Номер  Флаг        Страна                         Полное название страны\n",
       " 0      1   NaN       Абхазия                             Республика Абхазия\n",
       " 1      2   NaN        Косово                              Республика Косово\n",
       " 2      3   NaN     Палестина                          Государство Палестина\n",
       " 3      4   NaN          САДР  Сахарская Арабская Демократическая Республика\n",
       " 4      5   NaN       Тайвань                 Китайская Республика (Тайвань)\n",
       " 5      6   NaN          ТРСК            Турецкая Республика Северного Кипра\n",
       " 6      7   NaN  Южная Осетия                        Республика Южная Осетия,\n",
       "    Номер  Флаг      Страна                 Полное название страны\n",
       " 0      1   NaN         НКР         Нагорно-Карабахская Республика\n",
       " 1      2   NaN         ПМР  Приднестровская Молдавская Республика\n",
       " 2      3   NaN  Сомалиленд                  Республика Сомалиленд,\n",
       "    Номер  Флаг        Страна Полное название страны\n",
       " 0      1   NaN          Ниуэ                   Ниуэ\n",
       " 1      2   NaN  Острова Кука           Острова Кука]"
      ]
     },
     "execution_count": 10,
     "metadata": {},
     "output_type": "execute_result"
    }
   ],
   "source": [
    "df"
   ]
  },
  {
   "cell_type": "code",
   "execution_count": null,
   "metadata": {},
   "outputs": [],
   "source": []
  }
 ],
 "metadata": {
  "hide_input": false,
  "kernelspec": {
   "display_name": "Python 3 (ipykernel)",
   "language": "python",
   "name": "python3"
  },
  "language_info": {
   "codemirror_mode": {
    "name": "ipython",
    "version": 3
   },
   "file_extension": ".py",
   "mimetype": "text/x-python",
   "name": "python",
   "nbconvert_exporter": "python",
   "pygments_lexer": "ipython3",
   "version": "3.10.7"
  }
 },
 "nbformat": 4,
 "nbformat_minor": 2
}
